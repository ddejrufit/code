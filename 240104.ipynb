{
 "cells": [
  {
   "cell_type": "code",
   "execution_count": 1,
   "id": "6c93eb3f-784d-4d87-95e5-f6fb194eca30",
   "metadata": {},
   "outputs": [
    {
     "name": "stdout",
     "output_type": "stream",
     "text": [
      "\n"
     ]
    }
   ],
   "source": [
    "'''\n",
    "activation\n",
    "활성화 함수 : linear(선형회귀) : 연속적인 값에 대한 결과를 가져올 때 \n",
    "             sigmoid(참/거짓:이항) : 렐루(ReLU), \n",
    "                                    하이퍼볼릭 탄젠트(hyperbolic tangent) \n",
    "                                    소프트플러스(softplus) \n",
    "             softmax(다항분류 : 출력결과가 여러개인 경우) : 0.2 + 0.6 + 0.3 = 1 :최고값이 답\n",
    "loss              \n",
    "손실 함수 : 평균제곱 오차(mse) : mean_squared_error \n",
    "           평균절대 오차(mae)\n",
    "           평균절대백분율오차(mape)\n",
    "           평균제곱로그오차(msle) \n",
    "           이항교차엔트로피(binary_crossentropy):이항분류\n",
    "           범주형교차엔트로피(calegorical_crossentropy) : 다항분류\n",
    "optimizer           \n",
    "오차 수정 함수: 경사 하강법(gd) : 확률적경사하강법(sgd) : 아다그라이드(adagrad) : 알엠에스프롭(RMSProp) : 아담(adam)\n",
    "                                                       모멘텀(momentum)                            : 아담(adam)\n",
    "metrics                                                                                                   : 네스레포트 모멘텀(NAG) \n",
    "모델 수행의 결과 출력 :  \n",
    "            accuracy : 학습셋에 대한 정확도에 기반해 결과를 출력 \n",
    "            loss : 학습셋에 대한 손실 값을 나타냄\n",
    "            val_acc : 테스트셋에 대한 정확도를 나타냄\n",
    "            val_loss : 테스트셋에 대한 손실 값을 나타냄\n",
    "'''\n",
    "print()         "
   ]
  },
  {
   "cell_type": "code",
   "execution_count": 23,
   "id": "6a1b01dd-1ed8-417a-9d24-f0d1fb3f81d6",
   "metadata": {},
   "outputs": [
    {
     "name": "stdout",
     "output_type": "stream",
     "text": [
      "Epoch 1/2000\n",
      "28/28 [==============================] - 1s 8ms/step - loss: 37054857216.0000 - val_loss: 44006981632.0000\n",
      "Epoch 2/2000\n",
      "28/28 [==============================] - 0s 3ms/step - loss: 36787064832.0000 - val_loss: 43572686848.0000\n",
      "Epoch 3/2000\n",
      "28/28 [==============================] - 0s 3ms/step - loss: 36130873344.0000 - val_loss: 42303967232.0000\n"
     ]
    },
    {
     "name": "stderr",
     "output_type": "stream",
     "text": [
      "C:\\Users\\chanwoo kang\\AppData\\Local\\Programs\\Python\\Python311\\Lib\\site-packages\\keras\\src\\engine\\training.py:3103: UserWarning: You are saving your model as an HDF5 file via `model.save()`. This file format is considered legacy. We recommend using instead the native Keras format, e.g. `model.save('my_model.keras')`.\n",
      "  saving_api.save_model(\n"
     ]
    },
    {
     "name": "stdout",
     "output_type": "stream",
     "text": [
      "Epoch 4/2000\n",
      "28/28 [==============================] - 0s 3ms/step - loss: 34238162944.0000 - val_loss: 38994014208.0000\n",
      "Epoch 5/2000\n",
      "28/28 [==============================] - 0s 3ms/step - loss: 29873350656.0000 - val_loss: 31819876352.0000\n",
      "Epoch 6/2000\n",
      "28/28 [==============================] - 0s 3ms/step - loss: 21665056768.0000 - val_loss: 20124661760.0000\n",
      "Epoch 7/2000\n",
      "28/28 [==============================] - 0s 3ms/step - loss: 10842185728.0000 - val_loss: 8178567168.0000\n",
      "Epoch 8/2000\n",
      "28/28 [==============================] - 0s 3ms/step - loss: 3583092992.0000 - val_loss: 2911110656.0000\n",
      "Epoch 9/2000\n",
      "28/28 [==============================] - 0s 3ms/step - loss: 2083106816.0000 - val_loss: 2588875776.0000\n",
      "Epoch 10/2000\n",
      "28/28 [==============================] - 0s 2ms/step - loss: 2064434816.0000 - val_loss: 2617472256.0000\n",
      "Epoch 11/2000\n",
      "28/28 [==============================] - 0s 2ms/step - loss: 2064869376.0000 - val_loss: 2631734016.0000\n",
      "Epoch 12/2000\n",
      "28/28 [==============================] - 0s 2ms/step - loss: 2076269696.0000 - val_loss: 2660594432.0000\n",
      "Epoch 13/2000\n",
      "28/28 [==============================] - 0s 2ms/step - loss: 2059039488.0000 - val_loss: 2589478912.0000\n",
      "Epoch 14/2000\n",
      "28/28 [==============================] - 0s 2ms/step - loss: 2062678656.0000 - val_loss: 2617765888.0000\n",
      "Epoch 15/2000\n",
      "28/28 [==============================] - 0s 2ms/step - loss: 2057164288.0000 - val_loss: 2628538368.0000\n",
      "Epoch 16/2000\n",
      "28/28 [==============================] - 0s 2ms/step - loss: 2057383936.0000 - val_loss: 2640679424.0000\n",
      "Epoch 17/2000\n",
      "28/28 [==============================] - 0s 2ms/step - loss: 2060707456.0000 - val_loss: 2626098176.0000\n",
      "Epoch 18/2000\n",
      "28/28 [==============================] - 0s 2ms/step - loss: 2063736320.0000 - val_loss: 2604033280.0000\n",
      "Epoch 19/2000\n",
      "28/28 [==============================] - 0s 2ms/step - loss: 2057807616.0000 - val_loss: 2637533696.0000\n",
      "Epoch 20/2000\n",
      "28/28 [==============================] - 0s 2ms/step - loss: 2054667648.0000 - val_loss: 2621088256.0000\n",
      "Epoch 21/2000\n",
      "28/28 [==============================] - 0s 2ms/step - loss: 2063203200.0000 - val_loss: 2613444864.0000\n",
      "Epoch 22/2000\n",
      "28/28 [==============================] - 0s 2ms/step - loss: 2076033280.0000 - val_loss: 2622003712.0000\n",
      "Epoch 23/2000\n",
      "28/28 [==============================] - 0s 2ms/step - loss: 2051890560.0000 - val_loss: 2673955584.0000\n",
      "Epoch 24/2000\n",
      "28/28 [==============================] - 0s 2ms/step - loss: 2063861632.0000 - val_loss: 2631283456.0000\n",
      "Epoch 25/2000\n",
      "28/28 [==============================] - 0s 2ms/step - loss: 2058025600.0000 - val_loss: 2662077952.0000\n",
      "Epoch 26/2000\n",
      "28/28 [==============================] - 0s 2ms/step - loss: 2048424832.0000 - val_loss: 2629601024.0000\n",
      "Epoch 27/2000\n",
      "28/28 [==============================] - 0s 2ms/step - loss: 2063213824.0000 - val_loss: 2661076992.0000\n",
      "Epoch 28/2000\n",
      "28/28 [==============================] - 0s 2ms/step - loss: 2058498432.0000 - val_loss: 2619264000.0000\n",
      "Epoch 29/2000\n",
      "28/28 [==============================] - 0s 2ms/step - loss: 2047382144.0000 - val_loss: 2624288000.0000\n"
     ]
    }
   ],
   "source": [
    "from tensorflow.keras.models import Sequential  \n",
    "from tensorflow.keras.layers import Dense  \n",
    "from tensorflow.keras.callbacks import EarlyStopping, ModelCheckpoint\n",
    "from sklearn.model_selection import train_test_split\n",
    "import pandas as pd\n",
    "import numpy as np\n",
    "\n",
    "#데이터를 불러 옴\n",
    "df = pd.read_csv(\"https://raw.githubusercontent.com/SoongMoo/soldesk20231218/main/data/house_train.csv\")\n",
    "df\n",
    "# NaN 확인\n",
    "df.isnull().sum().sort_values(ascending=False).head(20)\n",
    "# 원-핫 인코딩\n",
    "#카테고리형 변수를 0과1로이루어진 변수\n",
    "df = pd.get_dummies(df)\n",
    "# 결측치를 각 칼럼의 평균으로 대체\n",
    "df = df.fillna(df.mean())\n",
    "df\n",
    "# 속성과 클래스로 분리\n",
    "cols_train = ['OverallQual', 'GrLivArea', 'GarageCars','GarageArea', 'TotalBsmtSF']\n",
    "X_train_pre = df [cols_train]\n",
    "y=df['SalePrice'].values\n",
    "# 학습셋과 테스트셋\n",
    "X_train, X_test, y_train, y_test = train_test_split(X_train_pre, y, test_size = 0.2)\n",
    "\n",
    "#모델의 구조를 설정합니다\n",
    "model = Sequential()\n",
    "model.add(Dense(10,input_dim=5, activation='relu'))\n",
    "model.add(Dense(30, activation='relu'))\n",
    "model.add(Dense(40, activation='relu'))\n",
    "model.add(Dense(1))\n",
    "#모델 실행\n",
    "model.compile(optimizer='adam',loss='mse')\n",
    "#20회 이상 결과가 향상되지 않으면 자동으로 중단\n",
    "early_stopping_callback=EarlyStopping(monitor='val_loss' , patience=20)\n",
    "# 모델의 이름을 정합니다.\n",
    "modelpath =\"./data/model/house.hdf5\"\n",
    "#최적화 모델을 업데이트하고 저장\n",
    "checkpointer = ModelCheckpoint(filepath=modelpath,monitor='val_loss',verbose=0,save_best_only= True)\n",
    "# 검증셋(validation_split) : 25%\n",
    "history = model.fit(X_train, y_train, epochs=2000,batch_size=32, validation_split=0.25,callbacks=[early_stopping_callback,checkpointer])\n"
   ]
  },
  {
   "cell_type": "code",
   "execution_count": 37,
   "id": "b006729f-9fa7-48a1-8804-89826a4bb82d",
   "metadata": {},
   "outputs": [
    {
     "name": "stdout",
     "output_type": "stream",
     "text": [
      "10/10 [==============================] - 0s 1ms/step\n",
      "실제가격 : 202500.00, 예측 값: 190431.38\n",
      "실제가격 : 345000.00, 예측 값: 256124.14\n",
      "실제가격 : 82500.00, 예측 값: 139257.38\n",
      "실제가격 : 78000.00, 예측 값: 114656.27\n",
      "실제가격 : 158000.00, 예측 값: 173611.38\n",
      "실제가격 : 171000.00, 예측 값: 148406.94\n",
      "실제가격 : 283463.00, 예측 값: 248187.70\n",
      "실제가격 : 360000.00, 예측 값: 265121.94\n",
      "실제가격 : 212000.00, 예측 값: 195166.44\n",
      "실제가격 : 125000.00, 예측 값: 154075.61\n",
      "실제가격 : 250000.00, 예측 값: 184453.75\n",
      "실제가격 : 340000.00, 예측 값: 272322.00\n",
      "실제가격 : 185750.00, 예측 값: 197668.73\n",
      "실제가격 : 150000.00, 예측 값: 198025.28\n",
      "실제가격 : 90000.00, 예측 값: 217415.66\n",
      "실제가격 : 149000.00, 예측 값: 127072.20\n",
      "실제가격 : 75000.00, 예측 값: 114856.13\n",
      "실제가격 : 177500.00, 예측 값: 172934.06\n",
      "실제가격 : 176000.00, 예측 값: 173134.92\n",
      "실제가격 : 180000.00, 예측 값: 181241.75\n",
      "실제가격 : 116900.00, 예측 값: 117472.10\n",
      "실제가격 : 68500.00, 예측 값: 76339.11\n",
      "실제가격 : 165600.00, 예측 값: 157741.86\n",
      "실제가격 : 163900.00, 예측 값: 139610.59\n",
      "실제가격 : 113000.00, 예측 값: 91592.86\n"
     ]
    }
   ],
   "source": [
    "real_prices=[] # 시각화를 위해 실제값 저장\n",
    "pred_prices=[]# 시각화를 위해 예측값 저장\n",
    "X_num =[] \n",
    "# SalePrince의 예측 값\n",
    "Y_prediction = model.predict(X_test)\n",
    "y_test\n",
    "Y_prediction\n",
    "n_iter = 0\n",
    "for i in range(25):\n",
    "    real = y_test[i]\n",
    "    prediction=Y_prediction[i]\n",
    "    print(f\"실제가격 : {real:.2f}, 예측 값: {prediction[0]:.2f}\")\n",
    "    real_prices.append(real)\n",
    "    pred_prices.append(prediction[0])\n",
    "    n_iter += 1\n",
    "    X_num.append(n_iter)"
   ]
  },
  {
   "cell_type": "code",
   "execution_count": 39,
   "id": "078c5317-88a6-46c5-b1cd-b5dc3187d6cc",
   "metadata": {},
   "outputs": [
    {
     "data": {
      "image/png": "[encoded data removed]",
      "text/plain": [
       "<Figure size 640x480 with 1 Axes>"
      ]
     },
     "metadata": {},
     "output_type": "display_data"
    }
   ],
   "source": [
    "import matplotlib.pyplot as plt\n",
    "plt.plot(X_num, pred_prices, label=\"predicted prices\")\n",
    "plt.plot(X_num, real_prices, label=\"real prices\")\n",
    "plt.show()"
   ]
  },
  {
   "cell_type": "code",
   "execution_count": 122,
   "id": "4bbc66c5-8fff-4d44-8f65-b0e8c77b48b9",
   "metadata": {},
   "outputs": [
    {
     "data": {
      "text/plain": [
       "<matplotlib.image.AxesImage at 0x15fb30e8810>"
      ]
     },
     "execution_count": 122,
     "metadata": {},
     "output_type": "execute_result"
    },
    {
     "data": {
      "image/png": "[encoded data removed]",
      "text/plain": [
       "<Figure size 640x480 with 1 Axes>"
      ]
     },
     "metadata": {},
     "output_type": "display_data"
    }
   ],
   "source": [
    "from tensorflow.keras.datasets import mnist\n",
    "#MNIST 데이터셋을 불러와 학습셋과 테스트셋으로 저장합니다\n",
    "(X_train, y_train),(X_test, y_test) = mnist.load_data()\n",
    "X_train.shape[0] # 60000\n",
    "X_test.shape[0] # 10000\n",
    "plt.imshow(X_train[0],cmap='Greys')"
   ]
  },
  {
   "cell_type": "code",
   "execution_count": 123,
   "id": "33422220-2fbd-4fe6-a949-110ef34ade39",
   "metadata": {},
   "outputs": [
    {
     "name": "stdout",
     "output_type": "stream",
     "text": [
      "0  0  0  0  0  0  0  0  0  0  0  0  0  0  0  0  0  0  0  0  0  0  0  0  0  0  0  0  \n",
      "0  0  0  0  0  0  0  0  0  0  0  0  0  0  0  0  0  0  0  0  0  0  0  0  0  0  0  0  \n",
      "0  0  0  0  0  0  0  0  0  0  0  0  0  0  0  0  0  0  0  0  0  0  0  0  0  0  0  0  \n",
      "0  0  0  0  0  0  0  0  0  0  0  0  0  0  0  0  0  0  0  0  0  0  0  0  0  0  0  0  \n",
      "0  0  0  0  0  0  0  0  0  0  0  0  0  0  0  0  0  0  0  0  0  0  0  0  0  0  0  0  \n",
      "0  0  0  0  0  0  0  0  0  0  0  0  3  18 18 18 12613617526 1662552471270  0  0  0  \n",
      "0  0  0  0  0  0  0  0  30 36 94 15417025325325325325322517225324219564 0  0  0  0  \n",
      "0  0  0  0  0  0  0  49 23825325325325325325325325325193 82 82 56 39 0  0  0  0  0  \n",
      "0  0  0  0  0  0  0  18 2192532532532532531981822472410  0  0  0  0  0  0  0  0  0  \n",
      "0  0  0  0  0  0  0  0  80 15610725325320511 0  43 1540  0  0  0  0  0  0  0  0  0  \n",
      "0  0  0  0  0  0  0  0  0  14 1  15425390 0  0  0  0  0  0  0  0  0  0  0  0  0  0  \n",
      "0  0  0  0  0  0  0  0  0  0  0  1392531902  0  0  0  0  0  0  0  0  0  0  0  0  0  \n",
      "0  0  0  0  0  0  0  0  0  0  0  11 19025370 0  0  0  0  0  0  0  0  0  0  0  0  0  \n",
      "0  0  0  0  0  0  0  0  0  0  0  0  35 2412251601081  0  0  0  0  0  0  0  0  0  0  \n",
      "0  0  0  0  0  0  0  0  0  0  0  0  0  81 24025325311925 0  0  0  0  0  0  0  0  0  \n",
      "0  0  0  0  0  0  0  0  0  0  0  0  0  0  45 18625325315027 0  0  0  0  0  0  0  0  \n",
      "0  0  0  0  0  0  0  0  0  0  0  0  0  0  0  16 93 2522531870  0  0  0  0  0  0  0  \n",
      "0  0  0  0  0  0  0  0  0  0  0  0  0  0  0  0  0  24925324964 0  0  0  0  0  0  0  \n",
      "0  0  0  0  0  0  0  0  0  0  0  0  0  0  46 1301832532532072  0  0  0  0  0  0  0  \n",
      "0  0  0  0  0  0  0  0  0  0  0  0  39 1482292532532532501820  0  0  0  0  0  0  0  \n",
      "0  0  0  0  0  0  0  0  0  0  24 11422125325325325320178 0  0  0  0  0  0  0  0  0  \n",
      "0  0  0  0  0  0  0  0  23 66 21325325325325319881 2  0  0  0  0  0  0  0  0  0  0  \n",
      "0  0  0  0  0  0  18 17121925325325325319580 9  0  0  0  0  0  0  0  0  0  0  0  0  \n",
      "0  0  0  0  55 17222625325325325324413311 0  0  0  0  0  0  0  0  0  0  0  0  0  0  \n",
      "0  0  0  0  13625325325321213513216 0  0  0  0  0  0  0  0  0  0  0  0  0  0  0  0  \n",
      "0  0  0  0  0  0  0  0  0  0  0  0  0  0  0  0  0  0  0  0  0  0  0  0  0  0  0  0  \n",
      "0  0  0  0  0  0  0  0  0  0  0  0  0  0  0  0  0  0  0  0  0  0  0  0  0  0  0  0  \n",
      "0  0  0  0  0  0  0  0  0  0  0  0  0  0  0  0  0  0  0  0  0  0  0  0  0  0  0  0  \n"
     ]
    }
   ],
   "source": [
    "import sys\n",
    "for x in X_train[0]:\n",
    "    for i in x:\n",
    "        sys.stdout.write(\"%-3s\" % i)\n",
    "    sys.stdout.write(\"\\n\")"
   ]
  },
  {
   "cell_type": "code",
   "execution_count": 67,
   "id": "03b3fc66-96fd-4909-baf5-fbf9bc05276f",
   "metadata": {},
   "outputs": [
    {
     "data": {
      "text/plain": [
       "array([[1., 0., 0., 0., 0., 0., 0., 0., 0., 0.],\n",
       "       [1., 0., 0., 0., 0., 0., 0., 0., 0., 0.],\n",
       "       [1., 0., 0., 0., 0., 0., 0., 0., 0., 0.],\n",
       "       [1., 0., 0., 0., 0., 0., 0., 0., 0., 0.],\n",
       "       [1., 0., 0., 0., 0., 0., 0., 0., 0., 0.],\n",
       "       [0., 1., 0., 0., 0., 0., 0., 0., 0., 0.],\n",
       "       [1., 0., 0., 0., 0., 0., 0., 0., 0., 0.],\n",
       "       [1., 0., 0., 0., 0., 0., 0., 0., 0., 0.],\n",
       "       [1., 0., 0., 0., 0., 0., 0., 0., 0., 0.],\n",
       "       [1., 0., 0., 0., 0., 0., 0., 0., 0., 0.]], dtype=float32)"
      ]
     },
     "execution_count": 67,
     "metadata": {},
     "output_type": "execute_result"
    }
   ],
   "source": [
    "from tensorflow.keras.utils import to_categorical\n",
    "X_train[0]\n",
    "# 차원 변환\n",
    "X_train = X_train.reshape(X_train.shape[0], 784)\n",
    "X_train.shape\n",
    "X_train = X_train.astype('float64')\n",
    "X_train = X_train / 255\n",
    "X_test = X_test.reshape(X_test.shape[0], 784).astype('float64') / 255\n",
    "# 속성 : X_train[0]\n",
    "# class : y_train[0]\n",
    "y_train[0]\n",
    "y_train = to_categorical(y_train, 10)\n",
    "y_test = to_categorical(y_test, 10) \n",
    "# 0 : 1000000000\n",
    "# 1 : 0100000000\n",
    "# 2 : 0010000000\n",
    "#...\n",
    "# 5 : 0000010000\n",
    "#...\n",
    "# 9 : 0000000001\n",
    "y_train"
   ]
  },
  {
   "cell_type": "code",
   "execution_count": 127,
   "id": "a56bebda-5224-434a-a1c1-4ce72c1707f5",
   "metadata": {},
   "outputs": [
    {
     "name": "stdout",
     "output_type": "stream",
     "text": [
      "Epoch 1/30\n",
      "225/225 [==============================] - 2s 5ms/step - loss: 0.3449 - accuracy: 0.9052 - val_loss: 0.1936 - val_accuracy: 0.9447\n",
      "Epoch 2/30\n",
      " 41/225 [====>.........................] - ETA: 0s - loss: 0.1722 - accuracy: 0.9513"
     ]
    },
    {
     "name": "stderr",
     "output_type": "stream",
     "text": [
      "C:\\Users\\chanwoo kang\\AppData\\Local\\Programs\\Python\\Python311\\Lib\\site-packages\\keras\\src\\engine\\training.py:3103: UserWarning: You are saving your model as an HDF5 file via `model.save()`. This file format is considered legacy. We recommend using instead the native Keras format, e.g. `model.save('my_model.keras')`.\n",
      "  saving_api.save_model(\n"
     ]
    },
    {
     "name": "stdout",
     "output_type": "stream",
     "text": [
      "225/225 [==============================] - 1s 5ms/step - loss: 0.1465 - accuracy: 0.9583 - val_loss: 0.1412 - val_accuracy: 0.9597\n",
      "Epoch 3/30\n",
      "225/225 [==============================] - 1s 5ms/step - loss: 0.0990 - accuracy: 0.9715 - val_loss: 0.1135 - val_accuracy: 0.9655\n",
      "Epoch 4/30\n",
      "225/225 [==============================] - 1s 5ms/step - loss: 0.0703 - accuracy: 0.9809 - val_loss: 0.1006 - val_accuracy: 0.9708\n",
      "Epoch 5/30\n",
      "225/225 [==============================] - 1s 5ms/step - loss: 0.0538 - accuracy: 0.9849 - val_loss: 0.0957 - val_accuracy: 0.9721\n",
      "Epoch 6/30\n",
      "225/225 [==============================] - 1s 5ms/step - loss: 0.0413 - accuracy: 0.9889 - val_loss: 0.0897 - val_accuracy: 0.9731\n",
      "Epoch 7/30\n",
      "225/225 [==============================] - 1s 5ms/step - loss: 0.0314 - accuracy: 0.9916 - val_loss: 0.0845 - val_accuracy: 0.9751\n",
      "Epoch 8/30\n",
      "225/225 [==============================] - 1s 5ms/step - loss: 0.0237 - accuracy: 0.9944 - val_loss: 0.0788 - val_accuracy: 0.9777\n",
      "Epoch 9/30\n",
      "225/225 [==============================] - 1s 5ms/step - loss: 0.0193 - accuracy: 0.9958 - val_loss: 0.0814 - val_accuracy: 0.9763\n",
      "Epoch 10/30\n",
      "225/225 [==============================] - 1s 5ms/step - loss: 0.0145 - accuracy: 0.9974 - val_loss: 0.0837 - val_accuracy: 0.9751\n",
      "Epoch 11/30\n",
      "225/225 [==============================] - 1s 5ms/step - loss: 0.0112 - accuracy: 0.9982 - val_loss: 0.0814 - val_accuracy: 0.9767\n",
      "Epoch 12/30\n",
      "225/225 [==============================] - 1s 5ms/step - loss: 0.0083 - accuracy: 0.9990 - val_loss: 0.0775 - val_accuracy: 0.9778\n",
      "Epoch 13/30\n",
      "225/225 [==============================] - 1s 5ms/step - loss: 0.0059 - accuracy: 0.9995 - val_loss: 0.0804 - val_accuracy: 0.9776\n",
      "Epoch 14/30\n",
      "225/225 [==============================] - 1s 4ms/step - loss: 0.0051 - accuracy: 0.9996 - val_loss: 0.0786 - val_accuracy: 0.9784\n",
      "Epoch 15/30\n",
      "225/225 [==============================] - 1s 4ms/step - loss: 0.0042 - accuracy: 0.9997 - val_loss: 0.0821 - val_accuracy: 0.9792\n",
      "Epoch 16/30\n",
      "225/225 [==============================] - 1s 4ms/step - loss: 0.0033 - accuracy: 0.9999 - val_loss: 0.0804 - val_accuracy: 0.9781\n",
      "Epoch 17/30\n",
      "225/225 [==============================] - 1s 4ms/step - loss: 0.0027 - accuracy: 0.9999 - val_loss: 0.0886 - val_accuracy: 0.9768\n",
      "Epoch 18/30\n",
      "225/225 [==============================] - 1s 5ms/step - loss: 0.0020 - accuracy: 1.0000 - val_loss: 0.0814 - val_accuracy: 0.9799\n",
      "Epoch 19/30\n",
      "225/225 [==============================] - 1s 5ms/step - loss: 0.0016 - accuracy: 1.0000 - val_loss: 0.0827 - val_accuracy: 0.9790\n",
      "Epoch 20/30\n",
      "225/225 [==============================] - 1s 5ms/step - loss: 0.0012 - accuracy: 1.0000 - val_loss: 0.0842 - val_accuracy: 0.9792\n",
      "Epoch 21/30\n",
      "225/225 [==============================] - 1s 5ms/step - loss: 0.0011 - accuracy: 1.0000 - val_loss: 0.0874 - val_accuracy: 0.9786\n",
      "Epoch 22/30\n",
      "225/225 [==============================] - 1s 5ms/step - loss: 9.0851e-04 - accuracy: 1.0000 - val_loss: 0.0854 - val_accuracy: 0.9787\n",
      "313/313 [==============================] - 0s 1ms/step - loss: 0.0711 - accuracy: 0.9825\n"
     ]
    },
    {
     "data": {
      "text/plain": [
       "0.9825000166893005"
      ]
     },
     "execution_count": 127,
     "metadata": {},
     "output_type": "execute_result"
    }
   ],
   "source": [
    "from tensorflow.keras.models import Sequential\n",
    "from tensorflow.keras.layers import Dense\n",
    "from tensorflow.keras.callbacks import ModelCheckpoint,EarlyStopping\n",
    "from tensorflow.keras.datasets import mnist\n",
    "from tensorflow.keras.utils import to_categorical\n",
    "import numpy as np\n",
    "# 데이터 불러오기 \n",
    "# MNIST 데이터를 불러옵니다. \n",
    "(X_train, y_train), (X_test, y_test) = mnist.load_data()\n",
    "# 차원 변환 : 2차원을 평면(1차원)으로 변환 (28, 28)\n",
    "X_train = X_train.reshape(X_train.shape[0], 28*28).astype('float32') / 255\n",
    "X_test = X_test.reshape(X_test.shape[0], 784).astype('float32') / 255\n",
    "# 0 ~ 255로 되어 있는 값을 0 ~ 1사이의 값으로 변경\n",
    "\n",
    "# 원-핫 인코딩 :   class = 0는 1의 값을 가지도록\n",
    "y_train = to_categorical(y_train, 10)\n",
    "y_test  = to_categorical(y_test, 10)\n",
    "\n",
    "# 모델 구조를 설정\n",
    "model = Sequential()\n",
    "model.add(Dense(512, input_dim=784, activation='relu'))\n",
    "model.add(Dense(10, activation='softmax'))\n",
    "\n",
    "# 모델 실행 \n",
    "model.compile(loss='categorical_crossentropy', optimizer='adam', \\\n",
    "              metrics=['accuracy'])\n",
    "# 모델 최적화\n",
    "modelpath= \"./data/model/MNIST_MLP.hdf5\"\n",
    "early_stopping_callback = EarlyStopping(monitor='val_loss' ,patience=10 )\n",
    "checkpointer = ModelCheckpoint(filepath=modelpath ,monitor='val_loss' \\\n",
    "                               ,verbose=0,save_best_only=True)\n",
    "# 모델 학습\n",
    "history = model.fit(X_train,y_train, validation_split=0.25 ,  epochs=30 \\\n",
    "    , batch_size=200, verbose=1,callbacks=[early_stopping_callback,checkpointer])\n",
    "# 테스트 정확도\n",
    "model.evaluate(X_test, y_test)[1]"
   ]
  },
  {
   "cell_type": "code",
   "execution_count": 137,
   "id": "73cc27cc-5e27-4deb-ac31-9331a7c51648",
   "metadata": {},
   "outputs": [
    {
     "ename": "FileNotFoundError",
     "evalue": "[Errno 2] No such file or directory: 'img6.jpg'",
     "output_type": "error",
     "traceback": [
      "\u001b[1;31m---------------------------------------------------------------------------\u001b[0m",
      "\u001b[1;31mFileNotFoundError\u001b[0m                         Traceback (most recent call last)",
      "Cell \u001b[1;32mIn[137], line 4\u001b[0m\n\u001b[0;32m      2\u001b[0m \u001b[38;5;66;03m# 이미지 전처리\u001b[39;00m\n\u001b[0;32m      3\u001b[0m image_path \u001b[38;5;241m=\u001b[39m \u001b[38;5;124m'\u001b[39m\u001b[38;5;124mimg6.jpg\u001b[39m\u001b[38;5;124m'\u001b[39m\n\u001b[1;32m----> 4\u001b[0m image \u001b[38;5;241m=\u001b[39m \u001b[43mImage\u001b[49m\u001b[38;5;241;43m.\u001b[39;49m\u001b[43mopen\u001b[49m\u001b[43m(\u001b[49m\u001b[43mimage_path\u001b[49m\u001b[43m)\u001b[49m\n\u001b[0;32m      5\u001b[0m image \u001b[38;5;241m=\u001b[39m image\u001b[38;5;241m.\u001b[39mconvert(\u001b[38;5;124m'\u001b[39m\u001b[38;5;124mL\u001b[39m\u001b[38;5;124m'\u001b[39m)  \u001b[38;5;66;03m# 흑백 이미지로 변환\u001b[39;00m\n\u001b[0;32m      6\u001b[0m image \u001b[38;5;241m=\u001b[39m image\u001b[38;5;241m.\u001b[39mresize((\u001b[38;5;241m28\u001b[39m, \u001b[38;5;241m28\u001b[39m))  \u001b[38;5;66;03m# 28x28 크기로 조정\u001b[39;00m\n",
      "File \u001b[1;32m~\\AppData\\Local\\Programs\\Python\\Python311\\Lib\\site-packages\\PIL\\Image.py:3247\u001b[0m, in \u001b[0;36mopen\u001b[1;34m(fp, mode, formats)\u001b[0m\n\u001b[0;32m   3244\u001b[0m     filename \u001b[38;5;241m=\u001b[39m fp\n\u001b[0;32m   3246\u001b[0m \u001b[38;5;28;01mif\u001b[39;00m filename:\n\u001b[1;32m-> 3247\u001b[0m     fp \u001b[38;5;241m=\u001b[39m \u001b[43mbuiltins\u001b[49m\u001b[38;5;241;43m.\u001b[39;49m\u001b[43mopen\u001b[49m\u001b[43m(\u001b[49m\u001b[43mfilename\u001b[49m\u001b[43m,\u001b[49m\u001b[43m \u001b[49m\u001b[38;5;124;43m\"\u001b[39;49m\u001b[38;5;124;43mrb\u001b[39;49m\u001b[38;5;124;43m\"\u001b[39;49m\u001b[43m)\u001b[49m\n\u001b[0;32m   3248\u001b[0m     exclusive_fp \u001b[38;5;241m=\u001b[39m \u001b[38;5;28;01mTrue\u001b[39;00m\n\u001b[0;32m   3250\u001b[0m \u001b[38;5;28;01mtry\u001b[39;00m:\n",
      "\u001b[1;31mFileNotFoundError\u001b[0m: [Errno 2] No such file or directory: 'img6.jpg'"
     ]
    }
   ],
   "source": [
    "from PIL import Image\n",
    "# 이미지 전처리\n",
    "image_path = 'img6.jpg'\n",
    "image = Image.open(image_path)\n",
    "image = image.convert('L')  # 흑백 이미지로 변환\n",
    "image = image.resize((28, 28))  # 28x28 크기로 조정\n",
    "image = np.asarray(image)\n",
    "image = image.reshape(1, 28*28).astype('float32') / 255\n",
    "image = abs(1 - image)\n",
    "\n",
    "# 예측하기\n",
    "#prediction = model.predict(image)\n",
    "digit = np.argmax(prediction)\n",
    "print(\"예측 결과:\", digit)"
   ]
  },
  {
   "cell_type": "code",
   "execution_count": 138,
   "id": "6696b134-0969-4d44-9517-b08ae051d880",
   "metadata": {},
   "outputs": [
    {
     "ename": "NameError",
     "evalue": "name 'image' is not defined",
     "output_type": "error",
     "traceback": [
      "\u001b[1;31m---------------------------------------------------------------------------\u001b[0m",
      "\u001b[1;31mNameError\u001b[0m                                 Traceback (most recent call last)",
      "Cell \u001b[1;32mIn[138], line 2\u001b[0m\n\u001b[0;32m      1\u001b[0m \u001b[38;5;28;01mimport\u001b[39;00m \u001b[38;5;21;01msys\u001b[39;00m\n\u001b[1;32m----> 2\u001b[0m \u001b[38;5;28;01mfor\u001b[39;00m x \u001b[38;5;129;01min\u001b[39;00m \u001b[43mimage\u001b[49m:\n\u001b[0;32m      3\u001b[0m     \u001b[38;5;28;01mfor\u001b[39;00m i \u001b[38;5;129;01min\u001b[39;00m x:\n\u001b[0;32m      4\u001b[0m         sys\u001b[38;5;241m.\u001b[39mstdout\u001b[38;5;241m.\u001b[39mwrite(\u001b[38;5;124m\"\u001b[39m\u001b[38;5;132;01m%-3.1s\u001b[39;00m\u001b[38;5;124m\"\u001b[39m \u001b[38;5;241m%\u001b[39m i)\n",
      "\u001b[1;31mNameError\u001b[0m: name 'image' is not defined"
     ]
    }
   ],
   "source": [
    "import sys\n",
    "for x in image:\n",
    "    for i in x:\n",
    "        sys.stdout.write(\"%-3.1s\" % i)\n",
    "    sys.stdout.write(\"\\n\")"
   ]
  },
  {
   "cell_type": "code",
   "execution_count": 130,
   "id": "b1a21b06-aa23-4127-8ac8-b1469ba03e52",
   "metadata": {},
   "outputs": [
    {
     "data": {
      "image/png": "[encoded data removed]",
      "text/plain": [
       "<Figure size 640x480 with 1 Axes>"
      ]
     },
     "metadata": {},
     "output_type": "display_data"
    }
   ],
   "source": [
    "y_val_loss= history.history['val_loss']#테스트 셋\n",
    "y_loss= history.history['loss'] # 학습 셋\n",
    "x_len= np.arange(len(y_loss))\n",
    "plt.plot(x_len, y_val_loss, marker=\".\",c=\"red\", label=\"Testset_loss\")\n",
    "plt.plot(x_len, y_loss, marker=\".\",c=\"blue\", label=\"Trainset_loss\")\n",
    "\n",
    "plt.legend(loc = \"upper right\")\n",
    "plt.grid()\n",
    "plt.xlabel(\"cpoch\")\n",
    "plt.ylabel(\"loss\")\n",
    "plt.show()"
   ]
  },
  {
   "cell_type": "code",
   "execution_count": 131,
   "id": "f83033f1-d14e-4815-929b-c795619c4248",
   "metadata": {},
   "outputs": [
    {
     "data": {
      "text/plain": [
       "['해보지', '않으면', '해낼', '수', '없다']"
      ]
     },
     "execution_count": 131,
     "metadata": {},
     "output_type": "execute_result"
    }
   ],
   "source": [
    "from tensorflow.keras.models import Sequential  \n",
    "from tensorflow.keras.layers import Dense,Flatten,Embedding\n",
    "from tensorflow.keras.utils import to_categorical\n",
    "from numpy import array\n",
    "from tensorflow.keras.preprocessing.text import Tokenizer\n",
    "from tensorflow.keras.preprocessing.sequence import pad_sequences\n",
    "#텍스트 전처리와 관련한 함수\n",
    "from tensorflow.keras.preprocessing.text import text_to_word_sequence\n",
    "# 전처리할 텍스트\n",
    "text =\"해보지 않으면 해낼 수 없다\"\n",
    "# 해당 텍스트를 토큰화\n",
    "result = text_to_word_sequence(text)\n",
    "result"
   ]
  },
  {
   "cell_type": "code",
   "execution_count": 86,
   "id": "fc96ba73-52a3-4c3c-9827-d25ad0e17cc0",
   "metadata": {},
   "outputs": [
    {
     "data": {
      "text/plain": [
       "{'텍스트의': 1,\n",
       " '딥러닝에서': 2,\n",
       " '먼저': 3,\n",
       " '각': 4,\n",
       " '단어를': 5,\n",
       " '나누어': 6,\n",
       " '토큰화': 7,\n",
       " '합니다': 8,\n",
       " '단어로': 9,\n",
       " '토큰화해야': 10,\n",
       " '인식됩니다': 11,\n",
       " '토큰화한': 12,\n",
       " '결과는': 13,\n",
       " '사용할': 14,\n",
       " '수': 15,\n",
       " '있습니다': 16}"
      ]
     },
     "execution_count": 86,
     "metadata": {},
     "output_type": "execute_result"
    }
   ],
   "source": [
    "# 전처리하려는 세 개의 문장을 정합니다\n",
    "docs = ['먼저 텍스트의 각 단어를 나누어 토큰화 합니다.',\n",
    "        '텍스트의 단어로 토큰화해야 딥러닝에서 인식됩니다.',\n",
    "       '토큰화한 결과는 딥러닝에서 사용할 수 있습니다.']\n",
    "\n",
    "token = Tokenizer()\n",
    "token.fit_on_texts(docs)\n",
    "### 빈도수를 확인\n",
    "token.word_counts\n",
    "# 문장의 수\n",
    "token.document_count\n",
    "# 각 단어의 index\n",
    "token.word_index"
   ]
  },
  {
   "cell_type": "code",
   "execution_count": 134,
   "id": "c4753947-27db-41c4-bba3-d37fd1addf74",
   "metadata": {},
   "outputs": [
    {
     "data": {
      "text/plain": [
       "array([[[0., 1., 0., 0., 0., 0., 0., 0.],\n",
       "        [0., 0., 1., 0., 0., 0., 0., 0.],\n",
       "        [0., 0., 0., 1., 0., 0., 0., 0.],\n",
       "        [0., 0., 0., 0., 1., 0., 0., 0.],\n",
       "        [0., 0., 0., 0., 0., 1., 0., 0.],\n",
       "        [0., 0., 0., 0., 0., 0., 1., 0.],\n",
       "        [0., 0., 0., 0., 0., 0., 0., 1.]]], dtype=float32)"
      ]
     },
     "execution_count": 134,
     "metadata": {},
     "output_type": "execute_result"
    }
   ],
   "source": [
    "text = '먼저 텍스트의 각 단어를 나누어 토큰화 합니다.'\n",
    "token = Tokenizer()\n",
    "token.fit_on_texts([text])\n",
    "token.word_index\n",
    "token.word_index['먼저'] # 단어가 키가 된 걸 확인 할 수 있다.\n",
    "x = token.texts_to_sequences([text])\n",
    "x\n",
    "'''\n",
    "1 : 01000000  : 먼저\n",
    "2 : 00100000  : 텍스트의\n",
    "3 : 00010000  : 각\n",
    "4 : 00001000  : 단어를\n",
    "5 : 00000100  : 나누어\n",
    "6 : 00000010  : 토큰화\n",
    "7 : 00000001  : 합니다.\n",
    "'''\n",
    "# 원-핫 인코딩 배열 만들기\n",
    "x = to_categorical(x, len(token.word_index) + 1 )\n",
    "x"
   ]
  },
  {
   "cell_type": "code",
   "execution_count": 132,
   "id": "8e23ddca-8cf9-431d-ad36-95831eceb0da",
   "metadata": {},
   "outputs": [
    {
     "name": "stdout",
     "output_type": "stream",
     "text": [
      "{'너무': 1, '재밌네요': 2, '최고예요': 3, '참': 4, '잘': 5, '만든': 6, '영화예요': 7, '추천하고': 8, '싶은': 9, '영화입니다': 10, '한번': 11, '더': 12, '보고싶네요': 13, '글쎄요': 14, '별로예요': 15, '생각보다': 16, '지루하네요': 17, '연기가': 18, '어색해요': 19, '재미없어요': 20}\n",
      "[[1, 2], [3], [4, 5, 6, 7], [8, 9, 10], [11, 12, 13], [14], [15], [16, 17], [18, 19], [20]]\n",
      "Epoch 1/20\n",
      "1/1 [==============================] - 0s 452ms/step - loss: 0.6894 - accuracy: 0.7000\n",
      "Epoch 2/20\n",
      "1/1 [==============================] - 0s 3ms/step - loss: 0.6876 - accuracy: 0.8000\n",
      "Epoch 3/20\n",
      "1/1 [==============================] - 0s 4ms/step - loss: 0.6857 - accuracy: 0.8000\n",
      "Epoch 4/20\n",
      "1/1 [==============================] - 0s 6ms/step - loss: 0.6839 - accuracy: 0.8000\n",
      "Epoch 5/20\n",
      "1/1 [==============================] - 0s 8ms/step - loss: 0.6820 - accuracy: 0.9000\n",
      "Epoch 6/20\n",
      "1/1 [==============================] - 0s 5ms/step - loss: 0.6802 - accuracy: 0.9000\n",
      "Epoch 7/20\n",
      "1/1 [==============================] - 0s 6ms/step - loss: 0.6783 - accuracy: 0.9000\n",
      "Epoch 8/20\n",
      "1/1 [==============================] - 0s 5ms/step - loss: 0.6765 - accuracy: 0.9000\n",
      "Epoch 9/20\n",
      "1/1 [==============================] - 0s 4ms/step - loss: 0.6746 - accuracy: 0.9000\n",
      "Epoch 10/20\n",
      "1/1 [==============================] - 0s 3ms/step - loss: 0.6727 - accuracy: 0.9000\n",
      "Epoch 11/20\n",
      "1/1 [==============================] - 0s 3ms/step - loss: 0.6708 - accuracy: 1.0000\n",
      "Epoch 12/20\n",
      "1/1 [==============================] - 0s 4ms/step - loss: 0.6689 - accuracy: 1.0000\n",
      "Epoch 13/20\n",
      "1/1 [==============================] - 0s 5ms/step - loss: 0.6670 - accuracy: 1.0000\n",
      "Epoch 14/20\n",
      "1/1 [==============================] - 0s 4ms/step - loss: 0.6651 - accuracy: 1.0000\n",
      "Epoch 15/20\n",
      "1/1 [==============================] - 0s 3ms/step - loss: 0.6632 - accuracy: 1.0000\n",
      "Epoch 16/20\n",
      "1/1 [==============================] - 0s 3ms/step - loss: 0.6613 - accuracy: 1.0000\n",
      "Epoch 17/20\n",
      "1/1 [==============================] - 0s 4ms/step - loss: 0.6593 - accuracy: 1.0000\n",
      "Epoch 18/20\n",
      "1/1 [==============================] - 0s 4ms/step - loss: 0.6574 - accuracy: 1.0000\n",
      "Epoch 19/20\n",
      "1/1 [==============================] - 0s 5ms/step - loss: 0.6554 - accuracy: 1.0000\n",
      "Epoch 20/20\n",
      "1/1 [==============================] - 0s 4ms/step - loss: 0.6534 - accuracy: 1.0000\n"
     ]
    },
    {
     "data": {
      "text/plain": [
       "<keras.src.callbacks.History at 0x15fc4559e50>"
      ]
     },
     "execution_count": 132,
     "metadata": {},
     "output_type": "execute_result"
    }
   ],
   "source": [
    "# 텍스트 리뷰 자료\n",
    "docs = [\"너무 재밌네요\",\"최고예요\",\"참 잘 만든 영화예요\",\"추천하고 싶은 영화입니다\"\n",
    "        ,\"한번 더 보고싶네요\",\"글쎄요\",\"별로예요\",\"생각보다 지루하네요\",\n",
    "        \"연기가 어색해요\",\"재미없어요\"]\n",
    "# 긍정 리뷰는 1, 부정 리뷰는 0\n",
    "classes = array([1,1,1,1,1,0,0,0,0,0])\n",
    "# 토큰화 \n",
    "token = Tokenizer()\n",
    "token.fit_on_texts(docs)\n",
    "print(token.word_index)\n",
    "x = token.texts_to_sequences(docs)\n",
    "print(x)\n",
    "# 패딩, 서로 다른 길이의 데이터를 4로 맞추어 줍니다.: pad_sequences\n",
    "padded_x = pad_sequences(x, 4)\n",
    "padded_x\n",
    "# 임베딩\n",
    "# 입력될 단어의 수\n",
    "word_size = len(token.word_index) + 1\n",
    "# 단어 임베딩을 포함하여 딥러닝 모델을 만듦\n",
    "model = Sequential()\n",
    "model.add(Embedding(word_size, 8, input_length=4)) # 임베딩\n",
    "model.add(Flatten())\n",
    "model.add(Dense(1 , activation=\"sigmoid\"))\n",
    "# 모델 실행\n",
    "model.compile(optimizer=\"adam\", loss = \"binary_crossentropy\", metrics=['accuracy'])\n",
    "model.fit(padded_x, classes,epochs=20)"
   ]
  },
  {
   "cell_type": "code",
   "execution_count": 133,
   "id": "8ddc6dfa-9d41-4604-aec0-38b6bf0d1fc8",
   "metadata": {},
   "outputs": [
    {
     "name": "stdout",
     "output_type": "stream",
     "text": [
      "1/1 [==============================] - 0s 41ms/step\n",
      "[[0.54590327]]\n",
      "<class 'numpy.ndarray'>\n",
      "'참 잘 만든 영화예요'는 긍정입니다.\n"
     ]
    }
   ],
   "source": [
    "\n",
    "text = \"참 잘 만든 영화예요\"\n",
    "x_text = token.texts_to_sequences([text])\n",
    "padded_x_text = pad_sequences(x_text, 4)\n",
    "# 예측\n",
    "result = model.predict(padded_x_text)\n",
    "print(result)\n",
    "print(type(result))\n",
    "if result[0 , 0] >= 0.5:\n",
    "    print(f\"'{text}'는 긍정입니다.\")\n",
    "else:\n",
    "    print(f\"'{text}'는 부정입니다.\")"
   ]
  },
  {
   "cell_type": "code",
   "execution_count": null,
   "id": "fd915004-1589-47c7-a9ad-e5cf778eb0a7",
   "metadata": {},
   "outputs": [],
   "source": []
  }
 ],
 "metadata": {
  "kernelspec": {
   "display_name": "Python 3 (ipykernel)",
   "language": "python",
   "name": "python3"
  },
  "language_info": {
   "codemirror_mode": {
    "name": "ipython",
    "version": 3
   },
   "file_extension": ".py",
   "mimetype": "text/x-python",
   "name": "python",
   "nbconvert_exporter": "python",
   "pygments_lexer": "ipython3",
   "version": "3.11.7"
  }
 },
 "nbformat": 4,
 "nbformat_minor": 5
}

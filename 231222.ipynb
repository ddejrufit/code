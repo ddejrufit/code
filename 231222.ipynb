{
 "cells": [
  {
   "cell_type": "code",
   "execution_count": 7,
   "id": "b361426b-a589-4acc-bc70-834efefc28a1",
   "metadata": {},
   "outputs": [],
   "source": [
    "# 같은 이름의 함수를 만들지 못한다.\n",
    "# 함수명과 변수명이 같아서는 안된다.\n",
    "def sum11(* para): # *연산자는 인자값을 튜플로 받도록 한다.\n",
    "    print(para)\n",
    "    sum1 = 0\n",
    "    for num in para:\n",
    "        sum1 += num\n",
    "    print(sum1)"
   ]
  },
  {
   "cell_type": "code",
   "execution_count": 8,
   "id": "51aa0800-4868-4982-be66-e0b22428c69c",
   "metadata": {},
   "outputs": [
    {
     "name": "stdout",
     "output_type": "stream",
     "text": [
      "(1, 2)\n",
      "3\n",
      "(1, 2, 3)\n",
      "6\n",
      "(1, 2, 3, 4, 5, 6, 7)\n",
      "28\n"
     ]
    }
   ],
   "source": [
    "sum11(1,2)\n",
    "sum11(1,2,3)\n",
    "sum11(1,2,3,4,5,6,7)"
   ]
  },
  {
   "cell_type": "code",
   "execution_count": 16,
   "id": "fb7479b0-b8a2-401b-a873-7ed0b9118191",
   "metadata": {},
   "outputs": [],
   "source": [
    "def sum14(* para):\n",
    "    sum1 = 0\n",
    "    if para[0] == \"add\":\n",
    "        for idx in range(1, len(para)):\n",
    "            sum1 += para[idx]\n",
    "    elif para[0] == \"sub\":\n",
    "        for num in para[1:]:\n",
    "            sum1 -= num\n",
    "    elif para[0] == \"mul\":\n",
    "        for num in para[1:]:\n",
    "            sum1 *= num\n",
    "    else:\n",
    "        for num in para[1:]:\n",
    "            sum1 /= num\n",
    "    print(sum1)"
   ]
  },
  {
   "cell_type": "code",
   "execution_count": 17,
   "id": "1caadfe3-6b66-442f-98a3-1dbdd14852a2",
   "metadata": {},
   "outputs": [
    {
     "name": "stdout",
     "output_type": "stream",
     "text": [
      "24\n"
     ]
    }
   ],
   "source": [
    "sum14('add',2,4,5,6,7)\n",
    "sum14('mul',2,3,4,5,6,7,8)"
   ]
  },
  {
   "cell_type": "code",
   "execution_count": 20,
   "id": "951a189d-4201-4869-938e-b90bf676dc47",
   "metadata": {},
   "outputs": [],
   "source": [
    "def sum14(opt,* para ):\n",
    "    sum1 = 1\n",
    "    if opt == \"add\":\n",
    "        for num in para:\n",
    "            sum1 += num\n",
    "    elif opt == \"sub\":\n",
    "        for num in para:\n",
    "            sum1 -= num\n",
    "    elif opt == \"mul\":\n",
    "        for num in para:\n",
    "            sum1 *= num\n",
    "    else:\n",
    "        for num in para:\n",
    "            sum1 /= num\n",
    "    print(sum1)"
   ]
  },
  {
   "cell_type": "code",
   "execution_count": 21,
   "id": "3cf03cf0-4543-44bd-a687-083452816e96",
   "metadata": {},
   "outputs": [
    {
     "name": "stdout",
     "output_type": "stream",
     "text": [
      "25\n",
      "40320\n"
     ]
    }
   ],
   "source": [
    "sum14('add',2,4,5,6,7)\n",
    "sum14('mul',2,3,4,5,6,7,8)"
   ]
  },
  {
   "cell_type": "code",
   "execution_count": 22,
   "id": "2e5ea19f-3c27-4946-839e-3aa470604119",
   "metadata": {},
   "outputs": [],
   "source": [
    "def dic1(** para): ## **은 딕셔너리로 받는다.\n",
    "    print(para)"
   ]
  },
  {
   "cell_type": "code",
   "execution_count": 24,
   "id": "44b41de5-96e8-4a17-8444-782e18985e50",
   "metadata": {},
   "outputs": [
    {
     "name": "stdout",
     "output_type": "stream",
     "text": [
      "{'a': 1}\n",
      "{'a': '이', 'b': '숭', 'c': '무'}\n"
     ]
    }
   ],
   "source": [
    "dic1(a = 1)\n",
    "dic1(a = '이', b ='숭', c='무')\n"
   ]
  },
  {
   "cell_type": "code",
   "execution_count": 25,
   "id": "8daf373e-24b4-4a12-92a1-d77676f0d0fc",
   "metadata": {},
   "outputs": [],
   "source": [
    "def dic1(age , ** para):\n",
    "    print(age)\n",
    "    print(para)"
   ]
  },
  {
   "cell_type": "code",
   "execution_count": 26,
   "id": "f301d18b-ded7-43f3-98f4-ff96c73faae9",
   "metadata": {},
   "outputs": [
    {
     "name": "stdout",
     "output_type": "stream",
     "text": [
      "35\n",
      "{'name': '이숭무', 'old': 40, 'height': 173.5}\n"
     ]
    }
   ],
   "source": [
    "dic1(35, name = '이숭무', old = 40, height = 173.5)\n"
   ]
  },
  {
   "cell_type": "code",
   "execution_count": 27,
   "id": "74e9bcd8-9641-4df4-833c-020dec074cc1",
   "metadata": {},
   "outputs": [],
   "source": [
    "# parameter이름을 이용해서 값을 전달\n",
    "def sum12(start , end):\n",
    "    sum1 = 0\n",
    "    for num in range(start, end + 1):\n",
    "        sum1 += num\n",
    "    print(sum1)"
   ]
  },
  {
   "cell_type": "code",
   "execution_count": 30,
   "id": "8d3b5aa6-a810-4a69-bbfd-5e18177d8d06",
   "metadata": {},
   "outputs": [
    {
     "name": "stdout",
     "output_type": "stream",
     "text": [
      "5050\n",
      "5050\n",
      "5050\n"
     ]
    }
   ],
   "source": [
    "sum12(1, 100)\n",
    "sum12(start = 1, end = 100)\n",
    "sum12(end = 100, start=1)"
   ]
  },
  {
   "cell_type": "code",
   "execution_count": 31,
   "id": "48cd90ca-e66a-4f7a-891f-41edb186b7d9",
   "metadata": {},
   "outputs": [],
   "source": [
    "def calc(opt, num1, num2):\n",
    "    if opt == 'add':\n",
    "        result = num1 + num2\n",
    "    elif opt == 'sub':\n",
    "        result = num1 - num2\n",
    "    elif opt == 'mul':\n",
    "        result = num1 * num2\n",
    "    else:\n",
    "        result = num1 / num2\n",
    "    print(result)"
   ]
  },
  {
   "cell_type": "code",
   "execution_count": 34,
   "id": "28de6c59-2190-4826-a33f-7a92947163c1",
   "metadata": {},
   "outputs": [
    {
     "name": "stdout",
     "output_type": "stream",
     "text": [
      "30\n",
      "30\n"
     ]
    }
   ],
   "source": [
    "calc('add', 10, 20)\n",
    "calc('mul', num2 = 3, num1 = 10)\n",
    "#calc(num2 = 3, 'mul',  num1 = 10)"
   ]
  },
  {
   "cell_type": "code",
   "execution_count": 35,
   "id": "2c993b77-d870-436b-9712-0b83171b9564",
   "metadata": {},
   "outputs": [],
   "source": [
    "#### 매개변수에 초깃값 미리 설정하기 \n",
    "def my_salf(name, old, man):\n",
    "    print(f\"나의 이름은 {name}입니다.\")\n",
    "    print(f\"나의 나이는 {old}살입니다.\")\n",
    "    if man:\n",
    "        print(\"나는 남자입니다.\")\n",
    "    else:\n",
    "        print(\"나는 여자입니다.\")"
   ]
  },
  {
   "cell_type": "code",
   "execution_count": 36,
   "id": "0708886b-585b-4e61-a07c-40d25ea17160",
   "metadata": {},
   "outputs": [
    {
     "name": "stdout",
     "output_type": "stream",
     "text": [
      "나의 이름은 이숭무입니다.\n",
      "나의 나이는 35살입니다.\n",
      "나는 남자입니다.\n"
     ]
    }
   ],
   "source": [
    "my_salf(\"이숭무\", 35, True)"
   ]
  },
  {
   "cell_type": "code",
   "execution_count": 38,
   "id": "b70be813-2b2a-4f28-bf76-6fcd8630a514",
   "metadata": {},
   "outputs": [],
   "source": [
    "def my_salf(name, old, man = True):\n",
    "    print(f\"나의 이름은 {name}입니다.\")\n",
    "    print(f\"나의 나이는 {old}살입니다.\")\n",
    "    if man:\n",
    "        print(\"나는 남자입니다.\")\n",
    "    else:\n",
    "        print(\"나는 여자입니다.\")"
   ]
  },
  {
   "cell_type": "code",
   "execution_count": 44,
   "id": "6d5c94cf-4b88-4f01-bdda-50cb47f89d47",
   "metadata": {},
   "outputs": [
    {
     "name": "stdout",
     "output_type": "stream",
     "text": [
      "나의 이름은 이숭무입니다.\n",
      "나의 나이는 35살입니다.\n",
      "나는 남자입니다.\n",
      "나의 이름은 이숭무입니다.\n",
      "나의 나이는 35살입니다.\n",
      "나는 남자입니다.\n",
      "나의 이름은 오연의입니다.\n",
      "나의 나이는 55살입니다.\n",
      "나는 여자입니다.\n",
      "나의 이름은 오연의입니다.\n",
      "나의 나이는 35살입니다.\n",
      "나는 여자입니다.\n",
      "나의 이름은 오연의입니다.\n",
      "나의 나이는 35살입니다.\n",
      "나는 남자입니다.\n"
     ]
    }
   ],
   "source": [
    "my_salf(\"이숭무\", 35, True)\n",
    "my_salf(\"이숭무\", 35)\n",
    "my_salf(\"오연의\", 55,  False)\n",
    "# my_salf(old = 35, name= \"오연의\",  False)\n",
    "my_salf(old = 35, name= \"오연의\",  man=False)\n",
    "my_salf(old = 35, name= \"오연의\")"
   ]
  },
  {
   "cell_type": "code",
   "execution_count": 46,
   "id": "c1a74991-7ff7-4b2e-92d6-5c9a85aa571c",
   "metadata": {},
   "outputs": [
    {
     "name": "stdout",
     "output_type": "stream",
     "text": [
      "\n"
     ]
    }
   ],
   "source": [
    "'''\n",
    "def my_salf(name = '이숭무', old, man = True):\n",
    "    print(f\"나의 이름은 {name}입니다.\")\n",
    "    print(f\"나의 나이는 {old}살입니다.\")\n",
    "    if man:\n",
    "        print(\"나는 남자입니다.\")\n",
    "    else:\n",
    "        print(\"나는 여자입니다.\")\n",
    "my_salf(36)\n",
    "'''\n",
    "print()"
   ]
  },
  {
   "cell_type": "code",
   "execution_count": null,
   "id": "4ff7b482-9653-4495-b03a-decd11ac90a2",
   "metadata": {},
   "outputs": [],
   "source": [
    "'''\n",
    "def my_salf(name, old = 35 , man):\n",
    "    print(f\"나의 이름은 {name}입니다.\")\n",
    "    print(f\"나의 나이는 {old}살입니다.\")\n",
    "    if man:\n",
    "        print(\"나는 남자입니다.\")\n",
    "    else:\n",
    "        print(\"나는 여자입니다.\")\n",
    "my_salf('이숭무', True)\n",
    "'''"
   ]
  },
  {
   "cell_type": "code",
   "execution_count": 47,
   "id": "d5a9e769-8c7d-4a11-8b24-958ed8c7397b",
   "metadata": {},
   "outputs": [],
   "source": [
    "def my_salf(name, old = 35 , man = True):\n",
    "    print(f\"나의 이름은 {name}입니다.\")\n",
    "    print(f\"나의 나이는 {old}살입니다.\")\n",
    "    if man:\n",
    "        print(\"나는 남자입니다.\")\n",
    "    else:\n",
    "        print(\"나는 여자입니다.\")\n",
    "# 매개변수의 초기값은 앞에서부터나 중간에부터는 초기값을 지정할 수 없다.\n",
    "# 초기값을 지정하려면 뒤에서부터 앞으로 지정을 해준다."
   ]
  },
  {
   "cell_type": "code",
   "execution_count": 50,
   "id": "af85bdb5-5c78-43d3-8fc3-6a117dc23859",
   "metadata": {},
   "outputs": [
    {
     "name": "stdout",
     "output_type": "stream",
     "text": [
      "나의 이름은 이숭무입니다.\n",
      "나의 나이는 35살입니다.\n",
      "나는 남자입니다.\n",
      "나의 이름은 이숭무입니다.\n",
      "나의 나이는 40살입니다.\n",
      "나는 남자입니다.\n",
      "나의 이름은 이숭무입니다.\n",
      "나의 나이는 35살입니다.\n",
      "나는 남자입니다.\n"
     ]
    }
   ],
   "source": [
    "my_salf('이숭무')\n",
    "my_salf('이숭무', 40)\n",
    "my_salf('이숭무', man = True)"
   ]
  },
  {
   "cell_type": "code",
   "execution_count": 52,
   "id": "4cec5ed3-62ea-4e4d-b6ac-19e4c1b13dea",
   "metadata": {},
   "outputs": [],
   "source": [
    "### lambda함수 : 함수명을 마치 변수처럼 사용하는 것\n",
    "def add(a, b):\n",
    "    return a + b"
   ]
  },
  {
   "cell_type": "code",
   "execution_count": 58,
   "id": "28003b4a-8315-4ce8-a3b6-e9dfdb2b8653",
   "metadata": {},
   "outputs": [
    {
     "name": "stdout",
     "output_type": "stream",
     "text": [
      "7\n"
     ]
    }
   ],
   "source": [
    "result  = add(3, 4)\n",
    "print(result)"
   ]
  },
  {
   "cell_type": "code",
   "execution_count": 56,
   "id": "91f80243-510e-42c5-9ba2-4cbec82da756",
   "metadata": {},
   "outputs": [],
   "source": [
    "add = lambda a, b : a + b"
   ]
  },
  {
   "cell_type": "code",
   "execution_count": 59,
   "id": "6fabcbc7-f806-477f-9017-efb2cb979c3a",
   "metadata": {},
   "outputs": [
    {
     "name": "stdout",
     "output_type": "stream",
     "text": [
      "7\n"
     ]
    }
   ],
   "source": [
    "result = add(3, 4)\n",
    "print(result)"
   ]
  },
  {
   "cell_type": "code",
   "execution_count": 60,
   "id": "18c57487-da3f-4333-b32e-07570db2d1c0",
   "metadata": {},
   "outputs": [],
   "source": [
    "def add(a, b):\n",
    "    print( a + b )"
   ]
  },
  {
   "cell_type": "code",
   "execution_count": 61,
   "id": "6c353b04-9074-4818-bb42-8aad3f873bda",
   "metadata": {},
   "outputs": [
    {
     "name": "stdout",
     "output_type": "stream",
     "text": [
      "7\n"
     ]
    }
   ],
   "source": [
    "add(3, 4)"
   ]
  },
  {
   "cell_type": "code",
   "execution_count": 62,
   "id": "c4def546-23a7-4ca7-9fc3-c2391f1f46f9",
   "metadata": {},
   "outputs": [],
   "source": [
    "add = lambda a, b : print( a + b )"
   ]
  },
  {
   "cell_type": "code",
   "execution_count": 63,
   "id": "3722e222-3cc0-4339-9098-d5716fc6740a",
   "metadata": {},
   "outputs": [
    {
     "name": "stdout",
     "output_type": "stream",
     "text": [
      "7\n"
     ]
    }
   ],
   "source": [
    "add(3, 4)"
   ]
  },
  {
   "cell_type": "code",
   "execution_count": 65,
   "id": "da93cccf-7a0d-47a5-8679-c24ac21836d4",
   "metadata": {},
   "outputs": [],
   "source": [
    "def calc(opt , a, b):\n",
    "    if opt == 'add':\n",
    "        return a + b\n",
    "    else:\n",
    "        return a - b"
   ]
  },
  {
   "cell_type": "code",
   "execution_count": null,
   "id": "f0d38382-118b-4e1b-a0a8-0d99517f73e9",
   "metadata": {},
   "outputs": [],
   "source": [
    "if opt == 'add':\n",
    "    message =  a + b\n",
    "else:\n",
    "    message = a - b\n",
    "message =  a + b if opt == 'add' else a - b"
   ]
  },
  {
   "cell_type": "code",
   "execution_count": 66,
   "id": "92db53e4-12e6-4025-8e52-c5a69fa24262",
   "metadata": {},
   "outputs": [
    {
     "name": "stdout",
     "output_type": "stream",
     "text": [
      "11\n"
     ]
    }
   ],
   "source": [
    "result = calc(\"add\" , 3, 8)\n",
    "print(result)"
   ]
  },
  {
   "cell_type": "code",
   "execution_count": 67,
   "id": "2997ba11-b8e3-4265-8179-ec752f7a8315",
   "metadata": {},
   "outputs": [],
   "source": [
    "calc = lambda  opt , a, b : a + b if opt == 'add' else a - b"
   ]
  },
  {
   "cell_type": "code",
   "execution_count": 68,
   "id": "c0ef7708-3934-4a6f-9c9e-b544aebdaa7c",
   "metadata": {},
   "outputs": [
    {
     "name": "stdout",
     "output_type": "stream",
     "text": [
      "11\n"
     ]
    }
   ],
   "source": [
    "result = calc(\"add\" , 3, 8)\n",
    "print(result)"
   ]
  },
  {
   "cell_type": "code",
   "execution_count": null,
   "id": "188c3d7a-5c6c-4757-a638-458f1ccf2744",
   "metadata": {},
   "outputs": [],
   "source": [
    "opt = 'add' ; a = 10 ; b = 20\n",
    "if opt == 'add':\n",
    "    result = a + b\n",
    "elif opt == 'sub':\n",
    "    result = a - b\n",
    "elif opt == 'mul':\n",
    "    result = a * b\n",
    "else:\n",
    "    result = a / b"
   ]
  },
  {
   "cell_type": "code",
   "execution_count": null,
   "id": "0a3edb23-4376-4c3c-a094-6729b840c29b",
   "metadata": {},
   "outputs": [],
   "source": [
    "# 파이썬타입\n",
    "result = a + b if opt == 'add' else (\n",
    "         a - b if opt == 'sub' else (\n",
    "         a * b if opt == 'mul' else\n",
    "         a / b\n",
    "         )\n",
    "    )"
   ]
  },
  {
   "cell_type": "code",
   "execution_count": 70,
   "id": "fb585100-7120-4607-8994-1f4c3619588c",
   "metadata": {},
   "outputs": [],
   "source": [
    "def calc(opt , a, b):\n",
    "    if opt == 'add':\n",
    "        return a + b\n",
    "    elif opt == 'sub':\n",
    "        return a - b\n",
    "    elif opt == 'mul':\n",
    "        return a * b\n",
    "    else:\n",
    "        return a / b"
   ]
  },
  {
   "cell_type": "code",
   "execution_count": null,
   "id": "1896543a-5982-42a2-96ae-2563c9d73aa2",
   "metadata": {},
   "outputs": [],
   "source": [
    "result = calc(\"add\", 10, 20)\n",
    "print(result)"
   ]
  },
  {
   "cell_type": "code",
   "execution_count": 73,
   "id": "0bb89965-a8c5-49cc-bc36-a5ad567aff2f",
   "metadata": {},
   "outputs": [],
   "source": [
    "calc = lambda opt , a, b : a + b if opt == 'add' else(\n",
    "                           a - b if opt == 'sub' else(\n",
    "                           a * b if opt == 'mul' else\n",
    "                           a / b ))"
   ]
  },
  {
   "cell_type": "code",
   "execution_count": 74,
   "id": "9cfabdd2-2aaa-4d03-ab70-4fe81c57d472",
   "metadata": {},
   "outputs": [
    {
     "name": "stdout",
     "output_type": "stream",
     "text": [
      "30\n"
     ]
    }
   ],
   "source": [
    "result = calc(\"add\", 10, 20)\n",
    "print(result)"
   ]
  },
  {
   "cell_type": "code",
   "execution_count": 76,
   "id": "b6be20ea-9dfc-4ed3-9cc4-ea64a27d2ffa",
   "metadata": {},
   "outputs": [],
   "source": [
    "def add(a , b = 4):\n",
    "    print(a + b)"
   ]
  },
  {
   "cell_type": "code",
   "execution_count": 77,
   "id": "6e5b6248-e21d-43eb-aeeb-98ba5ff29e07",
   "metadata": {},
   "outputs": [
    {
     "name": "stdout",
     "output_type": "stream",
     "text": [
      "9\n"
     ]
    }
   ],
   "source": [
    "add(3, 6)"
   ]
  },
  {
   "cell_type": "code",
   "execution_count": 78,
   "id": "4632a114-c792-4ec1-ba8e-bcac28664529",
   "metadata": {},
   "outputs": [],
   "source": [
    "add = lambda  a , b = 4 : print(a + b)"
   ]
  },
  {
   "cell_type": "code",
   "execution_count": 79,
   "id": "43eb209d-9773-4fb4-8134-d45b2ee818a3",
   "metadata": {},
   "outputs": [
    {
     "name": "stdout",
     "output_type": "stream",
     "text": [
      "9\n"
     ]
    }
   ],
   "source": [
    "add(3, 6)"
   ]
  },
  {
   "cell_type": "code",
   "execution_count": null,
   "id": "38a3248a-1bad-4323-a4cb-56ade32caae4",
   "metadata": {},
   "outputs": [],
   "source": [
    "# 전역변수 : 멤버변수  : 프로그램 내에 있는 변수, 프로그램내에 어디서든 사용가능한 변수\n",
    "#                       함수 안에서 사용가능\n",
    "# 지역변수 : 메서드안에 있는 변수 : 함수안에 변수"
   ]
  },
  {
   "cell_type": "code",
   "execution_count": 80,
   "id": "db274f78-ec30-4236-9eb7-ef0bda575a5b",
   "metadata": {},
   "outputs": [],
   "source": [
    "b = 1 # 전역변수\n",
    "def test3():\n",
    "    b = 100 # 지역변수\n",
    "    c = 200\n",
    "    print(\"함수안에서 실행 된 변수 b : \", b )\n",
    "    print(\"함수안에서 실행 된 변수 c : \", c )"
   ]
  },
  {
   "cell_type": "code",
   "execution_count": 82,
   "id": "30a06201-f3c7-41d9-b988-b4b4fe6f60d4",
   "metadata": {},
   "outputs": [
    {
     "name": "stdout",
     "output_type": "stream",
     "text": [
      "1\n",
      "함수안에서 실행 된 변수 b :  100\n",
      "함수안에서 실행 된 변수 c :  200\n",
      "1\n"
     ]
    }
   ],
   "source": [
    "print(b)\n",
    "test3()\n",
    "print(b)"
   ]
  },
  {
   "cell_type": "code",
   "execution_count": 84,
   "id": "8ec7dc1e-1662-41c0-adaa-b7ffd292ac5c",
   "metadata": {},
   "outputs": [],
   "source": [
    "b = 1 # 전역변수\n",
    "def test3():\n",
    "    global b\n",
    "    b = 100 # 전역변수\n",
    "    c = 200\n",
    "    print(\"함수안에서 실행 된 변수 b : \", b )\n",
    "    print(\"함수안에서 실행 된 변수 c : \", c )"
   ]
  },
  {
   "cell_type": "code",
   "execution_count": 85,
   "id": "56f04320-bdd5-471b-b158-f8e2366ebd88",
   "metadata": {},
   "outputs": [
    {
     "name": "stdout",
     "output_type": "stream",
     "text": [
      "1\n",
      "함수안에서 실행 된 변수 b :  100\n",
      "함수안에서 실행 된 변수 c :  200\n",
      "100\n"
     ]
    }
   ],
   "source": [
    "print(b)\n",
    "test3()\n",
    "print(b)"
   ]
  },
  {
   "cell_type": "code",
   "execution_count": null,
   "id": "aaa95fc1-1986-4190-8cc2-b3d9db457e30",
   "metadata": {},
   "outputs": [],
   "source": [
    "##파일 입출력 : open()\n",
    "#open(file, mode='r', buffering=None, encoding=None, errors=None, newline=None, closefd=True):\n",
    "f = open(encoding=\"utf-8\", file=\"test.txt\", mode=\"w\")"
   ]
  },
  {
   "cell_type": "code",
   "execution_count": 90,
   "id": "584f6a97-5549-4ec1-9619-e9f9d778afa0",
   "metadata": {},
   "outputs": [],
   "source": [
    "# f = open(\"C:/Users/sdedu/Desktop/python/test.txt\" , \"w\", encoding=\"utf-8\")\n",
    "# f = open(\"C:\\\\Users\\\\sdedu\\\\Desktop\\\\python\\\\test.txt\" , \"w\", encoding=\"utf-8\")\n",
    "f = open(\"test.txt\" , \"w\", encoding=\"utf-8\") # w: overrite"
   ]
  },
  {
   "cell_type": "code",
   "execution_count": 91,
   "id": "6d28b1c5-0d8f-4355-84ec-8f1502fe41a9",
   "metadata": {},
   "outputs": [],
   "source": [
    "f.write(\"1번째 줄입니다.\\n\")\n",
    "f.write(\"2번째 줄입니다.\\n\")\n",
    "f.write(\"3번째 줄입니다.\\n\")\n",
    "f.write(\"4번째 줄입니다.\\n\")\n",
    "f.write(\"5번째 줄입니다.\\n\")\n",
    "f.close()"
   ]
  },
  {
   "cell_type": "code",
   "execution_count": 92,
   "id": "bb6fcd2a-6624-454b-b570-a889ea68d623",
   "metadata": {},
   "outputs": [],
   "source": [
    "f = open(\"test.txt\" , \"a\", encoding=\"utf-8\")"
   ]
  },
  {
   "cell_type": "code",
   "execution_count": 93,
   "id": "db157e71-448a-4628-a842-7ae3b0e01e36",
   "metadata": {},
   "outputs": [],
   "source": [
    "for i in range(6 , 11):\n",
    "    f.write(f\"{i}번째 줄입니다.\\n\")\n",
    "f.close()"
   ]
  },
  {
   "cell_type": "code",
   "execution_count": 94,
   "id": "6bbd657e-d1cf-417c-8f85-f657dd690cb5",
   "metadata": {},
   "outputs": [],
   "source": [
    "f = open(\"test.txt\", encoding=\"utf-8\" )"
   ]
  },
  {
   "cell_type": "code",
   "execution_count": 102,
   "id": "abb72733-6331-488c-9d12-16360e457e20",
   "metadata": {},
   "outputs": [
    {
     "name": "stdout",
     "output_type": "stream",
     "text": [
      "8번째 줄입니다.\n",
      "\n",
      "9번째 줄입니다.\n",
      "\n",
      "10번째 줄입니다.\n",
      "\n",
      "\n"
     ]
    }
   ],
   "source": [
    "line = f.readline()\n",
    "print(line)\n",
    "line = f.readline()\n",
    "print(line)\n",
    "line = f.readline()\n",
    "print(line)\n",
    "line = f.readline()\n",
    "print(line)\n",
    "f.close()"
   ]
  },
  {
   "cell_type": "code",
   "execution_count": 105,
   "id": "acac7bcd-3c53-4417-89d3-ed7d3954ee5f",
   "metadata": {},
   "outputs": [
    {
     "name": "stdout",
     "output_type": "stream",
     "text": [
      "1번째 줄입니다.\n",
      "\n",
      "2번째 줄입니다.\n",
      "\n",
      "3번째 줄입니다.\n",
      "\n",
      "4번째 줄입니다.\n",
      "\n",
      "5번째 줄입니다.\n",
      "\n",
      "6번째 줄입니다.\n",
      "\n",
      "7번째 줄입니다.\n",
      "\n",
      "8번째 줄입니다.\n",
      "\n",
      "9번째 줄입니다.\n",
      "\n",
      "10번째 줄입니다.\n",
      "\n"
     ]
    }
   ],
   "source": [
    "f = open(\"test.txt\", encoding=\"utf-8\" )\n",
    "while True:\n",
    "    line = f.readline()\n",
    "    if  not line: # line == \"\" : # line.equals(\"\"): # not \"\" : not False : True \n",
    "        break\n",
    "    print(line)\n",
    "f.close()"
   ]
  },
  {
   "cell_type": "code",
   "execution_count": null,
   "id": "59c41f87-ab8a-48b0-80a8-f1fe36f73c7c",
   "metadata": {},
   "outputs": [],
   "source": [
    "f = open(\"test.txt\",\"r\", encoding=\"utf-8\" )\n",
    "lines = f.readlines()\n",
    "print(lines)\n",
    "print(\"\".join(lines))\n",
    "f.close()"
   ]
  },
  {
   "cell_type": "code",
   "execution_count": null,
   "id": "dbb42238-ba27-4a65-9290-29c01f52367f",
   "metadata": {},
   "outputs": [],
   "source": [
    "f = open(\"test.txt\", encoding=\"utf-8\", mode=\"r\" )\n",
    "data = f.read()\n",
    "f.close()\n",
    "print(data)"
   ]
  },
  {
   "cell_type": "code",
   "execution_count": 109,
   "id": "61fc17cb-aa5c-4c8e-a98d-dea1372b6dae",
   "metadata": {},
   "outputs": [],
   "source": [
    "with  open(mode = \"w\" , file=\"test.txt\", encoding=\"utf-8\" ) as f:\n",
    "    for i in range(11, 16):\n",
    "        f.write(f\"{i}번째 줄입니다.\\n\")"
   ]
  },
  {
   "cell_type": "code",
   "execution_count": null,
   "id": "8cce2071-8b13-4955-b32c-b4a21019efcf",
   "metadata": {},
   "outputs": [],
   "source": [
    "with  open(file=\"test.txt\", encoding=\"utf-8\" ) as f:\n",
    "    lines = f.readlines()\n",
    "print(\"\".join(lines))"
   ]
  },
  {
   "cell_type": "code",
   "execution_count": 113,
   "id": "40261a09-ee08-4cbf-89cc-5bc14c6a6071",
   "metadata": {},
   "outputs": [],
   "source": [
    "with  open(mode = \"a\" , file=\"test.txt\", encoding=\"utf-8\" ) as f:\n",
    "    for i in range(16, 21):\n",
    "        f.write(f\"{i}번째 줄입니다.\\n\")"
   ]
  },
  {
   "cell_type": "code",
   "execution_count": null,
   "id": "d8e8be88-50d1-4aec-ad63-4da94d8b4cde",
   "metadata": {},
   "outputs": [],
   "source": [
    "with  open(file=\"test.txt\",  mode=\"r\", encoding=\"utf-8\" ) as f:\n",
    "    data = f.read()\n",
    "print(data)"
   ]
  },
  {
   "cell_type": "code",
   "execution_count": 115,
   "id": "97cfd0ea-6159-45e2-8104-06595c118179",
   "metadata": {},
   "outputs": [],
   "source": [
    "# class : 변수 , 그 변수를 사용한 함수를 하나로 묶은 것\n",
    "b = 1\n",
    "def test3():\n",
    "    global b\n",
    "    b = 100\n",
    "    c = 200\n",
    "    print(\"함수 내에서 실행되는 b변수 : \" , b)\n",
    "    print(\"함수 내에서 실행되는 c변수 : \" , c)"
   ]
  },
  {
   "cell_type": "code",
   "execution_count": null,
   "id": "840b2d2e-f3c5-4c36-863d-ba26d0980c00",
   "metadata": {},
   "outputs": [],
   "source": [
    "print(b)\n",
    "test3()\n",
    "print(b)"
   ]
  },
  {
   "cell_type": "code",
   "execution_count": 118,
   "id": "88749f9f-20a7-4ebf-80cb-2b7d38d8b0f1",
   "metadata": {},
   "outputs": [],
   "source": [
    "class TestClass:\n",
    "    b = 1\n",
    "    def test3(self): # 메서드\n",
    "        self.b = 100\n",
    "        c = 200\n",
    "        print(\"함수 내에서 실행되는 b변수 : \" , b)\n",
    "        print(\"함수 내에서 실행되는 c변수 : \" , c)"
   ]
  },
  {
   "cell_type": "code",
   "execution_count": 121,
   "id": "f81a4998-547e-408a-9aea-84deb16a92bd",
   "metadata": {},
   "outputs": [
    {
     "name": "stdout",
     "output_type": "stream",
     "text": [
      "1\n",
      "함수 내에서 실행되는 b변수 :  100\n",
      "함수 내에서 실행되는 c변수 :  200\n",
      "100\n"
     ]
    }
   ],
   "source": [
    "a = TestClass()\n",
    "print(a.b)\n",
    "a.test3()\n",
    "print(a.b)"
   ]
  },
  {
   "cell_type": "code",
   "execution_count": 124,
   "id": "46b8034d-6116-4bbb-b1aa-3fd6e8b80885",
   "metadata": {},
   "outputs": [],
   "source": [
    "class Calculator:\n",
    "    result = 0\n",
    "    first = 0\n",
    "    second = 0\n",
    "    def setData(self, first, second):\n",
    "        self.first = first\n",
    "        self.second = second\n",
    "    def add(self):\n",
    "        self.result = self.first + self.second\n",
    "        return self.result\n",
    "    def div(self):\n",
    "        self.result = self.first / self.second\n",
    "        return self.result"
   ]
  },
  {
   "cell_type": "code",
   "execution_count": 125,
   "id": "61c84194-b73a-44e0-8e07-ccb04201d269",
   "metadata": {},
   "outputs": [
    {
     "name": "stdout",
     "output_type": "stream",
     "text": [
      "0\n",
      "10\n"
     ]
    }
   ],
   "source": [
    "calc = Calculator()\n",
    "print(calc.first)\n",
    "calc.setData(10, 20)\n",
    "print(calc.first)"
   ]
  },
  {
   "cell_type": "code",
   "execution_count": 126,
   "id": "ef77201f-c0fc-4806-a462-a76fa37c8f4f",
   "metadata": {},
   "outputs": [],
   "source": [
    "class Calculator:\n",
    "    def setData(self, first, second):\n",
    "        self.first = first\n",
    "        self.second = second\n",
    "    def add(self):\n",
    "        self.result = self.first + self.second\n",
    "        return self.result\n",
    "    def div(self):\n",
    "        self.result = self.first / self.second\n",
    "        return self.result"
   ]
  },
  {
   "cell_type": "code",
   "execution_count": 129,
   "id": "6ae6cca7-afee-458a-bc02-dec40fca484d",
   "metadata": {},
   "outputs": [
    {
     "name": "stdout",
     "output_type": "stream",
     "text": [
      "10\n",
      "30\n"
     ]
    }
   ],
   "source": [
    "calc = Calculator()\n",
    "#print(calc.first)\n",
    "calc.setData(10,20)\n",
    "print(calc.first)\n",
    "y = calc.add()\n",
    "print(y)"
   ]
  },
  {
   "cell_type": "code",
   "execution_count": 136,
   "id": "0ee70e1a-7fc4-48a5-8267-81fdfc7d09ec",
   "metadata": {},
   "outputs": [],
   "source": [
    "class Calculator:\n",
    "    def __init__(self, first, second):\n",
    "        self.first = first\n",
    "        self.second = second\n",
    "    def add(self):\n",
    "        self.result = self.first + self.second\n",
    "        return self.result\n",
    "    def div(self):\n",
    "        self.result = self.first / self.second\n",
    "        return self.result"
   ]
  },
  {
   "cell_type": "code",
   "execution_count": 137,
   "id": "944fe49e-ea51-4cfd-8fec-2b025721ef60",
   "metadata": {},
   "outputs": [
    {
     "name": "stdout",
     "output_type": "stream",
     "text": [
      "10\n",
      "30\n"
     ]
    }
   ],
   "source": [
    "calc = Calculator(10, 20)\n",
    "print(calc.first)\n",
    "y = calc.add()\n",
    "print(y)"
   ]
  },
  {
   "cell_type": "code",
   "execution_count": 140,
   "id": "ab519ef9-2ca2-40e6-8450-789a4a9c3f6d",
   "metadata": {},
   "outputs": [
    {
     "name": "stdout",
     "output_type": "stream",
     "text": [
      "0\n",
      "10\n",
      "0.0\n"
     ]
    }
   ],
   "source": [
    "calc1 = Calculator(0 , 10) # 0 / 10 : 부정\n",
    "print(calc1.first)\n",
    "print(calc1.second)\n",
    "y = calc1.div()\n",
    "print(y)"
   ]
  },
  {
   "cell_type": "code",
   "execution_count": 144,
   "id": "67ceb74f-4112-4834-85d9-3d4683f8f726",
   "metadata": {},
   "outputs": [
    {
     "name": "stdout",
     "output_type": "stream",
     "text": [
      "10\n",
      "0\n"
     ]
    }
   ],
   "source": [
    "calc2 = Calculator(10, 0)\n",
    "print(calc2.first) # 10\n",
    "print(calc2.second) # 0\n",
    "#y = calc2.div() # 10 / 0 : 불능"
   ]
  },
  {
   "cell_type": "code",
   "execution_count": 145,
   "id": "d5874fbf-ab00-4615-ab62-c2170523c6f3",
   "metadata": {},
   "outputs": [],
   "source": [
    "class FourCal(Calculator):\n",
    "    \n",
    "    '''\n",
    "    def __init__(self, first, second):\n",
    "        self.first = first\n",
    "        self.second = second\n",
    "    def add(self):\n",
    "        self.result = self.first + self.second\n",
    "        return self.result\n",
    "    def div(self):\n",
    "        self.result = self.first / self.second\n",
    "        return self.result\n",
    "    '''\n",
    "    def sub(self):\n",
    "        self.result = self.first - self.second\n",
    "        return self.result\n",
    "    def mul(self):\n",
    "        self.result = self.first * self.second\n",
    "        return self.result"
   ]
  },
  {
   "cell_type": "code",
   "execution_count": 149,
   "id": "ee968e3a-f364-4fab-a865-1f2ed37f3af1",
   "metadata": {},
   "outputs": [
    {
     "name": "stdout",
     "output_type": "stream",
     "text": [
      "30\n",
      "-10\n",
      "0.5\n"
     ]
    }
   ],
   "source": [
    "fCal = FourCal(10, 20)\n",
    "y = fCal.add()\n",
    "print(y)\n",
    "y = fCal.sub()\n",
    "print(y)\n",
    "y = fCal.div()\n",
    "print(y)"
   ]
  },
  {
   "cell_type": "code",
   "execution_count": 154,
   "id": "38f7ca78-e720-4230-b888-f14a09d3a6be",
   "metadata": {},
   "outputs": [
    {
     "name": "stdout",
     "output_type": "stream",
     "text": [
      "10\n",
      "10\n"
     ]
    }
   ],
   "source": [
    "fCal1 = FourCal(10, 0)\n",
    "y = fCal1.add()\n",
    "print(y)\n",
    "y = fCal1.sub()\n",
    "print(y)\n",
    "# y = fCal1.div()"
   ]
  },
  {
   "cell_type": "code",
   "execution_count": 155,
   "id": "512ed488-9a67-46aa-a2b4-c22e9b2b4817",
   "metadata": {},
   "outputs": [],
   "source": [
    "class FourCal(Calculator):\n",
    "    def sub(self):\n",
    "        self.result = self.first - self.second\n",
    "        return self.result\n",
    "    def mul(self):\n",
    "        self.result = self.first * self.second\n",
    "        return self.result\n",
    "    def div(self): # 오버라이드 override :재정의\n",
    "        if self.second == 0:\n",
    "            self.result = 0\n",
    "        else:\n",
    "            self.result = self.first / self.second\n",
    "        return self.result"
   ]
  },
  {
   "cell_type": "code",
   "execution_count": 156,
   "id": "290205fe-564b-4080-a9fc-49a4af84b545",
   "metadata": {},
   "outputs": [
    {
     "name": "stdout",
     "output_type": "stream",
     "text": [
      "0\n"
     ]
    }
   ],
   "source": [
    "fCalc2 = FourCal(10 , 0)\n",
    "y = fCalc2.div()\n",
    "print(y)"
   ]
  },
  {
   "cell_type": "code",
   "execution_count": 172,
   "id": "5237c896-c811-4740-b0f9-6d1f88c9e805",
   "metadata": {},
   "outputs": [],
   "source": [
    "def test4(n = 2, * values):\n",
    "    for i in range(n):\n",
    "        for value in values:\n",
    "            print(value)\n",
    "        print()"
   ]
  },
  {
   "cell_type": "code",
   "execution_count": null,
   "id": "017f92b4-8e4f-4e7d-bacc-cf415c0eb2c3",
   "metadata": {},
   "outputs": [],
   "source": [
    "test4(9, \"이숭무\", \"파이썬\")"
   ]
  },
  {
   "cell_type": "code",
   "execution_count": null,
   "id": "ae0d6ef1-33e3-43cf-8610-bec6caba56ad",
   "metadata": {},
   "outputs": [],
   "source": [
    "test4(\"안녕\", \"이숭무\", \"파이썬\")"
   ]
  },
  {
   "cell_type": "code",
   "execution_count": null,
   "id": "151b1924-267a-4445-8914-4179957464a1",
   "metadata": {},
   "outputs": [],
   "source": [
    "'''\n",
    "def test4(n = 2, values):\n",
    "    for i in range(n):\n",
    "        for value in values:\n",
    "            print(value)\n",
    "        print()\n",
    "'''"
   ]
  },
  {
   "cell_type": "code",
   "execution_count": 184,
   "id": "fb316cd1-7c10-4b15-842a-79d7dc326b54",
   "metadata": {},
   "outputs": [],
   "source": [
    "def test4( * values, n = 2):\n",
    "    for i in range(n):\n",
    "        for value in values:\n",
    "            print(value)\n",
    "        print()"
   ]
  },
  {
   "cell_type": "code",
   "execution_count": null,
   "id": "473f6876-fa61-49cd-806b-7d1818a4ee6f",
   "metadata": {},
   "outputs": [],
   "source": [
    "test4(\"안녕\", \"이숭무\", \"파이썬\", 3)"
   ]
  },
  {
   "cell_type": "code",
   "execution_count": null,
   "id": "e39a2445-dfc3-4210-a28c-a3db6d63858a",
   "metadata": {},
   "outputs": [],
   "source": [
    "test4(\"안녕\", \"이숭무\", \"파이썬\", n = 3)"
   ]
  },
  {
   "cell_type": "code",
   "execution_count": 188,
   "id": "e0fe9bd7-5d44-48e1-8256-4f8d01138ede",
   "metadata": {},
   "outputs": [],
   "source": [
    "# test4(n = 3, \"안녕\", \"이숭무\", \"파이썬\" )"
   ]
  },
  {
   "cell_type": "code",
   "execution_count": 189,
   "id": "230c6002-c8d7-42f7-bda1-77517541321b",
   "metadata": {},
   "outputs": [],
   "source": [
    "def test5(x1 , x2):\n",
    "    i = x1 + x2\n",
    "    j = x1 * x2\n",
    "    return i, j"
   ]
  },
  {
   "cell_type": "code",
   "execution_count": 192,
   "id": "f49124d8-33ba-4941-8ac4-6ddf2d998751",
   "metadata": {},
   "outputs": [
    {
     "name": "stdout",
     "output_type": "stream",
     "text": [
      "(9, 20)\n",
      "30 200\n"
     ]
    }
   ],
   "source": [
    "y = test5(4, 5)\n",
    "print(y)\n",
    "a, b = test5(10, 20)\n",
    "print(a, b)"
   ]
  },
  {
   "cell_type": "code",
   "execution_count": 202,
   "id": "9dffdbe5-3f92-42ae-a1e7-9ddc00f91915",
   "metadata": {},
   "outputs": [],
   "source": [
    "def test5(x1 , x2):\n",
    "    i = x1 + x2\n",
    "    j = x1 * x2\n",
    "    return i # return 함수 종료의 의미\n",
    "    return j"
   ]
  },
  {
   "cell_type": "code",
   "execution_count": 203,
   "id": "15e20790-c21d-45dc-87cf-4459d569c09a",
   "metadata": {},
   "outputs": [
    {
     "name": "stdout",
     "output_type": "stream",
     "text": [
      "10\n"
     ]
    }
   ],
   "source": [
    "y = test5(4, 6)\n",
    "print(y)"
   ]
  },
  {
   "cell_type": "code",
   "execution_count": 213,
   "id": "3b18e512-f99f-45a8-9a41-89f980a1c869",
   "metadata": {},
   "outputs": [],
   "source": [
    "def test6():\n",
    "    print(\"A\")\n",
    "    return # 함수종료의 의미가 있다.\n",
    "    print(\"B\") # 실행되지 않는다."
   ]
  },
  {
   "cell_type": "code",
   "execution_count": 214,
   "id": "9ee3c3a0-9692-4615-99e0-0d0604d42264",
   "metadata": {},
   "outputs": [
    {
     "name": "stdout",
     "output_type": "stream",
     "text": [
      "A\n"
     ]
    }
   ],
   "source": [
    "test6()"
   ]
  },
  {
   "cell_type": "code",
   "execution_count": 216,
   "id": "b7c4df2d-7210-431a-ae92-859e6082fd9f",
   "metadata": {},
   "outputs": [],
   "source": [
    "def sum_all(start = 0 , end= 100 , step = 1):\n",
    "    sum1 = 0     #  1       101       1\n",
    "    for i in range(start, end + 1 , step):\n",
    "        sum1 += i\n",
    "    return sum1"
   ]
  },
  {
   "cell_type": "code",
   "execution_count": 221,
   "id": "412cc087-4e8e-4159-9775-e8f2e09973ac",
   "metadata": {},
   "outputs": [
    {
     "name": "stdout",
     "output_type": "stream",
     "text": [
      "5050\n",
      "166108\n",
      "2496\n",
      "1705\n"
     ]
    }
   ],
   "source": [
    "result = sum_all()\n",
    "print(result)\n",
    "result = sum_all(50, 1000, 3)\n",
    "print(result)\n",
    "result = sum_all(step = 2, end= 100, start = 5)\n",
    "print(result)\n",
    "result = sum_all(10, step = 3)\n",
    "print(result)"
   ]
  },
  {
   "cell_type": "code",
   "execution_count": 223,
   "id": "720e9b46-fb72-4568-9f6b-58e54837eb35",
   "metadata": {},
   "outputs": [],
   "source": [
    "def call_10_tims(func): # 함수를 전달 받는 매개변수\n",
    "    for i in range(10):\n",
    "        func()\n",
    "\n",
    "def print_hello():\n",
    "    print(\"안녕하세요.\")"
   ]
  },
  {
   "cell_type": "code",
   "execution_count": null,
   "id": "a39afb2d-866a-40d9-9296-ed980f9f55a0",
   "metadata": {},
   "outputs": [],
   "source": [
    "call_10_tims(print_hello)"
   ]
  },
  {
   "cell_type": "code",
   "execution_count": 225,
   "id": "10d9869f-a961-4813-9bfe-cb03d38374c8",
   "metadata": {},
   "outputs": [],
   "source": [
    "def power(item):\n",
    "    return item * item\n",
    "def under_3(item):\n",
    "    return item < 3\n",
    "l = [1,2,3,4,5]\n"
   ]
  },
  {
   "cell_type": "code",
   "execution_count": 229,
   "id": "503737be-34fe-4077-887f-e7df62e57e05",
   "metadata": {},
   "outputs": [
    {
     "name": "stdout",
     "output_type": "stream",
     "text": [
      "[1, 4, 9, 16, 25]\n",
      "[1, 2]\n"
     ]
    }
   ],
   "source": [
    "result = map(power, l)\n",
    "print(list(result))\n",
    "'''\n",
    "result = power(l)\n",
    "print(result)\n",
    "result = under_3(l) # l < 3\n",
    "'''\n",
    "result = filter(under_3, l)\n",
    "print(list(result))"
   ]
  },
  {
   "cell_type": "code",
   "execution_count": 230,
   "id": "ec125020-ea3b-4711-b0b9-5fa8b9fdfc83",
   "metadata": {},
   "outputs": [
    {
     "name": "stdout",
     "output_type": "stream",
     "text": [
      "[1, 4, 9, 16, 25]\n",
      "[1, 2]\n"
     ]
    }
   ],
   "source": [
    "power = lambda item : item * item\n",
    "under_3 = lambda item : item < 3\n",
    "result = map(power, l)\n",
    "print(list(result))\n",
    "result = filter(under_3, l)\n",
    "print(list(result))"
   ]
  },
  {
   "cell_type": "code",
   "execution_count": 231,
   "id": "403a0555-df79-4567-a662-4e4c00e114ad",
   "metadata": {},
   "outputs": [
    {
     "name": "stdout",
     "output_type": "stream",
     "text": [
      "[1, 4, 9, 16, 25]\n",
      "[1, 2]\n"
     ]
    }
   ],
   "source": [
    "result = map(lambda item : item * item , l)\n",
    "print(list(result))\n",
    "result = filter(lambda item : item < 3 , l)\n",
    "print(list(result))"
   ]
  },
  {
   "cell_type": "code",
   "execution_count": 236,
   "id": "5ea9b88d-9457-4b87-aab7-46e4c33c6027",
   "metadata": {},
   "outputs": [
    {
     "name": "stdout",
     "output_type": "stream",
     "text": [
      "['가', '나', '다', '라', '마', '바', '사', '아', '차', '카', '타', '파', '하']\n"
     ]
    }
   ],
   "source": [
    "import random\n",
    "hanguls  = list(\"가나다라마바사아차카타파하\")\n",
    "print(hanguls)\n",
    "with open(\"info.tsv\", \"w\") as file:\n",
    "    for i in range(1000):\n",
    "        name = random.choice(hanguls) + random.choice(hanguls)\n",
    "        weight = random.randrange(40, 100)\n",
    "        height = random.randrange(140, 200)\n",
    "        file.write(f\"{name}\\t{weight}\\t{height}\\n\")"
   ]
  },
  {
   "cell_type": "code",
   "execution_count": null,
   "id": "08636bd4-54c1-4950-b744-269bd1c9e427",
   "metadata": {},
   "outputs": [],
   "source": [
    "with open(\"info.csv\", \"r\") as file:\n",
    "    for line in file:\n",
    "        name, weight, height = line.strip().split(\",\")\n",
    "        if not name or not weight or not height:\n",
    "            continue\n",
    "        print(name, weight, height)\n",
    "        bmi = int(weight) / int(height) * int(height)\n",
    "        print(bmi)"
   ]
  },
  {
   "cell_type": "code",
   "execution_count": 302,
   "id": "3c6318f4-dd2c-490f-8ecb-4f67ca3066cc",
   "metadata": {},
   "outputs": [
    {
     "name": "stdout",
     "output_type": "stream",
     "text": [
      "9\n"
     ]
    }
   ],
   "source": [
    "import random\n",
    "num = random.randint(0, 10)\n",
    "print(num)"
   ]
  },
  {
   "cell_type": "code",
   "execution_count": 308,
   "id": "e4675385-23b8-4647-ad38-71eac0bbc897",
   "metadata": {},
   "outputs": [
    {
     "name": "stdout",
     "output_type": "stream",
     "text": [
      "30\n",
      "30\n",
      "10\n",
      "10\n"
     ]
    }
   ],
   "source": [
    "import mod\n",
    "num = mod.randint(10, 20)\n",
    "print(num)\n",
    "calc = mod.FourCal(10, 20)\n",
    "result = calc.add()\n",
    "print(result)\n",
    "calc1 = mod.fCalc2 \n",
    "result = calc1.add()\n",
    "print(result)\n",
    "result = mod.fCalc2.add()\n",
    "print(result)"
   ]
  },
  {
   "cell_type": "code",
   "execution_count": 309,
   "id": "25657302-c57d-4fbe-81c7-b1991d1df017",
   "metadata": {},
   "outputs": [
    {
     "name": "stdout",
     "output_type": "stream",
     "text": [
      "10\n"
     ]
    }
   ],
   "source": [
    "import mod as m\n",
    "print(m.i)"
   ]
  },
  {
   "cell_type": "code",
   "execution_count": 310,
   "id": "93ad17be-3335-461e-b6d2-ec393fbc4af5",
   "metadata": {},
   "outputs": [
    {
     "name": "stdout",
     "output_type": "stream",
     "text": [
      "30\n"
     ]
    }
   ],
   "source": [
    "from mod import *\n",
    "num = randint(10, 20)\n",
    "print(num)"
   ]
  },
  {
   "cell_type": "code",
   "execution_count": 312,
   "id": "daf08021-ef18-43fc-91b7-5d434882f0e8",
   "metadata": {},
   "outputs": [
    {
     "name": "stdout",
     "output_type": "stream",
     "text": [
      "30\n"
     ]
    }
   ],
   "source": [
    "from mod import randint, i, PI\n",
    "num = randint(10, 20)\n",
    "print(num)"
   ]
  },
  {
   "cell_type": "code",
   "execution_count": 314,
   "id": "5782a86d-5a83-40fa-aa1e-48ced13a70a8",
   "metadata": {},
   "outputs": [
    {
     "name": "stdout",
     "output_type": "stream",
     "text": [
      "a 모듈의 변수\n",
      "b 모듈의 변수\n"
     ]
    }
   ],
   "source": [
    "import test_package.module_a \n",
    "import test_package.module_b \n",
    "print(test_package.module_a.valiable_a ) \n",
    "print(test_package.module_b.valiable_b ) "
   ]
  },
  {
   "cell_type": "code",
   "execution_count": 316,
   "id": "6706ed1e-3063-41c4-b77d-88b3043f2b09",
   "metadata": {},
   "outputs": [
    {
     "name": "stdout",
     "output_type": "stream",
     "text": [
      "a 모듈의 변수\n",
      "b 모듈의 변수\n"
     ]
    }
   ],
   "source": [
    "from test_package import *\n",
    "print(module_a.valiable_a)\n",
    "print(module_b.valiable_b)"
   ]
  },
  {
   "cell_type": "code",
   "execution_count": 317,
   "id": "f6ae85c0-4be0-4828-b68c-851c89c7a22f",
   "metadata": {},
   "outputs": [
    {
     "name": "stdout",
     "output_type": "stream",
     "text": [
      "a 모듈의 변수\n",
      "b 모듈의 변수\n"
     ]
    }
   ],
   "source": [
    "from test_package.module_a import *\n",
    "from test_package.module_b import *\n",
    "print(valiable_a)\n",
    "print(valiable_b)"
   ]
  },
  {
   "cell_type": "code",
   "execution_count": 318,
   "id": "325c43e1-acc6-4c02-9d4e-dd31aae92c63",
   "metadata": {},
   "outputs": [
    {
     "name": "stdout",
     "output_type": "stream",
     "text": [
      "a 모듈의 변수\n",
      "b 모듈의 변수\n"
     ]
    }
   ],
   "source": [
    "import test_package.module_a as a\n",
    "import test_package.module_b as b\n",
    "print(a.valiable_a)\n",
    "print(b.valiable_b)"
   ]
  },
  {
   "cell_type": "code",
   "execution_count": 320,
   "id": "2ee577aa-57b7-4b00-bbd0-eda9fcd52553",
   "metadata": {},
   "outputs": [],
   "source": [
    "import urllib.request\n",
    "url = \"http://uta.pw/shodou/img/28/214.png\"\n",
    "memory = urllib.request.urlopen(url).read()\n",
    "with open(\"test1.png\", \"wb\") as f:\n",
    "    f.write(memory)"
   ]
  }
 ],
 "metadata": {
  "kernelspec": {
   "display_name": "Python 3 (ipykernel)",
   "language": "python",
   "name": "python3"
  },
  "language_info": {
   "codemirror_mode": {
    "name": "ipython",
    "version": 3
   },
   "file_extension": ".py",
   "mimetype": "text/x-python",
   "name": "python",
   "nbconvert_exporter": "python",
   "pygments_lexer": "ipython3",
   "version": "3.11.4"
  }
 },
 "nbformat": 4,
 "nbformat_minor": 5
}

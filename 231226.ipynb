{
 "cells": [
  {
   "cell_type": "code",
   "execution_count": 192,
   "id": "2b094da1-fd64-46a7-b0f0-52fc86d8b6e8",
   "metadata": {},
   "outputs": [
    {
     "name": "stdout",
     "output_type": "stream",
     "text": [
      "Requirement already satisfied: numpy in c:\\python311\\lib\\site-packages (1.26.2)\n"
     ]
    },
    {
     "name": "stderr",
     "output_type": "stream",
     "text": [
      "\n",
      "[notice] A new release of pip is available: 23.1.2 -> 23.3.2\n",
      "[notice] To update, run: python.exe -m pip install --upgrade pip\n"
     ]
    }
   ],
   "source": [
    "!pip install numpy"
   ]
  },
  {
   "cell_type": "code",
   "execution_count": 3,
   "id": "5aaa51b3-cb37-4f48-8a7e-eaa63c71d533",
   "metadata": {},
   "outputs": [
    {
     "name": "stdout",
     "output_type": "stream",
     "text": [
      "Requirement already satisfied: package_name in c:\\users\\chanwoo kang\\appdata\\roaming\\python\\python311\\site-packages (0.1)\n"
     ]
    },
    {
     "name": "stderr",
     "output_type": "stream",
     "text": [
      "\n",
      "[notice] A new release of pip is available: 23.1.2 -> 23.3.2\n",
      "[notice] To update, run: python.exe -m pip install --upgrade pip\n"
     ]
    }
   ],
   "source": [
    "!pip install package_name --user"
   ]
  },
  {
   "cell_type": "code",
   "execution_count": 2,
   "id": "19d0c9c3-2a25-46d6-8ee4-7c06a4cb50b6",
   "metadata": {},
   "outputs": [
    {
     "name": "stdout",
     "output_type": "stream",
     "text": [
      "Requirement already satisfied: pip in c:\\python311\\lib\\site-packages (23.1.2)\n",
      "Collecting pip\n",
      "  Using cached pip-23.3.2-py3-none-any.whl (2.1 MB)\n",
      "Installing collected packages: pip\n",
      "  Attempting uninstall: pip\n",
      "    Found existing installation: pip 23.1.2\n",
      "    Uninstalling pip-23.1.2:\n"
     ]
    },
    {
     "name": "stderr",
     "output_type": "stream",
     "text": [
      "ERROR: Could not install packages due to an OSError: [WinError 5] 액세스가 거부되었습니다: 'c:\\\\python311\\\\lib\\\\site-packages\\\\pip-23.1.2.dist-info\\\\AUTHORS.txt'\n",
      "Consider using the `--user` option or check the permissions.\n",
      "\n",
      "\n",
      "[notice] A new release of pip is available: 23.1.2 -> 23.3.2\n",
      "[notice] To update, run: python.exe -m pip install --upgrade pip\n"
     ]
    }
   ],
   "source": [
    "!python.exe -m pip install --upgrade pip"
   ]
  },
  {
   "cell_type": "code",
   "execution_count": 8,
   "id": "56b1c489-3d90-441e-b04f-119e9bb85f34",
   "metadata": {},
   "outputs": [
    {
     "name": "stdout",
     "output_type": "stream",
     "text": [
      "3\n"
     ]
    }
   ],
   "source": [
    "import numpy\n",
    "num =  numpy.random.randint\n",
    "print(num)"
   ]
  },
  {
   "cell_type": "code",
   "execution_count": 7,
   "id": "c7df0f7d-652c-4ade-84f5-a03fe7ded138",
   "metadata": {},
   "outputs": [
    {
     "name": "stdout",
     "output_type": "stream",
     "text": [
      "4\n"
     ]
    }
   ],
   "source": [
    "import numpy as np # np로 별칭 사용\n",
    "num = np.random.randint(10) # 별칭을 이용해서 사용해야한다/\n",
    "print(num)"
   ]
  },
  {
   "cell_type": "code",
   "execution_count": 13,
   "id": "5139e1c3-3cbf-4910-8475-adb160c65aa2",
   "metadata": {},
   "outputs": [
    {
     "name": "stdout",
     "output_type": "stream",
     "text": [
      "[0 5 9 7 7 9]\n"
     ]
    }
   ],
   "source": [
    "# 1차원 배열\n",
    "num1 = np.random.randint(10, size=6)\n",
    "# 크기가 6인 1차원 배열\n",
    "print(num1)"
   ]
  },
  {
   "cell_type": "code",
   "execution_count": 15,
   "id": "b656a8a5-0220-41c8-9350-e2dfc56f1609",
   "metadata": {},
   "outputs": [
    {
     "name": "stdout",
     "output_type": "stream",
     "text": [
      "[0, 5, 9, 7, 7, 9]\n",
      "[0 5 9 7 7 9]\n",
      "5\n",
      "5\n",
      "7\n",
      "7\n",
      "[9, 7]\n",
      "[9 7]\n"
     ]
    }
   ],
   "source": [
    "l =[0, 5, 9, 7, 7, 9]\n",
    "print(l)#[0, 5, 9, 7, 7, 9] : 리스트\n",
    "#          0 1  2  3  4  5 : index\n",
    "print(num1)#[0 5 9 7 7 9]: 배열\n",
    "# indexing\n",
    "print(l[1])\n",
    "print(num1[1])\n",
    "print(l[4])\n",
    "print(num1[4])\n",
    "#slicing\n",
    "print(l[2:4])\n",
    "print(num1[2:4])"
   ]
  },
  {
   "cell_type": "code",
   "execution_count": 18,
   "id": "04b0d3a0-49cd-43bb-b0a8-488224029b8a",
   "metadata": {},
   "outputs": [
    {
     "name": "stdout",
     "output_type": "stream",
     "text": [
      "[[8 2 7 2 6 6]\n",
      " [8 4 0 0 0 1]]\n"
     ]
    }
   ],
   "source": [
    "# 2차원 배열\n",
    "num2 = np.random.randint(10, size=(2, 6))#2행 6열\n",
    "print(num2)"
   ]
  },
  {
   "cell_type": "code",
   "execution_count": 21,
   "id": "f27f9f3f-b52c-4f12-aef9-975927d1d85c",
   "metadata": {},
   "outputs": [
    {
     "name": "stdout",
     "output_type": "stream",
     "text": [
      "[[8, 2, 7, 2, 6, 6], [8, 4, 0, 0, 0, 1]]\n",
      "[[8 2 7 2 6 6]\n",
      " [8 4 0 0 0 1]]\n",
      "0\n",
      "0\n",
      "0\n"
     ]
    }
   ],
   "source": [
    "l2 = [[8, 2, 7, 2, 6, 6],[8, 4, 0, 0, 0, 1]]\n",
    "#             0                   1:index\n",
    "#      0  1  2  3  4  5   0  1  2  3  4  5:index\n",
    "# 리스트를 포함하고 있는 리스트와 같다.\n",
    "'''\n",
    "[[8 2 7 2 6 6] 0행\n",
    " [8 4 0 0 0 1]] 1행\n",
    " [[8  2  7  2  6  6] [8  4  0  0  0  1]]\n",
    "       0행           1행\n",
    "   0열1열2열3열4열5열  0열1열2열3열4열5열\n",
    "'''\n",
    "print(l2)\n",
    "print(num2)\n",
    "print(l2[1][2])\n",
    "print(num2[1][2])# 리스트 표현식\n",
    "print(num2[1, 2])#행, 열 : 배열 표현식"
   ]
  },
  {
   "cell_type": "code",
   "execution_count": 36,
   "id": "81f6439e-d73a-410f-92f8-eceb156d60c9",
   "metadata": {},
   "outputs": [
    {
     "name": "stdout",
     "output_type": "stream",
     "text": [
      "[0, 5, 9, 7, 7, 9]\n",
      "[0 5 9 7 7 9]\n",
      "5\n",
      "5\n",
      "5\n",
      "5\n",
      "[9, 7]\n",
      "[9 7]\n",
      "[9, 7]\n",
      "[9 7]\n",
      "[0, 5, 9]\n",
      "[0, 5, 9]\n",
      "[0 5 9]\n",
      "[7, 7, 9]\n",
      "[7, 7, 9]\n",
      "[7 7 9]\n",
      "[0, 9, 7]\n",
      "[0 9 7]\n",
      "[9, 7, 7, 9, 5, 0]\n",
      "[9 7 7 9 5 0]\n",
      "5\n",
      "[0, 10, 9, 7, 7, 9]\n",
      "5\n",
      "[ 0 10  9  7  7  9]\n"
     ]
    }
   ],
   "source": [
    "#[0, 5, 9, 7, 7, 9]\n",
    "# 0  1  2  3  4  5 : 리스트에서는 index\n",
    "# -6 5  4  3  2  1\n",
    "#[0  5  9  7  7  9]\n",
    "# 0  1  2  3  4  5 : 배열에서는 열 이라고 부른다\n",
    "# -6 5  4  3  2  1\n",
    "print(l) #리스트\n",
    "print(num1)# 1차원 배열\n",
    "print(l[1])\n",
    "print(num1[1])\n",
    "print(l[-5])\n",
    "print(num1[-5])\n",
    "print(l[2:4])\n",
    "print(num1[2:4])\n",
    "print(l[-4:-2])\n",
    "print(num1[-4:-2])\n",
    "print(l[0:3])\n",
    "print(l[:3])# 0 을 생략 할수 있다\n",
    "print(num1[:3])\n",
    "print(l[3:6])\n",
    "print(l[3:]) # 마지막 번호는 생략 할수 있다\n",
    "print(num1[3:])\n",
    "# 전체를 한 개 씩 건너뛰어라\n",
    "print(l[::2])\n",
    "print(num1[::2])\n",
    "print(l[::-1])\n",
    "print(num1[::-1])\n",
    "print(l[1])\n",
    "l[1] = 10\n",
    "print(l)\n",
    "print(num1[1])\n",
    "num1[1] = 10\n",
    "print(num1)"
   ]
  },
  {
   "cell_type": "code",
   "execution_count": 49,
   "id": "b2b80ffd-249b-46c4-a057-98cc43b12717",
   "metadata": {},
   "outputs": [
    {
     "name": "stdout",
     "output_type": "stream",
     "text": [
      "[[8, 2, 7, 2, 6, 6], [8, 4, 0, 0, 0, 1]]\n",
      "[[8 2 7 2 6 6]\n",
      " [8 4 0 0 0 1]]\n",
      "7\n",
      "7\n",
      "7\n",
      "---------------------\n",
      "7\n",
      "7\n",
      "7\n"
     ]
    }
   ],
   "source": [
    "#[[8, 2, 7, 2, 6, 6], [8, 4, 0, 0, 0, 1]]\n",
    "#        0index              1index\n",
    "#       -2index             -1index\n",
    "#  0  1  2  3  4  5    0  1  2  3  4  5 : index\n",
    "# -6  5  4  3  2  1   -6  5  4  3  2  1  : index\n",
    "#[[8  2  7  2  6  6][8  4  0  0  0  1]]\n",
    "#        0행               1행\n",
    "#       -2행              -1행\n",
    "# 0열1열2열3열4열5열  0열1열2열3열4열5열\n",
    "#-6열5열4열3열2열1열 -6열5열4열3열2열1열\n",
    "print(l2)\n",
    "print(num2)\n",
    "print(l2[0][2])\n",
    "print(num2[0][2])\n",
    "print(num2[0,2])\n",
    "#print(l2[0,2])\n",
    "print('---------------------')\n",
    "print(l2[-2][-4])\n",
    "print(num2[-2][-4])\n",
    "print(num2[-2,-4])"
   ]
  },
  {
   "cell_type": "code",
   "execution_count": 51,
   "id": "c7bdc693-1820-4d49-9f16-614d8daa49e0",
   "metadata": {},
   "outputs": [
    {
     "name": "stdout",
     "output_type": "stream",
     "text": [
      "[[0 6 3 8]\n",
      " [2 9 4 4]\n",
      " [3 1 8 0]]\n"
     ]
    }
   ],
   "source": [
    "num3 = np.random.randint(10,size=(3, 4))\n",
    "print(num3)"
   ]
  },
  {
   "cell_type": "code",
   "execution_count": 52,
   "id": "0030def1-2ab0-42b2-9fe1-b3657566ab66",
   "metadata": {},
   "outputs": [
    {
     "name": "stdout",
     "output_type": "stream",
     "text": [
      "[[0, 6, 3, 8], [2, 9, 4, 4], [3, 1, 8, 0]]\n"
     ]
    }
   ],
   "source": [
    "l3 = [[0, 6, 3, 8],\n",
    "      [2, 9, 4, 4],\n",
    "      [3, 1, 8, 0]] \n",
    "print(l3)"
   ]
  },
  {
   "cell_type": "code",
   "execution_count": 71,
   "id": "e5441ee1-9fd3-468a-80e1-c17d3f014565",
   "metadata": {},
   "outputs": [
    {
     "name": "stdout",
     "output_type": "stream",
     "text": [
      "[2, 9, 4, 4]\n",
      "[2 9 4 4]\n",
      "[[0, 6, 3, 8], [2, 9, 4, 4], [3, 1, 8, 0]]\n",
      "[[0 6 3 8]\n",
      " [2 9 4 4]\n",
      " [3 1 8 0]]\n",
      "[[0 6 3]\n",
      " [2 9 4]\n",
      " [3 1 8]]\n",
      "[[0, 6, 3, 8], [3, 1, 8, 0]]\n",
      "[[0 6 3 8]\n",
      " [3 1 8 0]]\n",
      "[[0 3]\n",
      " [2 4]\n",
      " [3 8]]\n",
      "---------------------\n",
      "[[0, 6, 3, 8]]\n",
      "[[0 6 3 8]]\n",
      "[[0 3]\n",
      " [3 8]]\n",
      "[[3, 1, 8, 0], [2, 9, 4, 4], [0, 6, 3, 8]]\n",
      "[[3 1 8 0]\n",
      " [2 9 4 4]\n",
      " [0 6 3 8]]\n",
      "[[8 3 6 0]\n",
      " [4 4 9 2]\n",
      " [0 8 1 3]]\n",
      "[[3 1 8 0]\n",
      " [2 9 4 4]\n",
      " [0 6 3 8]]\n",
      "[[0 8 1 3]\n",
      " [4 4 9 2]\n",
      " [8 3 6 0]]\n"
     ]
    }
   ],
   "source": [
    "'''\n",
    "리스트\n",
    "  0  1  2  3index\n",
    "[[0, 6, 3, 8],     #0index\n",
    " [2, 9, 4, 4],     #1index\n",
    " [3, 1, 8, 0]]     #2index\n",
    "배열\n",
    "  0 1 2 3열\n",
    "[[0 6 3 8]         #0행\n",
    " [2 9 4 4]         #1행\n",
    " [3 1 8 0]]        #2행\n",
    " '''\n",
    "print(l3[1])# 1index\n",
    "print(num3[1])# 1행\n",
    "print(l3[:][:3]) \n",
    "print(num3[:][:3])# 리스트 표현식 : 전체를 가지고 오는 것은 표현이 가능\n",
    "print(num3[:,:3]) #배열 표현식    : 일부만 가지고 오는 표현이 가능\n",
    "print(l3[:][::2])\n",
    "print(num3[:][::2])\n",
    "print(num3[:,::2]) # [행 , 열]\n",
    "print('---------------------')\n",
    "print(l3[::2][::2]) # l3[::2] 까지만 표현이 된다.\n",
    "print(num3[::2][::2]) # [::2]\n",
    "print(num3[::2,::2])\n",
    "print(l3[:][::-1]) #[[3, 1, 8, 0], [2, 9, 4, 4], [0, 6, 3, 8]]\n",
    "print(num3[:][::-1])#[[3 1 8 0][2 9 4 4][0 6 3 8]]\n",
    "print(num3[:,::-1])#[[8 3 6 0][4 4 9 2][0 8 1 3]]\n",
    "print(num3[::-1,:])#[[3 1 8 0] [2 9 4 4] [0 6 3 8]]\n",
    "print(num3[::-1,::-1])#[[0 8 1 3] [4 4 9 2] [8 3 6 0]]"
   ]
  },
  {
   "cell_type": "code",
   "execution_count": 77,
   "id": "821d0ec9-95b7-422e-bc23-eeaf08a6f20f",
   "metadata": {},
   "outputs": [
    {
     "name": "stdout",
     "output_type": "stream",
     "text": [
      "[[0, 40, 3, 8], [2, 9, 4, 4], [3, 1, 8, 0]]\n",
      "[[ 0 40  3  8]\n",
      " [ 2  9  4  4]\n",
      " [ 3  1  8  0]]\n",
      "40\n",
      "[[0, 40, 3, 8], [2, 9, 4, 4], [3, 1, 8, 0]]\n",
      "40\n",
      "[[ 0 40  3  8]\n",
      " [ 2  9  4  4]\n",
      " [ 3  1  8  0]]\n",
      "[[  0 400   3   8]\n",
      " [  2   9   4   4]\n",
      " [  3   1   8   0]]\n"
     ]
    }
   ],
   "source": [
    "print(l3)\n",
    "print(num3)\n",
    "print(l3[0][1])\n",
    "l3[0][1] = 40\n",
    "print(l3)\n",
    "print(num3[0][1])\n",
    "num3[0][1]=40 #리스트 표현식 (가능하지만 사용을 자제)\n",
    "print(num3)\n",
    "num3[0,1]=400 # 배열 표현식\n",
    "print(num3)"
   ]
  },
  {
   "cell_type": "code",
   "execution_count": 79,
   "id": "0c66f2a4-e837-461b-82d9-bdd0d6d5e7e2",
   "metadata": {},
   "outputs": [
    {
     "name": "stdout",
     "output_type": "stream",
     "text": [
      "[1 5 4 2 8 4]\n",
      "[[2 0 2 7]\n",
      " [6 5 5 8]\n",
      " [1 0 0 4]]\n",
      "[[[6 9 7 1]\n",
      "  [8 5 9 8]\n",
      "  [2 9 3 0]]\n",
      "\n",
      " [[7 4 6 8]\n",
      "  [3 6 7 3]\n",
      "  [5 4 7 1]]\n",
      "\n",
      " [[6 4 3 8]\n",
      "  [2 2 5 1]\n",
      "  [9 5 9 1]]]\n"
     ]
    }
   ],
   "source": [
    "### 배열을 만드는 방법\n",
    "# 1.random을 이용하는 방법\n",
    "num = np.random.randint(10,size =6) # 열의 집합  1차원 배열\n",
    "print(num)\n",
    "num = np.random.randint(10,size=(3, 4))#행,열 : 2차원배열\n",
    "print(num)                                # 1차원의 집합체 : 1차원을 행이라고 하고\n",
    "num = np.random.randint(10,size=(3,3, 4)) #면,행,열 : 3차원 배열\n",
    "print(num)                                # 2차원의 집합 : 2차원을 면이라고 한다."
   ]
  },
  {
   "cell_type": "code",
   "execution_count": 80,
   "id": "d423f940-f96a-4c8b-b007-74636595979a",
   "metadata": {},
   "outputs": [
    {
     "name": "stdout",
     "output_type": "stream",
     "text": [
      "0\n",
      "1\n",
      "2\n",
      "3\n",
      "4\n",
      "5\n",
      "6\n",
      "7\n",
      "8\n",
      "9\n"
     ]
    }
   ],
   "source": [
    "for num in range(10):# range함수는 파이썬\n",
    "    print(num)"
   ]
  },
  {
   "cell_type": "code",
   "execution_count": 91,
   "id": "630a8360-a6b7-41eb-b73c-73f255ef6720",
   "metadata": {},
   "outputs": [
    {
     "name": "stdout",
     "output_type": "stream",
     "text": [
      "[0 1 2 3 4 5 6 7 8 9]\n",
      "[0 1 2 3 4 5 6 7 8]\n",
      "[[0 1 2]\n",
      " [3 4 5]\n",
      " [6 7 8]]\n",
      "[[ 0  1  2  3]\n",
      " [ 4  5  6  7]\n",
      " [ 8  9 10 11]]\n",
      "[[11 12 13 14]\n",
      " [15 16 17 18]\n",
      " [19 20 21 22]]\n",
      "2\n",
      "2\n",
      "[[1 2 3]]\n",
      "[[1]\n",
      " [2]\n",
      " [3]]\n",
      "[[11 12 13]\n",
      " [14 15 16]\n",
      " [17 18 19]\n",
      " [20 21 22]]\n"
     ]
    }
   ],
   "source": [
    "#2. arange()함수를 사용하는 방법:1차원\n",
    "# arange함수는 numpy 에 있는 함수\n",
    "#1차원 배열을 만들어 주는 함수\n",
    "print(np.arange(10)) # [0 1 2 3 4 5 6 7 8 9]\n",
    "m1 = np.arange(9)# 0부터 8까지값을 가지는 1차원 배열\n",
    "print(m1)\n",
    "m2 = np.arange(9).reshape(3,3) # 0~8까지 9개의 숫자로 이루어진 배열\n",
    "print(m2)\n",
    "#m2 = np.arange(9).reshape(3,4) # 9개의 숫자인데 12개를 만들어야 함으로 오류 발생\n",
    "m3 = np.arange(12).reshape(3,4) # 0~8까지 9개의 숫자로 이루어진 배열\n",
    "print(m3)\n",
    "m4 = np.arange(11,11+12).reshape(3,4)\n",
    "print(m4)\n",
    "l4 = [1,2,3,4,5] # 2\n",
    "print(l4[1])\n",
    "l5 = [[1,2,3,4,5]] #\n",
    "print(l5[0][1])\n",
    "# 행이 한개인 2차원배열을 만들자\n",
    "m5 = np.arange(1,4).reshape(1,3)\n",
    "print(m5)\n",
    "m6 = np.arange(1,4).reshape(3,1)\n",
    "print(m6)\n",
    "'''\n",
    "[[1],\n",
    " [2],\n",
    " [3]]\n",
    "'''\n",
    "#m4 = np.arange(11, 11+12).reshape(3,4) # 3행 4열\n",
    "m7 = np.arange(11,23) .reshape(4,3) # 4행 3열\n",
    "print(m7)"
   ]
  },
  {
   "cell_type": "code",
   "execution_count": 93,
   "id": "b4b5e6b3-9889-4753-982f-dc12c46c77a7",
   "metadata": {},
   "outputs": [
    {
     "name": "stdout",
     "output_type": "stream",
     "text": [
      "[1 2 3]\n",
      "[1 2 3]\n"
     ]
    }
   ],
   "source": [
    "#3. array() 함수를 사용하는 방법 : 리스트, 튜플을 이용\n",
    "m9 = np.array([1,2,3])\n",
    "print(m9)\n",
    "m10 = np.array((1,2,3))\n",
    "print(m10)\n",
    "# 리스트를 포함한 리스트나 튜플을 포함한 튜플을 이용해서 2차원 배열을 만든다\n",
    "m11 = np.array([[1,2,3],[4,5,6],[7,8,9]])\n",
    "print(m11)\n",
    "m12 = np.array(([1,2,3],[4,5,6],[7,8,9]))\n",
    "print(m12)\n",
    "m13 = np.array(((1,2,3),(4,5,6),(7,8,9)))\n",
    "print(m13)\n",
    "m14 = np.array(((1,2,3),(4,np.NaN,6),(7,8,np.NaN)))\n",
    "print(m14)\n",
    "# np.NaN을 결측치라고 한다. NaN은 Not a Numeber : 알수 없는 값을 의미, null과 같다."
   ]
  },
  {
   "cell_type": "code",
   "execution_count": 95,
   "id": "e05682bc-bedf-4730-a4f1-4d54754ad862",
   "metadata": {},
   "outputs": [
    {
     "name": "stdout",
     "output_type": "stream",
     "text": [
      "[1, 2, 3, 3, 2, 1]\n"
     ]
    }
   ],
   "source": [
    "l1 = [1,2,3]\n",
    "l2 = [3,2,1]\n",
    "result = l1 + l2 # 연결\n",
    "print(result)\n",
    "x = np.array([1,2,3])\n",
    "y = np.array([3,2,1])\n",
    "result = x + y # +:덧셈\n",
    "print(result)"
   ]
  },
  {
   "cell_type": "code",
   "execution_count": 101,
   "id": "64716cd2-d725-46c5-beed-7054a8c76dbe",
   "metadata": {},
   "outputs": [
    {
     "name": "stdout",
     "output_type": "stream",
     "text": [
      "[1 2 3]\n",
      "[3 2 1]\n",
      "[1 2 3 3 2 1]\n",
      "[ 1  2  3  3  2  1 99 99 99]\n",
      "[ 1  2  3  3  2  1 99 99 99]\n",
      "[ 1  2  3  3  2  1 99 99 99]\n",
      "[ 1  2  3  3  2  1 99 99 99]\n"
     ]
    }
   ],
   "source": [
    "# 배열을 확장하기\n",
    "print(x)\n",
    "print(y)\n",
    "z = np.concatenate((x,y))\n",
    "print(z)\n",
    "v = [99,99,99]\n",
    "z = np.concatenate((x,y,v))# 배열에 리스트나 튜플 배열로 연결이 된다.\n",
    "print(z)\n",
    "z = np.concatenate((x,y,v))# 배열에 리스트나 튜플 배열로 연결이 된다.\n",
    "print(z)\n",
    "z = np.concatenate(([1,2,3],(3,2,1),[99,99,99]))\n",
    "print(z)\n",
    "z = np.concatenate((l1,l2,v))\n",
    "print(z)"
   ]
  },
  {
   "cell_type": "code",
   "execution_count": 107,
   "id": "4d97e0a6-a7cf-450b-98da-7738fb9bd64a",
   "metadata": {},
   "outputs": [
    {
     "name": "stdout",
     "output_type": "stream",
     "text": [
      "[[9 8 7]\n",
      " [6 5 4]\n",
      " [3 2 1]\n",
      " [9 8 7]\n",
      " [6 5 4]\n",
      " [3 2 1]]\n",
      "[[9 8 7]\n",
      " [6 5 4]\n",
      " [3 2 1]\n",
      " [9 8 7]\n",
      " [6 5 4]\n",
      " [3 2 1]]\n"
     ]
    }
   ],
   "source": [
    "#2차원배열 확장하기\n",
    "x2 = np.array([1,2,3])\n",
    "grid = np.array([[9,8,7],\n",
    "                 [6,5,4],\n",
    "                 [3,2,1]])\n",
    "grid1 = np.array([[9,8,7],[6,5,4],[3,2,1]])\n",
    "'''\n",
    "[9,8,7],\n",
    "[6,5,4],\n",
    "[3,2,1]\n",
    "\n",
    "z=np.concatenate((grid,x2), axis = 0) # 열기준, x축 기준\n",
    "print(z)\n",
    "concatenate를 사용하는 경우에는 차원이 같아야한다. 행과 열이 같다.\n",
    "3행4열과 4행3열은 2차원이라는 것 같지만 차원은 다르다고 말한다.\n",
    "\n",
    "z=np.concatenate((grid,x2), axis = 1) # 행기준, Y축 기준\n",
    "print(z)\n",
    "grid\n",
    "[9,8,7],\n",
    "[6,5,4],\n",
    "[3,2,1]\n",
    "grid1\n",
    "[9,8,7],\n",
    "[6,5,4],\n",
    "[3,2,1]\n",
    "'''\n",
    "z= np.concatenate((grid,grid1), axis = 0)\n",
    "print(z)\n",
    "z= np.concatenate((grid,grid1))#axis=0은 기본값이 된다.\n",
    "print(z)\n",
    "z= np.concatenate((grid,grid1),axis=1 ) #axis=1 : 행기준 , y축 기준\n",
    "print(z)"
   ]
  },
  {
   "cell_type": "code",
   "execution_count": 112,
   "id": "61a6b6aa-5dd1-4161-9dc2-5acbc684afa8",
   "metadata": {},
   "outputs": [
    {
     "name": "stdout",
     "output_type": "stream",
     "text": [
      "[1 2 3]\n",
      "[[9 8 7]\n",
      " [6 5 4]\n",
      " [3 2 1]]\n",
      "[[1 2 3]\n",
      " [9 8 7]\n",
      " [6 5 4]\n",
      " [3 2 1]]\n"
     ]
    },
    {
     "ename": "TypeError",
     "evalue": "array() takes from 1 to 2 positional arguments but 3 were given",
     "output_type": "error",
     "traceback": [
      "\u001b[1;31m---------------------------------------------------------------------------\u001b[0m",
      "\u001b[1;31mTypeError\u001b[0m                                 Traceback (most recent call last)",
      "Cell \u001b[1;32mIn[112], line 7\u001b[0m\n\u001b[0;32m      5\u001b[0m \u001b[38;5;28mprint\u001b[39m(z)\n\u001b[0;32m      6\u001b[0m \u001b[38;5;66;03m#z = np.hstack((x2,grid))\u001b[39;00m\n\u001b[1;32m----> 7\u001b[0m grid2 \u001b[38;5;241m=\u001b[39m \u001b[43mnp\u001b[49m\u001b[38;5;241;43m.\u001b[39;49m\u001b[43marray\u001b[49m\u001b[43m(\u001b[49m\u001b[43m[\u001b[49m\u001b[38;5;241;43m1\u001b[39;49m\u001b[43m,\u001b[49m\u001b[38;5;241;43m2\u001b[39;49m\u001b[43m]\u001b[49m\u001b[43m,\u001b[49m\u001b[43m[\u001b[49m\u001b[38;5;241;43m9\u001b[39;49m\u001b[43m,\u001b[49m\u001b[38;5;241;43m8\u001b[39;49m\u001b[43m]\u001b[49m\u001b[43m,\u001b[49m\u001b[43m[\u001b[49m\u001b[38;5;241;43m7\u001b[39;49m\u001b[43m,\u001b[49m\u001b[38;5;241;43m6\u001b[39;49m\u001b[43m]\u001b[49m\u001b[43m)\u001b[49m\n\u001b[0;32m      8\u001b[0m \u001b[38;5;28mprint\u001b[39m(grid2)\n\u001b[0;32m      9\u001b[0m \u001b[38;5;124;03m'''\u001b[39;00m\n\u001b[0;32m     10\u001b[0m \u001b[38;5;124;03m[9 8 7] [1,2]\u001b[39;00m\n\u001b[0;32m     11\u001b[0m \u001b[38;5;124;03m[6 5 4] [9,8]\u001b[39;00m\n\u001b[0;32m     12\u001b[0m \u001b[38;5;124;03m[3 2 1] [7,6]\u001b[39;00m\n\u001b[0;32m     13\u001b[0m \u001b[38;5;124;03m'''\u001b[39;00m\n",
      "\u001b[1;31mTypeError\u001b[0m: array() takes from 1 to 2 positional arguments but 3 were given"
     ]
    }
   ],
   "source": [
    "# 차원이 다른 경우\n",
    "print(x2)\n",
    "print(grid)\n",
    "z = np.vstack((x2,grid))# 열의 차원이 같고 행의 차원이 다른 경우\n",
    "print(z)\n",
    "#z = np.hstack((x2,grid))\n",
    "grid2 = np.array([1,2],[9,8],[7,6])\n",
    "print(grid2)\n",
    "'''\n",
    "[9 8 7] [1,2]\n",
    "[6 5 4] [9,8]\n",
    "[3 2 1] [7,6]\n",
    "'''\n",
    "z = np.hstack((grid1,grid2))#열의 차원은 달라도 행의 차원이 같은 경우\n",
    "print(z)"
   ]
  },
  {
   "cell_type": "code",
   "execution_count": 113,
   "id": "d8600bf3-e177-4c5f-bf8f-5b62583c02f3",
   "metadata": {},
   "outputs": [
    {
     "name": "stdout",
     "output_type": "stream",
     "text": [
      "[4 4 4]\n",
      "[1, 2, 3, 3, 2, 1]\n"
     ]
    }
   ],
   "source": [
    "# 유니버설 함수(UFuncs)\n",
    "l1 = [1,2,3]\n",
    "l2 = [3,2,1]\n",
    "x = np.array(l1)\n",
    "y = np.array(l2)\n",
    "result =  x + y\n",
    "print(result)# [4 4 4]\n",
    "result = l1 + l2\n",
    "print(result)# [1, 2, 3, 3, 2, 1]"
   ]
  },
  {
   "cell_type": "code",
   "execution_count": 114,
   "id": "85bff3df-47a6-40c7-8e01-85175aa70874",
   "metadata": {},
   "outputs": [],
   "source": [
    "def add(i,j):\n",
    "    l4 = []\n",
    "    for idx in range(len(i)):\n",
    "        l4.append(i[idx]+j[idx])\n",
    "        return l4"
   ]
  },
  {
   "cell_type": "code",
   "execution_count": 116,
   "id": "705db723-e806-407f-8a03-e93fb78f4f4f",
   "metadata": {},
   "outputs": [
    {
     "name": "stdout",
     "output_type": "stream",
     "text": [
      "[4]\n"
     ]
    }
   ],
   "source": [
    "result = add(l1,l2)\n",
    "print(result)"
   ]
  },
  {
   "cell_type": "code",
   "execution_count": 124,
   "id": "3ccaf043-7297-43a2-a5c8-42398bd3e82a",
   "metadata": {},
   "outputs": [
    {
     "name": "stdout",
     "output_type": "stream",
     "text": [
      "[4 4 4]\n",
      "[4 4 4]\n",
      "[-2  0  2]\n",
      "[-2  0  2]\n",
      "[3 4 3]\n",
      "[3 4 3]\n",
      "[0.33333333 1.         3.        ]\n",
      "[0.33333333 1.         3.        ]\n"
     ]
    }
   ],
   "source": [
    "result = x + y \n",
    "print(result)\n",
    "result = np.add(x,y)\n",
    "print(result)\n",
    "# + ,-, *, *,%,//,** 를 사용할 때 자동으로 실행되는 유니버셜 함수\n",
    "# 비교연산자에 대한 유니버셜 함수도 있다.\n",
    "result = x- y\n",
    "print(result)\n",
    "result = np.subtract(x,y)\n",
    "print(result)\n",
    "result = x*y\n",
    "print(result)\n",
    "result = np.multiply(x,y)\n",
    "print(result)\n",
    "result = x/y\n",
    "print(result)\n",
    "result = np.divide(x,y)\n",
    "print(result)\n"
   ]
  },
  {
   "cell_type": "code",
   "execution_count": 195,
   "id": "8e3cf62b-be89-4a55-ab2f-9521e530479b",
   "metadata": {},
   "outputs": [
    {
     "name": "stdout",
     "output_type": "stream",
     "text": [
      "[[7 4 3 1 8 6]\n",
      " [8 5 9 0 2 1]\n",
      " [0 3 3 4 9 4]\n",
      " [1 0 6 0 4 5]]\n",
      "[3 2 1]\n",
      "[[12  9  8  6 13 11]\n",
      " [13 10 14  5  7  6]\n",
      " [ 5  8  8  9 14  9]\n",
      " [ 6  5 11  5  9 10]]\n",
      "[[1]\n",
      " [2]\n",
      " [3]]\n"
     ]
    },
    {
     "ename": "ValueError",
     "evalue": "operands could not be broadcast together with shapes (4,6) (3,1) ",
     "output_type": "error",
     "traceback": [
      "\u001b[1;31m---------------------------------------------------------------------------\u001b[0m",
      "\u001b[1;31mValueError\u001b[0m                                Traceback (most recent call last)",
      "Cell \u001b[1;32mIn[195], line 15\u001b[0m\n\u001b[0;32m      9\u001b[0m \u001b[38;5;28mprint\u001b[39m(k)\n\u001b[0;32m     10\u001b[0m \u001b[38;5;124;03m'''\u001b[39;00m\n\u001b[0;32m     11\u001b[0m \u001b[38;5;124;03m[1 2 3] + [[1][1][1]\u001b[39;00m\n\u001b[0;32m     12\u001b[0m \u001b[38;5;124;03m[1 2 3] +  [2][2][2]\u001b[39;00m\n\u001b[0;32m     13\u001b[0m \u001b[38;5;124;03m[1 2 3] +  [3][3][3]]\u001b[39;00m\n\u001b[0;32m     14\u001b[0m \u001b[38;5;124;03m'''\u001b[39;00m\n\u001b[1;32m---> 15\u001b[0m z \u001b[38;5;241m=\u001b[39m \u001b[43mx\u001b[49m\u001b[43m \u001b[49m\u001b[38;5;241;43m+\u001b[39;49m\u001b[43m \u001b[49m\u001b[43mk\u001b[49m\n\u001b[0;32m     16\u001b[0m \u001b[38;5;28mprint\u001b[39m(z)\n\u001b[0;32m     17\u001b[0m \u001b[38;5;124;03m'''\u001b[39;00m\n\u001b[0;32m     18\u001b[0m \u001b[38;5;124;03m[1 2 3] + [[1][1][1]\u001b[39;00m\n\u001b[0;32m     19\u001b[0m \u001b[38;5;124;03m[1 2 3] +  [2][2][2]\u001b[39;00m\n\u001b[0;32m     20\u001b[0m \u001b[38;5;124;03m[1 2 3] +  [3][3][3]]\u001b[39;00m\n\u001b[0;32m     21\u001b[0m \u001b[38;5;124;03m'''\u001b[39;00m\n",
      "\u001b[1;31mValueError\u001b[0m: operands could not be broadcast together with shapes (4,6) (3,1) "
     ]
    }
   ],
   "source": [
    "# 브로드케스팅\n",
    "print(x)\n",
    "print(y)\n",
    "# 배열을 연산하기 위해서는 차원이 같아야한다.\n",
    "z = x+ 5 # 1차원배별 + 정수 :[1 2 3] + [5 5 5] : 정수가 3열짜리 1차원 배열이 되어야 한다.\n",
    "# 서로 다른 차원을 가진 배열이 같은 차원으로 확장이 되는 것\n",
    "print(z) # [6 7 8]\n",
    "k = np.array([[1],[2],[3]])\n",
    "print(k)\n",
    "'''\n",
    "[1 2 3] + [[1][1][1]\n",
    "[1 2 3] +  [2][2][2]\n",
    "[1 2 3] +  [3][3][3]]\n",
    "'''\n",
    "z = x + k\n",
    "print(z)\n",
    "'''\n",
    "[1 2 3] + [[1][1][1]\n",
    "[1 2 3] +  [2][2][2]\n",
    "[1 2 3] +  [3][3][3]]\n",
    "'''\n",
    "print(grid)\n",
    "z = grid + 5\n",
    "print(z)"
   ]
  },
  {
   "cell_type": "code",
   "execution_count": 129,
   "id": "f11427da-15ee-4081-a573-bf2d5f86d151",
   "metadata": {},
   "outputs": [
    {
     "name": "stdout",
     "output_type": "stream",
     "text": [
      "[0. 0. 0.]\n",
      "[[0. 0. 0.]\n",
      " [0. 0. 0.]\n",
      " [0. 0. 0.]]\n",
      "[1. 1. 1.]\n",
      "[[1. 1. 1.]\n",
      " [1. 1. 1.]\n",
      " [1. 1. 1.]]\n"
     ]
    }
   ],
   "source": [
    "#넘파이함수\n",
    "# 제로행렬\n",
    "m = np.zeros(3)\n",
    "print(m)\n",
    "m = np.zeros((3,3))\n",
    "print(m)\n",
    "# 원(1)행렬\n",
    "m = np.ones(3)\n",
    "print(m)\n",
    "m = np.ones([3,3])\n",
    "print(m)"
   ]
  },
  {
   "cell_type": "code",
   "execution_count": 137,
   "id": "644312f8-20f3-42f0-ac4b-0330abcbf768",
   "metadata": {},
   "outputs": [
    {
     "name": "stdout",
     "output_type": "stream",
     "text": [
      "6\n",
      "1\n",
      "21\n",
      "[3 6 9 5 2 7]\n",
      "32\n",
      "32\n",
      "32\n",
      "21\n",
      "9\n",
      "9\n",
      "2\n",
      "2\n"
     ]
    }
   ],
   "source": [
    "#집계함수\n",
    "l = [1,2,3,4,5,6]\n",
    "print(max(l)) # 내장함수\n",
    "print(min(l))\n",
    "print(sum(l))\n",
    "m = np.random.randint(10, size = 6)\n",
    "print(m)\n",
    "print(sum(m))\n",
    "print(np.sum(m))\n",
    "print(m.sum())\n",
    "print(np.sum(l))\n",
    "#print(l.sum())\n",
    "print(m.max())\n",
    "print(np.max(m))\n",
    "print(m.min())\n",
    "print(np.min(m))"
   ]
  },
  {
   "cell_type": "code",
   "execution_count": 142,
   "id": "72aa79b1-5baf-47d4-bed7-03add2fcafab",
   "metadata": {},
   "outputs": [
    {
     "name": "stdout",
     "output_type": "stream",
     "text": [
      "[[0.6119504  0.509999   0.7017874 ]\n",
      " [0.88348704 0.67331137 0.10021648]\n",
      " [0.34144727 0.84984743 0.88748135]\n",
      " [0.96977437 0.1016658  0.21359226]]\n",
      "[2.80665907 2.1348236  1.90307749]\n",
      "6.844560167144292\n",
      "6.844560167144292\n",
      "0.9697743674601365\n",
      "0.9697743674601365\n",
      "0.1002164790505985\n",
      "0.1002164790505985\n"
     ]
    }
   ],
   "source": [
    "m = np.random.random((4,3))\n",
    "print(m)\n",
    "print(sum(m)) # 열의 합계\n",
    "print(np.sum(m))# 집계 합\n",
    "print(m.sum())\n",
    "print(np.max(m))\n",
    "print(m.max())\n",
    "print(np.min(m))\n",
    "print(m.min())\n",
    "print(np.mean(m)) # 전체 평균\n",
    "print(m.mean())\n",
    "print(np.std(m)) #표준편차\n",
    "print(m.std())\n"
   ]
  },
  {
   "cell_type": "code",
   "execution_count": 145,
   "id": "2201b91a-a881-4c1b-9dc6-d8354bda5eb5",
   "metadata": {},
   "outputs": [
    {
     "name": "stdout",
     "output_type": "stream",
     "text": [
      "Requirement already satisfied: pandas in c:\\python311\\lib\\site-packages (2.1.4)\n",
      "Requirement already satisfied: numpy<2,>=1.23.2 in c:\\python311\\lib\\site-packages (from pandas) (1.26.2)\n",
      "Requirement already satisfied: python-dateutil>=2.8.2 in c:\\python311\\lib\\site-packages (from pandas) (2.8.2)\n",
      "Requirement already satisfied: pytz>=2020.1 in c:\\python311\\lib\\site-packages (from pandas) (2023.3.post1)\n",
      "Requirement already satisfied: tzdata>=2022.1 in c:\\python311\\lib\\site-packages (from pandas) (2023.3)\n",
      "Requirement already satisfied: six>=1.5 in c:\\python311\\lib\\site-packages (from python-dateutil>=2.8.2->pandas) (1.16.0)\n"
     ]
    },
    {
     "name": "stderr",
     "output_type": "stream",
     "text": [
      "\n",
      "[notice] A new release of pip is available: 23.1.2 -> 23.3.2\n",
      "[notice] To update, run: python.exe -m pip install --upgrade pip\n"
     ]
    }
   ],
   "source": [
    "!pip install pandas"
   ]
  },
  {
   "cell_type": "code",
   "execution_count": 146,
   "id": "821047b6-9225-426b-ac00-25849b4a4ee7",
   "metadata": {},
   "outputs": [
    {
     "name": "stdout",
     "output_type": "stream",
     "text": [
      "Requirement already satisfied: pip in c:\\python311\\lib\\site-packages (23.1.2)\n",
      "Collecting pip\n",
      "  Using cached pip-23.3.2-py3-none-any.whl (2.1 MB)\n",
      "Installing collected packages: pip\n",
      "  Attempting uninstall: pip\n",
      "    Found existing installation: pip 23.1.2\n",
      "    Uninstalling pip-23.1.2:\n"
     ]
    },
    {
     "name": "stderr",
     "output_type": "stream",
     "text": [
      "ERROR: Could not install packages due to an OSError: [WinError 5] 액세스가 거부되었습니다: 'c:\\\\python311\\\\lib\\\\site-packages\\\\pip-23.1.2.dist-info\\\\AUTHORS.txt'\n",
      "Consider using the `--user` option or check the permissions.\n",
      "\n",
      "\n",
      "[notice] A new release of pip is available: 23.1.2 -> 23.3.2\n",
      "[notice] To update, run: python.exe -m pip install --upgrade pip\n"
     ]
    }
   ],
   "source": [
    "!python.exe -m pip install --upgrade pip"
   ]
  },
  {
   "cell_type": "code",
   "execution_count": 151,
   "id": "5ded937b-ee51-4fc0-9795-26239c6ac9dd",
   "metadata": {},
   "outputs": [
    {
     "ename": "SyntaxError",
     "evalue": "invalid decimal literal (368661850.py, line 10)",
     "output_type": "error",
     "traceback": [
      "\u001b[1;36m  Cell \u001b[1;32mIn[151], line 10\u001b[1;36m\u001b[0m\n\u001b[1;33m    print('75% :'np.percentile(heights,75)) 3사분위\u001b[0m\n\u001b[1;37m                                            ^\u001b[0m\n\u001b[1;31mSyntaxError\u001b[0m\u001b[1;31m:\u001b[0m invalid decimal literal\n"
     ]
    }
   ],
   "source": [
    "import pandas as pd\n",
    "df = pd.read_csv(\"https://github.com/SoongMoo/soldesk20231218\")\n",
    "heights = np.array(df['height(cm)'])\n",
    "# print(heights) # 배열로 저장\n",
    "print(height.sum())\n",
    "print('최소값 :'height.min()) # 0사분위\n",
    "print('25% :'np.percentile(heights,25))#25 , 1사분위\n",
    "print('50%(중앙값, 중위값) :'np.percentile(heights,50))#50 , 2사분위\n",
    "print('50%(중앙값, 중위값) :'np.median(heights))\n",
    "print('75% :'np.percentile(heights,75)) 3사분위\n",
    "print(''heights.mean()) # 평균\n",
    "print(heights.max()) #4사분위\n",
    "print(heights.std()) # 표준편차"
   ]
  },
  {
   "cell_type": "code",
   "execution_count": 6,
   "id": "f9581cde-07de-48f9-b13f-e64ce81aff99",
   "metadata": {},
   "outputs": [
    {
     "name": "stdout",
     "output_type": "stream",
     "text": [
      "Collecting matplotlib\n",
      "  Using cached matplotlib-3.8.2-cp311-cp311-win_amd64.whl (7.6 MB)\n",
      "Collecting contourpy>=1.0.1 (from matplotlib)\n",
      "  Using cached contourpy-1.2.0-cp311-cp311-win_amd64.whl (187 kB)\n",
      "Collecting cycler>=0.10 (from matplotlib)\n",
      "  Using cached cycler-0.12.1-py3-none-any.whl (8.3 kB)\n",
      "Requirement already satisfied: fonttools>=4.22.0 in c:\\python311\\lib\\site-packages (from matplotlib) (4.47.0)\n",
      "Requirement already satisfied: kiwisolver>=1.3.1 in c:\\python311\\lib\\site-packages (from matplotlib) (1.4.5)\n",
      "Requirement already satisfied: numpy<2,>=1.21 in c:\\python311\\lib\\site-packages (from matplotlib) (1.26.2)\n",
      "Requirement already satisfied: packaging>=20.0 in c:\\python311\\lib\\site-packages (from matplotlib) (23.2)\n",
      "Requirement already satisfied: pillow>=8 in c:\\python311\\lib\\site-packages (from matplotlib) (10.1.0)\n",
      "Requirement already satisfied: pyparsing>=2.3.1 in c:\\python311\\lib\\site-packages (from matplotlib) (3.1.1)\n",
      "Requirement already satisfied: python-dateutil>=2.7 in c:\\python311\\lib\\site-packages (from matplotlib) (2.8.2)\n",
      "Requirement already satisfied: six>=1.5 in c:\\python311\\lib\\site-packages (from python-dateutil>=2.7->matplotlib) (1.16.0)\n",
      "Installing collected packages: cycler, contourpy, matplotlib\n",
      "Successfully installed contourpy-1.2.0 cycler-0.12.1 matplotlib-3.8.2\n"
     ]
    },
    {
     "name": "stderr",
     "output_type": "stream",
     "text": [
      "\n",
      "[notice] A new release of pip is available: 23.1.2 -> 23.3.2\n",
      "[notice] To update, run: python.exe -m pip install --upgrade pip\n"
     ]
    }
   ],
   "source": [
    "# 시각화\n",
    "!pip install matplotlib"
   ]
  },
  {
   "cell_type": "code",
   "execution_count": 4,
   "id": "93e69c68-df41-4172-838f-7bdc161c0abc",
   "metadata": {},
   "outputs": [
    {
     "name": "stdout",
     "output_type": "stream",
     "text": [
      "Requirement already satisfied: package_name in c:\\users\\chanwoo kang\\appdata\\roaming\\python\\python311\\site-packages (0.1)\n",
      "Note: you may need to restart the kernel to use updated packages.\n"
     ]
    },
    {
     "name": "stderr",
     "output_type": "stream",
     "text": [
      "\n",
      "[notice] A new release of pip is available: 23.1.2 -> 23.3.2\n",
      "[notice] To update, run: python.exe -m pip install --upgrade pip\n"
     ]
    }
   ],
   "source": [
    "pip install package_name --user"
   ]
  },
  {
   "cell_type": "code",
   "execution_count": 8,
   "id": "e261e3db-1072-4387-9e7a-bbac1dac8379",
   "metadata": {},
   "outputs": [
    {
     "name": "stdout",
     "output_type": "stream",
     "text": [
      "Requirement already satisfied: pip in c:\\python311\\lib\\site-packages (23.1.2)\n",
      "Collecting pip\n",
      "  Using cached pip-23.3.2-py3-none-any.whl (2.1 MB)\n",
      "Installing collected packages: pip\n",
      "  Attempting uninstall: pip\n",
      "    Found existing installation: pip 23.1.2\n",
      "    Uninstalling pip-23.1.2:\n",
      "Note: you may need to restart the kernel to use updated packages.\n"
     ]
    },
    {
     "name": "stderr",
     "output_type": "stream",
     "text": [
      "ERROR: Could not install packages due to an OSError: [WinError 5] 액세스가 거부되었습니다: 'c:\\\\python311\\\\lib\\\\site-packages\\\\pip-23.1.2.dist-info\\\\AUTHORS.txt'\n",
      "Consider using the `--user` option or check the permissions.\n",
      "\n",
      "\n",
      "[notice] A new release of pip is available: 23.1.2 -> 23.3.2\n",
      "[notice] To update, run: python.exe -m pip install --upgrade pip\n"
     ]
    }
   ],
   "source": [
    "pip install --upgrade pip"
   ]
  },
  {
   "cell_type": "code",
   "execution_count": 7,
   "id": "e7b4afe0-1cc7-4b32-ad4e-4e40f96edbac",
   "metadata": {},
   "outputs": [
    {
     "name": "stdout",
     "output_type": "stream",
     "text": [
      "Requirement already satisfied: package_name in c:\\users\\chanwoo kang\\appdata\\roaming\\python\\python311\\site-packages (0.1)\n",
      "Note: you may need to restart the kernel to use updated packages.\n"
     ]
    },
    {
     "name": "stderr",
     "output_type": "stream",
     "text": [
      "\n",
      "[notice] A new release of pip is available: 23.1.2 -> 23.3.2\n",
      "[notice] To update, run: python.exe -m pip install --upgrade pip\n"
     ]
    }
   ],
   "source": [
    "pip install package_name --user"
   ]
  },
  {
   "cell_type": "code",
   "execution_count": 10,
   "id": "8582c176-0061-4798-b0e3-d5d1005d4264",
   "metadata": {},
   "outputs": [
    {
     "ename": "NameError",
     "evalue": "name 'heights' is not defined",
     "output_type": "error",
     "traceback": [
      "\u001b[1;31m---------------------------------------------------------------------------\u001b[0m",
      "\u001b[1;31mNameError\u001b[0m                                 Traceback (most recent call last)",
      "Cell \u001b[1;32mIn[10], line 2\u001b[0m\n\u001b[0;32m      1\u001b[0m \u001b[38;5;28;01mimport\u001b[39;00m \u001b[38;5;21;01mmatplotlib\u001b[39;00m\u001b[38;5;21;01m.\u001b[39;00m\u001b[38;5;21;01mpyplot\u001b[39;00m \u001b[38;5;28;01mas\u001b[39;00m \u001b[38;5;21;01mplt\u001b[39;00m\n\u001b[1;32m----> 2\u001b[0m plt\u001b[38;5;241m.\u001b[39mhist(\u001b[43mheights\u001b[49m)\n",
      "\u001b[1;31mNameError\u001b[0m: name 'heights' is not defined"
     ]
    }
   ],
   "source": [
    "import matplotlib.pyplot as plt\n",
    "plt.hist(heights)"
   ]
  },
  {
   "cell_type": "code",
   "execution_count": 169,
   "id": "13cc8450-02ef-44b4-8518-e8e3e9c62f14",
   "metadata": {},
   "outputs": [
    {
     "name": "stdout",
     "output_type": "stream",
     "text": [
      "1\n",
      "4\n"
     ]
    },
    {
     "ename": "TypeError",
     "evalue": "list indices must be integers or slices, not list",
     "output_type": "error",
     "traceback": [
      "\u001b[1;31m---------------------------------------------------------------------------\u001b[0m",
      "\u001b[1;31mTypeError\u001b[0m                                 Traceback (most recent call last)",
      "Cell \u001b[1;32mIn[169], line 7\u001b[0m\n\u001b[0;32m      5\u001b[0m \u001b[38;5;28mprint\u001b[39m(l[\u001b[38;5;241m0\u001b[39m])\n\u001b[0;32m      6\u001b[0m \u001b[38;5;28mprint\u001b[39m(l[\u001b[38;5;241m3\u001b[39m])\n\u001b[1;32m----> 7\u001b[0m \u001b[38;5;28mprint\u001b[39m(\u001b[43ml\u001b[49m\u001b[43m[\u001b[49m\u001b[43m[\u001b[49m\u001b[38;5;28;43;01mTrue\u001b[39;49;00m\u001b[43m,\u001b[49m\u001b[43m \u001b[49m\u001b[38;5;28;43;01mFalse\u001b[39;49;00m\u001b[43m,\u001b[49m\u001b[43m \u001b[49m\u001b[38;5;28;43;01mFalse\u001b[39;49;00m\u001b[43m,\u001b[49m\u001b[38;5;28;43;01mTrue\u001b[39;49;00m\u001b[43m,\u001b[49m\u001b[43m \u001b[49m\u001b[38;5;28;43;01mFalse\u001b[39;49;00m\u001b[43m \u001b[49m\u001b[43m,\u001b[49m\u001b[38;5;28;43;01mFalse\u001b[39;49;00m\u001b[43m]\u001b[49m\u001b[43m]\u001b[49m)\n\u001b[0;32m      8\u001b[0m x \u001b[38;5;241m=\u001b[39m np\u001b[38;5;241m.\u001b[39marray([\u001b[38;5;241m1\u001b[39m,\u001b[38;5;241m2\u001b[39m,\u001b[38;5;241m3\u001b[39m,\u001b[38;5;241m4\u001b[39m,\u001b[38;5;241m5\u001b[39m,\u001b[38;5;241m6\u001b[39m])\n\u001b[0;32m      9\u001b[0m \u001b[38;5;28mprint\u001b[39m(x)\n",
      "\u001b[1;31mTypeError\u001b[0m: list indices must be integers or slices, not list"
     ]
    }
   ],
   "source": [
    "# 팬시 index, 마스크\n",
    "l = [1,2,3,4,5,6]\n",
    "#    0 1 2 3 4 5 : index\n",
    "#   True,False,False True False, False : 팬시 index\n",
    "print(l[0])\n",
    "print(l[3])\n",
    "print(l[True, False, False,True, False ,False])\n",
    "x = np.array([1,2,3,4,5,6])\n",
    "print(x)\n",
    "#[1,2,3,4,5,6]\n",
    "print(x[0])\n",
    "print(x[3])\n",
    "print(x[[True, False ,False,True, False, False]])#마스크\n",
    "print(x[x > 3])\n",
    "print(np.sum(x))\n",
    "print(np.sum([True, False ,False,True, False, False]))# 팬시index의 합계\n",
    "print(np.sum(x>3))# True의 갯수를 알 수 있다.\n",
    "#마스크된 전체의 합계\n",
    "print(x.sum())\n",
    "print(np.sum(x))\n",
    "print(x[x>3].sum())\n",
    "print(np.sum(x[x>3]))\n"
   ]
  },
  {
   "cell_type": "code",
   "execution_count": 171,
   "id": "c78244bf-17db-4ac6-b81a-df645d65b369",
   "metadata": {},
   "outputs": [
    {
     "name": "stdout",
     "output_type": "stream",
     "text": [
      "[False False False]\n",
      "[ True  True False]\n",
      "[ True  True  True]\n",
      "[False False  True]\n",
      "[False False  True]\n",
      "[ True  True False]\n",
      "[1 2]\n"
     ]
    }
   ],
   "source": [
    "print(x >3 )\n",
    "print(x<3)\n",
    "print(x<=3)\n",
    "print(x>=3)\n",
    "print(x ==3)\n",
    "print(x!=3) # 팬시 index\n",
    "print(x[x != 3])#마스크"
   ]
  },
  {
   "cell_type": "code",
   "execution_count": 175,
   "id": "ae2d5cc4-38b4-4537-9e5d-c37476928409",
   "metadata": {},
   "outputs": [
    {
     "name": "stdout",
     "output_type": "stream",
     "text": [
      "[[1 2 3]\n",
      " [4 5 6]\n",
      " [7 8 9]]\n",
      "[[False False False]\n",
      " [False False  True]\n",
      " [ True  True  True]]\n",
      "[6 7 8 9]\n",
      "[6 7 8 9]\n",
      "4\n",
      "4\n",
      "30\n"
     ]
    }
   ],
   "source": [
    "x1 = np.array([[1,2,3],\n",
    "               [4,5,6],\n",
    "               [7,8,9]])\n",
    "print(x1)\n",
    "print(x1>5)\n",
    "print(x1[[[False,False,False],[False,False,True],[True,True,True]]])\n",
    "print(x1[x1>5])\n",
    "print(np.sum(x1>5))#True의 갯수\n",
    "print((x1>5).sum())\n",
    "print(x1[x1>5].sum())#마스크를 제외한 합계 값"
   ]
  },
  {
   "cell_type": "code",
   "execution_count": 181,
   "id": "9bebada9-e901-4058-807d-026b9fb59553",
   "metadata": {},
   "outputs": [
    {
     "name": "stdout",
     "output_type": "stream",
     "text": [
      "39\n",
      "30.795275590551178\n",
      "26\n",
      "339\n",
      "339\n",
      "32.12204724409449\n",
      "32.12204724409449\n",
      "215\n",
      "150\n"
     ]
    }
   ],
   "source": [
    "rainfall = pd.read_csv(\"https://raw.githubusercontent.com/SoongMoo/soldesk20231218/main/%EC%B0%B8%EA%B3%A0%EC%9E%90%EB%A3%8C/NumPy/data/Seattle2014.csv\")\n",
    "rainfall['PRCP']\n",
    "inches = np.array(rainfall['PRCP']/254)\n",
    "inches\n",
    "# 0.5인치 이상 온 날은 몇일입니까?\n",
    "print((inches >= 0.5).sum())\n",
    "# 0.5인치이상 온 날의 총 강수량은?\n",
    "print(inches[inches >= 0.5].sum())\n",
    "# 강수량이 0.5에서 0.8 사이인 날은 몇일이나 되나요?\n",
    "print(((inches >= 0.5)&(inches <= 0.8)).sum())\n",
    "# 강수량이 0.5 미만 0.8 초과한 날은?\n",
    "print((~((inches >= 0.5)&(inches <= 0.8))).sum())\n",
    "print(((inches < 0.5)|(inches > 0.8)).sum())\n",
    "#강수량이 0.5미만 0.8초과한 날의 강수량의 합계?\n",
    "print(inches[~((inches >= 0.5)&(inches <= 0.8))].sum())\n",
    "print(inches[(inches < 0.5)|(inches > 0.8)].sum())\n",
    "#비가 안온 날\n",
    "print((inches == 0).sum())\n",
    "#비가 온 날\n",
    "print((inches!=0).sum())"
   ]
  },
  {
   "cell_type": "code",
   "execution_count": 9,
   "id": "4f57be6b-30d7-4edb-93c5-e72e1d9392e1",
   "metadata": {},
   "outputs": [
    {
     "ename": "NameError",
     "evalue": "name 'plt' is not defined",
     "output_type": "error",
     "traceback": [
      "\u001b[1;31m---------------------------------------------------------------------------\u001b[0m",
      "\u001b[1;31mNameError\u001b[0m                                 Traceback (most recent call last)",
      "Cell \u001b[1;32mIn[9], line 1\u001b[0m\n\u001b[1;32m----> 1\u001b[0m \u001b[43mplt\u001b[49m\u001b[38;5;241m.\u001b[39mhist(inches, \u001b[38;5;241m40\u001b[39m)\n",
      "\u001b[1;31mNameError\u001b[0m: name 'plt' is not defined"
     ]
    }
   ],
   "source": [
    "plt.hist(inches, 40)"
   ]
  },
  {
   "cell_type": "code",
   "execution_count": 184,
   "id": "60a4488e-b920-4b5c-9f84-767f561a88b9",
   "metadata": {},
   "outputs": [
    {
     "name": "stdout",
     "output_type": "stream",
     "text": [
      "[2 3 5 6 7]\n",
      "[[1 3 4 6 7 8]\n",
      " [0 1 2 5 8 9]\n",
      " [0 3 3 4 4 9]\n",
      " [0 0 1 4 5 6]]\n",
      "[[0 0 3 0 2 1]\n",
      " [1 3 3 0 4 4]\n",
      " [7 4 6 1 8 5]\n",
      " [8 5 9 4 9 6]]\n",
      "[[1 3 4 6 7 8]\n",
      " [0 1 2 5 8 9]\n",
      " [0 3 3 4 4 9]\n",
      " [0 0 1 4 5 6]]\n"
     ]
    }
   ],
   "source": [
    "# 정렬\n",
    "x = np.array([3,6,2,7,5])\n",
    "x\n",
    "print(np.sort(x))\n",
    "x= np.random.randint(10, size=(4,6))\n",
    "x\n",
    "print(np.sort(x , axis =1))\n",
    "print(np.sort(x , axis =0))\n",
    "print(np.sort(x))#axis =1"
   ]
  },
  {
   "cell_type": "code",
   "execution_count": 188,
   "id": "c38a5351-583a-41cc-af8d-594ad0f5b73a",
   "metadata": {},
   "outputs": [
    {
     "name": "stdout",
     "output_type": "stream",
     "text": [
      "[[7 4 3 1 8 6]\n",
      " [8 5 9 0 2 1]\n",
      " [0 3 3 4 9 4]\n",
      " [1 0 6 0 4 5]]\n",
      "[[1 3 4 6 8 7]\n",
      " [0 1 2 5 8 9]\n",
      " [0 3 3 4 4 9]\n",
      " [0 0 1 4 5 6]]\n",
      "[[1 3 4 6 8 7]\n",
      " [0 1 2 5 8 9]\n",
      " [0 3 3 4 4 9]\n",
      " [0 0 1 4 5 6]]\n",
      "[[0 3 3 0 2 4]\n",
      " [1 0 3 0 4 1]\n",
      " [7 4 6 1 8 5]\n",
      " [8 5 9 4 9 6]]\n"
     ]
    }
   ],
   "source": [
    "#파티션 나누기 : 작은 값은 왼쪽, 큰 값은 오른쪽으로 배치\n",
    "#               작은값은 위로, 큰 값은 아래로 배치\n",
    "print(x)\n",
    "# 작은 값은 왼쪽 큰값은 오른쪽\n",
    "print(np.partition(x,3)) # axis = 1 기본값\n",
    "print(np.partition(x,3,axis = 1))\n",
    "# 작은 값은 위로, 큰값은 아래로\n",
    "print(np.partition(x,3,axis = 0)) # 열기준"
   ]
  },
  {
   "cell_type": "code",
   "execution_count": 196,
   "id": "1ce7529e-8c6c-472e-b315-23a4ff68cd57",
   "metadata": {},
   "outputs": [
    {
     "ename": "FileNotFoundError",
     "evalue": "[Errno 2] No such file or directory: 'ta_20231226161619.csv'",
     "output_type": "error",
     "traceback": [
      "\u001b[1;31m---------------------------------------------------------------------------\u001b[0m",
      "\u001b[1;31mFileNotFoundError\u001b[0m                         Traceback (most recent call last)",
      "Cell \u001b[1;32mIn[196], line 1\u001b[0m\n\u001b[1;32m----> 1\u001b[0m df \u001b[38;5;241m=\u001b[39m \u001b[43mpd\u001b[49m\u001b[38;5;241;43m.\u001b[39;49m\u001b[43mread_csv\u001b[49m\u001b[43m(\u001b[49m\u001b[38;5;124;43m\"\u001b[39;49m\u001b[38;5;124;43mta_20231226161619.csv\u001b[39;49m\u001b[38;5;124;43m\"\u001b[39;49m\u001b[43m)\u001b[49m\n\u001b[0;32m      2\u001b[0m df\n\u001b[0;32m      3\u001b[0m cmax \u001b[38;5;241m=\u001b[39m np\u001b[38;5;241m.\u001b[39marray(df[\u001b[38;5;124m'\u001b[39m\u001b[38;5;124m최고기온(℃)\u001b[39m\u001b[38;5;124m'\u001b[39m])\n",
      "File \u001b[1;32mC:\\Python311\\Lib\\site-packages\\pandas\\io\\parsers\\readers.py:948\u001b[0m, in \u001b[0;36mread_csv\u001b[1;34m(filepath_or_buffer, sep, delimiter, header, names, index_col, usecols, dtype, engine, converters, true_values, false_values, skipinitialspace, skiprows, skipfooter, nrows, na_values, keep_default_na, na_filter, verbose, skip_blank_lines, parse_dates, infer_datetime_format, keep_date_col, date_parser, date_format, dayfirst, cache_dates, iterator, chunksize, compression, thousands, decimal, lineterminator, quotechar, quoting, doublequote, escapechar, comment, encoding, encoding_errors, dialect, on_bad_lines, delim_whitespace, low_memory, memory_map, float_precision, storage_options, dtype_backend)\u001b[0m\n\u001b[0;32m    935\u001b[0m kwds_defaults \u001b[38;5;241m=\u001b[39m _refine_defaults_read(\n\u001b[0;32m    936\u001b[0m     dialect,\n\u001b[0;32m    937\u001b[0m     delimiter,\n\u001b[1;32m   (...)\u001b[0m\n\u001b[0;32m    944\u001b[0m     dtype_backend\u001b[38;5;241m=\u001b[39mdtype_backend,\n\u001b[0;32m    945\u001b[0m )\n\u001b[0;32m    946\u001b[0m kwds\u001b[38;5;241m.\u001b[39mupdate(kwds_defaults)\n\u001b[1;32m--> 948\u001b[0m \u001b[38;5;28;01mreturn\u001b[39;00m \u001b[43m_read\u001b[49m\u001b[43m(\u001b[49m\u001b[43mfilepath_or_buffer\u001b[49m\u001b[43m,\u001b[49m\u001b[43m \u001b[49m\u001b[43mkwds\u001b[49m\u001b[43m)\u001b[49m\n",
      "File \u001b[1;32mC:\\Python311\\Lib\\site-packages\\pandas\\io\\parsers\\readers.py:611\u001b[0m, in \u001b[0;36m_read\u001b[1;34m(filepath_or_buffer, kwds)\u001b[0m\n\u001b[0;32m    608\u001b[0m _validate_names(kwds\u001b[38;5;241m.\u001b[39mget(\u001b[38;5;124m\"\u001b[39m\u001b[38;5;124mnames\u001b[39m\u001b[38;5;124m\"\u001b[39m, \u001b[38;5;28;01mNone\u001b[39;00m))\n\u001b[0;32m    610\u001b[0m \u001b[38;5;66;03m# Create the parser.\u001b[39;00m\n\u001b[1;32m--> 611\u001b[0m parser \u001b[38;5;241m=\u001b[39m \u001b[43mTextFileReader\u001b[49m\u001b[43m(\u001b[49m\u001b[43mfilepath_or_buffer\u001b[49m\u001b[43m,\u001b[49m\u001b[43m \u001b[49m\u001b[38;5;241;43m*\u001b[39;49m\u001b[38;5;241;43m*\u001b[39;49m\u001b[43mkwds\u001b[49m\u001b[43m)\u001b[49m\n\u001b[0;32m    613\u001b[0m \u001b[38;5;28;01mif\u001b[39;00m chunksize \u001b[38;5;129;01mor\u001b[39;00m iterator:\n\u001b[0;32m    614\u001b[0m     \u001b[38;5;28;01mreturn\u001b[39;00m parser\n",
      "File \u001b[1;32mC:\\Python311\\Lib\\site-packages\\pandas\\io\\parsers\\readers.py:1448\u001b[0m, in \u001b[0;36mTextFileReader.__init__\u001b[1;34m(self, f, engine, **kwds)\u001b[0m\n\u001b[0;32m   1445\u001b[0m     \u001b[38;5;28mself\u001b[39m\u001b[38;5;241m.\u001b[39moptions[\u001b[38;5;124m\"\u001b[39m\u001b[38;5;124mhas_index_names\u001b[39m\u001b[38;5;124m\"\u001b[39m] \u001b[38;5;241m=\u001b[39m kwds[\u001b[38;5;124m\"\u001b[39m\u001b[38;5;124mhas_index_names\u001b[39m\u001b[38;5;124m\"\u001b[39m]\n\u001b[0;32m   1447\u001b[0m \u001b[38;5;28mself\u001b[39m\u001b[38;5;241m.\u001b[39mhandles: IOHandles \u001b[38;5;241m|\u001b[39m \u001b[38;5;28;01mNone\u001b[39;00m \u001b[38;5;241m=\u001b[39m \u001b[38;5;28;01mNone\u001b[39;00m\n\u001b[1;32m-> 1448\u001b[0m \u001b[38;5;28mself\u001b[39m\u001b[38;5;241m.\u001b[39m_engine \u001b[38;5;241m=\u001b[39m \u001b[38;5;28;43mself\u001b[39;49m\u001b[38;5;241;43m.\u001b[39;49m\u001b[43m_make_engine\u001b[49m\u001b[43m(\u001b[49m\u001b[43mf\u001b[49m\u001b[43m,\u001b[49m\u001b[43m \u001b[49m\u001b[38;5;28;43mself\u001b[39;49m\u001b[38;5;241;43m.\u001b[39;49m\u001b[43mengine\u001b[49m\u001b[43m)\u001b[49m\n",
      "File \u001b[1;32mC:\\Python311\\Lib\\site-packages\\pandas\\io\\parsers\\readers.py:1705\u001b[0m, in \u001b[0;36mTextFileReader._make_engine\u001b[1;34m(self, f, engine)\u001b[0m\n\u001b[0;32m   1703\u001b[0m     \u001b[38;5;28;01mif\u001b[39;00m \u001b[38;5;124m\"\u001b[39m\u001b[38;5;124mb\u001b[39m\u001b[38;5;124m\"\u001b[39m \u001b[38;5;129;01mnot\u001b[39;00m \u001b[38;5;129;01min\u001b[39;00m mode:\n\u001b[0;32m   1704\u001b[0m         mode \u001b[38;5;241m+\u001b[39m\u001b[38;5;241m=\u001b[39m \u001b[38;5;124m\"\u001b[39m\u001b[38;5;124mb\u001b[39m\u001b[38;5;124m\"\u001b[39m\n\u001b[1;32m-> 1705\u001b[0m \u001b[38;5;28mself\u001b[39m\u001b[38;5;241m.\u001b[39mhandles \u001b[38;5;241m=\u001b[39m \u001b[43mget_handle\u001b[49m\u001b[43m(\u001b[49m\n\u001b[0;32m   1706\u001b[0m \u001b[43m    \u001b[49m\u001b[43mf\u001b[49m\u001b[43m,\u001b[49m\n\u001b[0;32m   1707\u001b[0m \u001b[43m    \u001b[49m\u001b[43mmode\u001b[49m\u001b[43m,\u001b[49m\n\u001b[0;32m   1708\u001b[0m \u001b[43m    \u001b[49m\u001b[43mencoding\u001b[49m\u001b[38;5;241;43m=\u001b[39;49m\u001b[38;5;28;43mself\u001b[39;49m\u001b[38;5;241;43m.\u001b[39;49m\u001b[43moptions\u001b[49m\u001b[38;5;241;43m.\u001b[39;49m\u001b[43mget\u001b[49m\u001b[43m(\u001b[49m\u001b[38;5;124;43m\"\u001b[39;49m\u001b[38;5;124;43mencoding\u001b[39;49m\u001b[38;5;124;43m\"\u001b[39;49m\u001b[43m,\u001b[49m\u001b[43m \u001b[49m\u001b[38;5;28;43;01mNone\u001b[39;49;00m\u001b[43m)\u001b[49m\u001b[43m,\u001b[49m\n\u001b[0;32m   1709\u001b[0m \u001b[43m    \u001b[49m\u001b[43mcompression\u001b[49m\u001b[38;5;241;43m=\u001b[39;49m\u001b[38;5;28;43mself\u001b[39;49m\u001b[38;5;241;43m.\u001b[39;49m\u001b[43moptions\u001b[49m\u001b[38;5;241;43m.\u001b[39;49m\u001b[43mget\u001b[49m\u001b[43m(\u001b[49m\u001b[38;5;124;43m\"\u001b[39;49m\u001b[38;5;124;43mcompression\u001b[39;49m\u001b[38;5;124;43m\"\u001b[39;49m\u001b[43m,\u001b[49m\u001b[43m \u001b[49m\u001b[38;5;28;43;01mNone\u001b[39;49;00m\u001b[43m)\u001b[49m\u001b[43m,\u001b[49m\n\u001b[0;32m   1710\u001b[0m \u001b[43m    \u001b[49m\u001b[43mmemory_map\u001b[49m\u001b[38;5;241;43m=\u001b[39;49m\u001b[38;5;28;43mself\u001b[39;49m\u001b[38;5;241;43m.\u001b[39;49m\u001b[43moptions\u001b[49m\u001b[38;5;241;43m.\u001b[39;49m\u001b[43mget\u001b[49m\u001b[43m(\u001b[49m\u001b[38;5;124;43m\"\u001b[39;49m\u001b[38;5;124;43mmemory_map\u001b[39;49m\u001b[38;5;124;43m\"\u001b[39;49m\u001b[43m,\u001b[49m\u001b[43m \u001b[49m\u001b[38;5;28;43;01mFalse\u001b[39;49;00m\u001b[43m)\u001b[49m\u001b[43m,\u001b[49m\n\u001b[0;32m   1711\u001b[0m \u001b[43m    \u001b[49m\u001b[43mis_text\u001b[49m\u001b[38;5;241;43m=\u001b[39;49m\u001b[43mis_text\u001b[49m\u001b[43m,\u001b[49m\n\u001b[0;32m   1712\u001b[0m \u001b[43m    \u001b[49m\u001b[43merrors\u001b[49m\u001b[38;5;241;43m=\u001b[39;49m\u001b[38;5;28;43mself\u001b[39;49m\u001b[38;5;241;43m.\u001b[39;49m\u001b[43moptions\u001b[49m\u001b[38;5;241;43m.\u001b[39;49m\u001b[43mget\u001b[49m\u001b[43m(\u001b[49m\u001b[38;5;124;43m\"\u001b[39;49m\u001b[38;5;124;43mencoding_errors\u001b[39;49m\u001b[38;5;124;43m\"\u001b[39;49m\u001b[43m,\u001b[49m\u001b[43m \u001b[49m\u001b[38;5;124;43m\"\u001b[39;49m\u001b[38;5;124;43mstrict\u001b[39;49m\u001b[38;5;124;43m\"\u001b[39;49m\u001b[43m)\u001b[49m\u001b[43m,\u001b[49m\n\u001b[0;32m   1713\u001b[0m \u001b[43m    \u001b[49m\u001b[43mstorage_options\u001b[49m\u001b[38;5;241;43m=\u001b[39;49m\u001b[38;5;28;43mself\u001b[39;49m\u001b[38;5;241;43m.\u001b[39;49m\u001b[43moptions\u001b[49m\u001b[38;5;241;43m.\u001b[39;49m\u001b[43mget\u001b[49m\u001b[43m(\u001b[49m\u001b[38;5;124;43m\"\u001b[39;49m\u001b[38;5;124;43mstorage_options\u001b[39;49m\u001b[38;5;124;43m\"\u001b[39;49m\u001b[43m,\u001b[49m\u001b[43m \u001b[49m\u001b[38;5;28;43;01mNone\u001b[39;49;00m\u001b[43m)\u001b[49m\u001b[43m,\u001b[49m\n\u001b[0;32m   1714\u001b[0m \u001b[43m\u001b[49m\u001b[43m)\u001b[49m\n\u001b[0;32m   1715\u001b[0m \u001b[38;5;28;01massert\u001b[39;00m \u001b[38;5;28mself\u001b[39m\u001b[38;5;241m.\u001b[39mhandles \u001b[38;5;129;01mis\u001b[39;00m \u001b[38;5;129;01mnot\u001b[39;00m \u001b[38;5;28;01mNone\u001b[39;00m\n\u001b[0;32m   1716\u001b[0m f \u001b[38;5;241m=\u001b[39m \u001b[38;5;28mself\u001b[39m\u001b[38;5;241m.\u001b[39mhandles\u001b[38;5;241m.\u001b[39mhandle\n",
      "File \u001b[1;32mC:\\Python311\\Lib\\site-packages\\pandas\\io\\common.py:863\u001b[0m, in \u001b[0;36mget_handle\u001b[1;34m(path_or_buf, mode, encoding, compression, memory_map, is_text, errors, storage_options)\u001b[0m\n\u001b[0;32m    858\u001b[0m \u001b[38;5;28;01melif\u001b[39;00m \u001b[38;5;28misinstance\u001b[39m(handle, \u001b[38;5;28mstr\u001b[39m):\n\u001b[0;32m    859\u001b[0m     \u001b[38;5;66;03m# Check whether the filename is to be opened in binary mode.\u001b[39;00m\n\u001b[0;32m    860\u001b[0m     \u001b[38;5;66;03m# Binary mode does not support 'encoding' and 'newline'.\u001b[39;00m\n\u001b[0;32m    861\u001b[0m     \u001b[38;5;28;01mif\u001b[39;00m ioargs\u001b[38;5;241m.\u001b[39mencoding \u001b[38;5;129;01mand\u001b[39;00m \u001b[38;5;124m\"\u001b[39m\u001b[38;5;124mb\u001b[39m\u001b[38;5;124m\"\u001b[39m \u001b[38;5;129;01mnot\u001b[39;00m \u001b[38;5;129;01min\u001b[39;00m ioargs\u001b[38;5;241m.\u001b[39mmode:\n\u001b[0;32m    862\u001b[0m         \u001b[38;5;66;03m# Encoding\u001b[39;00m\n\u001b[1;32m--> 863\u001b[0m         handle \u001b[38;5;241m=\u001b[39m \u001b[38;5;28mopen\u001b[39m(\n\u001b[0;32m    864\u001b[0m             handle,\n\u001b[0;32m    865\u001b[0m             ioargs\u001b[38;5;241m.\u001b[39mmode,\n\u001b[0;32m    866\u001b[0m             encoding\u001b[38;5;241m=\u001b[39mioargs\u001b[38;5;241m.\u001b[39mencoding,\n\u001b[0;32m    867\u001b[0m             errors\u001b[38;5;241m=\u001b[39merrors,\n\u001b[0;32m    868\u001b[0m             newline\u001b[38;5;241m=\u001b[39m\u001b[38;5;124m\"\u001b[39m\u001b[38;5;124m\"\u001b[39m,\n\u001b[0;32m    869\u001b[0m         )\n\u001b[0;32m    870\u001b[0m     \u001b[38;5;28;01melse\u001b[39;00m:\n\u001b[0;32m    871\u001b[0m         \u001b[38;5;66;03m# Binary mode\u001b[39;00m\n\u001b[0;32m    872\u001b[0m         handle \u001b[38;5;241m=\u001b[39m \u001b[38;5;28mopen\u001b[39m(handle, ioargs\u001b[38;5;241m.\u001b[39mmode)\n",
      "\u001b[1;31mFileNotFoundError\u001b[0m: [Errno 2] No such file or directory: 'ta_20231226161619.csv'"
     ]
    }
   ],
   "source": [
    "df = pd.read_csv(\"ta_20231226161619.csv\")\n",
    "df\n",
    "cmax = np.array(df['최고기온(℃)'])\n",
    "cmax"
   ]
  },
  {
   "cell_type": "code",
   "execution_count": null,
   "id": "06653850-5c86-45d6-900a-f8d6ab44c3ef",
   "metadata": {},
   "outputs": [],
   "source": []
  }
 ],
 "metadata": {
  "kernelspec": {
   "display_name": "Python 3 (ipykernel)",
   "language": "python",
   "name": "python3"
  },
  "language_info": {
   "codemirror_mode": {
    "name": "ipython",
    "version": 3
   },
   "file_extension": ".py",
   "mimetype": "text/x-python",
   "name": "python",
   "nbconvert_exporter": "python",
   "pygments_lexer": "ipython3",
   "version": "3.11.4"
  }
 },
 "nbformat": 4,
 "nbformat_minor": 5
}

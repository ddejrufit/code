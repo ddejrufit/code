{
 "cells": [
  {
   "cell_type": "code",
   "execution_count": 1,
   "id": "4398703f-8afb-4fe6-a908-dd414ed84743",
   "metadata": {},
   "outputs": [
    {
     "name": "stdout",
     "output_type": "stream",
     "text": [
      "[1 2 3 4]\n"
     ]
    }
   ],
   "source": [
    "# 기본자료형 : 정수 , 실수, 문자열, 부울 : 비지니스 자료형\n",
    "# 파이썬 자료형 : 리스트, 튜플, 딕셔너리, 집합\n",
    "# numpy : 숫자배열 : 리스트 : indexing, slicing\n",
    "#                   배열표시 : x[열], x[행,열]\n",
    "#                   집계연산 ,  삼각함수\n",
    "#                   배열을 만드는 방법\n",
    "#                   팬시index, 마스크\n",
    "# pandas : series : 리스트  # 모든 데이터를 처리할 수 있는 1차원 배열\n",
    "#          dataFrame : 딕셔너리  # 모든 데이터를 처리할 수 있는 2차원 배열\n",
    "#          연산하는 방법\n",
    "import numpy as np\n",
    "i = 10\n",
    "str1 = \"이숭무\"\n",
    "f = 10.5\n",
    "l = [1,2,3]\n",
    "t = (1,2,3,4)\n",
    "d = {\"a\" :1 , \"b\" :2}\n",
    "ss = {1,2,3,4,5}\n",
    "m = np.array([1,2,3,4])\n",
    "print(m) # [1 2 3 4]\n",
    "#pip install pandas"
   ]
  },
  {
   "cell_type": "code",
   "execution_count": 11,
   "id": "fbef366e-3280-4a7b-94ad-be283e436d45",
   "metadata": {},
   "outputs": [
    {
     "name": "stdout",
     "output_type": "stream",
     "text": [
      "이숭무\n",
      "{'country': ['USA', 'korea'], 'continent': ['Africa', 'Asia']}\n",
      "['USA', 'korea']\n",
      "USA\n"
     ]
    },
    {
     "data": {
      "text/html": [
       "<div>\n",
       "<style scoped>\n",
       "    .dataframe tbody tr th:only-of-type {\n",
       "        vertical-align: middle;\n",
       "    }\n",
       "\n",
       "    .dataframe tbody tr th {\n",
       "        vertical-align: top;\n",
       "    }\n",
       "\n",
       "    .dataframe thead th {\n",
       "        text-align: right;\n",
       "    }\n",
       "</style>\n",
       "<table border=\"1\" class=\"dataframe\">\n",
       "  <thead>\n",
       "    <tr style=\"text-align: right;\">\n",
       "      <th></th>\n",
       "      <th>country</th>\n",
       "      <th>continent</th>\n",
       "    </tr>\n",
       "  </thead>\n",
       "  <tbody>\n",
       "    <tr>\n",
       "      <th>0</th>\n",
       "      <td>USA</td>\n",
       "      <td>Africa</td>\n",
       "    </tr>\n",
       "    <tr>\n",
       "      <th>1</th>\n",
       "      <td>korea</td>\n",
       "      <td>Asia</td>\n",
       "    </tr>\n",
       "  </tbody>\n",
       "</table>\n",
       "</div>"
      ],
      "text/plain": [
       "  country continent\n",
       "0     USA    Africa\n",
       "1   korea      Asia"
      ]
     },
     "execution_count": 11,
     "metadata": {},
     "output_type": "execute_result"
    }
   ],
   "source": [
    "import pandas as pd\n",
    "dic = {\"a\" : \"이숭무\",\n",
    "       \"b\" : \"이상범\"}\n",
    "dic\n",
    "print(dic['a'])\n",
    "dic1 = {'country' : ['USA','korea'] ,\n",
    "        'continent' : ['Africa', 'Asia'],\n",
    "       }\n",
    "print(dic1)\n",
    "print(dic1['country'])  # ['USA', 'korea']\n",
    "#                           0        1\n",
    "print(dic1['country'][0])\n",
    "\n",
    "df = pd.DataFrame(dic1)\n",
    "df['country']\n",
    "df['country'][0]\n",
    "df"
   ]
  },
  {
   "cell_type": "code",
   "execution_count": 23,
   "id": "e92796d9-e65a-49b3-8fa4-24aa294f0fae",
   "metadata": {},
   "outputs": [
    {
     "name": "stdout",
     "output_type": "stream",
     "text": [
      "['Afghanistan', 'Zimbabwe']\n",
      "0    Afghanistan\n",
      "1       Zimbabwe\n",
      "Name: country, dtype: object\n",
      "country      Afghanistan\n",
      "continent           Asia\n",
      "year                1952\n",
      "Name: 0, dtype: object\n"
     ]
    }
   ],
   "source": [
    "df1 = pd.read_csv(\"https://raw.githubusercontent.com/SoongMoo/soldesk20231218/main/data/gapminder.tsv\", sep=\"\\t\")\n",
    "df1\n",
    "# DataFrame\n",
    "df1['country']\n",
    "df1['country'][0]\n",
    "df1\n",
    "dic = {'country' :   ['Afghanistan','Zimbabwe'], # 열\n",
    "       'continent' : ['Asia', 'Africa'], # 열\n",
    "       'year' :      [1952, 1957]} # 열\n",
    "                #       0     1\n",
    "                #          행\n",
    "print(dic['country'])\n",
    "df = pd.DataFrame(dic)\n",
    "print(df['country']) # 열\n",
    "print(df.loc[0]) # 행"
   ]
  },
  {
   "cell_type": "code",
   "execution_count": 29,
   "id": "9d955683-057b-43c8-917f-2018ab433e56",
   "metadata": {},
   "outputs": [
    {
     "data": {
      "text/html": [
       "<div>\n",
       "<style scoped>\n",
       "    .dataframe tbody tr th:only-of-type {\n",
       "        vertical-align: middle;\n",
       "    }\n",
       "\n",
       "    .dataframe tbody tr th {\n",
       "        vertical-align: top;\n",
       "    }\n",
       "\n",
       "    .dataframe thead th {\n",
       "        text-align: right;\n",
       "    }\n",
       "</style>\n",
       "<table border=\"1\" class=\"dataframe\">\n",
       "  <thead>\n",
       "    <tr style=\"text-align: right;\">\n",
       "      <th></th>\n",
       "      <th>country</th>\n",
       "      <th>continent</th>\n",
       "      <th>year</th>\n",
       "      <th>lifeExp</th>\n",
       "      <th>pop</th>\n",
       "      <th>gdpPercap</th>\n",
       "    </tr>\n",
       "  </thead>\n",
       "  <tbody>\n",
       "    <tr>\n",
       "      <th>0</th>\n",
       "      <td>Afghanistan</td>\n",
       "      <td>Asia</td>\n",
       "      <td>1952</td>\n",
       "      <td>28.801</td>\n",
       "      <td>8425333</td>\n",
       "      <td>779.445314</td>\n",
       "    </tr>\n",
       "    <tr>\n",
       "      <th>1</th>\n",
       "      <td>Afghanistan</td>\n",
       "      <td>Asia</td>\n",
       "      <td>1957</td>\n",
       "      <td>30.332</td>\n",
       "      <td>9240934</td>\n",
       "      <td>820.853030</td>\n",
       "    </tr>\n",
       "    <tr>\n",
       "      <th>2</th>\n",
       "      <td>Afghanistan</td>\n",
       "      <td>Asia</td>\n",
       "      <td>1962</td>\n",
       "      <td>31.997</td>\n",
       "      <td>10267083</td>\n",
       "      <td>853.100710</td>\n",
       "    </tr>\n",
       "    <tr>\n",
       "      <th>3</th>\n",
       "      <td>Afghanistan</td>\n",
       "      <td>Asia</td>\n",
       "      <td>1967</td>\n",
       "      <td>34.020</td>\n",
       "      <td>11537966</td>\n",
       "      <td>836.197138</td>\n",
       "    </tr>\n",
       "    <tr>\n",
       "      <th>4</th>\n",
       "      <td>Afghanistan</td>\n",
       "      <td>Asia</td>\n",
       "      <td>1972</td>\n",
       "      <td>36.088</td>\n",
       "      <td>13079460</td>\n",
       "      <td>739.981106</td>\n",
       "    </tr>\n",
       "  </tbody>\n",
       "</table>\n",
       "</div>"
      ],
      "text/plain": [
       "       country continent  year  lifeExp       pop   gdpPercap\n",
       "0  Afghanistan      Asia  1952   28.801   8425333  779.445314\n",
       "1  Afghanistan      Asia  1957   30.332   9240934  820.853030\n",
       "2  Afghanistan      Asia  1962   31.997  10267083  853.100710\n",
       "3  Afghanistan      Asia  1967   34.020  11537966  836.197138\n",
       "4  Afghanistan      Asia  1972   36.088  13079460  739.981106"
      ]
     },
     "execution_count": 29,
     "metadata": {},
     "output_type": "execute_result"
    }
   ],
   "source": [
    "df1.head() # 5행\n",
    "df1.head(7)\n",
    "df1.head(n = 9)\n",
    "df1.head(n = 5) "
   ]
  },
  {
   "cell_type": "code",
   "execution_count": 34,
   "id": "4be9f03b-312c-43cc-94f3-842a14fb14bd",
   "metadata": {},
   "outputs": [
    {
     "data": {
      "text/html": [
       "<div>\n",
       "<style scoped>\n",
       "    .dataframe tbody tr th:only-of-type {\n",
       "        vertical-align: middle;\n",
       "    }\n",
       "\n",
       "    .dataframe tbody tr th {\n",
       "        vertical-align: top;\n",
       "    }\n",
       "\n",
       "    .dataframe thead th {\n",
       "        text-align: right;\n",
       "    }\n",
       "</style>\n",
       "<table border=\"1\" class=\"dataframe\">\n",
       "  <thead>\n",
       "    <tr style=\"text-align: right;\">\n",
       "      <th></th>\n",
       "      <th>country</th>\n",
       "      <th>continent</th>\n",
       "      <th>year</th>\n",
       "      <th>lifeExp</th>\n",
       "      <th>pop</th>\n",
       "      <th>gdpPercap</th>\n",
       "    </tr>\n",
       "  </thead>\n",
       "  <tbody>\n",
       "    <tr>\n",
       "      <th>1699</th>\n",
       "      <td>Zimbabwe</td>\n",
       "      <td>Africa</td>\n",
       "      <td>1987</td>\n",
       "      <td>62.351</td>\n",
       "      <td>9216418</td>\n",
       "      <td>706.157306</td>\n",
       "    </tr>\n",
       "    <tr>\n",
       "      <th>1700</th>\n",
       "      <td>Zimbabwe</td>\n",
       "      <td>Africa</td>\n",
       "      <td>1992</td>\n",
       "      <td>60.377</td>\n",
       "      <td>10704340</td>\n",
       "      <td>693.420786</td>\n",
       "    </tr>\n",
       "    <tr>\n",
       "      <th>1701</th>\n",
       "      <td>Zimbabwe</td>\n",
       "      <td>Africa</td>\n",
       "      <td>1997</td>\n",
       "      <td>46.809</td>\n",
       "      <td>11404948</td>\n",
       "      <td>792.449960</td>\n",
       "    </tr>\n",
       "    <tr>\n",
       "      <th>1702</th>\n",
       "      <td>Zimbabwe</td>\n",
       "      <td>Africa</td>\n",
       "      <td>2002</td>\n",
       "      <td>39.989</td>\n",
       "      <td>11926563</td>\n",
       "      <td>672.038623</td>\n",
       "    </tr>\n",
       "    <tr>\n",
       "      <th>1703</th>\n",
       "      <td>Zimbabwe</td>\n",
       "      <td>Africa</td>\n",
       "      <td>2007</td>\n",
       "      <td>43.487</td>\n",
       "      <td>12311143</td>\n",
       "      <td>469.709298</td>\n",
       "    </tr>\n",
       "  </tbody>\n",
       "</table>\n",
       "</div>"
      ],
      "text/plain": [
       "       country continent  year  lifeExp       pop   gdpPercap\n",
       "1699  Zimbabwe    Africa  1987   62.351   9216418  706.157306\n",
       "1700  Zimbabwe    Africa  1992   60.377  10704340  693.420786\n",
       "1701  Zimbabwe    Africa  1997   46.809  11404948  792.449960\n",
       "1702  Zimbabwe    Africa  2002   39.989  11926563  672.038623\n",
       "1703  Zimbabwe    Africa  2007   43.487  12311143  469.709298"
      ]
     },
     "execution_count": 34,
     "metadata": {},
     "output_type": "execute_result"
    }
   ],
   "source": [
    "df1.tail() # n = 5\n",
    "df1.tail(7)\n",
    "df1.tail(n = 9)\n",
    "df1.tail(n = 5)"
   ]
  },
  {
   "cell_type": "code",
   "execution_count": 66,
   "id": "6bc62104-d0ea-47ca-9a4a-c1fc1e85c655",
   "metadata": {},
   "outputs": [
    {
     "name": "stdout",
     "output_type": "stream",
     "text": [
      "<class 'int'>\n",
      "<class 'float'>\n",
      "<class 'str'>\n",
      "<class 'bool'>\n",
      "<class 'list'>\n",
      "<class 'tuple'>\n",
      "<class 'set'>\n",
      "<class 'dict'>\n",
      "<class 'pandas.core.frame.DataFrame'>\n",
      "<class 'pandas.core.series.Series'>\n",
      "<class 'pandas.core.frame.DataFrame'>\n",
      "<class 'pandas.core.series.Series'>\n",
      "<class 'pandas.core.frame.DataFrame'>\n"
     ]
    }
   ],
   "source": [
    "i = 10\n",
    "f = 10.5\n",
    "str1 = \"이숭무\"\n",
    "bl = True\n",
    "l = [1,2,3,4]\n",
    "t = 1,2,3,4\n",
    "ss = {1,2,3,4,5}\n",
    "d = {1 : \"이\", 2: \"숭\"}\n",
    "print(type(i)) # <class 'int'>\n",
    "print(type(f)) # <class 'float'>\n",
    "print(type(str1)) # <class 'str'>\n",
    "print(type(bl)) # <class 'bool'>\n",
    "print(type(l)) # <class 'list'>\n",
    "print(type(t)) # <class 'tuple'>\n",
    "print(type(ss)) # <class 'set'>\n",
    "print(type(d)) #<class 'dict'>\n",
    "print(type(df1)) # <class 'pandas.core.frame.DataFrame'>\n",
    "print(type(df1['country'])) #<class 'pandas.core.series.Series'>\n",
    "#dic[['country','continent']] #딕셔너리는 두개 이상의 키를 출력할 수없다.\n",
    "print(type(df1[['country','continent']])) # <class 'pandas.core.frame.DataFrame'>\n",
    "print(type(df1.loc[0])) # <class 'pandas.core.series.Series'>\n",
    "print(type(df1.loc[[0,1]])) # <class 'pandas.core.frame.DataFrame'>"
   ]
  },
  {
   "cell_type": "code",
   "execution_count": 87,
   "id": "a4689ace-e82d-4f26-8005-4898065d01d9",
   "metadata": {},
   "outputs": [
    {
     "name": "stdout",
     "output_type": "stream",
     "text": [
      "<class 'pandas.core.frame.DataFrame'>\n",
      "RangeIndex: 1704 entries, 0 to 1703\n",
      "Data columns (total 6 columns):\n",
      " #   Column     Non-Null Count  Dtype  \n",
      "---  ------     --------------  -----  \n",
      " 0   country    1704 non-null   object \n",
      " 1   continent  1704 non-null   object \n",
      " 2   year       1704 non-null   int64  \n",
      " 3   lifeExp    1704 non-null   float64\n",
      " 4   pop        1704 non-null   int64  \n",
      " 5   gdpPercap  1704 non-null   float64\n",
      "dtypes: float64(2), int64(2), object(2)\n",
      "memory usage: 80.0+ KB\n"
     ]
    }
   ],
   "source": [
    "# 자료형의 크기\n",
    "# len(i) #숫자는 크기를 가져올 수 없다\n",
    "len(str1)\n",
    "len(l)\n",
    "len(t)\n",
    "len(dic) # 3개 키\n",
    "# len(bl) # 크기를 가져올 수 없다.\n",
    "len(ss) \n",
    "len(df1) # DataFrame : 행의 갯수를 가져온다.\n",
    "df1.shape # (1704, 6) : 행, 열\n",
    "df1.shape[0] # 행의 갯수\n",
    "df1.shape[1] # 열의 갯수\n",
    "len(df1['country']) # 열의 크기 : 행의 갯수\n",
    "dic1.keys()\n",
    "df1.keys() # 열이름  \n",
    "df1.columns # 열이름\n",
    "df1.dtypes\n",
    "'''\n",
    "country       object # 문자열\n",
    "continent     object # 문자열\n",
    "year           int64 # 정수\n",
    "lifeExp      float64 # 실수\n",
    "pop            int64 # 정수\n",
    "gdpPercap    float64 # 실수\n",
    "dtype: object # 컬럼의 이름 :  문자열\n",
    "'''\n",
    "# 데이터 프레임의 전체 정보\n",
    "df1.info()"
   ]
  },
  {
   "cell_type": "code",
   "execution_count": null,
   "id": "4da1741f-6342-4eab-a541-aae0c0faebb9",
   "metadata": {},
   "outputs": [],
   "source": [
    "dic = {'country':   ['Afghanistan', 'Zimbabwe'], #  열\n",
    "       'continent': ['Asia', 'Africa'],\n",
    "       'year':      [1952, 1957]}\n",
    "                 #    0      1   \n",
    "#                        행\n",
    "dic\n",
    "df = pd.DataFrame(dic)\n",
    "df\n",
    "print(dic['country']) # ['Afghanistan', 'Zimbabwe'] # 열이름 \n",
    "print(dic['country'][0]) \n",
    "print(dic['country'][1])\n",
    "print(df['country']) # 열이름\n",
    "print(df['country'][0]) # [열][행]\n",
    "print(df['country'][1])"
   ]
  },
  {
   "cell_type": "code",
   "execution_count": 124,
   "id": "d1b5a122-580c-4bed-9c0d-1dab31d6950b",
   "metadata": {},
   "outputs": [
    {
     "name": "stdout",
     "output_type": "stream",
     "text": [
      "['Afghanistan', 'Zimbabwe']\n",
      "Zimbabwe\n",
      "Afghanistan\n",
      "0    Afghanistan\n",
      "1       Zimbabwe\n",
      "Name: 0, dtype: object\n",
      "Afghanistan\n",
      "0    Afghanistan\n",
      "1           Asia\n",
      "2           1952\n",
      "Name: 0, dtype: object\n",
      "Afghanistan\n",
      "Asia\n",
      "Asia\n",
      "country      Afghanistan\n",
      "continent           Asia\n",
      "year                1952\n",
      "Name: 0, dtype: object\n",
      "Afghanistan\n",
      "Asia\n",
      "Asia\n"
     ]
    }
   ],
   "source": [
    "dic1 = dic = {0: ['Afghanistan', 'Zimbabwe'], # 열\n",
    "              1: ['Asia', 'Africa'],\n",
    "              2: [1952, 1957]}\n",
    "#                  0      1\n",
    "#                     행\n",
    "dic1\n",
    "df2 = pd.DataFrame(dic1)\n",
    "df2\n",
    "print(dic1[0]) # ['Afghanistan', 'Zimbabwe'] # 열이름\n",
    "print(dic1[0][1]) # [열][행]\n",
    "print(dic1[0][0]) # \n",
    "# print(dic1[0, 0]) # 열 행이므로 안됨\n",
    "print(df2[0]) # 열\n",
    "print(df2[0][0]) # [열][행]\n",
    "# print(df2[0, 0])  # 열 행이므로 안됨\n",
    "df2 # 2차원배열과 같다.\n",
    "# 행열\n",
    "df2[0] # 열이름\n",
    "print(df2.loc[0]) # 행이름\n",
    "'''\n",
    "0    Afghanistan\n",
    "1           Asia\n",
    "2           1952\n",
    "'''\n",
    "print(df2.loc[0][0]) \n",
    "print(df2.loc[0][1]) \n",
    "print(df2.loc[0 , 1]) \n",
    "df\n",
    "'''\n",
    "     country\tcontinent\tyear\n",
    "0\tAfghanistan\tAsia\t1952\n",
    "1\tZimbabwe\tAfrica\t1957\n",
    "'''\n",
    "df['country']\n",
    "print(df.loc[0])\n",
    "'''\n",
    "country      Afghanistan\n",
    "continent           Asia\n",
    "year                1952\n",
    "'''\n",
    "print(df.loc[0]['country'])\n",
    "print(df.loc[0]['continent'])\n",
    "print(df.loc[0 , 'continent']) # 행 열"
   ]
  },
  {
   "cell_type": "code",
   "execution_count": 129,
   "id": "a37e3ce3-a5e5-4586-ab33-4a27dae42b8e",
   "metadata": {},
   "outputs": [
    {
     "name": "stdout",
     "output_type": "stream",
     "text": [
      "Afghanistan\n",
      "Afghanistan\n"
     ]
    }
   ],
   "source": [
    "df1\n",
    "print(df1['country'][0]) # 열 행\n",
    "print(df1.loc[0, 'country']) # 행, 열"
   ]
  },
  {
   "cell_type": "code",
   "execution_count": 138,
   "id": "0fe7b873-6a49-4205-897d-f5102b26c2ed",
   "metadata": {},
   "outputs": [
    {
     "data": {
      "text/plain": [
       "country        Zimbabwe\n",
       "continent        Africa\n",
       "year               2007\n",
       "lifeExp          43.487\n",
       "pop            12311143\n",
       "gdpPercap    469.709298\n",
       "Name: 1703, dtype: object"
      ]
     },
     "execution_count": 138,
     "metadata": {},
     "output_type": "execute_result"
    }
   ],
   "source": [
    "# 마지막 행을 출력하세요.\n",
    "df1.loc[1703]\n",
    "len(df1)\n",
    "df1.loc[len(df1) - 1]\n",
    "df1.shape[0]\n",
    "df1.loc[df1.shape[0] - 1]"
   ]
  },
  {
   "cell_type": "code",
   "execution_count": 142,
   "id": "b1112159-e186-494e-9d6d-c442470306f2",
   "metadata": {},
   "outputs": [
    {
     "name": "stdout",
     "output_type": "stream",
     "text": [
      "1\n",
      "1\n",
      "country      Afghanistan\n",
      "continent           Asia\n",
      "year                1952\n",
      "lifeExp           28.801\n",
      "pop              8425333\n",
      "gdpPercap     779.445314\n",
      "Name: 0, dtype: object\n",
      "country      Afghanistan\n",
      "continent           Asia\n",
      "year                1952\n",
      "lifeExp           28.801\n",
      "pop              8425333\n",
      "gdpPercap     779.445314\n",
      "Name: 0, dtype: object\n"
     ]
    }
   ],
   "source": [
    "# 암시적 index, 명시적 index\n",
    "l = [1,2,3,4,5]\n",
    "#    0 1 2 3 4   # 암시적\n",
    "#   -5 4 3 2 1   # 암시적\n",
    "print(l[0]) #암시적 index사용\n",
    "print(l[-5]) #암시적 index사용\n",
    "df1 # 0 ~ 1703번까지는 명시적 index\n",
    "'''\n",
    "        \tcountry\tcontinent\tyear\tlifeExp\tpop\tgdpPercap\n",
    "-1704   0\tAfghanistan\tAsia\t1952\t28.801\t8425333\t779.445314\n",
    "-1703   1\tAfghanistan\tAsia\t1957\t30.332\t9240934\t820.853030\n",
    "-1702   2\tAfghanistan\tAsia\t1962\t31.997\t10267083\t853.100710\n",
    "-1701   3\tAfghanistan\tAsia\t1967\t34.020\t11537966\t836.197138\n",
    "        4\tAfghanistan\tAsia\t1972\t36.088\t13079460\t739.981106\n",
    "...     ...\t...\t...\t...\t...\t...\t...\n",
    "        1699\tZimbabwe\tAfrica\t1987\t62.351\t9216418\t706.157306\n",
    "        1700\tZimbabwe\tAfrica\t1992\t60.377\t10704340\t693.420786\n",
    "        1701\tZimbabwe\tAfrica\t1997\t46.809\t11404948\t792.449960\n",
    "        1702\tZimbabwe\tAfrica\t2002\t39.989\t11926563\t672.038623\n",
    "-1      1703\tZimbabwe\tAfrica\t2007\t43.487\t12311143\t469.709298\n",
    "'''\n",
    "print(df1.loc[0]) # 명시적 index\n",
    "print(df1.iloc[-1704]) # 암시적 index"
   ]
  },
  {
   "cell_type": "code",
   "execution_count": null,
   "id": "920eef8e-bc55-4d86-8212-fb563ab715df",
   "metadata": {},
   "outputs": [],
   "source": [
    "dic1 = {\"country\" : [\"Afghanistan\", \"Zimbabwe\"] ,\n",
    "        \"continent\" : [\"Asia\",\"Africa\"],\n",
    "        \"year\" : [1952, 1957]}\n",
    "df = pd.DataFrame(dic1)\n",
    "df                    #                 0 ,-2           1, -1\n",
    "df5 = pd.DataFrame({\"country\" :   [\"Afghanistan\", \"Zimbabwe\"] ,\n",
    "                    \"continent\" : [\"Asia\",        \"Africa\"],\n",
    "                    \"year\" :      [1952,          1957]},\n",
    "                    index =       ['a',           'b'])\n",
    "df5\n",
    "print(df5.loc[0])\n",
    "print(df5.loc['a'])\n",
    "'''\n",
    "        \tcountry\tcontinent\tyear\n",
    "0  -2        a\tAfghanistan\tAsia\t1952\n",
    "1  -1        b\tZimbabwe\tAfrica\t1957\n",
    "a, b는 명시적 index\n",
    "0,1, -1,-2 는 암시적 index\n",
    "'''\n",
    "print(df5.iloc[0])\n",
    "print(df5.iloc[-2])\n",
    "df\n",
    "'''\n",
    "            \tcountry\tcontinent\tyear\n",
    "0 -2          0\tAfghanistan\tAsia\t1952\n",
    "1 -1          1\tZimbabwe\tAfrica\t1957\n",
    "'''\n",
    "print(df.loc[0]) # 명시적 index\n",
    "print(df.iloc[0]) # 암시적 index\n",
    "print(df.iloc[-2])"
   ]
  },
  {
   "cell_type": "code",
   "execution_count": 175,
   "id": "0cc2969d-db22-4a79-8f71-db97021c3953",
   "metadata": {},
   "outputs": [
    {
     "data": {
      "text/plain": [
       "'Afghanistan'"
      ]
     },
     "execution_count": 175,
     "metadata": {},
     "output_type": "execute_result"
    }
   ],
   "source": [
    "df5\n",
    "'''\n",
    "                 -3         -2        -1    # 암시적 index\n",
    "                  0          1        2   \n",
    "               country\tcontinent\tyear    # 명시적 index\n",
    "-2 0     a\t   Afghanistan\tAsia\t1952\n",
    "-1 1     b\t   Zimbabwe\t  Africa\t1957\n",
    "'''\n",
    "df5.loc['a','country']\n",
    "# df5.iloc[0 , 'country']\n",
    "df5.iloc[0 , 0] # iloc를 사용하면 행과 열을 모두 암시적 index를 사용해야 한다.\n",
    "df5.iloc[-2 , -3]\n",
    "df\n",
    "'''\n",
    "\tcountry\tcontinent\tyear\n",
    "0\tAfghanistan\tAsia\t1952\n",
    "1\tZimbabwe\tAfrica\t1957\n",
    "'''\n",
    "df.loc[0, 'country']\n",
    "df.iloc[0, 0]\n",
    "df.iloc[-2, -3]"
   ]
  },
  {
   "cell_type": "code",
   "execution_count": 204,
   "id": "6c624525-1218-45d9-aea1-d51b924cc5b8",
   "metadata": {},
   "outputs": [
    {
     "data": {
      "text/plain": [
       "1      Afghanistan\n",
       "10     Afghanistan\n",
       "100     Bangladesh\n",
       "Name: country, dtype: object"
      ]
     },
     "execution_count": 204,
     "metadata": {},
     "output_type": "execute_result"
    }
   ],
   "source": [
    "# 여러개의 컬럼을 출력\n",
    "df1\n",
    "df1[['country', 'continent' , 'year']]\n",
    "df1.loc[0][['country', 'continent' , 'year']]\n",
    "df1.loc[0 , ['country', 'continent' , 'year']]\n",
    "#  여러개의 행 출력\n",
    "df1.loc[0] \n",
    "df1.loc[[1,10,100]]\n",
    "df1.loc[[1,10,100]]['country']\n",
    "df1.loc[[1,10,100] , 'country']\n",
    "# 여러개의 행과 열 출력\n",
    "df1.loc[[1,10,100] , ['country', 'continent' , 'year']]\n",
    "## 1, 10, 11행에 있는 country만 출력\n",
    "df1.loc[[1,10,100] , 'country']\n",
    "df1['country'][[1,10,100]]"
   ]
  },
  {
   "cell_type": "code",
   "execution_count": 233,
   "id": "d7e80520-dae1-42d1-b16f-f34e1c2f63fc",
   "metadata": {},
   "outputs": [
    {
     "name": "stdout",
     "output_type": "stream",
     "text": [
      "[2, 3, 4]\n"
     ]
    },
    {
     "data": {
      "text/plain": [
       "1962"
      ]
     },
     "execution_count": 233,
     "metadata": {},
     "output_type": "execute_result"
    }
   ],
   "source": [
    "# slicing\n",
    "l = [1,2,3,4,5]\n",
    "print(l[1:4])\n",
    "df1.loc[0:9] # 명시적 index에서는 +1을 하지 않는다.\n",
    "df1.iloc[0 : 9 + 1] #암시적 INDEX인 경우에는 +1을 해야 한다.\n",
    "df1.loc[0:9][:]\n",
    "df1.loc[0:9, :]\n",
    "df1.iloc[0:10][:]\n",
    "df1.iloc[0:10 , :]\n",
    "df1.loc[0:9][['country', 'continent', 'year']]\n",
    "df1.loc[0:9, ['country', 'continent', 'year']]\n",
    "#                0           1           2\n",
    "df1.iloc[0 : 10, 0:3]\n",
    "df1[['country', 'continent', 'year']][0 : 9 + 1] # 암시적 index\n",
    "df1.iloc[0 : 10, [0,1,2]]\n",
    "df1[['country', 'continent', 'year']]\n",
    "df1.loc[: , ['country', 'continent', 'year']]\n",
    "df1.iloc[: , [0, 1, 2]]\n",
    "df1.iloc[: , 0 : 3]\n",
    "\n",
    "# year를 출력\n",
    "df1['year']\n",
    "df1['year'][2]\n",
    "df1.loc[2]['year']\n",
    "df1.loc[2, 'year']\n",
    "df1.iloc[2 , 2]\n",
    "df1.iloc[-1702 , 2]\n",
    "df1.iloc[-1704 + 2 , 2]"
   ]
  },
  {
   "cell_type": "code",
   "execution_count": null,
   "id": "8552eeeb-39ca-405f-9010-d7dde214bd17",
   "metadata": {},
   "outputs": [],
   "source": [
    "# 3행 10행을 출력\n",
    "df1.loc[3: 10]\n",
    "df1.iloc[3 : 10 + 1]\n",
    "df1[3 : 10 + 1]['country']\n",
    "df1[3 : 10 + 1]['year']\n",
    "df1[3 : 10 + 1][['country', 'year']]\n",
    "# df1[3 : 10 + 1][[0,1]]\n",
    "# df1[3 : 10 + 1][0:2]"
   ]
  },
  {
   "cell_type": "code",
   "execution_count": null,
   "id": "8d79cb05-e293-43b0-b7e8-04de1d148285",
   "metadata": {},
   "outputs": [],
   "source": [
    "# range()함수 사용하기\n",
    "# 모든 행에서 3열부터 5열까지\n",
    "df1.iloc[: , 3:5 + 1]\n",
    "df1.iloc[: , range(3, 6)]\n",
    "# 열을 0부터 5까지중 한칸씩 띄어서 가져오시오.\n",
    "df1.iloc[ : , 0:6:2]\n",
    "df1.iloc[ : , range(0,6,2)]\n",
    "#행을 0부터 20개를 가져오고 열을 0부터 5까지 가져올 때 행과 열을 한칸씩 띄어서 가져오시오\n",
    "df1.iloc[0:20:2 , 0:6:2]\n",
    "# 열을 두칸씩\n",
    "df1.iloc[:, ::3]\n",
    "# 모든행을 두칸씩\n",
    "df1.iloc[::3 , :]"
   ]
  },
  {
   "cell_type": "code",
   "execution_count": 271,
   "id": "32a86bc0-20b2-4e8f-b571-f50ccb5fc39d",
   "metadata": {},
   "outputs": [
    {
     "name": "stdout",
     "output_type": "stream",
     "text": [
      "[ True  True False False]\n",
      "[1 2]\n",
      "[False False  True False]\n",
      "[3]\n"
     ]
    },
    {
     "data": {
      "text/plain": [
       "142"
      ]
     },
     "execution_count": 271,
     "metadata": {},
     "output_type": "execute_result"
    }
   ],
   "source": [
    "# 팬시 index , 마스크\n",
    "m = np.array([1,2,3,4])\n",
    "m\n",
    "print(m < 3) \n",
    "print(m[m < 3])\n",
    "print(m == 3)\n",
    "print(m[m == 3])\n",
    "df1['year'] == 1952\n",
    "df1[df1['year'] == 1952]\n",
    "df1[df1['year'] == 1952]['lifeExp']\n",
    "df1[df1['year'] == 1952][['lifeExp', 'gdpPercap']]\n",
    "# 1952 년도 데이터의 개수는\n",
    "(df1['year'] == 1952).sum()"
   ]
  },
  {
   "cell_type": "code",
   "execution_count": 279,
   "id": "9f97548e-24de-4576-8183-d3f42ec912fe",
   "metadata": {},
   "outputs": [
    {
     "data": {
      "text/plain": [
       "49.057619718309866"
      ]
     },
     "execution_count": 279,
     "metadata": {},
     "output_type": "execute_result"
    }
   ],
   "source": [
    "#1952년도 데이터에서 lifeExp의 집계\n",
    "df1['year'] == 1952\n",
    "# 1952년도 데이터의 수\n",
    "(df1['year'] == 1952).sum()\n",
    "df1[df1['year'] == 1952]['lifeExp']\n",
    "# 평균수명이 제일작은 것은\n",
    "df1[df1['year'] == 1952]['lifeExp'].min()\n",
    "# 평균수명이 제일 큰 것은?\n",
    "df1[df1['year'] == 1952]['lifeExp'].max()\n",
    "# 평균수명의 합계는?\n",
    "df1[df1['year'] == 1952]['lifeExp'].sum()\n",
    "# 평균수명의 평균\n",
    "df1[df1['year'] == 1952]['lifeExp'].mean()"
   ]
  },
  {
   "cell_type": "code",
   "execution_count": 313,
   "id": "2b9a2d68-d150-4c03-bd36-6546585b682b",
   "metadata": {},
   "outputs": [
    {
     "data": {
      "text/plain": [
       "year  continent\n",
       "1952  Africa       30.000\n",
       "      Americas     37.579\n",
       "      Asia         28.801\n",
       "      Europe       43.585\n",
       "      Oceania      69.120\n",
       "1957  Africa       31.570\n",
       "      Americas     40.696\n",
       "      Asia         30.332\n",
       "      Europe       48.079\n",
       "      Oceania      70.260\n",
       "1962  Africa       32.767\n",
       "      Americas     43.428\n",
       "      Asia         31.997\n",
       "      Europe       52.098\n",
       "      Oceania      70.930\n",
       "1967  Africa       34.113\n",
       "      Americas     45.032\n",
       "      Asia         34.020\n",
       "      Europe       54.336\n",
       "      Oceania      71.100\n",
       "1972  Africa       35.400\n",
       "      Americas     46.714\n",
       "      Asia         36.088\n",
       "      Europe       57.005\n",
       "      Oceania      71.890\n",
       "1977  Africa       36.788\n",
       "      Americas     49.923\n",
       "      Asia         31.220\n",
       "      Europe       59.507\n",
       "      Oceania      72.220\n",
       "1982  Africa       38.445\n",
       "      Americas     51.461\n",
       "      Asia         39.854\n",
       "      Europe       61.036\n",
       "      Oceania      73.840\n",
       "1987  Africa       39.906\n",
       "      Americas     53.636\n",
       "      Asia         40.822\n",
       "      Europe       63.108\n",
       "      Oceania      74.320\n",
       "1992  Africa       23.599\n",
       "      Americas     55.089\n",
       "      Asia         41.674\n",
       "      Europe       66.146\n",
       "      Oceania      76.330\n",
       "1997  Africa       36.087\n",
       "      Americas     56.671\n",
       "      Asia         41.763\n",
       "      Europe       68.835\n",
       "      Oceania      77.550\n",
       "2002  Africa       39.193\n",
       "      Americas     58.137\n",
       "      Asia         42.129\n",
       "      Europe       70.845\n",
       "      Oceania      79.110\n",
       "2007  Africa       39.613\n",
       "      Americas     60.916\n",
       "      Asia         43.828\n",
       "      Europe       71.777\n",
       "      Oceania      80.204\n",
       "Name: lifeExp, dtype: float64"
      ]
     },
     "execution_count": 313,
     "metadata": {},
     "output_type": "execute_result"
    }
   ],
   "source": [
    "# 1952년 평균 수명의 평균\n",
    "df1[df1['year']==1952]['lifeExp'].min()\n",
    "# 1957년 평균 수명의 평균\n",
    "df1[df1['year']==1957]['lifeExp'].min()\n",
    "# 1962년 평균 수명의 평균\n",
    "df1[df1['year']==1962]['lifeExp'].min()\n",
    "### 각 년도 별 평균수명\n",
    "df1.groupby('year')['lifeExp'].min()\n",
    "df1.groupby('year')['lifeExp'].max()\n",
    "df1.groupby('year')['lifeExp'].mean()\n",
    "df1.groupby('year')['lifeExp'].sum()\n",
    "### 각 년도 별 평균 수명의 최소값에서 1967년의 값을 가져오시오\n",
    "df1.groupby('year')['lifeExp'].min()[1967]\n",
    "### 각 년도별 대륙의 평균수명을 팬시index\n",
    "df1.groupby(['year','continent'])\n",
    "df1.groupby(['year','continent'])['lifeExp'].min()\n",
    "### 각 대륙의 나라는 몇개일가?\n",
    "## 대륙으로 묶어서 나라를 가져온 후 같은 값은 제거 하여 한번씩만 count\n",
    "df1.groupby('continent')['country'].nunique()"
   ]
  },
  {
   "cell_type": "code",
   "execution_count": null,
   "id": "b7344628-446f-4e13-a24f-62c1606afe42",
   "metadata": {},
   "outputs": [],
   "source": [
    "import matplotlib as plt\n",
    "# 년도에 따른 평균수평 평균의 추이를 확인\n",
    "df1.groupby('year')['lifeExp'].mean().plot()"
   ]
  },
  {
   "cell_type": "code",
   "execution_count": 317,
   "id": "6643bd7b-a37a-4a9e-819d-2743f0a9c6bf",
   "metadata": {},
   "outputs": [
    {
     "data": {
      "text/plain": [
       "<Axes: xlabel='year'>"
      ]
     },
     "execution_count": 317,
     "metadata": {},
     "output_type": "execute_result"
    },
    {
     "data": {
      "image/png": "[encoded data removed]",
      "text/plain": [
       "<Figure size 640x480 with 1 Axes>"
      ]
     },
     "metadata": {},
     "output_type": "display_data"
    }
   ],
   "source": [
    "## 각 년도 별 gdp의 평균\n",
    "## 각년도 별로 묶은 후 gdpPercap만 가져옴\n",
    "df1.groupby('year')['gdpPercap'].mean()\n",
    "df1.groupby('year')['gdpPercap'].mean().plot()"
   ]
  },
  {
   "cell_type": "code",
   "execution_count": 335,
   "id": "f0598f78-d241-43cb-9c3d-802edfbc882a",
   "metadata": {},
   "outputs": [
    {
     "data": {
      "text/html": [
       "<div>\n",
       "<style scoped>\n",
       "    .dataframe tbody tr th:only-of-type {\n",
       "        vertical-align: middle;\n",
       "    }\n",
       "\n",
       "    .dataframe tbody tr th {\n",
       "        vertical-align: top;\n",
       "    }\n",
       "\n",
       "    .dataframe thead th {\n",
       "        text-align: right;\n",
       "    }\n",
       "</style>\n",
       "<table border=\"1\" class=\"dataframe\">\n",
       "  <thead>\n",
       "    <tr style=\"text-align: right;\">\n",
       "      <th></th>\n",
       "      <th>country</th>\n",
       "      <th>continent</th>\n",
       "      <th>year</th>\n",
       "      <th>lifeExp</th>\n",
       "      <th>pop</th>\n",
       "      <th>gdpPercap</th>\n",
       "    </tr>\n",
       "  </thead>\n",
       "  <tbody>\n",
       "    <tr>\n",
       "      <th>1292</th>\n",
       "      <td>Rwanda</td>\n",
       "      <td>Africa</td>\n",
       "      <td>1992</td>\n",
       "      <td>23.599</td>\n",
       "      <td>7290203</td>\n",
       "      <td>737.068595</td>\n",
       "    </tr>\n",
       "  </tbody>\n",
       "</table>\n",
       "</div>"
      ],
      "text/plain": [
       "     country continent  year  lifeExp      pop   gdpPercap\n",
       "1292  Rwanda    Africa  1992   23.599  7290203  737.068595"
      ]
     },
     "execution_count": 335,
     "metadata": {},
     "output_type": "execute_result"
    }
   ],
   "source": [
    "## 1952년도 최소수명인 행을 출력하세요.\n",
    "df1[(df1['year']== 1952) & (df1['lifeExp'] == 28.801)]\n",
    "df1[df1['year'] == 1952]['lifeExp'].min()\n",
    "df1[(df1['year']== 1952) & (df1['lifeExp'] == df1[df1['year'] == 1952]['lifeExp'].min())]\n",
    "df1[(df1['year']== 1952) & (df1['lifeExp'] == df1[df1['year'] == 1952]['lifeExp'].max())]\n",
    "\n",
    "# 제일 큰 평균 수명을 가진 나라는\n",
    "df1['lifeExp'].max()\n",
    "df1['lifeExp'] == df1['lifeExp'].max()\n",
    "df1[df1['lifeExp'] == df1['lifeExp'].max()]\n",
    "\n",
    "df1[df1['lifeExp'] == df1['lifeExp'].min()]"
   ]
  },
  {
   "cell_type": "code",
   "execution_count": 355,
   "id": "a12d8714-9d44-4b1f-9a06-b8f637bf5c58",
   "metadata": {},
   "outputs": [
    {
     "name": "stdout",
     "output_type": "stream",
     "text": [
      "banana\n",
      "banana\n",
      "3\n",
      "a    banana\n",
      "b         1\n",
      "dtype: object\n"
     ]
    }
   ],
   "source": [
    "# Series : 리스트, 튜플\n",
    "l = ['banana', 1, 2,3]\n",
    "l\n",
    "s = pd.Series(l)\n",
    "s\n",
    "type(l) # list\n",
    "type(s) # pandas.core.series.Series\n",
    "s = pd.Series(('banana', 1, 2,3))\n",
    "s\n",
    "print(s[0])\n",
    "s = pd.Series(('banana', 1, 2,3), index=['a','b','c','d'])\n",
    "s\n",
    "print(s['a'])\n",
    "s\n",
    "'''\n",
    "0    a    banana\n",
    "1    b         1\n",
    "2    c         2\n",
    "3    d         3\n",
    "'''\n",
    "print(s.iloc[-1])\n",
    "#print(s[-1]) # 사용은 가능하나 사용하지 않는 것을 권장\n",
    "print(s.iloc[0:2]) # slicing"
   ]
  },
  {
   "cell_type": "code",
   "execution_count": 369,
   "id": "2c929bb1-e510-4690-aad8-13ce99f1af34",
   "metadata": {},
   "outputs": [
    {
     "name": "stdout",
     "output_type": "stream",
     "text": [
      "['이숭무', '이상범', '이장범']\n",
      "0    이숭무\n",
      "1    이상범\n",
      "2    이장범\n",
      "Name: Name, dtype: object\n"
     ]
    },
    {
     "data": {
      "text/plain": [
       "RangeIndex(start=0, stop=3, step=1)"
      ]
     },
     "execution_count": 369,
     "metadata": {},
     "output_type": "execute_result"
    }
   ],
   "source": [
    "# DataFrame : 딕셔너리\n",
    "dic3 = {'Name' : ['이숭무',     '이상범',      '이장범'   ],\n",
    "       'Age' :  [  50,           19,            18     ],\n",
    "       'Born' : ['1988-10-10','2000-02-23','2001-09-08']}\n",
    "dic3\n",
    "df10 = pd.DataFrame(dic3)\n",
    "print(dic3['Name']) # 리스트\n",
    "print(df10['Name']) # Series\n",
    "df10.keys()\n",
    "df10.columns\n",
    "df10.index"
   ]
  },
  {
   "cell_type": "code",
   "execution_count": 375,
   "id": "ca16f370-43f7-4ef7-bb68-2620e95a463a",
   "metadata": {},
   "outputs": [
    {
     "data": {
      "text/html": [
       "<div>\n",
       "<style scoped>\n",
       "    .dataframe tbody tr th:only-of-type {\n",
       "        vertical-align: middle;\n",
       "    }\n",
       "\n",
       "    .dataframe tbody tr th {\n",
       "        vertical-align: top;\n",
       "    }\n",
       "\n",
       "    .dataframe thead th {\n",
       "        text-align: right;\n",
       "    }\n",
       "</style>\n",
       "<table border=\"1\" class=\"dataframe\">\n",
       "  <thead>\n",
       "    <tr style=\"text-align: right;\">\n",
       "      <th></th>\n",
       "      <th>Name</th>\n",
       "      <th>Age</th>\n",
       "      <th>Born</th>\n",
       "    </tr>\n",
       "  </thead>\n",
       "  <tbody>\n",
       "    <tr>\n",
       "      <th>0</th>\n",
       "      <td>이숭무</td>\n",
       "      <td>50</td>\n",
       "      <td>1988-10-10</td>\n",
       "    </tr>\n",
       "    <tr>\n",
       "      <th>1</th>\n",
       "      <td>이상범</td>\n",
       "      <td>19</td>\n",
       "      <td>2000-02-23</td>\n",
       "    </tr>\n",
       "    <tr>\n",
       "      <th>2</th>\n",
       "      <td>이장범</td>\n",
       "      <td>18</td>\n",
       "      <td>2001-09-08</td>\n",
       "    </tr>\n",
       "  </tbody>\n",
       "</table>\n",
       "</div>"
      ],
      "text/plain": [
       "  Name  Age        Born\n",
       "0  이숭무   50  1988-10-10\n",
       "1  이상범   19  2000-02-23\n",
       "2  이장범   18  2001-09-08"
      ]
     },
     "execution_count": 375,
     "metadata": {},
     "output_type": "execute_result"
    }
   ],
   "source": [
    "df10 = pd.DataFrame({'Name' : ['이숭무',     '이상범',      '이장범'   ],\n",
    "                     'Age' :  [  50,           19,            18     ],\n",
    "                       'Born' : ['1988-10-10','2000-02-23','2001-09-08']})\n",
    "df10['Name']\n",
    "df10['Name'][0]\n",
    "df10.loc[0, 'Name']\n",
    "df10.iloc[0, 0]\n",
    "df10"
   ]
  },
  {
   "cell_type": "code",
   "execution_count": 376,
   "id": "6f4e457d-0aec-4470-8e64-d40890f54e64",
   "metadata": {},
   "outputs": [
    {
     "data": {
      "text/html": [
       "<div>\n",
       "<style scoped>\n",
       "    .dataframe tbody tr th:only-of-type {\n",
       "        vertical-align: middle;\n",
       "    }\n",
       "\n",
       "    .dataframe tbody tr th {\n",
       "        vertical-align: top;\n",
       "    }\n",
       "\n",
       "    .dataframe thead th {\n",
       "        text-align: right;\n",
       "    }\n",
       "</style>\n",
       "<table border=\"1\" class=\"dataframe\">\n",
       "  <thead>\n",
       "    <tr style=\"text-align: right;\">\n",
       "      <th></th>\n",
       "      <th>Name</th>\n",
       "      <th>Age</th>\n",
       "      <th>Born</th>\n",
       "    </tr>\n",
       "  </thead>\n",
       "  <tbody>\n",
       "    <tr>\n",
       "      <th>a</th>\n",
       "      <td>이숭무</td>\n",
       "      <td>50</td>\n",
       "      <td>1988-10-10</td>\n",
       "    </tr>\n",
       "    <tr>\n",
       "      <th>b</th>\n",
       "      <td>이상범</td>\n",
       "      <td>19</td>\n",
       "      <td>2000-02-23</td>\n",
       "    </tr>\n",
       "    <tr>\n",
       "      <th>c</th>\n",
       "      <td>이장범</td>\n",
       "      <td>18</td>\n",
       "      <td>2001-09-08</td>\n",
       "    </tr>\n",
       "  </tbody>\n",
       "</table>\n",
       "</div>"
      ],
      "text/plain": [
       "  Name  Age        Born\n",
       "a  이숭무   50  1988-10-10\n",
       "b  이상범   19  2000-02-23\n",
       "c  이장범   18  2001-09-08"
      ]
     },
     "execution_count": 376,
     "metadata": {},
     "output_type": "execute_result"
    }
   ],
   "source": [
    "df10 = pd.DataFrame({'Name' : ['이숭무',     '이상범',      '이장범'   ],\n",
    "                     'Age' :  [  50,           19,            18     ],\n",
    "                       'Born' : ['1988-10-10','2000-02-23','2001-09-08']},\n",
    "                   index = ['a','b','c'])\n",
    "df10"
   ]
  },
  {
   "cell_type": "code",
   "execution_count": 377,
   "id": "6625e4e9-d7c0-4448-92ab-63cab1f37436",
   "metadata": {},
   "outputs": [
    {
     "data": {
      "text/html": [
       "<div>\n",
       "<style scoped>\n",
       "    .dataframe tbody tr th:only-of-type {\n",
       "        vertical-align: middle;\n",
       "    }\n",
       "\n",
       "    .dataframe tbody tr th {\n",
       "        vertical-align: top;\n",
       "    }\n",
       "\n",
       "    .dataframe thead th {\n",
       "        text-align: right;\n",
       "    }\n",
       "</style>\n",
       "<table border=\"1\" class=\"dataframe\">\n",
       "  <thead>\n",
       "    <tr style=\"text-align: right;\">\n",
       "      <th></th>\n",
       "      <th>Born</th>\n",
       "      <th>Name</th>\n",
       "      <th>Age</th>\n",
       "    </tr>\n",
       "  </thead>\n",
       "  <tbody>\n",
       "    <tr>\n",
       "      <th>a</th>\n",
       "      <td>1988-10-10</td>\n",
       "      <td>이숭무</td>\n",
       "      <td>50</td>\n",
       "    </tr>\n",
       "    <tr>\n",
       "      <th>b</th>\n",
       "      <td>2000-02-23</td>\n",
       "      <td>이상범</td>\n",
       "      <td>19</td>\n",
       "    </tr>\n",
       "    <tr>\n",
       "      <th>c</th>\n",
       "      <td>2001-09-08</td>\n",
       "      <td>이장범</td>\n",
       "      <td>18</td>\n",
       "    </tr>\n",
       "  </tbody>\n",
       "</table>\n",
       "</div>"
      ],
      "text/plain": [
       "         Born Name  Age\n",
       "a  1988-10-10  이숭무   50\n",
       "b  2000-02-23  이상범   19\n",
       "c  2001-09-08  이장범   18"
      ]
     },
     "execution_count": 377,
     "metadata": {},
     "output_type": "execute_result"
    }
   ],
   "source": [
    "df10 = pd.DataFrame({'Name' : ['이숭무',     '이상범',      '이장범'   ],\n",
    "                     'Age' :  [  50,           19,            18     ],\n",
    "                     'Born' : ['1988-10-10','2000-02-23','2001-09-08']},\n",
    "                   index = ['a','b','c'],\n",
    "                   columns = ['Born', 'Name' ,'Age'])\n",
    "df10"
   ]
  },
  {
   "cell_type": "code",
   "execution_count": 378,
   "id": "8d1b66b4-aba4-4e49-a50b-42a36971d032",
   "metadata": {},
   "outputs": [
    {
     "data": {
      "text/html": [
       "<div>\n",
       "<style scoped>\n",
       "    .dataframe tbody tr th:only-of-type {\n",
       "        vertical-align: middle;\n",
       "    }\n",
       "\n",
       "    .dataframe tbody tr th {\n",
       "        vertical-align: top;\n",
       "    }\n",
       "\n",
       "    .dataframe thead th {\n",
       "        text-align: right;\n",
       "    }\n",
       "</style>\n",
       "<table border=\"1\" class=\"dataframe\">\n",
       "  <thead>\n",
       "    <tr style=\"text-align: right;\">\n",
       "      <th></th>\n",
       "      <th>Born</th>\n",
       "      <th>Name</th>\n",
       "      <th>Age</th>\n",
       "    </tr>\n",
       "  </thead>\n",
       "  <tbody>\n",
       "    <tr>\n",
       "      <th>a</th>\n",
       "      <td>1988-10-10</td>\n",
       "      <td>이숭무</td>\n",
       "      <td>50</td>\n",
       "    </tr>\n",
       "    <tr>\n",
       "      <th>b</th>\n",
       "      <td>2000-02-23</td>\n",
       "      <td>이상범</td>\n",
       "      <td>19</td>\n",
       "    </tr>\n",
       "    <tr>\n",
       "      <th>c</th>\n",
       "      <td>2001-09-08</td>\n",
       "      <td>이장범</td>\n",
       "      <td>18</td>\n",
       "    </tr>\n",
       "  </tbody>\n",
       "</table>\n",
       "</div>"
      ],
      "text/plain": [
       "         Born Name  Age\n",
       "a  1988-10-10  이숭무   50\n",
       "b  2000-02-23  이상범   19\n",
       "c  2001-09-08  이장범   18"
      ]
     },
     "execution_count": 378,
     "metadata": {},
     "output_type": "execute_result"
    }
   ],
   "source": [
    "df10 = pd.DataFrame(index = ['a','b','c'],\n",
    "                   columns = ['Born', 'Name' ,'Age'],\n",
    "                   data = {'Name' : ['이숭무',     '이상범',      '이장범'   ],\n",
    "                           'Age' :  [  50,           19,            18     ],\n",
    "                           'Born' : ['1988-10-10','2000-02-23','2001-09-08']})\n",
    "df10"
   ]
  },
  {
   "cell_type": "code",
   "execution_count": 402,
   "id": "ef4f76aa-5e38-4c0d-afde-c0968d96ecb2",
   "metadata": {},
   "outputs": [
    {
     "data": {
      "text/plain": [
       "1    61\n",
       "2    90\n",
       "3    66\n",
       "7    77\n",
       "Name: Age, dtype: int64"
      ]
     },
     "execution_count": 402,
     "metadata": {},
     "output_type": "execute_result"
    }
   ],
   "source": [
    "# 팬시index과 마스크 데이터를 분석\n",
    "df = pd.read_csv(\"https://raw.githubusercontent.com/SoongMoo/soldesk20231218/main/data/scientists.csv\")\n",
    "df\n",
    "df['Name']\n",
    "df[['Name' , 'Age']]\n",
    "df['Age'].max()\n",
    "df['Age'].min()\n",
    "df['Age'].mean()\n",
    "#Name\tBorn\tDied\tAge\tOccupation\n",
    "# 제일 오래 산 과학자는?\n",
    "df['Age'] ==  df['Age'].max()\n",
    "df[df['Age'] ==  df['Age'].max()]\n",
    "# 일찍 돌아가신 분은?\n",
    "df['Age'] ==  df['Age'].min()\n",
    "df[df['Age'] ==  df['Age'].min()]\n",
    "# 평균수명과 같은 나이인 과학자는?\n",
    "df['Age'] == df['Age'].mean()\n",
    "df[df['Age'] == df['Age'].mean()]\n",
    "# 평균수명보다 오래 산 과학자.\n",
    "df['Age'] > df['Age'].mean()\n",
    "df[df['Age'] > df['Age'].mean()]\n",
    "# 평균보다 오래산 사람의 나이\n",
    "df[df['Age'] > df['Age'].mean()]['Age']\n",
    "df['Age'][df['Age'] > df['Age'].mean()]"
   ]
  },
  {
   "cell_type": "code",
   "execution_count": null,
   "id": "d092faf5-5661-4d50-8f99-ff91235ce763",
   "metadata": {},
   "outputs": [],
   "source": []
  },
  {
   "cell_type": "code",
   "execution_count": null,
   "id": "7146c7c7-4d32-4fe6-a689-ad27b64ba1ba",
   "metadata": {},
   "outputs": [],
   "source": []
  },
  {
   "cell_type": "code",
   "execution_count": null,
   "id": "2290150b-1c55-4191-8518-d31585b0329d",
   "metadata": {},
   "outputs": [],
   "source": []
  },
  {
   "cell_type": "code",
   "execution_count": null,
   "id": "479ea609-5a19-4e0f-804b-5d4b8498a74f",
   "metadata": {},
   "outputs": [],
   "source": []
  }
 ],
 "metadata": {
  "kernelspec": {
   "display_name": "Python 3 (ipykernel)",
   "language": "python",
   "name": "python3"
  },
  "language_info": {
   "codemirror_mode": {
    "name": "ipython",
    "version": 3
   },
   "file_extension": ".py",
   "mimetype": "text/x-python",
   "name": "python",
   "nbconvert_exporter": "python",
   "pygments_lexer": "ipython3",
   "version": "3.11.4"
  }
 },
 "nbformat": 4,
 "nbformat_minor": 5
}

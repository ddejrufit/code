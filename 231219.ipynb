{
 "cells": [
  {
   "cell_type": "code",
   "execution_count": 17,
   "id": "b365a44c-880b-40a2-9005-6c0c886c5505",
   "metadata": {},
   "outputs": [
    {
     "name": "stdout",
     "output_type": "stream",
     "text": [
      "10\n",
      "1020\n",
      "강찬우의 나이는 25살이고 강찬우의 키는 173.6입니다.\n",
      "강찬우의 나이는 25살이고 강찬우의 키는 173.6입니다.\n",
      "강찬우의 나이는 25살이고 키는\n",
      "강찬우!!!!!!!의 나이는 0000000025살이고 강찬우       의 키는 173.600000입니다.\n",
      "강찬우!!!!!!!의 나이는 0000250000살이고 강찬우       의 키는 173.600000입니다.\n"
     ]
    }
   ],
   "source": [
    "print(\"{}\".format(10))\n",
    "print(\"{}{}\".format(10,20))\n",
    "print(\"{}의 나이는 {}살이고 {}의 키는 {}입니다.\".format(\"강찬우\", 25, \"강찬우\", 173.6))\n",
    "print(\"{0}의 나이는 {1}살이고 {0}의 키는 {2}입니다.\".format(\"강찬우\", 25,  173.6))\n",
    "print(\"{}의 나이는 {}살이고 키는\".format(\"강찬우\", 25,  173.6))\n",
    "#print(\"{}의 나이는 {}살이고 {}의 키는 {}입니다.\".format(\"강찬우\", 25,  173.6))\n",
    "print(\"{0:!<10}의 나이는 {1:010d}살이고 {0:10}의 키는 {2:0^10f}입니다.\".format(\"강찬우\", 25,  173.6))\n",
    "print(\"{0:!<10}의 나이는 {1:0^10d}살이고 {0:10}의 키는 {2:0<10f}입니다.\".format(\"강찬우\", 25,  173.6))"
   ]
  },
  {
   "cell_type": "code",
   "execution_count": 47,
   "id": "9b58ba7b-f809-4e4c-88e9-ecae4c447e48",
   "metadata": {},
   "outputs": [
    {
     "name": "stdout",
     "output_type": "stream",
     "text": [
      "+52\n",
      "-52\n",
      "-52\n",
      "-52\n",
      " 52\n",
      "-52\n",
      "        52\n",
      "        52\n",
      "       +52\n",
      "       -52\n",
      "       +52\n",
      "0000000052\n",
      "-000000052\n",
      "+000000052\n",
      "-52!!!!!!!\n",
      "-523333333\n"
     ]
    }
   ],
   "source": [
    "print(\"{:+d}\".format(52))# +:기호를 출력\n",
    "print(\"{:+d}\".format(-52))\n",
    "print(\"{}\".format(-52))\n",
    "print(\"{0}\".format(-52))\n",
    "print(\"{: }\".format(52))\n",
    "print(\"{: }\".format(-52))\n",
    "print(\"{:10}\".format(52))\n",
    "print(\"{:10d}\".format(52))\n",
    "print(\"{:+10d}\".format(52))\n",
    "print(\"{:+10d}\".format(-52))\n",
    "print(\"{:+10d}\".format(52))\n",
    "print(\"{:010}\".format(52))\n",
    "print(\"{:+010}\".format(-52))\n",
    "print(\"{:+010}\".format(52))\n",
    "print(\"{:!<10}\".format(-52))#빈칸 채우기 0이외는 정렬 없을시 오류\n",
    "print(\"{:3<10}\".format(-52))"
   ]
  },
  {
   "cell_type": "code",
   "execution_count": 61,
   "id": "2d586c34-b61f-48b2-b6f7-d582e26baa83",
   "metadata": {},
   "outputs": [
    {
     "name": "stdout",
     "output_type": "stream",
     "text": [
      "173.6\n",
      "     173.6\n",
      "173.600000\n",
      "     173.6\n",
      "    173.60\n",
      "   173.600\n",
      "173.600   \n",
      "   173.600\n",
      "   173.600\n",
      "173.600000\n",
      "173.600000\n",
      "173.6\n",
      "173\n",
      "173\n"
     ]
    }
   ],
   "source": [
    "print(\"{}\".format(173.6))\n",
    "print(\"{:10}\".format(173.6))\n",
    "print(\"{:10f}\".format(173.6))\n",
    "print(\"{:10.1f}\".format(173.6))\n",
    "print(\"{:10.2f}\".format(173.6))\n",
    "print(\"{:10.3f}\".format(173.6))\n",
    "print(\"{:<10.3f}\".format(173.6))\n",
    "print(\"{:>10.3f}\".format(173.6))\n",
    "print(\"{0:>10.3f}\".format(173.6))\n",
    "print(\"{0:>10f}\".format(173.6))\n",
    "print(\"{0:>3f}\".format(173.6))\n",
    "print(\"{0:>3}\".format(173.6))\n",
    "print(\"{:g}\".format(173.0))# 소숫점 자릿수가 0일 경우에 소숫점 가리기\n",
    "print(\"{:g}\".format(173.000000000000))"
   ]
  },
  {
   "cell_type": "code",
   "execution_count": 65,
   "id": "050bbed3-4a9b-4fd0-9b12-3ca280cce026",
   "metadata": {},
   "outputs": [],
   "source": [
    "# 기본  자료형 : 리터널 : 숫자 : 정수 : 10\n",
    "#                               실수 : 소숫점이 있다. 10.5\n",
    "#                        문자열 : 영어, 프랑스어\n",
    "# 파이썬 자료형: 리스트 : 모든 타입들을 여러개 저장할 수 있다\n",
    "#                list: 제레릭타입이 object로 되어 있는 리스트와 같다.\n",
    "'''\n",
    "list<Object> list = new ArrayList<Object>();\n",
    "list.add(10)\n",
    "list.add(20)\n",
    "list.add('강찬우')\n",
    "'''\n",
    "l = []# 빈 리스트\n",
    "l = [1,2,3,4,5,6] # 정수형 리스트\n",
    "l = [10.52,15.48,36.4]# 실수형 리스트\n",
    "l = ['강찬우','비행기','홍길동']# 문자열형 리스트\n",
    "l = [1,2,3,4,5,6,'강찬우','비행기','홍길동',10.52,15.48,36.4] # 혼합형 리스트\n",
    "l = [1,2,3,4,5,6,'강찬우','비행기','홍길동',10.52,15.48,36.4,[2,3,4]]# (리스트 안에 리스트를 넣을수 있다) 리스트를 포함한 혼합형 리스트\n",
    "l = [[1,2,3],[4,5,6],[7,8,9]]# 리스트를 포함한 리스트\n",
    "# 리스트 안에 있는 값을 요소라고 한다"
   ]
  },
  {
   "cell_type": "code",
   "execution_count": 66,
   "id": "b7a909e6-d1b5-495a-a37f-566e0bb74aab",
   "metadata": {},
   "outputs": [
    {
     "name": "stdout",
     "output_type": "stream",
     "text": [
      "[[1, 2, 3], [4, 5, 6], [7, 8, 9]]\n",
      "[1, 2, 3, 4, 5, 6]\n",
      "['Life', 'is', 'too', 'short']\n",
      "10\n",
      "강찬우\n",
      "['Life', 'is', 'too', 'short']\n"
     ]
    }
   ],
   "source": [
    "l = [[1,2,3],[4,5,6],[7,8,9]]\n",
    "print(l)\n",
    "l=[1,2,3,4,5,6]\n",
    "print(l)\n",
    "l = [\"Life\",\"is\",\"too\",\"short\"]\n",
    "print(l)#[\"Life\",\"is\",\"too\",\"short\"]\n",
    "i =10\n",
    "print(i)#10 : wjdtn\n",
    "str1 = \"강찬우\"\n",
    "print(str1)\n",
    "str4 = \"Life is too short\"\n",
    "result = str4.split()\n",
    "print(result) # [\"Life\",\"is\",\"too\",\"short\"] : 문자열을 쪼개면 리스트로 가져온다\n"
   ]
  },
  {
   "cell_type": "code",
   "execution_count": 69,
   "id": "3e020515-b15a-4d19-9adc-47921745e953",
   "metadata": {},
   "outputs": [
    {
     "name": "stdout",
     "output_type": "stream",
     "text": [
      "Life is too short\n",
      "e\n",
      "1\n",
      "Life\n",
      "Life\n"
     ]
    }
   ],
   "source": [
    "str4 =\"Life is too short\"\n",
    "print(str4)\n",
    "#Life is too short\n",
    "#01234567890123456\n",
    "print(str4[3])\n",
    "print(1)\n",
    "# [\"Life\",\"is\",\"too\",\"short\"]\n",
    "#     0    1     2      3\n",
    "#     4    3     2      1 \n",
    "print(l[0])#List.get(index)\n",
    "print(l[-4])\n"
   ]
  },
  {
   "cell_type": "code",
   "execution_count": 91,
   "id": "f4657392-53e9-4edb-b787-4587f8091fdf",
   "metadata": {},
   "outputs": [
    {
     "name": "stdout",
     "output_type": "stream",
     "text": [
      "[1, 2, 3, 'Life', [4, 5], 'is', [6], 'too', 0.5, 'short', '30']\n",
      "2\n",
      "3\n",
      "Life\n",
      "[4, 5]\n",
      "[6]\n",
      "too\n",
      "0.5\n",
      "5\n",
      "5\n",
      "Lifetoo\n",
      "Lifetoo\n",
      "30\n",
      "Life30\n",
      "230\n",
      "32\n",
      "LifeLifeLife\n"
     ]
    }
   ],
   "source": [
    "l1 = [1,2,3,'Life',[4,5],'is',[6],'too',0.5,'short',\"30\"]\n",
    "#     0 1 2   3      4     5   6    7    8    9\n",
    "print(l1)\n",
    "print(l1[1]) # 정수\n",
    "print(l1[2]) # 정수\n",
    "print(l1[3]) # 문자\n",
    "print(l1[4]) # 리스트\n",
    "print(l1[6]) # 요소가 하나인 리스트\n",
    "print(l1[7]) # 문자\n",
    "print(l1[8]) # 실수\n",
    "print(2 + 3) #  정수 + 정수\n",
    "print(l1[1] + l1[2]) # 정수 + 정수\n",
    "# 리스트에서 요소를 사용하는 경우에는 요소가 가진 자료형으로 사용할 수 있다.\n",
    "print(l1[3] + l1[7]) # 문자 + 문자\n",
    "print(\"Life\" + \"too\")\n",
    "print(l1[10]) # \"30\" : 문자\n",
    "print(l1[3] + l1[10])#  문자 + 문자\n",
    "#print(l1[1] + l1[10])# 정수 + 문자\n",
    "print(str(l1[1]) + l1[10])# 문자 + 문자\n",
    "print(l1[1] + int(l1[10]))# 정수 + 정수\n",
    "print(l1[3] * l1[2]) # 문자 * 정수 : 반복연산"
   ]
  },
  {
   "cell_type": "code",
   "execution_count": 94,
   "id": "16b2172f-1beb-44aa-9845-20a6e82ec188",
   "metadata": {},
   "outputs": [
    {
     "name": "stdout",
     "output_type": "stream",
     "text": [
      "['a', 'b', 'c']\n",
      "b\n",
      "b\n",
      "b\n"
     ]
    }
   ],
   "source": [
    "a = [1,2,3,['a','b','c'], 4]\n",
    "#    0 1 2       3        4\n",
    "b = a[3]\n",
    "print(b) # ['a', 'b', 'c']\n",
    "#            0    1    2\n",
    "print(b[1])\n",
    "print(a[3][1])\n",
    "print(a[-2][-2])"
   ]
  },
  {
   "cell_type": "code",
   "execution_count": 96,
   "id": "78b05dbf-5322-4597-b85b-50b3fbd12679",
   "metadata": {},
   "outputs": [
    {
     "name": "stdout",
     "output_type": "stream",
     "text": [
      "['a', 'b', ['life', 'is']]\n",
      "['life', 'is']\n",
      "is\n",
      "s\n"
     ]
    }
   ],
   "source": [
    "a = [1,2,3,['a','b', ['life','is'] ], 4]\n",
    "#    0 1 2             3              4\n",
    "#            0    1         2\n",
    "#                        0     1\n",
    "print(a[3]) # ['a', 'b', ['life', 'is']]\n",
    "print(a[3][2]) # ['life', 'is']\n",
    "print(a[3][2][1]) # is\n",
    "#                   01\n",
    "print(a[3][2][1][1])"
   ]
  },
  {
   "cell_type": "code",
   "execution_count": 105,
   "id": "f410ddba-6d66-45e8-8453-833d9280a5b8",
   "metadata": {},
   "outputs": [
    {
     "name": "stdout",
     "output_type": "stream",
     "text": [
      "L\n",
      "i\n",
      "f\n",
      "e\n",
      "Life\n",
      "Life\n",
      "fe\n",
      "\n",
      "\n",
      "f\n",
      "1\n",
      "2\n",
      "[1, 2]\n",
      "[1, 2]\n",
      "[]\n",
      "[2]\n",
      "2\n",
      "[1, 2, 2]\n",
      "[1, 2, 1, 2]\n"
     ]
    }
   ],
   "source": [
    "#리스트의 슬라이싱\n",
    "str4 =\"Life is too short\"\n",
    "#                1111111\n",
    "#      01234567890123456\n",
    "print(str4[0])\n",
    "print(str4[1])\n",
    "print(str4[2])\n",
    "print(str4[3])\n",
    "print(str4[0]+str4[1]+str4[2]+str4[3])\n",
    "#slicing\n",
    "print(str4[0:4])\n",
    "print(str4[2:2+2])\n",
    "print(str4[2:2])\n",
    "print(str4[2:2+0])\n",
    "print(str4[2:2+1])\n",
    "l = [1, 2, 3, 4]\n",
    "#    0  1  2  3\n",
    "print(l[0])\n",
    "print(l[1])\n",
    "print(l[0:0+2])\n",
    "print(l[0:2])\n",
    "print(l[1:1])# []: 빈리스트\n",
    "print(l[1:1+1]) # [2] : 요소가 하나인 리스트 : slicing을 하면 요소 하나만 가져와도 리스트가 된다.\n",
    "# slicing을 하면 결과는 리스트다.\n",
    "print(l[1]) #2 : indexing을 하면 요소 자료형으로 가져온다.\n",
    "#print(l[1:1+1]+l[1]) #리스트 + 정수  애러\n",
    "print(l[0:2]+l[1:1+1]) # 리스트 + 리스트 : [1, 2, 2]: +는 연결연산자\n",
    "print(l[0:2] * l[1])# 리스트 * 정수 : [1, 2, 1, 2]: *는 반복 연산자\n",
    "#print(l[1:1+2]+ list(l[1]))# 리스트 + 정수 # 'int' object is not iterable # 정수는 리스트로 형변환 되지 않는다.\n",
    "# 형 변환 함수 : str(), int(), List()\n",
    "# int()"
   ]
  },
  {
   "cell_type": "code",
   "execution_count": 113,
   "id": "17f75208-1652-4365-9829-3c488ee7a538",
   "metadata": {},
   "outputs": [
    {
     "name": "stdout",
     "output_type": "stream",
     "text": [
      "['Life', 'is', 'too', 'short']\n",
      "['Life', 'is', 'too', 'short']\n",
      "Life\n",
      "is\n",
      "['Life']\n",
      "Lifeis\n",
      "['Life', 'i', 's']\n",
      "['Life']is\n",
      "Lifeis\n",
      "Life is too short\n",
      "Life,is,too,short\n"
     ]
    }
   ],
   "source": [
    "result = ['Life','is','too','short']\n",
    "#            0     1    2       3\n",
    "print(result)\n",
    "print(result[:])\n",
    "print(result[0])#Life\n",
    "print(result[1])# is\n",
    "print(result[0: 0+1])#['Life']\n",
    "print(result[0] + result[1]) # 문자 + 문자 : Lifeis\n",
    "#print(result[0:0+1]+ result[1])# 리스트 + 문자\n",
    "print(result[0:0+1]+ list(result[1])) # 리스트 + 리스트: ['Life', 'i', 's']\n",
    "print(str(result[0:0+1])+ result[1]) # 문자열 + 문자열\n",
    "print(\"\".join(result[0: 0+1])+ result[1])\n",
    "print(\" \".join(result)) #['Life' 'is' 'too' 'short'] => Life is too short\n",
    "print(\",\".join(result)) # Life,is,too,short"
   ]
  },
  {
   "cell_type": "code",
   "execution_count": 122,
   "id": "6a5dcce7-8e0e-4787-a5cb-2afbbe9447e2",
   "metadata": {},
   "outputs": [
    {
     "name": "stdout",
     "output_type": "stream",
     "text": [
      "Li\n",
      "['Life', 'is']\n",
      "Li\n",
      "['Life', 'is']\n",
      "is too short\n",
      "['too', 'short']\n",
      "Life is too short\n",
      "['Life', 'is', 'too', 'short']\n",
      "Lf stosot\n",
      "['Life', 'too']\n",
      "trohs oot si efiL\n",
      "['short', 'too', 'is', 'Life']\n",
      "fe is too sh\n",
      "hs oot si ef\n",
      "['is', 'too', 'short']\n",
      "['short', 'too', 'is']\n"
     ]
    }
   ],
   "source": [
    "str1 = \"Life is too short\"\n",
    "#                 1111111\n",
    "#       01234567890123456\n",
    "result = ['Life','is','too','short']\n",
    "#            0     1    2       3\n",
    "print(str1[0:2])\n",
    "print(result[0:2])\n",
    "print(str1[:2])\n",
    "print(result[:2])\n",
    "print(str1[5:])\n",
    "print(result[2:])\n",
    "print(str1[:])\n",
    "print(result[:])\n",
    "print(str1[::2])\n",
    "print(result[::2])\n",
    "print(str1[::-1])\n",
    "print(result[::-1])\n",
    "print(str1[2:14])\n",
    "print(str1[13:1:-1])\n",
    "print(result[1:4])\n",
    "print(result[3:0:-1])"
   ]
  },
  {
   "cell_type": "code",
   "execution_count": 128,
   "id": "109e3576-0ae4-433e-9dd6-a530e9b8be85",
   "metadata": {},
   "outputs": [
    {
     "name": "stdout",
     "output_type": "stream",
     "text": [
      "y\n",
      "Lyfe is too short\n",
      "Life is too short\n"
     ]
    }
   ],
   "source": [
    "str1 = 'Lyfe is too short'\n",
    "print(str1[1])\n",
    "#str1[1] = 'i'\n",
    "str1.replace(\"Lyfe\",\"Life\")\n",
    "print(str1)\n",
    "print(str1.replace(\"Lyfe\",\"Life\"))\n",
    "\n",
    "14[2] = 100\n",
    "print(14)\n",
    "print"
   ]
  },
  {
   "cell_type": "code",
   "execution_count": 136,
   "id": "56ec6993-d5f1-42ae-8859-65d3074af442",
   "metadata": {},
   "outputs": [
    {
     "name": "stdout",
     "output_type": "stream",
     "text": [
      "['Life', 'is', 'too']\n",
      "['Life', 'is']\n",
      "['Life', 'is', 'too']\n",
      "['Life', 'is', 'too', 'short']\n",
      "['Life', 'is', 'too', 'short', 3]\n",
      "['Life', 'is', 'short']\n",
      "['Life', 'is', 'too', 'short']\n",
      "[1, 2, 3, 4, 5, 6]\n",
      "[1, 2, 3]\n",
      "[4, 5, 6]\n",
      "[1, 2, 3, 4, 5, 6]\n"
     ]
    }
   ],
   "source": [
    "# 리스트 함수\n",
    "# 리스트에 요소 추가\n",
    "l1 = ['Life','is']\n",
    "# too 추가\n",
    "print(l1+['too'])\n",
    "print(l1)\n",
    "l1.append(\"too\")\n",
    "print(l1)\n",
    "#print(l1.append(\"short\"))\n",
    "l1.append(\"short\")\n",
    "print(l1)\n",
    "l1.append(3)\n",
    "print(l1)\n",
    "# 원하는 위치에 요소 추가\n",
    "l1 = ['Life', 'short']\n",
    "#       0        1 \n",
    "l1.insert(1,\"is\")\n",
    "print(l1) # ['Life', 'is', 'short']\n",
    "#               0      1      2\n",
    "l1.insert(2,\"too\")\n",
    "print(l1)\n",
    "#리스트 확장\n",
    "a = [1,2,3]\n",
    "b = [4,5,6]\n",
    "print (a+b)\n",
    "print (a)\n",
    "print (b)\n",
    "# [1,2,3,4,5,6]\n",
    "a.extend(b)\n",
    "print(a)"
   ]
  },
  {
   "cell_type": "code",
   "execution_count": 143,
   "id": "be804375-c133-41df-9d2d-9261ff02a397",
   "metadata": {},
   "outputs": [
    {
     "name": "stdout",
     "output_type": "stream",
     "text": [
      "['Life', 'is', 'too', 'short']\n",
      "['Life', 'is', 'short']\n",
      "['Life', 'short']\n",
      "['short']\n",
      "[]\n",
      "3\n",
      "['Life', 'is', 'too', 'short']\n",
      "short\n",
      "['Life', 'is', 'too']\n",
      "is\n",
      "['Life', 'too']\n",
      "Life\n",
      "['too']\n"
     ]
    }
   ],
   "source": [
    "#요소 삭제\n",
    "l2 = ['Life', 'is', 'too', 'short', 3]\n",
    "#       0       1    2        3     4\n",
    "#index를 이용해서 요소삭제\n",
    "del l2[4]\n",
    "print(l2)\n",
    "del l2[2]\n",
    "print(l2)\n",
    "# 요소를 이용해서 삭제\n",
    "#['Life', 'is','short']\n",
    "l2.remove('is')\n",
    "print(l2)\n",
    "l2.remove('Life')\n",
    "print(l2)\n",
    "# 모두삭제\n",
    "l2.clear()\n",
    "print(l2)#[] : 빈리스트\n",
    "# 삭제한 값 받아오기\n",
    "l2 = ['Life', 'is', 'too', 'short', 3]\n",
    "#result = del l2[4]\n",
    "#result=l2.remove('Life')\n",
    "result = l2.pop()\n",
    "print(result)#short\n",
    "print(l2)#['Life', 'is', 'too','short']\n",
    "result = l2.pop()\n",
    "print(result)#short\n",
    "print(l2)#['Life', 'is', 'too']\n",
    "#index를 이용헤서 요소 삭제 후 삭제된 요소 받아오기\n",
    "result = l2.pop(1)# 비복원 추출\n",
    "print(result)\n",
    "print(l2)#['Life', 'too']\n",
    "result = l2.pop(0)\n",
    "print(result)\n",
    "print(l2)#['too']\n",
    "#복원 추출 : 주사위"
   ]
  },
  {
   "cell_type": "code",
   "execution_count": 153,
   "id": "96e0d1ba-6956-4c67-a239-54d3640cc54a",
   "metadata": {},
   "outputs": [
    {
     "name": "stdout",
     "output_type": "stream",
     "text": [
      "[1, 2, 3, 4, 5]\n",
      "[5, 4, 3, 2, 1]\n",
      "['a', 'b', 'c']\n",
      "['c', 'b', 'a']\n",
      "['가', '나', '다']\n",
      "['a', 'b', 'c', '가', '나', '다']\n"
     ]
    },
    {
     "ename": "TypeError",
     "evalue": "'<' not supported between instances of 'int' and 'str'",
     "output_type": "error",
     "traceback": [
      "\u001b[1;31m---------------------------------------------------------------------------\u001b[0m",
      "\u001b[1;31mTypeError\u001b[0m                                 Traceback (most recent call last)",
      "Cell \u001b[1;32mIn[153], line 22\u001b[0m\n\u001b[0;32m     20\u001b[0m \u001b[38;5;28mprint\u001b[39m(l)\n\u001b[0;32m     21\u001b[0m l\u001b[38;5;241m=\u001b[39m[\u001b[38;5;124m'\u001b[39m\u001b[38;5;124m다\u001b[39m\u001b[38;5;124m'\u001b[39m,\u001b[38;5;124m'\u001b[39m\u001b[38;5;124m가\u001b[39m\u001b[38;5;124m'\u001b[39m,\u001b[38;5;124m'\u001b[39m\u001b[38;5;124m나\u001b[39m\u001b[38;5;124m'\u001b[39m,\u001b[38;5;124m'\u001b[39m\u001b[38;5;124mb\u001b[39m\u001b[38;5;124m'\u001b[39m,\u001b[38;5;124m'\u001b[39m\u001b[38;5;124ma\u001b[39m\u001b[38;5;124m'\u001b[39m,\u001b[38;5;124m'\u001b[39m\u001b[38;5;124mc\u001b[39m\u001b[38;5;124m'\u001b[39m,\u001b[38;5;241m3\u001b[39m,\u001b[38;5;241m5\u001b[39m,\u001b[38;5;241m4\u001b[39m]\n\u001b[1;32m---> 22\u001b[0m \u001b[43ml\u001b[49m\u001b[38;5;241;43m.\u001b[39;49m\u001b[43msort\u001b[49m\u001b[43m(\u001b[49m\u001b[43m)\u001b[49m\n\u001b[0;32m     23\u001b[0m \u001b[38;5;28mprint\u001b[39m(l)\u001b[38;5;66;03m# 문자와 숫자가 같이 있으면 정렬되지 않는다.\u001b[39;00m\n",
      "\u001b[1;31mTypeError\u001b[0m: '<' not supported between instances of 'int' and 'str'"
     ]
    }
   ],
   "source": [
    "# 정렬 -- 오름차순, 내림차순\n",
    "l = [4,5,1,2,3]\n",
    "# 오름차순\n",
    "l.sort()\n",
    "print(l)\n",
    "l = [4,2,5,1,3]\n",
    "# 내림차순\n",
    "l.sort(reverse=True)\n",
    "print(l)\n",
    "l = ['b', 'a', 'c']\n",
    "l.sort()\n",
    "print(l)\n",
    "l.sort(reverse=True)\n",
    "print(l)\n",
    "l = ['다','가','나']\n",
    "l.sort()\n",
    "print(l)\n",
    "l=['다','가','나','b','a','c']\n",
    "l.sort()\n",
    "print(l)\n",
    "l=['다','가','나','b','a','c',3,5,4]\n",
    "l.sort()\n",
    "print(l)# 문자와 숫자가 같이 있으면 정렬되지 않는다."
   ]
  },
  {
   "cell_type": "code",
   "execution_count": 150,
   "id": "dcb54d85-1b16-4e03-b9ce-ab71f3bb2cf8",
   "metadata": {},
   "outputs": [
    {
     "name": "stdout",
     "output_type": "stream",
     "text": [
      "8\n",
      "8\n",
      "2\n"
     ]
    }
   ],
   "source": [
    "str1 = \"Life is too short\"\n",
    "print(str1.index(\"too\"))\n",
    "idx = str1.find(\"too\")\n",
    "print(idx)\n",
    "l = [\"Life\", \"is\", \"too\",\"short\"]\n",
    "#       0     1      2     3\n",
    "idx = l.index(\"too\")\n",
    "print(idx)\n",
    "#idx = l.find(\"too\")\n",
    "# 리스트에는 find함수가 없다.\n",
    "#idx = l.index(\"zoo\") : 오류 발생"
   ]
  },
  {
   "cell_type": "code",
   "execution_count": 157,
   "id": "f2586f9b-b551-4f60-8675-2bd445d22b5c",
   "metadata": {},
   "outputs": [
    {
     "name": "stdout",
     "output_type": "stream",
     "text": [
      "[1, 2, 3, 4]\n",
      "(1, 2, 3, 4)\n",
      "32\n",
      "2\n",
      "[2]\n",
      "2\n",
      "8\n",
      "(2,)\n",
      "(2,)\n",
      "(1, 2)\n"
     ]
    }
   ],
   "source": [
    "# 기본자료형 : 리터널 : 자연수 : 숫자 : 정수, 실수\n",
    "#                      자연어: 문자열 : \"\",'',\"\"\"\"\"\",''''''\n",
    "# 파이썬 자료형 : \n",
    "#     리스트 : []\n",
    "#       튜플 : ()\n",
    "l = [1,2,3,4]\n",
    "print(l)\n",
    "t = (1,2,3,4)\n",
    "print(t)\n",
    "l = [] # 빈 리스트\n",
    "t = () # 빈 튜플\n",
    "print((3 + 5) * 4)# () : 최우선 연산자 \n",
    "print(2)\n",
    "print([2])\n",
    "print((2))\n",
    "t = (3+5) # 8 : 최우선 연산자\n",
    "print(t)\n",
    "print((2,))\n",
    "t = (2,)# 요소가 하나인 경우에는 최우선 연산자와 구변하기 위해 ,를 넣어준다.\n",
    "print(t) # (2,)\n",
    "t= (1,2)\n",
    "print(t)"
   ]
  },
  {
   "cell_type": "code",
   "execution_count": 160,
   "id": "0edce50e-64ec-4070-a800-84b3fcec3caf",
   "metadata": {},
   "outputs": [
    {
     "name": "stdout",
     "output_type": "stream",
     "text": [
      "(1, 2, 3, 4, 5, 6)\n"
     ]
    }
   ],
   "source": [
    "l= [] # 빈 리스트\n",
    "t= ()# 빈 튜플\n",
    "l= [1]# 요소가 하나인 리스트\n",
    "t = (1,)# 요소가 하나인 튜플\n",
    "l=[1,2,3,4,5]# 정수형 리스트\n",
    "t =(1,2,3,4,5) # 정수형 튜플\n",
    "t=(10.5,2.5,30.7)# 실수형 플\n",
    "t=('홍길동','김길동','강길동')# 문자열형 튜플\n",
    "t=(1,2,3,4,5,'홍길동','김길동','강길동',10.4) # 혼합형 튜플\n",
    "t=(1,2,3,4,5,'홍길동','김길동','강길동',10.4, [6,7,8,9])# 리스트를 포함한 혼합형 튜플\n",
    "t=(1,2,3,4,5,'홍길동','김길동','강길동',10.4, (6,7,8,9))# 튜플을 포합한 혼합형 튜플\n",
    "t=(1,2,3,4,5,'홍길동','김길동','강길동',10.4, (6,7,8,9),[11,12,14])# 혼합형 튜플\n",
    "t=[1,2,3,4,5,'홍길동','김길동','강길동',10.4, (6,7,8,9),[11,12,14]] #리스트\n",
    "t = 1,2,3,4,5,6#(1, 2, 3, 4, 5, 6): 튜플\n",
    "print(t)"
   ]
  },
  {
   "cell_type": "code",
   "execution_count": 168,
   "id": "41f5d1f2-6efb-48ab-8ed5-2952da8793f6",
   "metadata": {},
   "outputs": [
    {
     "name": "stdout",
     "output_type": "stream",
     "text": [
      "f\n",
      "too\n",
      "too\n",
      "if\n",
      "['is', 'too']\n",
      "('is', 'too')\n",
      "Lif\n",
      "['Life', 'is', 'too']\n",
      "('Life', 'is', 'too')\n",
      "fe is too short\n",
      "['too', 'short']\n",
      "('too', 'short')\n"
     ]
    }
   ],
   "source": [
    "str1 = \"Life is too short\"\n",
    "#                 1\n",
    "#       01234567890123456\n",
    "l1 = [\"Life\", \"is\", \"too\", \"short\"]\n",
    "#       0       1      2     3\n",
    "t1 =\"Life\", \"is\", \"too\", \"short\"\n",
    "#      0     1       2      3 \n",
    "#indexing\n",
    "print(str1[2])\n",
    "print(l1[2])\n",
    "print(t1[2])\n",
    "# slicing\n",
    "print(str1[1:1+2])#자바 type : str1.substr(1, 1 + 2)\n",
    "print(l1[1:1+2])\n",
    "print(t1[1:1+2])\n",
    "print(str1[:3])\n",
    "print(l1[:3])\n",
    "print(t1[:3])\n",
    "print(str1[2:])\n",
    "print(l1[2:])\n",
    "print(t1[2:])"
   ]
  },
  {
   "cell_type": "code",
   "execution_count": 174,
   "id": "7f342720-9806-4037-b149-4d34035d23c3",
   "metadata": {},
   "outputs": [
    {
     "name": "stdout",
     "output_type": "stream",
     "text": [
      "i\n",
      "Life is too short\n",
      "Life\n",
      "['is', 'too', 'short']\n",
      "4\n",
      "1\n",
      "2\n",
      "2\n"
     ]
    }
   ],
   "source": [
    "str1 = \"Life is too short\"\n",
    "l1 = [\"Life\", \"is\", \"too\", \"short\"]\n",
    "t1 =\"Life\", \"is\", \"too\", \"short\"\n",
    "print(str1[1])\n",
    "#str1[1] = i\n",
    "str1 = str1.replace(\"Lyfe\",\"Life\")\n",
    "print(str1)\n",
    "print(l1[0])\n",
    "#리스트와 튜플의 차이\n",
    "# 리스트는 요소를 변경할 수 있지만  튜플은 요소를 변경할 수 없다. 자바 :\n",
    "'''\n",
    "print(t1[0]) \n",
    "t1[0]='Life'\n",
    "print(t1)\n",
    "'''\n",
    "del l1[0]\n",
    "print(l1)\n",
    "#del t1[0] : 삭제가 되지 않는다.\n",
    "print(len(t1))\n",
    "idx = l1.index(\"too\")\n",
    "print(idx)\n",
    "idx = t1.index(\"too\")\n",
    "print(idx)\n",
    "l = [1,1,2,2,3,4,5,6,6]\n",
    "t = 1,1,2,2,3,4,5,6,6\n",
    "print(l.count(1))\n",
    "print(t.count(1))"
   ]
  },
  {
   "cell_type": "code",
   "execution_count": 181,
   "id": "fcfa9093-335b-43d2-ae70-c7701c5c67c3",
   "metadata": {},
   "outputs": [
    {
     "name": "stdout",
     "output_type": "stream",
     "text": [
      "Life\n",
      "Life\n",
      "['is', 'too']\n",
      "('is', 'too')\n",
      "['too', 'short']\n",
      "('too', 'short')\n",
      "['is', 'too', 'too', 'short']\n",
      "('is', 'too', 'too', 'short')\n",
      "3\n",
      "3\n",
      "['is', 'too', 'is', 'too', 'is', 'too']\n",
      "('is', 'too', 'is', 'too', 'is', 'too')\n"
     ]
    }
   ],
   "source": [
    "t1 =\"Life\", \"is\", \"too\", \"short\",3\n",
    "l1 = [\"Life\", \"is\", \"too\", \"short\",3]\n",
    "print(l1[0]) # 문자\n",
    "print(t1[0]) # 문자\n",
    "print(l1[1:3]) #  리스트\n",
    "print(t1[1:3])  # 튜플\n",
    "print(l1[2:4])#  리스트\n",
    "print(t1[2:4])# 튜플\n",
    "print(l1[1:3] + l1[2:4])# 리스트 + 리스트 : 연결 연산\n",
    "print(t1[1:3]+t1[2:4])# 튜플 + 튜플 : 연결 연산\n",
    "print(l1[4])# 정수\n",
    "print(t1[4])# 정수\n",
    "print(l1[1:3] * l[4]) # 리스트 * 정수 : 반복 연산\n",
    "print(t1[1:3] * l[4]) # 튜플 * 정수 : 반복 연산"
   ]
  },
  {
   "cell_type": "code",
   "execution_count": 188,
   "id": "c0a759c5-93bb-4667-a320-e0474d7a7019",
   "metadata": {},
   "outputs": [
    {
     "name": "stdout",
     "output_type": "stream",
     "text": [
      "3\n",
      "10\n",
      "['h', 'e', 'l', 'l', 'o']\n",
      "('h', 'e', 'l', 'l', 'o')\n",
      "['h', 'e', 'l', 'l', 'o']10\n",
      "hello\n",
      "('h', 'e', 'l', 'l', 'o')10\n",
      "hello\n",
      "h,e,l,l,o\n"
     ]
    }
   ],
   "source": [
    "# 형변환 함수 : int(), str(), list(),tuple()\n",
    "str2 = \"hello\"\n",
    "num = \"3\"\n",
    "i=10\n",
    "print(int(num))\n",
    "print(str(i)) # 문자\n",
    "print(list(str2))\n",
    "print(tuple(str2))\n",
    "l=['h', 'e', 'l', 'l', 'o']\n",
    "print(str(l) + \"10\")\n",
    "print(\"\".join(l))# 리스트를 문자열로 형변환할 때는 join을 사용한다.\n",
    "t = ('h', 'e', 'l', 'l', 'o')\n",
    "print(str(t) + \"10\")\n",
    "print(\"\".join(t))\n",
    "print(\",\".join(str2))"
   ]
  },
  {
   "cell_type": "code",
   "execution_count": 190,
   "id": "0df91b0d-b3c9-4566-9caf-cd010497cc93",
   "metadata": {},
   "outputs": [
    {
     "name": "stdout",
     "output_type": "stream",
     "text": [
      "['닥스', '스플릿', '럭키', '벹맨']\n"
     ]
    }
   ],
   "source": [
    "movie_rank = [\"닥스\",\"스플릿\",\"럭키\"]\n",
    "movie_rank.append(\"벹맨\")\n",
    "print(movie_rank)"
   ]
  },
  {
   "cell_type": "code",
   "execution_count": 193,
   "id": "994a61f5-efb6-47a7-a15d-d5a873ca612a",
   "metadata": {},
   "outputs": [
    {
     "name": "stdout",
     "output_type": "stream",
     "text": [
      "['닥터 스트레인지', '슈퍼맨', '스플릿', '럭키', '배트맨']\n"
     ]
    }
   ],
   "source": [
    "movie_rank = ['닥터 스트레인지', '스플릿', '럭키', '배트맨']\n",
    "movie_rank.insert(1,\"슈퍼맨\")\n",
    "print(movie_rank)"
   ]
  },
  {
   "cell_type": "code",
   "execution_count": 196,
   "id": "6a954e20-c467-4223-bf59-42a7ddb83095",
   "metadata": {},
   "outputs": [
    {
     "name": "stdout",
     "output_type": "stream",
     "text": [
      "['닥터 스트레인지', '슈퍼맨', '스플릿', '배트맨']\n"
     ]
    }
   ],
   "source": [
    "movie_rank = ['닥터 스트레인지', '슈퍼맨', '스플릿', '럭키', '배트맨']\n",
    "del movie_rank[3]\n",
    "print(movie_rank)"
   ]
  },
  {
   "cell_type": "code",
   "execution_count": 200,
   "id": "f242ffb3-1828-4de6-bec6-93f63e07790c",
   "metadata": {},
   "outputs": [
    {
     "name": "stdout",
     "output_type": "stream",
     "text": [
      "['닥터 스트레인지', '슈퍼맨']\n"
     ]
    }
   ],
   "source": [
    "movie_rank = ['닥터 스트레인지', '슈퍼맨', '스플릿', '배트맨']\n",
    "del movie_rank[2:4]\n",
    "print(movie_rank)"
   ]
  },
  {
   "cell_type": "code",
   "execution_count": 201,
   "id": "a87636ab-d36d-42de-84c0-cd23a47894e6",
   "metadata": {},
   "outputs": [
    {
     "name": "stdout",
     "output_type": "stream",
     "text": [
      "['C', 'C++', 'JAVA', 'Python', 'Go', 'C#']\n"
     ]
    }
   ],
   "source": [
    "lang1 = [\"C\", \"C++\", \"JAVA\"]\n",
    "lang2 = [\"Python\", \"Go\", \"C#\"]\n",
    "langs = lang1+lang2\n",
    "print(langs)"
   ]
  },
  {
   "cell_type": "code",
   "execution_count": 203,
   "id": "e103ffb0-14b9-4bfa-9247-a98432c0e11e",
   "metadata": {},
   "outputs": [
    {
     "name": "stdout",
     "output_type": "stream",
     "text": [
      "max:  7\n",
      "min:  1\n"
     ]
    }
   ],
   "source": [
    "nums = [1, 2, 3, 4, 5, 6, 7]\n",
    "print(\"max: \",max(nums))\n",
    "print(\"min: \",min(nums))"
   ]
  },
  {
   "cell_type": "code",
   "execution_count": 204,
   "id": "79cad465-64fc-4d69-a532-9dd51a35eac7",
   "metadata": {},
   "outputs": [
    {
     "name": "stdout",
     "output_type": "stream",
     "text": [
      "15\n"
     ]
    }
   ],
   "source": [
    "nums = [1, 2, 3, 4, 5]\n",
    "print(sum(nums))"
   ]
  },
  {
   "cell_type": "code",
   "execution_count": 207,
   "id": "ed7b8593-b907-4d13-844e-99f60f7bd709",
   "metadata": {},
   "outputs": [
    {
     "name": "stdout",
     "output_type": "stream",
     "text": [
      "12\n"
     ]
    }
   ],
   "source": [
    "cook = [\"피자\", \"김밥\", \"만두\", \"양념치킨\", \"족발\", \"피자\", \"김치만두\", \"쫄면\", \"소시지\", \"라면\", \"팥빙수\", \"김치전\"]\n",
    "print(len(cook))"
   ]
  },
  {
   "cell_type": "code",
   "execution_count": 208,
   "id": "578b5016-0e87-40ad-8294-52741017ac5a",
   "metadata": {},
   "outputs": [
    {
     "name": "stdout",
     "output_type": "stream",
     "text": [
      "3.0\n"
     ]
    }
   ],
   "source": [
    "nums = [1, 2, 3, 4, 5]\n",
    "print(sum(nums)/len(nums))"
   ]
  },
  {
   "cell_type": "code",
   "execution_count": 211,
   "id": "ce603d01-fddd-4236-b673-85f04fa95632",
   "metadata": {},
   "outputs": [
    {
     "name": "stdout",
     "output_type": "stream",
     "text": [
      "[100, 130, 140, 150, 160, 170]\n"
     ]
    }
   ],
   "source": [
    "price = ['20180728', 100, 130, 140, 150, 160, 170]\n",
    "print(price[1:])"
   ]
  },
  {
   "cell_type": "code",
   "execution_count": 217,
   "id": "8844c30b-8112-4bbe-8851-f80d2bd4190d",
   "metadata": {},
   "outputs": [
    {
     "name": "stdout",
     "output_type": "stream",
     "text": [
      "[1, 3, 5, 7, 9]\n"
     ]
    }
   ],
   "source": [
    "nums = [1, 2, 3, 4, 5, 6, 7, 8, 9, 10]\n",
    "print(nums[::2])"
   ]
  },
  {
   "cell_type": "code",
   "execution_count": 218,
   "id": "44375b92-1ed2-4957-a7aa-457e1b5fff3e",
   "metadata": {},
   "outputs": [
    {
     "name": "stdout",
     "output_type": "stream",
     "text": [
      "[2, 4, 6, 8, 10]\n"
     ]
    }
   ],
   "source": [
    "nums = [1, 2, 3, 4, 5, 6, 7, 8, 9, 10]\n",
    "print(nums[1::2])"
   ]
  },
  {
   "cell_type": "code",
   "execution_count": 219,
   "id": "d101cf69-22e2-41a5-90c6-f45a7054d226",
   "metadata": {},
   "outputs": [],
   "source": [
    "nums = [1, 2, 3, 4, 5]"
   ]
  },
  {
   "cell_type": "code",
   "execution_count": 223,
   "id": "be814efb-72a3-4d8a-b0aa-cbb6ae51bd5a",
   "metadata": {},
   "outputs": [
    {
     "name": "stdout",
     "output_type": "stream",
     "text": [
      "[5, 4, 3, 2, 1]\n"
     ]
    }
   ],
   "source": [
    "print(nums[::-1])"
   ]
  },
  {
   "cell_type": "code",
   "execution_count": 231,
   "id": "c4c1a4fa-3d9d-435d-8e4f-06c2e7850ee4",
   "metadata": {},
   "outputs": [
    {
     "name": "stdout",
     "output_type": "stream",
     "text": [
      "삼성전자 Naver\n",
      "삼성전자 Naver\n"
     ]
    }
   ],
   "source": [
    "interest = ['삼성전자', 'LG전자', 'Naver']\n",
    "del interest [1]\n",
    "print(\" \".join(interest))\n",
    "\n",
    "interest = ['삼성전자', 'LG전자', 'Naver']\n",
    "print(interest[0], interest[2])"
   ]
  },
  {
   "cell_type": "code",
   "execution_count": 233,
   "id": "1fa61db1-5d74-4d20-b4be-fa037f999936",
   "metadata": {},
   "outputs": [
    {
     "name": "stdout",
     "output_type": "stream",
     "text": [
      "삼성전자 LG전자 Naver SK하이닉스 미래에셋대우\n"
     ]
    }
   ],
   "source": [
    "interest = ['삼성전자', 'LG전자', 'Naver', 'SK하이닉스', '미래에셋대우']\n",
    "print(\" \".join(interest))"
   ]
  },
  {
   "cell_type": "code",
   "execution_count": 236,
   "id": "b5935658-727f-408f-b40b-b97157727602",
   "metadata": {},
   "outputs": [
    {
     "name": "stdout",
     "output_type": "stream",
     "text": [
      "삼성전자/LG전자/Naver/SK하이닉스/미래에셋대우\n"
     ]
    }
   ],
   "source": [
    "interest = ['삼성전자', 'LG전자', 'Naver', 'SK하이닉스', '미래에셋대우']\n",
    "print(\"/\".join(interest))"
   ]
  },
  {
   "cell_type": "code",
   "execution_count": 237,
   "id": "ab01a0a0-4624-488d-88af-851b88f6588f",
   "metadata": {},
   "outputs": [
    {
     "name": "stdout",
     "output_type": "stream",
     "text": [
      "삼성전자\n",
      "LG전자\n",
      "Naver\n",
      "SK하이닉스\n",
      "미래에셋대우\n"
     ]
    }
   ],
   "source": [
    "interest = ['삼성전자', 'LG전자', 'Naver', 'SK하이닉스', '미래에셋대우']\n",
    "print(\"\\n\".join(interest))"
   ]
  },
  {
   "cell_type": "code",
   "execution_count": 238,
   "id": "b62ed522-2a46-4605-b98c-00a453ab1d88",
   "metadata": {},
   "outputs": [
    {
     "name": "stdout",
     "output_type": "stream",
     "text": [
      "['삼성전자', 'LG전자', 'Naver']\n"
     ]
    }
   ],
   "source": [
    "string = \"삼성전자/LG전자/Naver\"\n",
    "interest = string.split(\"/\")\n",
    "print(interest)"
   ]
  },
  {
   "cell_type": "code",
   "execution_count": 240,
   "id": "f98f7f8b-4b6f-4278-814d-ac767169f977",
   "metadata": {},
   "outputs": [
    {
     "name": "stdout",
     "output_type": "stream",
     "text": [
      "[1, 2, 3, 4, 5, 9, 10]\n"
     ]
    }
   ],
   "source": [
    "data = [2, 4, 3, 1, 5, 10, 9]\n",
    "data.sort()\n",
    "print(data)"
   ]
  },
  {
   "cell_type": "code",
   "execution_count": 242,
   "id": "73cdf045-1b23-402d-af99-73bc3a3b8bab",
   "metadata": {},
   "outputs": [
    {
     "name": "stdout",
     "output_type": "stream",
     "text": [
      "()\n"
     ]
    }
   ],
   "source": [
    "my_variable = ()\n",
    "print(my_variable)"
   ]
  },
  {
   "cell_type": "code",
   "execution_count": 243,
   "id": "27476c42-e0de-4774-aa06-0af5d0cd5c32",
   "metadata": {},
   "outputs": [],
   "source": [
    "movie_rank =(\"닥터 스트레인지\",\"스플릿\",\"럭키\")"
   ]
  },
  {
   "cell_type": "code",
   "execution_count": 244,
   "id": "0bb557a1-adf1-437b-a4a2-d19c967b5b3e",
   "metadata": {},
   "outputs": [],
   "source": [
    "t=(1,)"
   ]
  },
  {
   "cell_type": "code",
   "execution_count": 245,
   "id": "b43386d1-01cb-4fcf-ba87-d658ea5ed207",
   "metadata": {},
   "outputs": [],
   "source": [
    "t = ('a', 'b', 'c')\n",
    "t = ('A', 'B', 'C')\n"
   ]
  },
  {
   "cell_type": "code",
   "execution_count": 247,
   "id": "680d569a-935f-43dd-8528-9e5683421b6a",
   "metadata": {},
   "outputs": [],
   "source": [
    "interest = ('삼성전자', 'LG전자', 'SK Hynix')\n",
    "data = list(interest)"
   ]
  },
  {
   "cell_type": "code",
   "execution_count": 248,
   "id": "6d29460c-7a8c-4845-9e4b-dc976ff32320",
   "metadata": {},
   "outputs": [],
   "source": [
    "interest = ['삼성전자', 'LG전자', 'SK Hynix']\n",
    "data = tuple(interest)"
   ]
  },
  {
   "cell_type": "code",
   "execution_count": 249,
   "id": "cb6f7203-a807-4d8a-9358-9f7570895ea3",
   "metadata": {},
   "outputs": [
    {
     "name": "stdout",
     "output_type": "stream",
     "text": [
      "apple banana cake\n"
     ]
    }
   ],
   "source": [
    "temp = ('apple', 'banana', 'cake')\n",
    "a, b, c = temp\n",
    "print(a, b, c)\n"
   ]
  },
  {
   "cell_type": "code",
   "execution_count": 251,
   "id": "7245abc0-3976-4a15-ad00-3e810ef9f2f5",
   "metadata": {},
   "outputs": [
    {
     "name": "stdout",
     "output_type": "stream",
     "text": [
      "(2, 4, 6, 8, 10, 12, 14, 16, 18, 20, 22, 24, 26, 28, 30, 32, 34, 36, 38, 40, 42, 44, 46, 48, 50, 52, 54, 56, 58, 60, 62, 64, 66, 68, 70, 72, 74, 76, 78, 80, 82, 84, 86, 88, 90, 92, 94, 96, 98)\n"
     ]
    }
   ],
   "source": [
    "data = tuple(range(2, 100, 2))\n",
    "print( data )"
   ]
  },
  {
   "cell_type": "code",
   "execution_count": null,
   "id": "7dfc2b1a-80c3-46ed-a5a9-b9c527e9b670",
   "metadata": {},
   "outputs": [],
   "source": []
  }
 ],
 "metadata": {
  "kernelspec": {
   "display_name": "Python 3 (ipykernel)",
   "language": "python",
   "name": "python3"
  },
  "language_info": {
   "codemirror_mode": {
    "name": "ipython",
    "version": 3
   },
   "file_extension": ".py",
   "mimetype": "text/x-python",
   "name": "python",
   "nbconvert_exporter": "python",
   "pygments_lexer": "ipython3",
   "version": "3.11.4"
  }
 },
 "nbformat": 4,
 "nbformat_minor": 5
}

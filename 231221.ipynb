{
 "cells": [
  {
   "cell_type": "code",
   "execution_count": 1,
   "id": "3c3f8cb0-2e83-43de-8896-ca6588d4b780",
   "metadata": {},
   "outputs": [
    {
     "name": "stdout",
     "output_type": "stream",
     "text": [
      "5050\n"
     ]
    }
   ],
   "source": [
    "### break, continue\n",
    "### 1~100 까지의 합을 구하시오.\n",
    "sum1 = 0\n",
    "i = 1\n",
    "while i <= 100:\n",
    "    sum1 += i\n",
    "    i += 1\n",
    "print(sum1)"
   ]
  },
  {
   "cell_type": "code",
   "execution_count": 6,
   "id": "16c7bf88-c8c4-4060-af8e-efeb94fb5911",
   "metadata": {},
   "outputs": [
    {
     "name": "stdout",
     "output_type": "stream",
     "text": [
      "2500\n",
      "2500\n"
     ]
    }
   ],
   "source": [
    "### 홀수의 합을 구하시오,\n",
    "sum1 = 0\n",
    "i = 1\n",
    "while i <= 100:\n",
    "    if i % 2 !=0:\n",
    "        sum1 += i\n",
    "    i += 1\n",
    "print(sum1)\n",
    "\n",
    "sum1 = 0\n",
    "i = 0\n",
    "while i < 100:\n",
    "    i += 1\n",
    "    if i % 2 == 0:\n",
    "        continue\n",
    "    sum1 += i\n",
    "print(sum1)"
   ]
  },
  {
   "cell_type": "code",
   "execution_count": 5,
   "id": "3ac7ff6e-1826-44d9-b76c-ed6bdb8985e0",
   "metadata": {},
   "outputs": [
    {
     "name": "stdout",
     "output_type": "stream",
     "text": [
      "2550\n",
      "2550\n"
     ]
    }
   ],
   "source": [
    "### 짝수의 합을 구하시오\n",
    "sum1 = 0\n",
    "i = 1\n",
    "while i <= 100:\n",
    "    if i % 2 == 0:\n",
    "        sum1 += i\n",
    "    i += 1\n",
    "print(sum1)\n",
    "\n",
    "sum1 = 0\n",
    "i = 0\n",
    "while i < 100:\n",
    "    i += 1\n",
    "    if i % 2 != 0:\n",
    "        continue\n",
    "    sum1 += i\n",
    "print(sum1)"
   ]
  },
  {
   "cell_type": "code",
   "execution_count": 7,
   "id": "0388b59c-9255-4bda-8270-97d3eb93fa84",
   "metadata": {},
   "outputs": [
    {
     "name": "stdout",
     "output_type": "stream",
     "text": [
      "5050\n",
      "[1, 2, 3, 4]\n"
     ]
    }
   ],
   "source": [
    "sum1 = 0\n",
    "i = 1\n",
    "while True:\n",
    "    if i == 101:\n",
    "        break\n",
    "    sum1 += i\n",
    "    i += 1\n",
    "print(sum1)\n",
    "l = [1,2,3,4,5,6]\n",
    "#    0 1 2 3 4 5 \n",
    "print(l[0:4])# start = 0 , stop = 4"
   ]
  },
  {
   "cell_type": "code",
   "execution_count": 179,
   "id": "ed1c029d-8ae2-48e2-97f9-8a364d40716c",
   "metadata": {},
   "outputs": [
    {
     "name": "stdout",
     "output_type": "stream",
     "text": [
      "10\n",
      "10\n",
      "10\n",
      "20\n",
      "0\n"
     ]
    }
   ],
   "source": [
    "### forEach\n",
    "l = [1,2,3,4]\n",
    "sum1 = 0\n",
    "idx = 0\n",
    "while idx < len(l):\n",
    "    sum1 += l [idx]\n",
    "    idx += 1\n",
    "print(sum1)\n",
    "print(sum(l))\n",
    "\n",
    "sum1 = 0\n",
    "for num in l:  #[1,2,3,4]\n",
    "    sum1 += num\n",
    "print(sum1)\n",
    "\n",
    "for num in [1,2,3,4]:\n",
    "    sum1 += num\n",
    "print(sum1)\n",
    "\n",
    "sum1 = 0\n",
    "for idx in range(0,len(l)):\n",
    "    sum1 + l[idx]\n",
    "print(sum1)"
   ]
  },
  {
   "cell_type": "code",
   "execution_count": 16,
   "id": "8b1d88ba-8884-4480-bee1-84f74c3ea0df",
   "metadata": {},
   "outputs": [
    {
     "name": "stdout",
     "output_type": "stream",
     "text": [
      "5050\n",
      "5050\n"
     ]
    }
   ],
   "source": [
    "# 1 ~ 100 까지 합\n",
    "sum1 = 0 \n",
    "i = 1 \n",
    "while i <= 100:\n",
    "    sum1 += i\n",
    "    i += 1\n",
    "print(sum1)\n",
    "sum1 = 0\n",
    "\n",
    "for num in range(1,101):\n",
    "    sum1 += num\n",
    "print(sum1)"
   ]
  },
  {
   "cell_type": "code",
   "execution_count": 19,
   "id": "790da565-4116-48ea-a1e0-f6b9664a099e",
   "metadata": {},
   "outputs": [
    {
     "name": "stdout",
     "output_type": "stream",
     "text": [
      "2500\n",
      "2500\n"
     ]
    }
   ],
   "source": [
    "### 홀수의 합을 구하시오.\n",
    "sum1 = 0\n",
    "for num in range (1, 101):\n",
    "    if num % 2 != 0:\n",
    "        sum1 += num\n",
    "print(sum1)\n",
    "\n",
    "sum1 = 0\n",
    "for num in range(1, 101):\n",
    "    if num % 2 == 0:\n",
    "        continue\n",
    "    sum1 += num\n",
    "print(sum1)"
   ]
  },
  {
   "cell_type": "code",
   "execution_count": 23,
   "id": "7bb9a0f8-86d6-47e7-af45-369d25a51903",
   "metadata": {},
   "outputs": [
    {
     "name": "stdout",
     "output_type": "stream",
     "text": [
      "2550\n",
      "2550\n"
     ]
    }
   ],
   "source": [
    "## 짝수의 합을 구하시오.\n",
    "sum1 = 0\n",
    "for num in range(1, 101):\n",
    "    if num % 2 == 0:\n",
    "        sum1 += num\n",
    "print(sum1)\n",
    "\n",
    "sum1 = 0\n",
    "for num in range(1, 101):\n",
    "    if num % 2 != 0:\n",
    "        continue\n",
    "    sum1 += num\n",
    "print(sum1)"
   ]
  },
  {
   "cell_type": "code",
   "execution_count": 180,
   "id": "d2d831c5-f486-4b02-849a-d74a5b6b0dad",
   "metadata": {},
   "outputs": [
    {
     "name": "stdout",
     "output_type": "stream",
     "text": [
      "5050\n",
      "15\n",
      "15\n"
     ]
    }
   ],
   "source": [
    "sum1 = 0\n",
    "for num in range(100000000): # 시작 값이 없으면 0부터 시작한다.\n",
    "    if num == 101:\n",
    "        break\n",
    "    sum1 += num\n",
    "print(sum1)\n",
    "\n",
    "sum1= 0\n",
    "t = (1,2,3,4,5)\n",
    "print(sum(t))\n",
    "for num in t:\n",
    "    sum1 += num\n",
    "print(sum1)"
   ]
  },
  {
   "cell_type": "code",
   "execution_count": 28,
   "id": "cbd678da-266a-4f46-99be-7b25d7f658ad",
   "metadata": {},
   "outputs": [
    {
     "name": "stdout",
     "output_type": "stream",
     "text": [
      "3 * 1 = 3\n",
      "3 * 2 = 6\n",
      "3 * 3 = 9\n",
      "3 * 4 = 12\n",
      "3 * 5 = 15\n",
      "3 * 6 = 18\n",
      "3 * 7 = 21\n",
      "3 * 8 = 24\n",
      "3 * 9 = 27\n",
      "3*1 = 3\n",
      "3*2 = 6\n",
      "3*3 = 9\n",
      "3*4 = 12\n",
      "3*5 = 15\n",
      "3*6 = 18\n",
      "3*7 = 21\n",
      "3*8 = 24\n",
      "3*9 = 27\n"
     ]
    }
   ],
   "source": [
    "# 3단\n",
    "gop = 1\n",
    "while gop <= 9:\n",
    "    print(f\"3 * {gop} = {3 *gop}\")\n",
    "    gop += 1\n",
    "\n",
    "for gop in range(1, 10):\n",
    "    print(f\"3*{gop} = {3*gop}\")"
   ]
  },
  {
   "cell_type": "code",
   "execution_count": 29,
   "id": "bb87eb87-ff1c-4aa0-b21f-707c0f1c6898",
   "metadata": {},
   "outputs": [
    {
     "name": "stdout",
     "output_type": "stream",
     "text": [
      "3*1 = 3\n",
      "3*2 = 6\n",
      "3*3 = 9\n",
      "3*4 = 12\n",
      "3*5 = 15\n",
      "3*6 = 18\n",
      "3*7 = 21\n",
      "3*8 = 24\n",
      "3*9 = 27\n",
      "4*1 = 4\n",
      "4*2 = 8\n",
      "4*3 = 12\n",
      "4*4 = 16\n",
      "4*5 = 20\n",
      "4*6 = 24\n",
      "4*7 = 28\n",
      "4*8 = 32\n",
      "4*9 = 36\n",
      "5*1 = 5\n",
      "5*2 = 10\n",
      "5*3 = 15\n",
      "5*4 = 20\n",
      "5*5 = 25\n",
      "5*6 = 30\n",
      "5*7 = 35\n",
      "5*8 = 40\n",
      "5*9 = 45\n"
     ]
    }
   ],
   "source": [
    "for gop in range(1, 10):\n",
    "    print(f\"3*{gop} = {3*gop}\")\n",
    "\n",
    "for gop in range(1, 10):\n",
    "    print(f\"4*{gop} = {4*gop}\")\n",
    "\n",
    "for gop in range(1, 10):\n",
    "    print(f\"5*{gop} = {5*gop}\")"
   ]
  },
  {
   "cell_type": "code",
   "execution_count": 30,
   "id": "84a8b03a-748d-4a35-ae8b-40619a558d00",
   "metadata": {},
   "outputs": [
    {
     "name": "stdout",
     "output_type": "stream",
     "text": [
      "3*1 = 3\n",
      "3*2 = 6\n",
      "3*3 = 9\n",
      "3*4 = 12\n",
      "3*5 = 15\n",
      "3*6 = 18\n",
      "3*7 = 21\n",
      "3*8 = 24\n",
      "3*9 = 27\n",
      "4*1 = 4\n",
      "4*2 = 8\n",
      "4*3 = 12\n",
      "4*4 = 16\n",
      "4*5 = 20\n",
      "4*6 = 24\n",
      "4*7 = 28\n",
      "4*8 = 32\n",
      "4*9 = 36\n",
      "5*1 = 5\n",
      "5*2 = 10\n",
      "5*3 = 15\n",
      "5*4 = 20\n",
      "5*5 = 25\n",
      "5*6 = 30\n",
      "5*7 = 35\n",
      "5*8 = 40\n",
      "5*9 = 45\n"
     ]
    }
   ],
   "source": [
    "for dan in range (3,5 + 1):\n",
    "    for gop in range(1, 10):\n",
    "        print(f\"{dan}*{gop} = {dan*gop}\")"
   ]
  },
  {
   "cell_type": "code",
   "execution_count": null,
   "id": "07a56cf8-2e24-4acf-8bf0-b4bf45cae1c7",
   "metadata": {},
   "outputs": [],
   "source": [
    "startDan = int(input(\"시작단:\"))\n",
    "endDan = int(input(\"끝단:\"))\n",
    "startGop = int(input(\"시작곱:\"))\n",
    "endGop = int(input(\"끝곱:\"))\n",
    "for dan in range(startDan, endDan + 1):\n",
    "    for gop in range(startGop, endGop + 1):\n",
    "        print(f\"{dan} * {gop} = {dan * gop}\")"
   ]
  },
  {
   "cell_type": "code",
   "execution_count": 34,
   "id": "a1043b60-5e7e-4b02-ac1c-17e4680fb637",
   "metadata": {},
   "outputs": [
    {
     "name": "stdout",
     "output_type": "stream",
     "text": [
      "32,10,39,19,13,16,"
     ]
    }
   ],
   "source": [
    "import random\n",
    "lotto = []\n",
    "for i in range (1, 45 + 1):\n",
    "    lotto.append(i)\n",
    "size = len(lotto)\n",
    "for i in range(6):\n",
    "    size -= 1\n",
    "    idx = random.randint(0, size)\n",
    "    lottoNum = lotto.pop(idx)\n",
    "    print(lottoNum, end = \",\")"
   ]
  },
  {
   "cell_type": "code",
   "execution_count": 41,
   "id": "ccdc71a2-8373-47df-9d45-02a349953c6a",
   "metadata": {},
   "outputs": [
    {
     "name": "stdin",
     "output_type": "stream",
     "text": [
      "구매수량: 3\n"
     ]
    },
    {
     "name": "stdout",
     "output_type": "stream",
     "text": [
      "1번 :27,18,37,32,7,23,\n",
      "2번 :41,21,34,10,4,35,\n",
      "3번 :34,43,44,20,22,29,\n"
     ]
    }
   ],
   "source": [
    "import random\n",
    "cnt = int(input(\"구매수량:\"))\n",
    "\n",
    "for i in range (cnt):\n",
    "    lotto = [] #밖에 있으면 clear필요\n",
    "    print(f\"{i+1}번 :\",end =\"\")\n",
    "    for i in range (1, 45 + 1):\n",
    "        lotto.append(i)\n",
    "    size = len(lotto)\n",
    "    for i in range(6):\n",
    "        size -= 1\n",
    "        idx = random.randint(0, size)\n",
    "        lottoNum = lotto.pop(idx) # 39\n",
    "        print(lottoNum, end = \",\")\n",
    "     #   lotto.clear()\n",
    "    print()"
   ]
  },
  {
   "cell_type": "code",
   "execution_count": 45,
   "id": "7172154f-8fb2-4c2a-96d8-cc2ad3467ea2",
   "metadata": {},
   "outputs": [
    {
     "name": "stdout",
     "output_type": "stream",
     "text": [
      "[1, 2, 3, 4, 5, 6, 7, 8, 9, 10, 11, 12, 13, 14, 15, 16, 17, 18, 19, 20, 21, 22, 23, 24, 25, 26, 27, 28, 29, 30, 31, 32, 33, 34, 35, 36, 37, 38, 39, 40, 41, 42, 43, 44, 45]\n",
      "[1, 2, 3, 4, 5, 6, 7, 8, 9, 10, 11, 12, 13, 14, 15, 16, 17, 18, 19, 20, 21, 22, 23, 24, 25, 26, 27, 28, 29, 30, 31, 32, 33, 34, 35, 36, 37, 38, 39, 40, 41, 42, 43, 44, 45]\n"
     ]
    }
   ],
   "source": [
    "lotto = []\n",
    "for i in range(1, 45 +1):\n",
    "    lotto.append(i)\n",
    "print(lotto)\n",
    "\n",
    "#list compregension\n",
    "lotto = [i for i in range(1, 45 + 1)]\n",
    "print(lotto)\n",
    "\n",
    "lotto = []\n",
    "for i in range (1, 45 + 1):\n",
    "    lotto.append(i*3)\n",
    "print(lotto)\n",
    "lotto = [i*3 for i in range(1, 45 + 1)]\n",
    "print(lotto)"
   ]
  },
  {
   "cell_type": "code",
   "execution_count": 47,
   "id": "9b2be3e7-2146-48f3-9808-c6dc73d5f5d4",
   "metadata": {},
   "outputs": [
    {
     "name": "stdout",
     "output_type": "stream",
     "text": [
      "[3, 6, 9, 12]\n",
      "[3, 6, 9, 12]\n"
     ]
    }
   ],
   "source": [
    "# 튜플요소에 3을 곱한 값을 리스트에 추가\n",
    "t = (1,2,3,4)\n",
    "l = []\n",
    "for num in t:\n",
    "    l.append(num * 3)\n",
    "print(l)\n",
    "\n",
    "l = [num * 3 for num in t]\n",
    "print(l)"
   ]
  },
  {
   "cell_type": "code",
   "execution_count": 48,
   "id": "3fb80740-b50c-4930-8b90-30beb2811248",
   "metadata": {},
   "outputs": [
    {
     "name": "stdout",
     "output_type": "stream",
     "text": [
      "[6, 12, 18, 24, 30]\n",
      "[6, 12, 18, 24, 30]\n"
     ]
    }
   ],
   "source": [
    "# 튜플 요소에서 짝수인 요소만 3을 곱해서 추가\n",
    "t = 1,2,3,4,5,6,7,8,9,10\n",
    "l = []\n",
    "for num in t:\n",
    "    if num % 2 == 0:\n",
    "        l.append(num * 3)\n",
    "print(l)\n",
    "\n",
    "l = [num * 3 for num in t if num % 2 == 0]\n",
    "print(l)\n"
   ]
  },
  {
   "cell_type": "code",
   "execution_count": 56,
   "id": "d64fa872-eb16-45de-8193-35335a2b2d24",
   "metadata": {},
   "outputs": [
    {
     "name": "stdout",
     "output_type": "stream",
     "text": [
      "[3, 6, 9, 12, 15, 18, 21, 24, 27, 4, 8, 12, 16, 20, 24, 28, 32, 36, 5, 10, 15, 20, 25, 30, 35, 40, 45]\n",
      "[3, 6, 9, 12, 15, 18, 21, 24, 27, 4, 8, 12, 16, 20, 24, 28, 32, 36, 5, 10, 15, 20, 25, 30, 35, 40, 45]\n"
     ]
    }
   ],
   "source": [
    "# 3단 부터 5단 까지의 값을 리스트에 추가\n",
    "l = []\n",
    "for dan in range(3,6):\n",
    "    for gop in range(1, 10):\n",
    "        l.append(dan * gop)\n",
    "print(l)\n",
    "\n",
    "l = [dan * gop for dan in range(3,6)\n",
    "               for gop in range (1,10)]\n",
    "print(l)"
   ]
  },
  {
   "cell_type": "code",
   "execution_count": 181,
   "id": "47ae775e-df84-40b9-99b6-a3d3f9b0d915",
   "metadata": {},
   "outputs": [
    {
     "name": "stdout",
     "output_type": "stream",
     "text": [
      "[6, 12, 18, 24, 8, 16, 24, 32, 10, 20, 30, 40]\n",
      "[6, 12, 18, 24, 8, 16, 24, 32, 10, 20, 30, 40]\n"
     ]
    }
   ],
   "source": [
    "#3단 부터 5단계의 값중 곱이 짝인 것만 리스트에 추가\n",
    "l = []\n",
    "for dan in range (3,6):\n",
    "    for gop in range(1,10):\n",
    "        if gop % 2 == 0:\n",
    "            l.append(dan * gop)\n",
    "print(l)\n",
    "\n",
    "l =[dan * gop for dan in range(3,6)\n",
    "               for gop in range(1, 10) if gop % 2 == 0]\n",
    "print(l)"
   ]
  },
  {
   "cell_type": "code",
   "execution_count": 65,
   "id": "b5231ccc-7272-4c22-9083-1274f7b22531",
   "metadata": {},
   "outputs": [
    {
     "name": "stdout",
     "output_type": "stream",
     "text": [
      "(1, 2)\n",
      "(3, 4)\n",
      "(5, 6)\n",
      "1 2\n",
      "(1, 2)\n",
      "(3, 4)\n",
      "(5, 6)\n",
      "1 2\n",
      "3\n",
      "3 4\n",
      "7\n",
      "5 6\n",
      "11\n"
     ]
    }
   ],
   "source": [
    "l1 = [(1,2),(3,4),(5,6)]\n",
    "#       0    1      2\n",
    "print(l1[0])#(1, 2)\n",
    "print(l1[1])#(3, 4)\n",
    "print(l1[2])#(5, 6)\n",
    "a , b = l1[0]\n",
    "print(a,b)\n",
    "for y in l1:\n",
    "    print(y)\n",
    "for a,b in l1:\n",
    "    print(a,b)\n",
    "    print(a +b)"
   ]
  },
  {
   "cell_type": "code",
   "execution_count": 67,
   "id": "ff3f38d0-6be5-4bca-84f1-17415fc70121",
   "metadata": {},
   "outputs": [
    {
     "name": "stdout",
     "output_type": "stream",
     "text": [
      "[1, 2, 3]\n",
      "(4, 5, 6)\n",
      "(7, 8, 9)\n",
      "1 2 3\n",
      "4 5 6\n",
      "7 8 9\n"
     ]
    }
   ],
   "source": [
    "l2 = [[1,2,3],(4,5,6),(7,8,9)]\n",
    "for y in l2:\n",
    "    print(y)\n",
    "for a,b,c in l2:\n",
    "    print(a,b,c)"
   ]
  },
  {
   "cell_type": "code",
   "execution_count": 70,
   "id": "9cc664ab-a6e7-4b4b-9595-d978d7f122a5",
   "metadata": {},
   "outputs": [
    {
     "name": "stdout",
     "output_type": "stream",
     "text": [
      "[1, 2]\n",
      "[3, 4, 5, 6]\n",
      "[7, 8, 9]\n",
      "7 8 9\n"
     ]
    }
   ],
   "source": [
    "l3 = [[1,2],[3,4,5,6],[7,8,9]]\n",
    "for y in l3:\n",
    "    print(y)\n",
    "\n",
    "a,b,c = [7,8,9]\n",
    "print(a,b,c)\n",
    "#a,b = [7,8,9]\n",
    "#a,b,c = [7,8]\n",
    "'''\n",
    "for a,b,c in l3: # 리스트의 있는 요소의 크기가 달라 오류 발생\n",
    "    print(a,b,c)\n",
    "'''"
   ]
  },
  {
   "cell_type": "code",
   "execution_count": 83,
   "id": "c50816ed-9270-437a-a2b1-345831e0f60a",
   "metadata": {},
   "outputs": [
    {
     "name": "stdout",
     "output_type": "stream",
     "text": [
      "2023-12-21 11:43:51.543992\n",
      "2023 년\n",
      "12 월\n",
      "21 일\n",
      "11 시\n",
      "43 분\n",
      "51 초\n",
      "<class 'int'>\n",
      "2023년12월21일 11시32분15초\n",
      "2023년12월21일 11시43분51초\n",
      "2023년12월21일 11시43분51초\n",
      "2023년12월21일 11시43분51초\n",
      "오전 11시\n"
     ]
    }
   ],
   "source": [
    "import datetime\n",
    "now = datetime.datetime.now()\n",
    "print(now)\n",
    "print(now.year, \"년\")\n",
    "print(now.month, \"월\")\n",
    "print(now.day, \"일\")\n",
    "print(now.hour, \"시\")\n",
    "print(now.minute, \"분\")\n",
    "print(now.second, \"초\")\n",
    "print(type(now.second))\n",
    "print(\"2023년12월21일 11시32분15초\")\n",
    "print(\"%d년%d월%d일 %d시%d분%d초\" % (now.year, now.month, \\\n",
    "                                    now.day, now.hour,\\\n",
    "                                    now.minute, now.second))\n",
    "print(\"{}년{}월{}일 {}시{}분{}초\".format(now.year, now.month, \\\n",
    "                                        now.day, now.hour,\\\n",
    "                                        now.minute, now.second))\n",
    "print(f\"{now.year}년{now.month}월{now.day}일\",\\\n",
    "      f\"{now.hour}시{now.minute}분{now.second}초\")\n",
    "#오전이면 \"오전\"을 출력, 오후면 \"오후\"출력\n",
    "if now.hour < 12:\n",
    "    print(f\"오전 {now.hour}시\")\n",
    "if now.hour >= 12:\n",
    "    print(f\"오후{now.hour}시\")"
   ]
  },
  {
   "cell_type": "code",
   "execution_count": 99,
   "id": "b778abed-524e-431d-ab1c-f815294de9a7",
   "metadata": {},
   "outputs": [
    {
     "name": "stdout",
     "output_type": "stream",
     "text": [
      "12월은 겨울\n"
     ]
    }
   ],
   "source": [
    "# 봄, 여름, 가을 , 겨울을 출력하세요.\n",
    "if 3<=now.month <=5:\n",
    "    print(f\"{now.month}월은 봄\")\n",
    "elif 6<=now.month <=8:\n",
    "    print(f\"{now.month}월은 여름\")\n",
    "elif 9<=now.month <=11:\n",
    "    print(f\"{now.month}월은 가을\")\n",
    "else:\n",
    "    print(f\"{now.month}월은 겨울\")"
   ]
  },
  {
   "cell_type": "code",
   "execution_count": 106,
   "id": "ac331dd1-8364-410e-a59a-35e75152efcb",
   "metadata": {},
   "outputs": [
    {
     "name": "stdout",
     "output_type": "stream",
     "text": [
      "[1, 3, 5]\n",
      "1\n",
      "3\n",
      "5\n",
      "7\n",
      "9\n"
     ]
    }
   ],
   "source": [
    "l = [1,2,3,4,5,6]\n",
    "print(l[::2])\n",
    "\n",
    "for num in range(1,1 + 10,2):\n",
    "    print(num)"
   ]
  },
  {
   "cell_type": "code",
   "execution_count": 183,
   "id": "e962972c-9987-4fe2-a7d2-262de350ece5",
   "metadata": {},
   "outputs": [
    {
     "name": "stdout",
     "output_type": "stream",
     "text": [
      "range(0, 10)\n",
      "[0, 1, 2, 3, 4, 5, 6, 7, 8, 9]\n",
      "(0, 1, 2, 3, 4, 5, 6, 7, 8, 9)\n",
      "{0, 1, 2, 3, 4, 5, 6, 7, 8, 9}\n",
      "문자열 : range(0, 10)\n"
     ]
    }
   ],
   "source": [
    "print(range(10))\n",
    "l = list(range(10))\n",
    "print(l)\n",
    "t = tuple(range(10))\n",
    "print(t)\n",
    "ss = set(range(10))\n",
    "print(ss)\n",
    "str1 =  str(range(10))\n",
    "print(\"문자열 : \" + str1)"
   ]
  },
  {
   "cell_type": "code",
   "execution_count": 108,
   "id": "f20d7f6b-f318-4033-8cdf-c6d5d30c1a56",
   "metadata": {},
   "outputs": [
    {
     "name": "stdout",
     "output_type": "stream",
     "text": [
      "7\n",
      "28\n"
     ]
    }
   ],
   "source": [
    "l = [1,2,3,4,5,6,7]\n",
    "#    0 1 2 3 4 5 6\n",
    "print(len(l))\n",
    "sum1 = 0\n",
    "for idx in range(len(l)):\n",
    "    sum1 += l[idx]\n",
    "print(sum1)"
   ]
  },
  {
   "cell_type": "code",
   "execution_count": 114,
   "id": "a1ee55eb-c32e-46ad-a56a-b55b7faa57ee",
   "metadata": {},
   "outputs": [
    {
     "name": "stdout",
     "output_type": "stream",
     "text": [
      "0\n",
      "1\n",
      "2\n",
      "3\n",
      "4\n",
      "5\n",
      "6\n",
      "7\n",
      "8\n",
      "9\n",
      "[6, 5, 4, 3, 2, 1]\n",
      "[2, 3, 4, 5, 6]\n",
      "[6, 5, 4, 3, 2]\n",
      "10\n",
      "9\n",
      "8\n",
      "7\n",
      "6\n",
      "5\n",
      "4\n",
      "3\n",
      "2\n",
      "4\n",
      "3\n",
      "2\n",
      "1\n",
      "0\n"
     ]
    }
   ],
   "source": [
    "for num in range(10):\n",
    "    print(num)\n",
    "l = [1,2,3,4,5,6]\n",
    "print(l[::-1])\n",
    "print(l[1:6])\n",
    "print(l[5:0:-1])\n",
    "for num in range(10, 2-1,-1):\n",
    "    print(num)\n",
    "for num in reversed(range(5)):#0~4\n",
    "    print(num)"
   ]
  },
  {
   "cell_type": "code",
   "execution_count": 117,
   "id": "82a776bb-0ee5-400d-b968-0e226696e6fd",
   "metadata": {},
   "outputs": [
    {
     "name": "stdout",
     "output_type": "stream",
     "text": [
      "[1, 1]\n"
     ]
    }
   ],
   "source": [
    "l = [1,2,1,2]\n",
    "value = 2\n",
    "\n",
    "while value in l:\n",
    "    l.remove(value)\n",
    "print(l)"
   ]
  },
  {
   "cell_type": "code",
   "execution_count": 122,
   "id": "8f589f7e-8986-4474-a232-507c1c282678",
   "metadata": {},
   "outputs": [
    {
     "name": "stdout",
     "output_type": "stream",
     "text": [
      "5초 동안34253763번 반복합니다.\n"
     ]
    }
   ],
   "source": [
    "import time\n",
    "time.time() # timestamp : 1970년 1월 1일 0시 0분 0초 001미리초 : 0\n",
    "target_tick = time.time() + 5 # 5초\n",
    "i = 0\n",
    "while time.time() < target_tick:\n",
    "    i += 1\n",
    "    \n",
    "print(f\"5초 동안{i}번 반복합니다.\")"
   ]
  },
  {
   "cell_type": "code",
   "execution_count": 184,
   "id": "e96dde12-7aa8-4905-9701-9363aeadb024",
   "metadata": {},
   "outputs": [
    {
     "name": "stdin",
     "output_type": "stream",
     "text": [
      "구매수량: 2\n"
     ]
    },
    {
     "name": "stdout",
     "output_type": "stream",
     "text": [
      "37, 15, 10, 42, 16, 43, \n",
      "36, 28, 44, 15, 27, 13, \n"
     ]
    }
   ],
   "source": [
    "import random\n",
    "lottoCnt = int(input(\"구매수량:\"))\n",
    "qty= 0\n",
    "while True:\n",
    "    if qty == lottoCnt:\n",
    "        break;\n",
    "    lotto = []\n",
    "    i = 1\n",
    "    while i <= 45:\n",
    "        lotto.append(i)\n",
    "        i += 1 \n",
    "    size = len(lotto) # 45\n",
    "    cnt = 1\n",
    "    while cnt <= 6:\n",
    "        size -= 1\n",
    "        idx = random.randint(0, size) \n",
    "        result = lotto.pop(idx) # 0 ~ 44\n",
    "        print(result, end =\", \" )\n",
    "        cnt += 1\n",
    "    print()\n",
    "    qty += 1"
   ]
  },
  {
   "cell_type": "code",
   "execution_count": 186,
   "id": "c99cc3e9-410d-4a02-9fe4-f10776b09982",
   "metadata": {},
   "outputs": [
    {
     "name": "stdin",
     "output_type": "stream",
     "text": [
      "계속 진행하려면 'Y'를 누르고 멈추려면 아무키나 누르시오 .  y\n"
     ]
    },
    {
     "name": "stdout",
     "output_type": "stream",
     "text": [
      "20, 4, 43, 6, 44, 41, \n"
     ]
    },
    {
     "name": "stdin",
     "output_type": "stream",
     "text": [
      "계속 진행하려면 'Y'를 누르고 멈추려면 아무키나 누르시오 .  y\n"
     ]
    },
    {
     "name": "stdout",
     "output_type": "stream",
     "text": [
      "3, 38, 8, 35, 32, 13, \n"
     ]
    },
    {
     "name": "stdin",
     "output_type": "stream",
     "text": [
      "계속 진행하려면 'Y'를 누르고 멈추려면 아무키나 누르시오 .  y\n"
     ]
    },
    {
     "name": "stdout",
     "output_type": "stream",
     "text": [
      "4, 6, 34, 26, 29, 40, \n"
     ]
    },
    {
     "name": "stdin",
     "output_type": "stream",
     "text": [
      "계속 진행하려면 'Y'를 누르고 멈추려면 아무키나 누르시오 .  y\n"
     ]
    },
    {
     "name": "stdout",
     "output_type": "stream",
     "text": [
      "31, 36, 2, 17, 27, 21, \n"
     ]
    },
    {
     "name": "stdin",
     "output_type": "stream",
     "text": [
      "계속 진행하려면 'Y'를 누르고 멈추려면 아무키나 누르시오 .  y\n"
     ]
    },
    {
     "name": "stdout",
     "output_type": "stream",
     "text": [
      "5, 25, 43, 20, 41, 16, \n"
     ]
    },
    {
     "name": "stdin",
     "output_type": "stream",
     "text": [
      "계속 진행하려면 'Y'를 누르고 멈추려면 아무키나 누르시오 .  y\n"
     ]
    },
    {
     "name": "stdout",
     "output_type": "stream",
     "text": [
      "5, 45, 35, 12, 20, 21, \n"
     ]
    },
    {
     "name": "stdin",
     "output_type": "stream",
     "text": [
      "계속 진행하려면 'Y'를 누르고 멈추려면 아무키나 누르시오 .  \n"
     ]
    }
   ],
   "source": [
    "import random\n",
    "qty= 0\n",
    "while True:\n",
    "    result = input(\"계속 진행하려면 'Y'를 누르고 멈추려면 아무키나 누르시오 . \")\n",
    "    if result not in ['Y', 'y'] :\n",
    "        break;\n",
    "    lotto = []\n",
    "    i = 1\n",
    "    while i <= 45:\n",
    "        lotto.append(i)\n",
    "        i += 1 \n",
    "    size = len(lotto) # 45\n",
    "    cnt = 1\n",
    "    while cnt <= 6:\n",
    "        size -= 1\n",
    "        idx = random.randint(0, size) \n",
    "        result = lotto.pop(idx) # 0 ~ 44\n",
    "        print(result, end =\", \" )\n",
    "        cnt += 1\n",
    "    print()\n",
    "    qty += 1"
   ]
  },
  {
   "cell_type": "code",
   "execution_count": 128,
   "id": "c5873e6b-39b8-4830-b6b8-5905ae96b8ab",
   "metadata": {},
   "outputs": [
    {
     "name": "stdout",
     "output_type": "stream",
     "text": [
      "21\n",
      "1\n",
      "6\n",
      "21\n",
      "1\n",
      "6\n"
     ]
    }
   ],
   "source": [
    "l = [1,2,3,4,5,6]\n",
    "print(sum(l))\n",
    "print(min(l))\n",
    "print(max(l))\n",
    "t = 1,2,3,4,5,6\n",
    "print(sum(t))\n",
    "print(min(t))\n",
    "print(max(t))"
   ]
  },
  {
   "cell_type": "code",
   "execution_count": 132,
   "id": "f5c13919-48ff-43d0-a68b-fb296c69dbef",
   "metadata": {},
   "outputs": [
    {
     "name": "stdout",
     "output_type": "stream",
     "text": [
      "[2, 3, 4, 5]\n",
      "[5, 4, 3, 2]\n",
      "[6, 5, 4, 3, 2, 1]\n",
      "6\n",
      "5\n",
      "4\n",
      "3\n",
      "2\n",
      "1\n",
      "6\n",
      "5\n",
      "4\n",
      "3\n",
      "2\n",
      "1\n"
     ]
    }
   ],
   "source": [
    "print(l[1:5])\n",
    "print(l[4:0:-1])\n",
    "list(reversed(l[1:5]))\n",
    "print(l[::-1])\n",
    "for num in l[::-1]:\n",
    "    print(num)\n",
    "for num in reversed(l):\n",
    "    print(num)"
   ]
  },
  {
   "cell_type": "code",
   "execution_count": 137,
   "id": "5e904aa6-741e-4d2f-8bc9-2d7978168243",
   "metadata": {},
   "outputs": [
    {
     "name": "stdout",
     "output_type": "stream",
     "text": [
      "[1, 2, 3, 4, 5, 6]\n",
      "1 2 3 4 5 6 \n",
      "0번 요소의 값은 1입니다.\n",
      "1번 요소의 값은 2입니다.\n",
      "2번 요소의 값은 3입니다.\n",
      "3번 요소의 값은 4입니다.\n",
      "4번 요소의 값은 5입니다.\n",
      "5번 요소의 값은 6입니다.\n"
     ]
    }
   ],
   "source": [
    "print(l)\n",
    "for idx in range(len(l)):\n",
    "    print(l[idx], end=\" \")\n",
    "print()\n",
    "for idx, value in enumerate(l):\n",
    "    print(f\"{idx}번 요소의 값은 {value}입니다.\")\n"
   ]
  },
  {
   "cell_type": "code",
   "execution_count": 138,
   "id": "65270e96-1979-47b5-b1d4-3db15ded9d7f",
   "metadata": {},
   "outputs": [],
   "source": [
    "# 함수 : x변화에 따른 y가 어떻게 변화하는지 알기 위해\n",
    "'''\n",
    "f(x) = 3x + 5 이라면\n",
    "y = f(3)일 때 y값은?y = 14\n",
    "y = f(5)일 때 y값은?y = 15\n",
    "'''\n",
    "def f(x):\n",
    "    return 3*x + 5"
   ]
  },
  {
   "cell_type": "code",
   "execution_count": 140,
   "id": "f869b080-1b63-4bd5-b3bf-5de1ef02e4fe",
   "metadata": {},
   "outputs": [
    {
     "name": "stdout",
     "output_type": "stream",
     "text": [
      "14\n",
      "20\n"
     ]
    }
   ],
   "source": [
    "y = f(3)\n",
    "print(y)\n",
    "y = f(5)\n",
    "print(y)"
   ]
  },
  {
   "cell_type": "code",
   "execution_count": 147,
   "id": "f276f8aa-106d-480d-9536-1e1a8ae2779a",
   "metadata": {},
   "outputs": [],
   "source": [
    "'''\n",
    "f(x1,x2) = x1*3 + x2 * 5 + 10 이라면\n",
    "y = (3, 5)일 때 y값은 ?\n",
    "y = (4, 6)일 때 y값은 ?\n",
    "'''\n",
    "def f(x1, x2):\n",
    "    return x1 * 3 + x2 * 5 + 10"
   ]
  },
  {
   "cell_type": "code",
   "execution_count": 148,
   "id": "0e94cc31-e88a-4661-ab0f-46dfca320e55",
   "metadata": {},
   "outputs": [
    {
     "name": "stdout",
     "output_type": "stream",
     "text": [
      "44\n",
      "52\n"
     ]
    }
   ],
   "source": [
    "y = f(3, 5)\n",
    "print(y)\n",
    "y = f(4, 6)\n",
    "print(y)"
   ]
  },
  {
   "cell_type": "code",
   "execution_count": 149,
   "id": "8f914e54-f08f-40be-a291-9da2f3faef74",
   "metadata": {},
   "outputs": [],
   "source": [
    "# 함수 정의\n",
    "'''\n",
    "def 함수명(parameter1, parameter2, ..., parameter_n): \n",
    "    명령어1\n",
    "    명령어2\n",
    "    ...\n",
    "    명령어_n\n",
    "    return 결과값\n",
    "\n",
    "변수 = 함수명( argument1, argument2,...,argument_n)\n",
    "print(변수)\n",
    "'''\n",
    "def add(x1 , x2): # x1, x2: parameter , 매개변수, 가인자\n",
    "    result = x1 + x2\n",
    "    return result\n",
    "\n"
   ]
  },
  {
   "cell_type": "code",
   "execution_count": 150,
   "id": "de55e2f5-e3fc-4ffd-aba8-22aa1d9c91ea",
   "metadata": {},
   "outputs": [
    {
     "name": "stdout",
     "output_type": "stream",
     "text": [
      "8\n"
     ]
    }
   ],
   "source": [
    "y = add(3 , 5) # 3, 5 : argument , 인자, 실인자 : 호출함수\n",
    "print(y)\n",
    "# parameter와 argument는 1대1 대응을 하므로 갯수는 서로 같아야 한다.\n",
    "# 피호출함수 먼저 실행된 후 호출 함수를 사용\n",
    "# 피호출함수와 호출함수의 이름은 같아야 한다."
   ]
  },
  {
   "cell_type": "code",
   "execution_count": 151,
   "id": "fc708d90-c449-4591-9bc7-3f3c82eb270b",
   "metadata": {},
   "outputs": [
    {
     "name": "stdout",
     "output_type": "stream",
     "text": [
      "3 * 1 = 3\n",
      "3 * 2 = 6\n",
      "3 * 3 = 9\n",
      "3 * 4 = 12\n",
      "3 * 5 = 15\n",
      "3 * 6 = 18\n",
      "3 * 7 = 21\n",
      "3 * 8 = 24\n",
      "3 * 9 = 27\n"
     ]
    }
   ],
   "source": [
    "for gop in range(1,10):\n",
    "    print(f\"3 * {gop} = {3 * gop}\")"
   ]
  },
  {
   "cell_type": "code",
   "execution_count": 152,
   "id": "a9b93aab-73bd-4b87-b98e-b9ef097b0d84",
   "metadata": {},
   "outputs": [],
   "source": [
    "def dan3(): # 반복적으로 사용하는 명령어를 함수로 만들어서 사용\n",
    "    for gop in range(1,10):\n",
    "        print(f\"ㅇ무 * {gop} = {3 * gop}\")"
   ]
  },
  {
   "cell_type": "code",
   "execution_count": 153,
   "id": "690faafd-c810-426d-9ca3-cceb69b097ea",
   "metadata": {},
   "outputs": [
    {
     "name": "stdout",
     "output_type": "stream",
     "text": [
      "3 * 1 = 3\n",
      "3 * 2 = 6\n",
      "3 * 3 = 9\n",
      "3 * 4 = 12\n",
      "3 * 5 = 15\n",
      "3 * 6 = 18\n",
      "3 * 7 = 21\n",
      "3 * 8 = 24\n",
      "3 * 9 = 27\n"
     ]
    }
   ],
   "source": [
    "dan3()"
   ]
  },
  {
   "cell_type": "code",
   "execution_count": 154,
   "id": "cc56cab8-3b39-4ef9-8601-17e6f1b9e93e",
   "metadata": {},
   "outputs": [],
   "source": [
    "def gugudan(dan): # 반복적으로 사용하는 명령어를 함수로 만들어서 사용\n",
    "    for gop in range(1,10):\n",
    "        print(f\"{dan} * {gop} = {dan * gop}\")"
   ]
  },
  {
   "cell_type": "code",
   "execution_count": 155,
   "id": "7bfb407e-e418-48be-8f3f-506d140a5d86",
   "metadata": {},
   "outputs": [
    {
     "name": "stdin",
     "output_type": "stream",
     "text": [
      "단을 입력: 5\n"
     ]
    },
    {
     "name": "stdout",
     "output_type": "stream",
     "text": [
      "5 * 1 = 5\n",
      "5 * 2 = 10\n",
      "5 * 3 = 15\n",
      "5 * 4 = 20\n",
      "5 * 5 = 25\n",
      "5 * 6 = 30\n",
      "5 * 7 = 35\n",
      "5 * 8 = 40\n",
      "5 * 9 = 45\n"
     ]
    }
   ],
   "source": [
    "dan = int(input(\"단을 입력:\"))\n",
    "gugudan(dan)"
   ]
  },
  {
   "cell_type": "code",
   "execution_count": 156,
   "id": "51ba1201-5902-4c24-9eb3-6f68e56b4376",
   "metadata": {},
   "outputs": [],
   "source": [
    "# 함수의 4가지 유형\n",
    "# 1. 입력값((parameter)이 있고 출력값(return)도 있는 경우 : 기본 유형\n",
    "def add(x1 , x2):\n",
    "    return x1 + x2"
   ]
  },
  {
   "cell_type": "code",
   "execution_count": 157,
   "id": "a22c41be-6dea-4761-a4b8-d00cb374f265",
   "metadata": {},
   "outputs": [
    {
     "name": "stdout",
     "output_type": "stream",
     "text": [
      "8\n"
     ]
    }
   ],
   "source": [
    "result = add(3 , 5)\n",
    "print(result)"
   ]
  },
  {
   "cell_type": "code",
   "execution_count": 165,
   "id": "5f29076d-1f93-4bce-86de-f92d4af4996a",
   "metadata": {},
   "outputs": [],
   "source": [
    "def add():\n",
    "    x1 = int(input(\"x1값:\"))\n",
    "    x2 = int(input(\"x2값:\"))\n",
    "    return x1 + x2\n",
    "    "
   ]
  },
  {
   "cell_type": "code",
   "execution_count": 166,
   "id": "7fbcf076-520c-4e34-9515-57ea73c55fbb",
   "metadata": {},
   "outputs": [
    {
     "name": "stdin",
     "output_type": "stream",
     "text": [
      "x1값: 3\n",
      "x2값: 5\n"
     ]
    },
    {
     "name": "stdout",
     "output_type": "stream",
     "text": [
      "8\n"
     ]
    }
   ],
   "source": [
    "result = add()\n",
    "print(result)"
   ]
  },
  {
   "cell_type": "code",
   "execution_count": 167,
   "id": "d15d23e0-0b45-40ff-8bca-af21e16aa02d",
   "metadata": {},
   "outputs": [],
   "source": [
    "#3. 입력값(parameter)은 있고 출력값(returnt)이 없는 경우\n",
    "def add(x1 ,x2):\n",
    "    print(x1 + x2)\n",
    "    return"
   ]
  },
  {
   "cell_type": "code",
   "execution_count": 168,
   "id": "6ceba89f-61b6-4b82-ae6c-510851a52d50",
   "metadata": {},
   "outputs": [
    {
     "name": "stdin",
     "output_type": "stream",
     "text": [
      "숫자를 입력해주세요 3\n",
      "숫자를 입력해주세요 5\n"
     ]
    },
    {
     "name": "stdout",
     "output_type": "stream",
     "text": [
      "8\n"
     ]
    }
   ],
   "source": [
    "i = int(input(\"숫자를 입력해주세요\"))\n",
    "j = int(input(\"숫자를 입력해주세요\"))\n",
    "add(i, j)"
   ]
  },
  {
   "cell_type": "code",
   "execution_count": 170,
   "id": "eadf1fd2-7b34-47da-8c3f-da0cdd4a06dc",
   "metadata": {},
   "outputs": [],
   "source": [
    "# 4. 입력값(parameter)이 없고 출력값(returnt)도 없는 경우\n",
    "def add():\n",
    "    x1=int(input(\"숫자를 입력해주세요\"))\n",
    "    x2=int(input(\"숫자를 입력해주세요\"))\n",
    "    print(x1+x2)"
   ]
  },
  {
   "cell_type": "code",
   "execution_count": 171,
   "id": "10c2a46a-8ed9-490e-880e-da52083f6ea2",
   "metadata": {},
   "outputs": [
    {
     "name": "stdin",
     "output_type": "stream",
     "text": [
      "숫자를 입력해주세요 3\n",
      "숫자를 입력해주세요 5\n"
     ]
    },
    {
     "name": "stdout",
     "output_type": "stream",
     "text": [
      "8\n"
     ]
    }
   ],
   "source": [
    "add()"
   ]
  },
  {
   "cell_type": "code",
   "execution_count": 174,
   "id": "9f3b8a55-4cea-478e-bac4-cf8683ab5344",
   "metadata": {},
   "outputs": [],
   "source": [
    "def guguDan():\n",
    "    startDan = int(input(\"시작단:\"))\n",
    "    endDan = int(input(\"끝단:\"))\n",
    "    startGop = int(input(\"시작곱:\"))\n",
    "    endGop = int(input(\"끝곱:\"))\n",
    "    for dan in range(startDan, endDan + 1):\n",
    "        for gop in range(startGop, endGop + 1):\n",
    "            print(f\"{dan}* {gop} = {dan*gop}\")"
   ]
  },
  {
   "cell_type": "code",
   "execution_count": 176,
   "id": "0d099ce4-93f7-4e48-b710-eaf15289e94b",
   "metadata": {},
   "outputs": [
    {
     "name": "stdin",
     "output_type": "stream",
     "text": [
      "시작단: 2\n",
      "끝단: 5\n",
      "시작곱: 3\n",
      "끝곱: 5\n"
     ]
    },
    {
     "name": "stdout",
     "output_type": "stream",
     "text": [
      "2* 3 = 6\n",
      "2* 4 = 8\n",
      "2* 5 = 10\n",
      "3* 3 = 9\n",
      "3* 4 = 12\n",
      "3* 5 = 15\n",
      "4* 3 = 12\n",
      "4* 4 = 16\n",
      "4* 5 = 20\n",
      "5* 3 = 15\n",
      "5* 4 = 20\n",
      "5* 5 = 25\n"
     ]
    }
   ],
   "source": [
    "guguDan()"
   ]
  },
  {
   "cell_type": "code",
   "execution_count": 177,
   "id": "130f0314-8d37-4513-9e2c-80941dbbc382",
   "metadata": {},
   "outputs": [],
   "source": [
    "def guguDan(startDan, endDan,startGop, endGop):\n",
    "   for dan in range(startDan, endDan + 1):\n",
    "        for gop in range(startGop, endGop + 1):\n",
    "            print(f\"{dan}* {gop} = {dan*gop}\")"
   ]
  },
  {
   "cell_type": "code",
   "execution_count": null,
   "id": "bdebe1b6-238d-4e07-9bce-364cb140883f",
   "metadata": {},
   "outputs": [],
   "source": [
    "    startDan = int(input(\"시작단:\"))\n",
    "    endDan = int(input(\"끝단:\"))\n",
    "    startGop = int(input(\"시작곱:\"))\n",
    "    endGop = int(input(\"끝곱:\"))\n",
    "guguDan(startDan, endDan,startGop, endGop)"
   ]
  }
 ],
 "metadata": {
  "kernelspec": {
   "display_name": "Python 3 (ipykernel)",
   "language": "python",
   "name": "python3"
  },
  "language_info": {
   "codemirror_mode": {
    "name": "ipython",
    "version": 3
   },
   "file_extension": ".py",
   "mimetype": "text/x-python",
   "name": "python",
   "nbconvert_exporter": "python",
   "pygments_lexer": "ipython3",
   "version": "3.11.4"
  }
 },
 "nbformat": 4,
 "nbformat_minor": 5
}

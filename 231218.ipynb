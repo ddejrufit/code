{
 "cells": [
  {
   "cell_type": "code",
   "execution_count": 3,
   "id": "c5ad9d23-5b46-4aea-926d-4ce081e01455",
   "metadata": {},
   "outputs": [
    {
     "name": "stdout",
     "output_type": "stream",
     "text": [
      "8\n"
     ]
    }
   ],
   "source": [
    "print(3+5)"
   ]
  },
  {
   "cell_type": "code",
   "execution_count": 1,
   "id": "f5dc311e-764c-4124-a305-acfb0119eb66",
   "metadata": {},
   "outputs": [
    {
     "name": "stdout",
     "output_type": "stream",
     "text": [
      "160\n"
     ]
    }
   ],
   "source": [
    "print(20 * 8) #행단위 명령어: 한줄 명령어"
   ]
  },
  {
   "cell_type": "code",
   "execution_count": 4,
   "id": "2f275d95-d3b6-46a1-b4b0-18b4e8f14651",
   "metadata": {},
   "outputs": [
    {
     "name": "stdout",
     "output_type": "stream",
     "text": [
      "10\n"
     ]
    }
   ],
   "source": [
    "i= 10; print(i)"
   ]
  },
  {
   "cell_type": "code",
   "execution_count": 10,
   "id": "48f26d8e-b8b9-4c4e-89f4-d145ef3038e4",
   "metadata": {},
   "outputs": [
    {
     "name": "stdout",
     "output_type": "stream",
     "text": [
      "i는 10입니다\n",
      "i는 10입니다\n"
     ]
    }
   ],
   "source": [
    "if 10==i:\n",
    "    print(\"i는 10입니다\")\n",
    "    print(\"i는 10입니다\")"
   ]
  },
  {
   "cell_type": "code",
   "execution_count": 16,
   "id": "dc744d77-87b1-44c6-a726-bf0cf162032c",
   "metadata": {},
   "outputs": [
    {
     "name": "stdout",
     "output_type": "stream",
     "text": [
      "10\n",
      "10\n",
      "20\n",
      "50\n",
      "10.5\n",
      "10.5\n",
      "강찬우\n"
     ]
    }
   ],
   "source": [
    "# 2.자료형\n",
    "## 기본자료형 : 리터널 : 자연수 : 정수 리터널 :\n",
    "##                               실수 리터널\n",
    "#              자연어 : 영어, 중국어 , 일본어, ...\n",
    "#                       문자 리터널 :\n",
    "print(10)\n",
    "i = 10; # 정수 리터널을 가진 변수 i\n",
    "print(i)\n",
    "i = 20\n",
    "print(i)\n",
    "j = 30 # 정수리터널 변수\n",
    "print( i + j )\n",
    "f = 10.5 # 실수리터널 변수\n",
    "print(f)\n",
    "j = 10.5\n",
    "print(j)\n",
    "j=\"강찬우\"\n",
    "print(j)\n"
   ]
  },
  {
   "cell_type": "code",
   "execution_count": 19,
   "id": "40501d7d-04fb-4ba8-8916-e8f2645b1cc3",
   "metadata": {},
   "outputs": [
    {
     "name": "stdout",
     "output_type": "stream",
     "text": [
      "30\n",
      "-10\n",
      "200\n",
      "0.5\n",
      "10\n",
      "3\n",
      "1000\n"
     ]
    }
   ],
   "source": [
    "#숫자 연산자\n",
    "i = 10\n",
    "j = 20\n",
    "print(i+j)\n",
    "print (i-j)\n",
    "print (i*j)\n",
    "print(i/j)\n",
    "print(i%j) # 나머지 연산자\n",
    "print(10//3) # 몫 연산자\n",
    "print(10**3) # 제곱승\n"
   ]
  },
  {
   "cell_type": "code",
   "execution_count": 29,
   "id": "7dce139f-39b4-4a30-be0b-88610a566b89",
   "metadata": {},
   "outputs": [
    {
     "name": "stdout",
     "output_type": "stream",
     "text": [
      "rhee\n",
      "rhee\n",
      "20\n",
      "1010\n",
      "이승무이승무이승무\n",
      "==========================================================================================\n",
      "제목\n",
      "==========================================================================================\n"
     ]
    }
   ],
   "source": [
    "### 문자열 리터널 : 문자나 문자열이나 같이 취급한다.\n",
    "강찬우 = \"rhee\" # 문자리터널과 변수를 구별하기 위해서 문자열에 \"\"을 주기로 함\n",
    "# 10 = \"강찬우\" # 숫자는 변수로 사용할 수 없다.\n",
    "###           : \"\", ''가 있을 때 문자로 취급\n",
    "i = 10\n",
    "print(강찬우)\n",
    "강찬우 = 'rhee'\n",
    "print(강찬우)\n",
    "str1 = 10 # 정수리터널\n",
    "str1 = \"10\"# 문자리터널\n",
    "print(10 + 10) # 정수 + 정수 \n",
    "print(\"10\"+ \"10\")# 문자 + 문자의 연산\n",
    "#print(\"10\"+10)# 문자 + 정수 오류: 타입이 같아야 연산을 할수 있다\n",
    "print(\"강찬우\" * 3)# 반복 연산자.\n",
    "print(\"===\" *30)\n",
    "print(\"제목\")\n",
    "print(\"===\" * 30)\n",
    "# 문자열 연산자는 + , *"
   ]
  },
  {
   "cell_type": "code",
   "execution_count": 38,
   "id": "9a5e4f61-b9bc-4a16-8723-6ba1f512074b",
   "metadata": {},
   "outputs": [
    {
     "name": "stdout",
     "output_type": "stream",
     "text": [
      "Life is too short, You need puthon\n",
      "Life is too short, You need puthon\n",
      "Life's too short, You need puthon\n",
      "Life's too short, You need puthon\n",
      "Life is too short, \"You need\" puthon\n",
      "Life is too short, \"You need\" puthon\n",
      "Life is too short, You need puthon\n",
      "Life's too short, \"You need\" puthon\n",
      "\tLife is too short, \n",
      "You need puthon\n"
     ]
    }
   ],
   "source": [
    "print(\"Life is too short, You need puthon\")\n",
    "print('Life is too short, You need puthon')\n",
    "print('Life\\'s too short, You need puthon') #escape\n",
    "print(\"Life's too short, You need puthon\")\n",
    "print(\"Life is too short, \\\"You need\\\" puthon\")\n",
    "print('Life is too short, \"You need\" puthon')\n",
    "print(\"Life is too short, You need puthon\")\n",
    "print(\"Life's too short, \\\"You need\\\" puthon\")\n",
    "print(\"\\tLife is too short, \\nYou need puthon\")\n"
   ]
  },
  {
   "cell_type": "code",
   "execution_count": 39,
   "id": "e50d321e-a8a9-4993-9618-723587f7e6e6",
   "metadata": {},
   "outputs": [
    {
     "name": "stdout",
     "output_type": "stream",
     "text": [
      "Life is too short, \n",
      "You need puthon\n",
      "Life is too short, \n",
      "You need puthon\n",
      "Life is too short, You need puthon\n"
     ]
    }
   ],
   "source": [
    "print('''Life is too short, \n",
    "You need puthon''')\n",
    "print(\"\"\"Life is too short, \n",
    "You need puthon\"\"\")\n",
    "print(\"\"\"Life is too short, You need puthon\"\"\")\n",
    "### 파이썬에서 문자열을 표시하는 방법은 : \"a\",'a',\"\"\"a\"\"\",'''a'''"
   ]
  },
  {
   "cell_type": "code",
   "execution_count": 40,
   "id": "7d91d756-d265-422b-ad0d-2ee68a1ae13c",
   "metadata": {},
   "outputs": [
    {
     "name": "stdout",
     "output_type": "stream",
     "text": [
      "Life is too short, You need puthon\n",
      "34\n"
     ]
    }
   ],
   "source": [
    "str1 ='Life is too short, You need puthon'\n",
    "print(str1)\n",
    "print(len(str1))\n",
    "print(len('Life is too short, You need puthon'))"
   ]
  },
  {
   "cell_type": "code",
   "execution_count": 51,
   "id": "eba53114-f629-4c24-b3fe-57994e5f16e5",
   "metadata": {},
   "outputs": [
    {
     "name": "stdout",
     "output_type": "stream",
     "text": [
      "i\n",
      "Y\n",
      "n\n",
      "n\n",
      "i\n",
      "i\n",
      "L\n",
      "L\n",
      "L\n",
      "L\n",
      "L\n"
     ]
    }
   ],
   "source": [
    "str1 = 'Life is too short, You need puthon'\n",
    "#                 111       2222      3333\n",
    "#       0123456789012345678901234567890123 : index : 문자에 표시된 고유의 번호 : 0번부터 1씩 증가하는 번호\n",
    "#      -4321098765432109876543210987654321\n",
    "#           3         2         111\n",
    "print(str1[1])\n",
    "print(str1[19])\n",
    "print(str1[33])\n",
    "print(str1[len(str1)-1]) # len(str1) -1 : 34 - 1 = 33\n",
    "print(str1[5])\n",
    "print('Life is too short, You need puthon'[5])\n",
    "print(str1[0])\n",
    "print(str1[-34])\n",
    "print(str1[-len(str1)])\n",
    "print(str1[0])\n",
    "print(str1[-0])\n"
   ]
  },
  {
   "cell_type": "code",
   "execution_count": 59,
   "id": "bed99c24-6796-4899-82c5-df2b70c18eb6",
   "metadata": {},
   "outputs": [
    {
     "name": "stdout",
     "output_type": "stream",
     "text": [
      "L\n",
      "i\n",
      "f\n",
      "e\n",
      "Life\n"
     ]
    }
   ],
   "source": [
    "# Life를 출력\n",
    "print(str1[0]);print(str1[1]);print(str1[2]);print(str1[3]);\n",
    "print(str1[0]+str1[1]+str1[2]+str1[3]);"
   ]
  },
  {
   "cell_type": "code",
   "execution_count": 62,
   "id": "970157dc-8c0e-49cd-a1ad-fdc07ad33354",
   "metadata": {},
   "outputs": [
    {
     "name": "stdout",
     "output_type": "stream",
     "text": [
      "Life\n",
      "Life\n",
      "Lif\n",
      "too s\n",
      "too s\n",
      "e is \n",
      "\n"
     ]
    }
   ],
   "source": [
    "#Life\n",
    "# 0123\n",
    "print(str1[0:0+4])\n",
    "print(str1[0:4])# start =0; stop = 4\n",
    "print(str1[0:3]) # start = 0; stop = 3\n",
    "print(str1[8:8 + 5])\n",
    "print(str1[8:13]) # 8부터 13전까지\n",
    "idx =3 \n",
    "글자수 = 5\n",
    "print(str1[idx : idx +  글자수])"
   ]
  },
  {
   "cell_type": "code",
   "execution_count": 10,
   "id": "e550bfe9-f169-4ad3-8926-f316278908b3",
   "metadata": {},
   "outputs": [
    {
     "name": "stdout",
     "output_type": "stream",
     "text": [
      "Life is\n",
      "Life is\n",
      "Life is\n",
      "Life is\n",
      "Life is\n",
      "Life is\n"
     ]
    }
   ],
   "source": [
    "str1 = 'Life is too short, You need puthon'\n",
    "#                 111       2222      3333\n",
    "#       0123456789012345678901234567890123 : index : 문자에 표시된 고유의 번호 : 0번부터 1씩 증가하는 번호\n",
    "#      -4321098765432109876543210987654321\n",
    "#           3         2         1111\n",
    "print(str1[0:0+7])\n",
    "print(str1[-34:0+7])\n",
    "print(str1[0:-34+7])\n",
    "print(str1[0:-27])\n",
    "print(str1[-34:-27])\n",
    "print(str1[-len(str1):-27])"
   ]
  },
  {
   "cell_type": "code",
   "execution_count": 1,
   "id": "16caa326-f3b8-4221-821f-af4edce9179c",
   "metadata": {},
   "outputs": [
    {
     "name": "stdout",
     "output_type": "stream",
     "text": [
      "20010331\n",
      "Rainy\n",
      "20010331\n",
      "Rainy\n",
      "2001\n",
      "03\n",
      "31\n"
     ]
    }
   ],
   "source": [
    "a = \"20010331Rainy\"\n",
    "#    0123456789012\n",
    "#### 날짜(년월일)와 이름을 분리하여 출력\n",
    "print(a[0:8])\n",
    "print(a[8:8+5])\n",
    "print(a[:8])# 처음번호(0)은 생략가능\n",
    "print(a[8:])# 마지막번호 (len(a))\n",
    "#년 월 일\n",
    "print(a[0:4])\n",
    "print(a[4:4+2])\n",
    "print(a[6:6+2])"
   ]
  },
  {
   "cell_type": "code",
   "execution_count": 14,
   "id": "96656d9e-c4c0-4468-b95d-0bd137f72c77",
   "metadata": {},
   "outputs": [
    {
     "name": "stdout",
     "output_type": "stream",
     "text": [
      "Life is too short, You need puthon\n",
      "Life is too short, You need puthon\n",
      "Life is too short, You need puthon\n",
      "Life is too short, You need puthon\n",
      "Life is too short, You need puthon\n",
      "Lf stosot o edpto\n",
      "Lesosr ue tn\n",
      "nohtup deen uoY ,trohs oot si efiL\n",
      "fe is too sh\n",
      "f stos\n",
      "hs oot si ef\n"
     ]
    }
   ],
   "source": [
    "print(str1) # Life is too short, You need puthon\n",
    "print(str1[0:len(str1)])\n",
    "print(str1[:len(str1)])\n",
    "print(str1[0:])\n",
    "print(str1[:])\n",
    "print(str1[::2])# 한칸씩\n",
    "print(str1[::3])#두칸씩\n",
    "print(str1[::-1])#꺼꾸로\n",
    "#2번부터 13까지 출력\n",
    "print(str1[2:14])\n",
    "print(str1[2:14:2])\n",
    "#print(str1[2:14:-1])\n",
    "print(str1[13:1:-1])"
   ]
  },
  {
   "cell_type": "code",
   "execution_count": 17,
   "id": "fb950421-b36a-468e-aa00-a3ada29f4a1e",
   "metadata": {},
   "outputs": [
    {
     "name": "stdout",
     "output_type": "stream",
     "text": [
      "Pithon\n",
      "i\n",
      "Python\n"
     ]
    }
   ],
   "source": [
    "a = \"Pithon\"\n",
    "#    012345\n",
    "print(a)\n",
    "print(a[1])\n",
    "#a[1]= 'y' #문자열은 index를 이용해서 수정할 수 없다.\n",
    "print(a[0] + 'y' +a[2:])"
   ]
  },
  {
   "cell_type": "code",
   "execution_count": 19,
   "id": "e95c92dd-4f85-4b7c-be86-1fb61d01ac94",
   "metadata": {},
   "outputs": [
    {
     "name": "stdout",
     "output_type": "stream",
     "text": [
      "현재온도는 15도입니다\n",
      "현재온도는 30도입니다\n",
      "현재온도는 18도입니다\n"
     ]
    }
   ],
   "source": [
    "# 문자열 포매팅이란?\n",
    "print(\"현재온도는 15도입니다\")\n",
    "print(\"현재온도는 30도입니다\")\n",
    "print(\"현재온도는 18도입니다\")"
   ]
  },
  {
   "cell_type": "code",
   "execution_count": 26,
   "id": "67840477-f0fc-4e3d-bde6-55d85ce96ad4",
   "metadata": {},
   "outputs": [
    {
     "name": "stdout",
     "output_type": "stream",
     "text": [
      "현재온도는 15도입니다\n",
      "I eat 5 apples\n",
      "I eat 5 apples\n",
      "I eat five apples\n",
      "I eat five apples\n",
      "I eat 0.500000 apples\n"
     ]
    }
   ],
   "source": [
    "#포맷문자열을 이용한 포맷팅 : %d, %s, %f, %c\n",
    "a = 15\n",
    "print(\"현재온도는 %d도입니다\" % a)\n",
    "b=5 # 정수 리터널\n",
    "print(\"I eat %d apples\" % b)\n",
    "print(\"I eat %d apples\" % 5)\n",
    "print(\"I eat %s apples\" % 'five')\n",
    "str2 = 'five' \n",
    "print(\"I eat %s apples\" % str2)\n",
    "f = 0.5\n",
    "print(\"I eat %f apples\" % f)"
   ]
  },
  {
   "cell_type": "code",
   "execution_count": 27,
   "id": "3016cc73-d6d3-4c07-891a-93f487d9fdb7",
   "metadata": {},
   "outputs": [
    {
     "name": "stdout",
     "output_type": "stream",
     "text": [
      "나는 이름은 강찬우이고 나이는 26살입니다.\n",
      "I eat 0.500000 apples\n"
     ]
    }
   ],
   "source": [
    "'나는 이름은 강찬우이고 나이는 25살입니다.'\n",
    "name = '강찬우'\n",
    "age = 26\n",
    "print('나는 이름은 %s이고 나이는 %d살입니다.' %(name,age)) # 변수가 두개 이상인 경우에는\n",
    "print(\"I eat %f apples\" % (f))"
   ]
  },
  {
   "cell_type": "code",
   "execution_count": 33,
   "id": "3eadf179-3245-408b-9a0a-567d31091b58",
   "metadata": {},
   "outputs": [
    {
     "name": "stdout",
     "output_type": "stream",
     "text": [
      "강찬우의 계좌번호는 1111이고 잔액은 100원 입니다.\n",
      "강찬우의 계좌번호는 1111이고 잔액은 100원 입니다.\n"
     ]
    }
   ],
   "source": [
    "'이승무의 계좌번호는 1111이고 잔액은 100원 입니다.'\n",
    "name = '강찬우'\n",
    "account = '1111'\n",
    "money = 100\n",
    "print('%s의 계좌번호는 %s이고 잔액은 %d원 입니다.' % (name,account,money))\n",
    "str3 ='%s의 계좌번호는 %s이고 잔액은 %d원 입니다.' % (name,account,money)\n",
    "print(str3)"
   ]
  },
  {
   "cell_type": "code",
   "execution_count": 46,
   "id": "8a8cc8d1-9cfc-4a67-a94f-8fd209d09f8b",
   "metadata": {},
   "outputs": [
    {
     "name": "stdout",
     "output_type": "stream",
     "text": [
      "강찬우의 나이는 20살이고 키는 173.600000입니다.\n",
      "강찬우의 나이는 20살이고 키는 173.600000입니다.\n",
      "강찬우의 나이는 20살이고 키는 173.6입니다.\n",
      "강찬우의 나이는 20살이고 키는 173.6입니다.\n",
      "강찬우의 나이는 20살이고 키는 173.6입니다.\n",
      "강찬우의 나이는 20살이고 키는 173.6000000000입니다.\n",
      "강찬우의 나이는 20살이고 키는 173.6입니다.\n",
      "우리반의 취업률은 98% 입니다.\n"
     ]
    }
   ],
   "source": [
    "'강찬우의 나이는 25살이고 키는 173.6입니다.'\n",
    "name = '강찬우'\n",
    "age = 20\n",
    "height = 173.6\n",
    "str4 = '%s의 나이는 %d살이고 키는 %f입니다.' % (name,age,height)\n",
    "print(str4)\n",
    "print('%s의 나이는 %d살이고 키는 %f입니다.' % (name,age,height))\n",
    "print('%s의 나이는 %d살이고 키는 %5.1f입니다.' % (name,age,height))\n",
    "print('%s의 나이는 %d살이고 키는 %3.1f입니다.' % (name,age,height))\n",
    "print('%s의 나이는 %d살이고 키는 %.1f입니다.' % (name,age,height))\n",
    "print('%s의 나이는 %d살이고 키는 %.10f입니다.' % (name,age,height))\n",
    "print('%s의 나이는 %s살이고 키는 %s입니다.' % (name,age,height))\n",
    "\n",
    "result = \"우리반의 취업률은 %d%% 입니다.\" % 98\n",
    "print(result)"
   ]
  },
  {
   "cell_type": "code",
   "execution_count": 49,
   "id": "d834314e-6213-4b8f-aafa-8d3d3597720b",
   "metadata": {},
   "outputs": [
    {
     "name": "stdout",
     "output_type": "stream",
     "text": [
      "강찬우의 나이는 20살이고 키는 173.6입니다.\n",
      "       강찬우의 나이는         20살이고 키는      173.6입니다.\n",
      "강찬우       의 나이는 20        살이고 키는 173.6     입니다.\n"
     ]
    }
   ],
   "source": [
    "# 정렬과 공백 : + 오른쪽 정렬\n",
    "print('%s의 나이는 %s살이고 키는 %s입니다.' % (name,age,height))\n",
    "print('%10s의 나이는 %10d살이고 키는 %10.1f입니다.' % (name,age,height))\n",
    "print('%-10s의 나이는 %-10d살이고 키는 %-10.1f입니다.' % (name,age,height))"
   ]
  },
  {
   "cell_type": "code",
   "execution_count": 55,
   "id": "3d96cc3e-fe4d-41e9-ac79-060b84e9d273",
   "metadata": {},
   "outputs": [
    {
     "name": "stdout",
     "output_type": "stream",
     "text": [
      "강찬우의 나이는 20살이고 키는 173.6입니다.\n",
      "강찬우의 나이는 25살이고 키는 173.6입니다.\n",
      "강찬우의 나이는 20살이고 키는 173.6입니다.\n",
      "강찬우의 나이는 20살이고 키는 173.6입니다.\n",
      "강찬우의 나이는 20살이고 강찬우의 키는 173.600000입니다.\n",
      "강찬우의 나이는 20살이고 강찬우의 키는 173.6입니다.\n"
     ]
    }
   ],
   "source": [
    "#format 함수를 사용한 포매팅 : format()\n",
    "print(\"%s의 나이는 %d살이고 키는 %.1f입니다.\"%(name,age,height)) # 포멧문자열\n",
    "print(\"{0}의 나이는 {1}살이고 키는 {2}입니다.\".format('강찬우',25,173.6))\n",
    "#                                                       0    1   2\n",
    "print(\"{0}의 나이는 {1}살이고 키는 {2}입니다.\".format(name,age,height))\n",
    "print(\"{1}의 나이는 {0}살이고 키는 {2}입니다.\".format(age,name,height))\n",
    "#                                                    0    1    2     #순서와 상관없이 index를 원하는 곳에 준다.\n",
    "'강찬우의 나이는 25살이고 키는 173.6입니다.'\n",
    "print('%s의 나이는 %d살이고 %s의 키는 %f입니다.'%(name, age, name, height))\n",
    "print('{1}의 나이는 {0}살이고 {1}의 키는 {2}입니다.'.format(age, name, height))"
   ]
  },
  {
   "cell_type": "code",
   "execution_count": 58,
   "id": "f8813e0f-562e-4b2f-87c7-ea7ea41baa7c",
   "metadata": {},
   "outputs": [
    {
     "name": "stdout",
     "output_type": "stream",
     "text": [
      "강찬우       의 나이는         20살이고 강찬우       의 키는      173.6입니다\n",
      "강찬우       의 나이는 20        살이고 강찬우       의 키는 173.6     입니다\n",
      "       강찬우의 나이는         20살이고        강찬우의 키는      173.6입니다\n",
      "   강찬우    의 나이는     20    살이고    강찬우    의 키는   173.6   입니다\n",
      "---강찬우----의 나이는 ****20****살이고    강찬우    의 키는 !!173.6!!!입니다\n"
     ]
    }
   ],
   "source": [
    "# 정렬과 공백 \n",
    "print('{1:10}의 나이는 {0:10}살이고 {1:10}의 키는 {2:10}입니다'.format(age,name,height))\n",
    "# 문자는 왼쪽정렬 숫자는 오른쪽 정렬\n",
    "print('{1:<10}의 나이는 {0:<10}살이고 {1:<10}의 키는 {2:<10}입니다'.format(age,name,height))\n",
    "print('{1:>10}의 나이는 {0:>10}살이고 {1:>10}의 키는 {2:>10}입니다'.format(age,name,height))\n",
    "print('{1:^10}의 나이는 {0:^10}살이고 {1:^10}의 키는 {2:^10}입니다'.format(age,name,height))\n",
    "print('{1:-^10}의 나이는 {0:*^10}살이고 {1:^10}의 키는 {2:!^10}입니다'.format(age,name,height))\n"
   ]
  },
  {
   "cell_type": "code",
   "execution_count": 59,
   "id": "aaeac04b-d1c8-44d8-a220-21d240fc058e",
   "metadata": {},
   "outputs": [
    {
     "name": "stdout",
     "output_type": "stream",
     "text": [
      "{0}의 나이는 20살이고 키는 173.6입니다.\n",
      "{강찬우}의 나이는 20살이고 키는 173.6입니다.\n"
     ]
    }
   ],
   "source": [
    "#{}호 출력하기\n",
    "#{강찬우}의 나이는 20살이고 키는 173.6입니다.\n",
    "print(\"{{0}}의 나이는 {1}살이고 키는 {2}입니다.\".format(name,age,height));\n",
    "print(\"{{강찬우}}의 나이는 {1}살이고 키는 {2}입니다.\".format(name,age,height));"
   ]
  },
  {
   "cell_type": "code",
   "execution_count": 60,
   "id": "d46863a1-9e36-44e5-a1f6-7916bd396d95",
   "metadata": {},
   "outputs": [
    {
     "name": "stdout",
     "output_type": "stream",
     "text": [
      "강찬우의 나이는 20살이고 키는 173.6입니다.\n"
     ]
    }
   ],
   "source": [
    "#f 문자열 포매팅\n",
    "'강찬우의 나이는 20살이고 키는 173.6입니다.'\n",
    "print(f'{name}의 나이는 {age}살이고 키는 {height}입니다.')"
   ]
  },
  {
   "cell_type": "code",
   "execution_count": 62,
   "id": "45af1556-58c3-43f7-8f5a-3cea5d605421",
   "metadata": {},
   "outputs": [
    {
     "name": "stdout",
     "output_type": "stream",
     "text": [
      "강찬우의 나이는 20살이고 키는 173.600000입니다.\n",
      "강찬우의 나이는 20살이고 키는 173.6입니다.\n",
      "강찬우의 나이는 20살이고 키는 173.6입니다.\n"
     ]
    }
   ],
   "source": [
    "print(\"%s의 나이는 %d살이고 키는 %f입니다.\"%(name,age,height))\n",
    "print('{1}의 나이는 {0}살이고 키는 {2}입니다.'.format(age, name, height))\n",
    "print(f'{name}의 나이는 {age}살이고 키는 {height}입니다.')"
   ]
  },
  {
   "cell_type": "code",
   "execution_count": 66,
   "id": "aa62f063-4198-404f-9433-b18ef37bd6b5",
   "metadata": {},
   "outputs": [
    {
     "name": "stdout",
     "output_type": "stream",
     "text": [
      "강찬우의 나이는 30살이고 키는 173.6입니다.\n",
      "강찬우의 나이는 20살이고 키는 173.6입니다.\n",
      "강찬우의 나이는 20살이고 키는 173.6입니다.\n"
     ]
    }
   ],
   "source": [
    "# 인자에 이름 주기\n",
    "print('{0}의 나이는 {1}살이고 키는 {키}입니다.'.format('강찬우', 30, 키 = 173.6))\n",
    "#\n",
    "print('{0}의 나이는 {1}살이고 키는 {키}입니다.'.format(name, age, 키 = height))\n",
    "print('{0}의 나이는 {나이}살이고 키는 {키}입니다.'.format(name, 나이 = age, 키 = height))\n",
    "#이름을 중간에 있는 값에만 부여해 줄 수 없다.이름은 뒤에서 부터 순차적으로 줘야한다.\n",
    "#print('{0}의 나이는 {나이}살이고 키는 {키}입니다.'.format(name, 나이 = age, height))\n",
    "#                                                         0   \n",
    "#중간에 이름을 빼고 부여해줄 수도 없다.\n",
    "#print('{이름}의 나이는 {0}살이고 키는 {키}입니다.'.format(이름 =name, age, height))"
   ]
  },
  {
   "cell_type": "code",
   "execution_count": 67,
   "id": "d31c7d26-abe1-4407-9954-5d88127bb074",
   "metadata": {},
   "outputs": [
    {
     "name": "stdout",
     "output_type": "stream",
     "text": [
      "강찬우       의 나이는         20살이고 키는      173.6입니다.\n",
      "강찬우       의 나이는         20살이고 키는      173.6입니다.\n",
      "강찬우       의 나이는 20        살이고 키는 173.6     입니다.\n",
      "       강찬우의 나이는         20살이고 키는      173.6입니다.\n",
      "   강찬우    의 나이는     20    살이고 키는   173.6   입니다.\n",
      "!!!!!!!강찬우의 나이는 --------20살이고 키는 =====173.6입니다.\n"
     ]
    }
   ],
   "source": [
    "#정렬과 공백\n",
    "print(f'{name:10}의 나이는 {age:10}살이고 키는 {height:10}입니다.')\n",
    "print(f'{name:10}의 나이는 {age:10}살이고 키는 {height:10}입니다.')\n",
    "print(f'{name:<10}의 나이는 {age:<10}살이고 키는 {height:<10}입니다.')\n",
    "print(f'{name:>10}의 나이는 {age:>10}살이고 키는 {height:>10}입니다.')\n",
    "print(f'{name:^10}의 나이는 {age:^10}살이고 키는 {height:^10}입니다.')\n",
    "print(f'{name:!>10}의 나이는 {age:->10}살이고 키는 {height:=>10}입니다.')"
   ]
  },
  {
   "cell_type": "code",
   "execution_count": 72,
   "id": "ea00b3fd-5fab-4ede-9e10-44088874cf3f",
   "metadata": {},
   "outputs": [
    {
     "name": "stdout",
     "output_type": "stream",
     "text": [
      "9 * 3 = 27\n",
      "9 * 3 = 27\n",
      "9 * 3 = 27\n"
     ]
    }
   ],
   "source": [
    "print(\"9 * 3 = 27\")\n",
    "dan = 9\n",
    "gop = 3\n",
    "print(str(dan) + \" * \" + str(gop) + \" = \" + str(dan*gop))\n",
    "print(dan, \" * \")\n",
    "# 변수명 함수명을 구분하지 않는다.\n",
    "print(f\"{dan} * {gop} = {dan * gop}\")"
   ]
  },
  {
   "cell_type": "code",
   "execution_count": 73,
   "id": "bc48c413-04fe-42a0-a998-ce768444e8c8",
   "metadata": {},
   "outputs": [
    {
     "name": "stdout",
     "output_type": "stream",
     "text": [
      "hobby\n",
      "5\n",
      "5\n",
      "2\n",
      "2\n",
      "3\n"
     ]
    }
   ],
   "source": [
    "#문자열 관련 함수들 : 문자열 가공\n",
    "a = \"hobby\"\n",
    "print(a)\n",
    "#문자열의 크기\n",
    "print(len(a))\n",
    "print(len(\"hobby\"))\n",
    "# 특정문자의 갯수\n",
    "#b가 몇개 있나요?\n",
    "print(a.count(\"b\"))\n",
    "print(\"hobby\".count(\"b\"))\n",
    "str2 = \"Life is too short\"\n",
    "print(str2.count(\"o\"))"
   ]
  },
  {
   "cell_type": "code",
   "execution_count": 88,
   "id": "54cf6dc6-9375-4cf9-a5f3-e3780262ff70",
   "metadata": {},
   "outputs": [
    {
     "name": "stdout",
     "output_type": "stream",
     "text": [
      "too\n",
      "Life is too short\n",
      "8\n",
      "too\n",
      "too\n",
      "ife i\n",
      "ife i\n",
      "6\n",
      "s to\n",
      "12\n",
      "12\n",
      "shor\n"
     ]
    }
   ],
   "source": [
    "#Life is too short\n",
    "#          1\n",
    "# 01234567890123456\n",
    "#too를 출력\n",
    "print(str2[8:11])#str2.substr(8, 8+3)\n",
    "print(str2)\n",
    "idx = str1.index(\"too\")#idx = str2.indexOf(\"too\")\n",
    "#too가 있는 위치의 첫번째 글자의 index를 가지고 온다.\n",
    "print(idx)\n",
    "print(str2[idx:idx+3])# str2.substr(idx,idx+3)\n",
    "# t부터 5글자\n",
    "idx = str1.index(\"t\")# idx = str2.indexOf(\"t\")\n",
    "print(str2[idx : idx + 3])\n",
    "# i부터 4글자\n",
    "idx = str1.index(\"i\")\n",
    "print(str1[idx:idx+5])\n",
    "print(str1[str1.index(\"i\"):str1.index('i')+5])\n",
    "# s부터 4글자\n",
    "idx = str1.index(\"s\")\n",
    "print(idx)\n",
    "print(str1[idx:idx+4])\n",
    "# 두번째 s부터 4글자\n",
    "idx = str1.index(\"s\",6+1)\n",
    "print(idx)\n",
    "idx = str1.index(\"s\",str1.index(\"s\")+1)\n",
    "print(idx)\n",
    "print(str2[idx : idx + 4])"
   ]
  },
  {
   "cell_type": "code",
   "execution_count": 99,
   "id": "e805e2e7-c24a-49e5-ad26-b6c16948551c",
   "metadata": {},
   "outputs": [
    {
     "name": "stdout",
     "output_type": "stream",
     "text": [
      "Life is too short, You need puthon\n",
      "8\n",
      "16\n",
      "30\n",
      "thon\n"
     ]
    }
   ],
   "source": [
    "print(str1) \n",
    "# 3 번째 t에서 4글자 출력\n",
    "idx = str1.index(\"t\")\n",
    "print(idx)\n",
    "idx = str1.index(\"t\",idx+1)#idx = str1.index('t',str1.index('t')+1)\n",
    "print(idx)\n",
    "idx = str1.index(\"t\",idx+1)#idx = str1.index('t',str1.index('t',str1.index('t')+1)+1)\n",
    "print(idx)\n",
    "idx = str1.index('t',str1.index('t',str1.index('t')+1)+1)\n",
    "print(str1[idx : idx + 4])"
   ]
  },
  {
   "cell_type": "code",
   "execution_count": 101,
   "id": "9e02de1b-b046-4735-8e83-970ce7577d52",
   "metadata": {},
   "outputs": [
    {
     "name": "stdout",
     "output_type": "stream",
     "text": [
      "thon\n"
     ]
    }
   ],
   "source": [
    "# 마지막 't'에서 4글자\n",
    "idx = str1.rindex('t')\n",
    "print(str1[idx: idx + 4])"
   ]
  },
  {
   "cell_type": "code",
   "execution_count": 105,
   "id": "5ed63039-5d0c-4202-8092-432d0dc46db2",
   "metadata": {},
   "outputs": [
    {
     "name": "stdout",
     "output_type": "stream",
     "text": [
      "too\n",
      "too\n",
      "tho\n",
      "t, \n"
     ]
    }
   ],
   "source": [
    "#too출력\n",
    "idx = str1.index('t')\n",
    "print(str1[idx : idx + 3])\n",
    "idx = str1.find('t')\n",
    "print(str1[idx : idx + 3])\n",
    "#마지막 3글자\n",
    "idx = str1.rfind('t')\n",
    "print(str1[idx : idx + 3])\n",
    "# 두번째 t부터 3글자\n",
    "idx = str1.find('t',str1.find('t')+1)\n",
    "print(str1[idx : idx + 3])"
   ]
  },
  {
   "cell_type": "code",
   "execution_count": 109,
   "id": "f4a23ff1-3fd9-44d0-8029-16be5cf24b57",
   "metadata": {},
   "outputs": [
    {
     "name": "stdout",
     "output_type": "stream",
     "text": [
      "-1\n"
     ]
    }
   ],
   "source": [
    "idx = str1.find('z')\n",
    "print(idx)# 찾는 문자가 없는 경우 -1 출력\n",
    "#idx = str1.index('z')#index는 찾는 문자가 없는 경우 에러"
   ]
  },
  {
   "cell_type": "code",
   "execution_count": 110,
   "id": "cd4d17ff-f3a2-41f7-a106-73e841b1c381",
   "metadata": {},
   "outputs": [
    {
     "name": "stdout",
     "output_type": "stream",
     "text": [
      "Life is too short, You need puthon\n",
      "life is too short, you need puthon\n",
      "LIFE IS TOO SHORT, YOU NEED PUTHON\n"
     ]
    }
   ],
   "source": [
    "print(str1)\n",
    "# 문자열을 모두 소문자로 출력\n",
    "print(str1.lower())\n",
    "# 문자열을 모두 대문자로 출력\n",
    "print(str1.upper())"
   ]
  },
  {
   "cell_type": "code",
   "execution_count": 113,
   "id": "898f4fa0-08b6-4cdb-9a09-820b005071d8",
   "metadata": {},
   "outputs": [
    {
     "name": "stdout",
     "output_type": "stream",
     "text": [
      "rkd555777\n",
      "rkd555777             \n",
      "         rkd555777\n",
      "Life is too short\n"
     ]
    }
   ],
   "source": [
    "str2 = \"     rkd555777             \"\n",
    "print(str2.strip()) # trim()\n",
    "str2=\"         rkd555777             \"\n",
    "print(str2.lstrip())\n",
    "str2=\"         rkd555777             \"\n",
    "print(str2.rstrip())\n",
    "str3 = \"abLife is too shortab\";\n",
    "print(str3.strip(\"ab\"))"
   ]
  },
  {
   "cell_type": "code",
   "execution_count": 115,
   "id": "dfefc312-d718-478f-a28c-7548d551125e",
   "metadata": {},
   "outputs": [
    {
     "name": "stdout",
     "output_type": "stream",
     "text": [
      "Your leg is too short\n",
      "['Life', 'is', 'too', 'short']\n",
      "['Life', 'is', 'too', 'short']\n"
     ]
    }
   ],
   "source": [
    "### # 문자열 대체하기\n",
    "str4 = \"Life is too short\"\n",
    "result = str4.replace(\"Life\" , \"Your leg\")\n",
    "print(result)\n",
    "# 쪼개기 : split 하면 결과 리스트\n",
    "result = str4.split()\n",
    "print(result) #리스트\n",
    "str4 = \"Life:is:too:short\"\n",
    "result = str4.split(\":\")\n",
    "print(result)"
   ]
  },
  {
   "cell_type": "code",
   "execution_count": 117,
   "id": "00cd562b-793d-4167-b117-5a6d6fe3751f",
   "metadata": {},
   "outputs": [
    {
     "name": "stdout",
     "output_type": "stream",
     "text": [
      "Hello World\n"
     ]
    }
   ],
   "source": [
    "print('Hello World')"
   ]
  },
  {
   "cell_type": "code",
   "execution_count": 119,
   "id": "5227baea-d2b8-4719-900f-bbce331391b5",
   "metadata": {},
   "outputs": [
    {
     "name": "stdout",
     "output_type": "stream",
     "text": [
      "Mary's cosmetics\n"
     ]
    }
   ],
   "source": [
    "print(\"Mary's cosmetics\")"
   ]
  },
  {
   "cell_type": "code",
   "execution_count": 120,
   "id": "e1d451e1-86bd-4719-aa47-587f06d83607",
   "metadata": {},
   "outputs": [
    {
     "name": "stdout",
     "output_type": "stream",
     "text": [
      "신씨가 소리질렀다. \"도둑이야\".\n"
     ]
    }
   ],
   "source": [
    "print('신씨가 소리질렀다. \"도둑이야\".')"
   ]
  },
  {
   "cell_type": "code",
   "execution_count": 121,
   "id": "801f2bd7-2eb8-4ba5-ae88-1c44ad4e9bef",
   "metadata": {},
   "outputs": [
    {
     "name": "stdout",
     "output_type": "stream",
     "text": [
      "C:\\Windows\n"
     ]
    }
   ],
   "source": [
    "print(\"C:\\Windows\")"
   ]
  },
  {
   "cell_type": "code",
   "execution_count": 122,
   "id": "2ea00632-4bef-42b5-9df5-2179ea9bd1a2",
   "metadata": {},
   "outputs": [
    {
     "name": "stdout",
     "output_type": "stream",
     "text": [
      "안녕하세요.\n",
      "만나서\t\t반갑습니다.\n"
     ]
    }
   ],
   "source": [
    "print(\"안녕하세요.\\n만나서\\t\\t반갑습니다.\") # \\n 줄바꿈 \\t tap띄어쓰기"
   ]
  },
  {
   "cell_type": "code",
   "execution_count": 123,
   "id": "e06f89f7-612e-4e52-832b-d1ce0b20a4bc",
   "metadata": {},
   "outputs": [
    {
     "name": "stdout",
     "output_type": "stream",
     "text": [
      "오늘은 일요일\n"
     ]
    }
   ],
   "source": [
    "print (\"오늘은\", \"일요일\")\n"
   ]
  },
  {
   "cell_type": "code",
   "execution_count": 126,
   "id": "9abee170-2b0e-4327-a3c9-ce560f1da7e4",
   "metadata": {},
   "outputs": [
    {
     "name": "stdout",
     "output_type": "stream",
     "text": [
      "naver;kakao;sk;samsung\n"
     ]
    }
   ],
   "source": [
    "print(\"naver\",\"kakao\",\"sk\",\"samsung\", sep=\";\")"
   ]
  },
  {
   "cell_type": "code",
   "execution_count": 127,
   "id": "62e2f5cd-c0b2-41e8-babf-9dde0aade374",
   "metadata": {},
   "outputs": [
    {
     "name": "stdout",
     "output_type": "stream",
     "text": [
      "naver/kakao/sk/samsung\n"
     ]
    }
   ],
   "source": [
    "print(\"naver\",\"kakao\",\"sk\",\"samsung\", sep=\"/\")"
   ]
  },
  {
   "cell_type": "code",
   "execution_count": 130,
   "id": "c3dd1ddc-f6f8-46bc-97fc-ea9aafdab4af",
   "metadata": {},
   "outputs": [
    {
     "name": "stdout",
     "output_type": "stream",
     "text": [
      "firstsecond\n"
     ]
    }
   ],
   "source": [
    "print(\"first\",end=\"\"); print(\"second\")"
   ]
  },
  {
   "cell_type": "code",
   "execution_count": 131,
   "id": "21f92a8d-010d-4bb9-855d-6de609ee39b0",
   "metadata": {},
   "outputs": [
    {
     "name": "stdout",
     "output_type": "stream",
     "text": [
      "1.6666666666666667\n"
     ]
    }
   ],
   "source": [
    "print(5/3)"
   ]
  },
  {
   "cell_type": "code",
   "execution_count": 132,
   "id": "b5fbf541-c309-411b-b9a0-78ccf796e57c",
   "metadata": {},
   "outputs": [
    {
     "name": "stdout",
     "output_type": "stream",
     "text": [
      "500000\n"
     ]
    }
   ],
   "source": [
    "삼성전자 = 50000\n",
    "총평가금액 = 삼성전자 * 10\n",
    "print(총평가금액)"
   ]
  },
  {
   "cell_type": "code",
   "execution_count": 134,
   "id": "1a1697a4-d081-43c8-a3ac-b745a80494ba",
   "metadata": {},
   "outputs": [
    {
     "name": "stdout",
     "output_type": "stream",
     "text": [
      "298000000000000 <class 'int'>\n",
      "50000 <class 'int'>\n",
      "15.79 <class 'float'>\n"
     ]
    }
   ],
   "source": [
    "시가총액 = 298000000000000\n",
    "현재가 = 50000\n",
    "PER = 15.79\n",
    "print(시가총액, type(시가총액))\n",
    "print(현재가, type(현재가))\n",
    "print(PER, type(PER))"
   ]
  },
  {
   "cell_type": "code",
   "execution_count": null,
   "id": "cefd39cc-c472-47fe-9d67-d5e9486ae902",
   "metadata": {},
   "outputs": [],
   "source": []
  }
 ],
 "metadata": {
  "kernelspec": {
   "display_name": "Python 3 (ipykernel)",
   "language": "python",
   "name": "python3"
  },
  "language_info": {
   "codemirror_mode": {
    "name": "ipython",
    "version": 3
   },
   "file_extension": ".py",
   "mimetype": "text/x-python",
   "name": "python",
   "nbconvert_exporter": "python",
   "pygments_lexer": "ipython3",
   "version": "3.11.4"
  }
 },
 "nbformat": 4,
 "nbformat_minor": 5
}

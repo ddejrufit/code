{
 "cells": [
  {
   "cell_type": "code",
   "execution_count": 5,
   "id": "db4a6024-b3a5-41f4-86b7-13e727d23b81",
   "metadata": {},
   "outputs": [
    {
     "name": "stdout",
     "output_type": "stream",
     "text": [
      "{'name': '강찬우', 'old': 26, 'height': 176.5}\n",
      "1\n",
      "강찬우\n",
      "2\n",
      "26\n",
      "3\n",
      "176.5\n",
      "강\n"
     ]
    }
   ],
   "source": [
    "# 기본 자료형 : 리터널 : 자연어 : 문자열 : \"ㅁ\" ,'ㅁ' ,\"\"\"ㅁ\"\"\",'''ㅁ''','10', a:변수\n",
    "#                       자연수 : 정수 , 실수, 지수 : 10,10.5\n",
    "\n",
    "#                       딕셔너리 : map , json : 키와 값을 쌍으로 사용하는 것\n",
    "#                       json : {키1 : 값1, 키2:값2,..., 키n:값n}\n",
    "l = [] # 빈 리스트\n",
    "t = () # 빈 튜플\n",
    "dic = {} # 빈 딕셔너리\n",
    "dic = {\"name\" : \"강찬우\", \"old\" : 26 , \"height\" : 176.5}\n",
    "print(dic)\n",
    "l = [1,2,3,4]\n",
    "#    0 1 2 3\n",
    "print(l[0])       # [index]\n",
    "print(dic['name'])# [키]\n",
    "print(l[1])\n",
    "print(dic['old'])\n",
    "print(l[2])\n",
    "print(dic['height'])\n",
    "dic1 = {1:'강', 0:'찬', 2:'우'}# 키가 정수가 될 수 있다.\n",
    "#          0        1      2\n",
    "# 키와 index가 혼재되면 오류가 발생할 수 있으므로 index를 사용하지 않는다.\n",
    "print(dic1[1]) # [키]"
   ]
  },
  {
   "cell_type": "code",
   "execution_count": 7,
   "id": "b9058beb-87d3-447b-926f-7b157b02b61d",
   "metadata": {},
   "outputs": [
    {
     "ename": "SyntaxError",
     "evalue": "cannot assign to comparison (1430907040.py, line 1)",
     "output_type": "error",
     "traceback": [
      "\u001b[1;36m  Cell \u001b[1;32mIn[7], line 1\u001b[1;36m\u001b[0m\n\u001b[1;33m    Map<String , String> map = new HashMap<Integer , String>();\u001b[0m\n\u001b[1;37m    ^\u001b[0m\n\u001b[1;31mSyntaxError\u001b[0m\u001b[1;31m:\u001b[0m cannot assign to comparison\n"
     ]
    }
   ],
   "source": [
    "Map<String , String> map = new HashMap<Integer , String>();\n",
    "map.put(1, \"강\");\n",
    "map.put(0, \"찬\");\n",
    "map.put(2, \"우\");\n",
    "\n",
    "map.get(1)\n",
    "map.get(0)\n",
    "map.get(2)\n",
    "dic = {\"name\" : \"강찬우\", \"old\" : 26 , \"height\" : 173.6}\n",
    "Map<String , Object> map = new HashMap<Integer , Object>();\n",
    "map.put(\"name\", \"강찬우\");\n",
    "map.put(\"old\", 26);\n",
    "map.put(\"height\", 173.6);\n",
    "\n",
    "String name = map.get(\"name\").toString()\n",
    "Integer old = Integer.parseInt(map.get(\"old\"))\n",
    "Double height = Double.parseDouble(map.get(\"height\"))\n"
   ]
  },
  {
   "cell_type": "code",
   "execution_count": 15,
   "id": "5d0530c6-ff61-497d-adbc-93bb154fab28",
   "metadata": {},
   "outputs": [
    {
     "name": "stdout",
     "output_type": "stream",
     "text": [
      "강찬우의 나이는 25살이고 키는 173.6입니다\n",
      "강찬우의 나이는 25살이고 키는 173.6입니다\n",
      "{'name': '강찬우', 'old': 26, 'height': 173.6}\n",
      "강찬우의 나이는 26살이고 키는 173.6입니다\n",
      "강찬우의 나이는 25살이고 키는 173.6입니다\n",
      "강찬우의 나이는 25살이고 키는 173.6입니다\n",
      "강찬우의 나이는 25살이고 키는 173.6입니다\n"
     ]
    }
   ],
   "source": [
    "print(\"강찬우의 나이는 25살이고 키는 173.6입니다\")\n",
    "name='강찬우'\n",
    "old = 25\n",
    "height = 173.6\n",
    "print(f\"{name}의 나이는 {old}살이고 키는 {height}입니다\")\n",
    "\n",
    "\n",
    "dic = {\"name\" : \"강찬우\", \"old\" : 26 , \"height\" : 173.6}\n",
    "print(dic)\n",
    "print(f\"{dic['name']}의 나이는 {dic['old']}살이고 키는 {dic['height']}입니다\")\n",
    "\n",
    "l = ['강찬우', 25, 173.6] \n",
    "print(f\"{l[0]}의 나이는 {l[1]}살이고 키는 {l[2]}입니다\")\n",
    "print(\"%s의 나이는 %d살이고 키는 %.1f입니다\" %(l[0], l[1], l[2]))\n",
    "print(\"{0}의 나이는 {1}살이고 키는 {2}입니다\".format(l[0], l[1], l[2]))"
   ]
  },
  {
   "cell_type": "code",
   "execution_count": 27,
   "id": "1440dc0f-456b-4c0a-aaa6-34b57cb2ec59",
   "metadata": {},
   "outputs": [
    {
     "name": "stdout",
     "output_type": "stream",
     "text": [
      "30\n",
      "26\n",
      "['강찬우', 40, 173.6]\n",
      "{'name': '강찬우', 'old': 40, 'height': 173.6}\n",
      "{'name': '강찬우', 'old': 40, 'height': 173.6, 'addr': '구리'}\n",
      "{1: '찬'}\n",
      "{1: '찬'}\n"
     ]
    }
   ],
   "source": [
    "l = ['강찬우', 30 , 173.6]\n",
    "print(l[1])\n",
    "dic = {\"name\" : \"강찬우\", \"old\" : 26 , \"height\" : 173.6}\n",
    "print(dic['old'])\n",
    "l[1]= 40\n",
    "print(l)\n",
    "dic['old'] = 40 # 키가 있는 경우 수정\n",
    "print(dic)\n",
    "#print(l[3]) #list index out of range\n",
    "#l[3]='구리' #list assignment index out of range\n",
    "dic ['addr'] = \"구리\" # 키가 없는 경우 추가가 된다\n",
    "print(dic)\n",
    "#딕셔너리는 키가 있으면 수정이 되고 키가 없으면 추가가 된다. merge\n",
    "d1 = {1 : '강', 1: '찬'}\n",
    "print(d1)\n",
    "# 키의 중복을 허용하지 않는다.\n",
    "d1 = {1: '강'}\n",
    "d1[1]= '찬'\n",
    "print(d1)\n",
    "# 딕셔너리는 index를 사용하지 않으므로 indexing과 slicing을 할 수 없다.\n",
    "# indexing과 slicing을 할 수 있는 자료형은 문자열, 리스트, 튜플"
   ]
  },
  {
   "cell_type": "code",
   "execution_count": 33,
   "id": "e9c2140c-c5b2-4d40-8877-5deb977b72f9",
   "metadata": {},
   "outputs": [
    {
     "name": "stdout",
     "output_type": "stream",
     "text": [
      "[1, 3, 4]\n",
      "{'name': '강찬우', 'height': 173.6, 'addr': '구리'}\n",
      "[1, 3]\n",
      "[4]\n",
      "[4]\n",
      "[]\n",
      "{'name': '강찬우', 'height': 173.6, 'addr': '구리'}\n"
     ]
    }
   ],
   "source": [
    "# 딕셔너리 함수\n",
    "dic = {'name': '강찬우', 'old': 40, 'height': 173.6, 'addr': '구리'}\n",
    "l = [1,2,3,4]\n",
    "# 요소 삭제\n",
    "del l[1]\n",
    "print(l)\n",
    "del dic ['old']\n",
    "print(dic)\n",
    "print(l[0:2])\n",
    "del l[0:2] # slicing 을 이용해서 삭제 할 수 있다.\n",
    "print(l)\n",
    "print(l[:])\n",
    "#l.clear()\n",
    "del l [:]\n",
    "print(l)\n",
    "l.clear()\n",
    "####\n",
    "print(dic)\n",
    "dic.clear()\n",
    "print(dic)"
   ]
  },
  {
   "cell_type": "code",
   "execution_count": 34,
   "id": "808e3edc-fe3c-41d9-b32a-8f0017680dc4",
   "metadata": {},
   "outputs": [
    {
     "name": "stdout",
     "output_type": "stream",
     "text": [
      "dict_keys(['name', 'old', 'height', 'addr'])\n",
      "dict_values(['강찬우', 40, 173.6, '구리'])\n",
      "dict_items([('name', '강찬우'), ('old', 40), ('height', 173.6), ('addr', '구리')])\n",
      "['name', 'old', 'height', 'addr']\n",
      "['강찬우', 40, 173.6, '구리']\n",
      "[('name', '강찬우'), ('old', 40), ('height', 173.6), ('addr', '구리')]\n"
     ]
    }
   ],
   "source": [
    "# 딕셔너리에 있는 키를 가져오기\n",
    "dic = {'name': '강찬우', 'old': 40, 'height': 173.6, 'addr': '구리'}\n",
    "print(dic.keys())\n",
    "# 딕셔너리에 있는 값을 가져오기\n",
    "print(dic.values())\n",
    "# 키와 값을 쌍으로 묶어서 가져오기\n",
    "print(dic.items())\n",
    "lkeys = list(dic.keys())\n",
    "print(lkeys)\n",
    "lvalues = list(dic.values())\n",
    "print(lvalues)\n",
    "litems = list(dic.items())\n",
    "print(litems)\\\n",
    "print(litems) # [('name', '강찬우'), ('old', 40), ('height', 173.6), ('addr', '구리')]\n",
    "print(litems[0])\n",
    "print(litems[0][1])"
   ]
  },
  {
   "cell_type": "code",
   "execution_count": 48,
   "id": "cfbc3fae-d1aa-4b6d-a92f-91ea4da77c7a",
   "metadata": {},
   "outputs": [
    {
     "name": "stdout",
     "output_type": "stream",
     "text": [
      "강찬우\n",
      "강찬우\n",
      "None\n",
      "구리\n",
      "500\n",
      "500\n",
      "1000\n",
      "1400\n",
      "1000\n",
      "1000\n",
      "1400\n"
     ]
    }
   ],
   "source": [
    "# get ()함수 사용하기\n",
    "dic = {'name': '강찬우', 'old': 40, 'height': 173.6}\n",
    "print(dic['name'])\n",
    "print(dic.get('name'))\n",
    "#print(dic['addr']) \n",
    "print(dic.get('addr'))\n",
    "print(dic.get('addr' , '구리')) # 키가 없는 경우 초기값을 지정해 줄 수 있다.\n",
    "\n",
    "### get() 함수 응용\n",
    "d1 = {'classic':500, 'pop' : 700 , 'jazz' :900}\n",
    "d2 = {'classic':500, 'pop' : 700 }\n",
    "print(d1['classic'])# 정수\n",
    "print(d2['classic'])# 정수\n",
    "print(d1['classic']+d2['classic']) # 정수 + 정수\n",
    "print(d1['pop']+d2['pop'])\n",
    "#print(d1['jazz']+d2['jazz'])\n",
    "print(d1.get('jazz', 100)+d2.get('jazz',100))\n",
    "print(d1.get('classic', 100)+d2.get('classic',100))\n",
    "print(d1.get('pop', 100)+d2.get('pop',100))"
   ]
  },
  {
   "cell_type": "code",
   "execution_count": 53,
   "id": "254b76c2-5629-4f5e-8353-af5f41b844f5",
   "metadata": {},
   "outputs": [
    {
     "name": "stdout",
     "output_type": "stream",
     "text": [
      "{1, 2, 3, 4, 5}\n",
      "{1, 2, 3, 4, 5, 6, 7, 8}\n",
      "{1, 2, 3, 4, 5, 6, 7, 8}\n",
      "{4, 5}\n",
      "{4, 5}\n",
      "{1, 2, 3}\n",
      "{1, 2, 3}\n",
      "{8, 6, 7}\n",
      "{8, 6, 7}\n"
     ]
    }
   ],
   "source": [
    "# 파이썬 자료형 : 리스트, 튜플 , 딕셔너리, 집합\n",
    "# 빈 집합은 없다.\n",
    "ss = {} # 빈 딕셔너리\n",
    "ss = {1,2,3,4,5} # {}에 값만 존재 하면 집합 자료형이다.\n",
    "print(ss)\n",
    "# 집합자료형에는 합집합(union)연산과 교집합(intersection) 연산 그리고 차집합(difference) 연산을 한다.\n",
    "s1 = {1,2,3,4,5} \n",
    "s2 = {4,5,6,7,8}\n",
    "# 합집합(union)\n",
    "print( s1.union(s2))\n",
    "print(s1 |s2)\n",
    "# 교집합 (intersection)\n",
    "print(s1.intersection(s2))\n",
    "print(s1 & s2)\n",
    "# 차집합\n",
    "print(s1 - s2)# 교집합을 제거\n",
    "print(s1.difference(s2))\n",
    "print(s2-s1)\n",
    "print(s2.difference(s1))"
   ]
  },
  {
   "cell_type": "code",
   "execution_count": 57,
   "id": "f6ac4516-3647-4103-958d-44f1e4c30100",
   "metadata": {},
   "outputs": [
    {
     "name": "stdout",
     "output_type": "stream",
     "text": [
      "{1, 2, 3, 4, 5}\n",
      "[1, 2, 3, 4, 5]\n",
      "(1, 2, 3, 4, 5)\n",
      "{1, 2, 3, 4, 5}a\n",
      "{'강', '찬', '우'}\n",
      "강찬우\n",
      "{1, 2, 3, 4, 5}\n",
      "{1, 2, 3, 4, 5}\n",
      "hello\n",
      "{'e', 'l', 'o', 'h'}\n"
     ]
    }
   ],
   "source": [
    "ss = {1,1,2,2,3,3,4,4,5,5} # 집합자료형은 중복 데이터를 허용하지 않는다.\n",
    "print(ss)\n",
    "l = list(ss)# 집합자료형을 리스트\n",
    "print(l)\n",
    "t = tuple(ss)\n",
    "print(t)\n",
    "str1 = str(ss)\n",
    "print(str1 +\"a\")\n",
    "ss= {'강','찬','우'}# 집합자료형은 순서가 없다.\n",
    "print(ss)\n",
    "print(\"\".join(ss))\n",
    "l=[1,2,3,4,5]\n",
    "s2 = set(l)\n",
    "print(s2)\n",
    "t=(1,2,3,4,5)\n",
    "s3=set(t)\n",
    "print(s3)\n",
    "# 형변환 함수 : int, str, list, tuple, set, float\n",
    "str1 = \"hello\"\n",
    "print(str1)\n",
    "s4 = set(str1)\n",
    "print(s4) # {'l', 'h', 'e', 'o'} # 순서가 없다. 중복을 허용하지 않는다."
   ]
  },
  {
   "cell_type": "code",
   "execution_count": 62,
   "id": "1fbe276d-5a65-4bfa-bbc7-09d564837e15",
   "metadata": {},
   "outputs": [
    {
     "name": "stdout",
     "output_type": "stream",
     "text": [
      "{1, 2, 3, 4}\n",
      "{1, 2, 3, 4, 7}\n",
      "{1, 2, 3, 4, 7, 'a'}\n",
      "{1, 2, 3, 4, 7, 8, 9, 10, 'a'}\n",
      "{1, 2, 3, 4, 7, 8, 9, 10, 11, 12, 13, 'a'}\n",
      "{1, 2, 3, 4, 7, 8, 9, 10, 11, 12, 13}\n"
     ]
    }
   ],
   "source": [
    "# 하나의 요소 추가\n",
    "# add\n",
    "s1 = {1,2,3,4}\n",
    "s1.add(4)\n",
    "print(s1)\n",
    "s1.add(7)\n",
    "print(s1)\n",
    "s1.add('a')\n",
    "print(s1)\n",
    "#여러개의 데이터를 한번에 추가\n",
    "# update\n",
    "s1.update((8,9,10))\n",
    "print(s1)\n",
    "s1.update([11,12,13])\n",
    "print(s1)\n",
    "# 삭제\n",
    "s1.remove('a')\n",
    "print(s1)"
   ]
  },
  {
   "cell_type": "code",
   "execution_count": 65,
   "id": "37897a22-4c27-42f3-a90a-c27e45fd9521",
   "metadata": {},
   "outputs": [
    {
     "name": "stdout",
     "output_type": "stream",
     "text": [
      "<class 'int'>\n",
      "<class 'float'>\n",
      "<class 'list'>\n",
      "<class 'tuple'>\n",
      "<class 'dict'>\n",
      "<class 'set'>\n",
      "<class 'bool'>\n",
      "<class 'bool'>\n"
     ]
    }
   ],
   "source": [
    "# 기본자료 : 정수, 실수, 문자열, 부울 : True/False\n",
    "# 파이썬 자료형 : 리스트, 튜플, 딕셔너리, 집합\n",
    "i = 10\n",
    "f = 10.5\n",
    "str1 = \"강찬우\"\n",
    "l = [1,2,3,4,5]\n",
    "t = (1,2,3,4,5)\n",
    "dic = {1:'강',2:'찬'}\n",
    "s1 = {1,2,3,4}\n",
    "b1 = True\n",
    "b2 = False\n",
    "b3 = \"ture\"\n",
    "#b3 = true # name 'ture' is not defined\n",
    "# 데이터의 자료형을 알고 싶을 때 : type()함수\n",
    "print(type(i))# <class 'int'> : 정수\n",
    "print(type(f))# <class 'float'>: 실수\n",
    "print(type(l))# <class 'list'>: 리스트\n",
    "print(type(t))# <class 'tuple'>: 튜플\n",
    "print(type(dic))# <class 'dict'>: 딕셔너리\n",
    "print(type(s1))# <class 'set'>: 집합\n",
    "print(type(b1))# <class 'bool'>: 부울\n",
    "print(type(b2))# <class 'bool'>: 부울"
   ]
  },
  {
   "cell_type": "code",
   "execution_count": 79,
   "id": "787379c4-b867-446e-b4fa-25c84c3bc028",
   "metadata": {},
   "outputs": [
    {
     "name": "stdout",
     "output_type": "stream",
     "text": [
      "True\n",
      "True\n",
      "True\n",
      "True\n",
      "합격\n",
      "False\n",
      "평년\n"
     ]
    }
   ],
   "source": [
    "# 부울 타입을 사용하는 때 : and, or\n",
    "result = True and True\n",
    "print(result)\n",
    "result = True or False\n",
    "print(result)\n",
    "# 결과값이 부울 타입인 경우에 사용 : 비교(관계) 연산\n",
    "i = 10\n",
    "j = 20\n",
    "result = i < 20 # 비교 연산의 결과는 부울 타입이다.\n",
    "print(result)\n",
    "# 논리연산을 하기 위해서 비교연산과 같이 사용한다.\n",
    "# 모든 과목이 40점이상이고 평균이 60이면 True 아니면 False\n",
    "eng = 40\n",
    "kor = 80\n",
    "result = eng >= 40 and kor >= 40 and (eng + kor) / 2 >= 60\n",
    "print(result)\n",
    "if eng >= 40 and kor >= 40 and (eng + kor) / 2>=60:\n",
    "    print(\"합격\")\n",
    "else:\n",
    "    print(\"불합격\")\n",
    "#윤년과 평년을 구하시오\n",
    "# 4년마다 한번 윤년이고 100년마다는 평년, 400년마다 윤년\n",
    "#year = 2000은 평년일까? 윤년일까? True면 윤년\n",
    "year = 2200\n",
    "result = year % 4 == 0 and year % 100 != 0 or year % 400 == 0\n",
    "print(result) # True\n",
    "if year % 4 == 0 and year % 100 != 0 or year % 400 == 0:\n",
    "    print(\"윤년\")\n",
    "else:\n",
    "    print(\"평년\")"
   ]
  },
  {
   "cell_type": "code",
   "execution_count": 85,
   "id": "3a5413ec-198f-4e9b-8008-553b38deaa90",
   "metadata": {},
   "outputs": [
    {
     "name": "stdout",
     "output_type": "stream",
     "text": [
      "<class 'str'>\n",
      "<class 'int'>\n",
      "10\n",
      "True\n",
      "True\n",
      "False\n",
      "True\n",
      "True\n",
      "False\n",
      "False\n",
      "True\n",
      "False\n",
      "True\n",
      "False\n",
      "True\n",
      "True\n",
      "False\n"
     ]
    }
   ],
   "source": [
    "# 변환한수 : int, str, list, tuple, set, book: 참/ 거짓\n",
    "i = 10 \n",
    "print(type(str(i)))#<class 'str'>\n",
    "print(type(i))#<class 'int'>\n",
    "print(str(i)) # \"10\"\n",
    "print(bool(i)) # True\n",
    "print(bool(\"강찬우\")) # blank가 아닌 모든 문자열은 True 다\n",
    "print(bool(\"\")) # False\n",
    "print(bool(1))# 0을 제외한 음수이거나 양수 모두 True이다\n",
    "print(bool(-1))\n",
    "print(bool(0))\n",
    "print(bool([]))#False\n",
    "print(bool([1,2,3]))\n",
    "print(bool(()))#False\n",
    "print(bool((1,2,3,4)))\n",
    "print(bool({}))#False\n",
    "print(bool({1:'이'}))\n",
    "print(bool({1,2,3,4}))\n",
    "print(bool(None)) # False"
   ]
  },
  {
   "cell_type": "code",
   "execution_count": 87,
   "id": "a5912853-7fb8-4810-abf1-b4c800503b85",
   "metadata": {},
   "outputs": [
    {
     "name": "stdout",
     "output_type": "stream",
     "text": [
      "20 100\n",
      "100 20\n"
     ]
    }
   ],
   "source": [
    "# 값 서로 교환 하기\n",
    "i = 100\n",
    "j = 20\n",
    "# i가 가진값을 j에게 주고 j가 가진 값을 i에게 저장\n",
    "temp = i\n",
    "i = j\n",
    "j = temp\n",
    "print(i, j)\n",
    "### 파이썬으로는 \n",
    "i, j = j, i\n",
    "print(i, j)"
   ]
  },
  {
   "cell_type": "code",
   "execution_count": 96,
   "id": "60f31d3d-e985-4aaf-ba6d-f46abe4a848f",
   "metadata": {},
   "outputs": [
    {
     "name": "stdout",
     "output_type": "stream",
     "text": [
      "10 20\n",
      "(1, 2, 3, 4)\n",
      "10 20\n",
      "10 20\n",
      "10 20\n",
      "10 20\n",
      "10 20 30\n"
     ]
    },
    {
     "data": {
      "text/plain": [
       "'\\nx , y ,z =10, 20\\nprint(x,y,z)\\n\\nx , y  =10, 20,30\\nprint(x,y,z)\\n'"
      ]
     },
     "execution_count": 96,
     "metadata": {},
     "output_type": "execute_result"
    }
   ],
   "source": [
    "x, y = 10, 20\n",
    "print(x,y)\n",
    "t = 1,2,3,4\n",
    "print(t)\n",
    "x , y =(10, 20)\n",
    "print(x,y)\n",
    "(x , y) =(10, 20)\n",
    "print(x,y)\n",
    "[x , y] =10, 20\n",
    "print(x,y)\n",
    "[x , y] =(10, 20)\n",
    "print(x,y)\n",
    "x , y ,z =10, 20,30\n",
    "print(x,y,z)\n",
    "'''\n",
    "x , y ,z =10, 20\n",
    "print(x,y,z)\n",
    "\n",
    "x , y  =10, 20,30\n",
    "print(x,y,z)\n",
    "'''\n"
   ]
  },
  {
   "cell_type": "code",
   "execution_count": 113,
   "id": "2faf4f82-f17f-44c2-93c6-64d6419cb052",
   "metadata": {},
   "outputs": [
    {
     "name": "stdout",
     "output_type": "stream",
     "text": [
      "True\n",
      "False\n",
      "False\n",
      "True\n",
      "False\n",
      "True\n",
      "True\n",
      "True\n",
      "True\n",
      "False\n",
      "True\n",
      "False\n",
      "True\n",
      "False\n",
      "True\n"
     ]
    }
   ],
   "source": [
    "# in 연산자 : 포함되어 있을 때\n",
    "print( 1 in [1,2,3,4])\n",
    "print(7 in [1,2,3,4])\n",
    "l=[1,2,3,4]\n",
    "print(7 in l) \n",
    "print(7 not in l)\n",
    "print(1 not in l)\n",
    "print('y' in 'python')\n",
    "print('a' not in 'python')\n",
    "str1 = \"hello\"\n",
    "print(\"he\" in str1)\n",
    "print(\"강찬우\" not in str1)\n",
    "print(\"he\" not in str1)\n",
    "print(1  in (1,2,3,4,5))\n",
    "print(1 not in (1,2,3,4,5))\n",
    "dic = {1: '강',2:'찬',3:'우'}\n",
    "print(1 in dic) # 키가 있는지 확인\n",
    "print(4 in dic)# False\n",
    "print(4 not in dic)"
   ]
  },
  {
   "cell_type": "code",
   "execution_count": 114,
   "id": "15ff0b45-54ae-4881-8caa-14f16cf8a1da",
   "metadata": {},
   "outputs": [
    {
     "name": "stdout",
     "output_type": "stream",
     "text": [
      "리스트에 1 포함\n",
      "리스트에 1 있음\n"
     ]
    }
   ],
   "source": [
    "if 1 in [1,2,3,4]:\n",
    "    print(\"리스트에 1 포함\")\n",
    "else:\n",
    "    print(\"리스트에 1 없음\")\n",
    "l=[1,2,3,4]\n",
    "if 1 not in l:\n",
    "    print(\"리스트에 1 없음\")\n",
    "else:\n",
    "    print(\"리스트에 1 있음\")"
   ]
  },
  {
   "cell_type": "code",
   "execution_count": 116,
   "id": "60f9c237-c4c2-457b-9ce1-58f209fecb19",
   "metadata": {},
   "outputs": [
    {
     "ename": "SyntaxError",
     "evalue": "invalid syntax (3928698170.py, line 11)",
     "output_type": "error",
     "traceback": [
      "\u001b[1;36m  Cell \u001b[1;32mIn[116], line 11\u001b[1;36m\u001b[0m\n\u001b[1;33m    하지만 두개를 혼용해서 사용할수 없다. 하나만 선택해서 사용한다.\u001b[0m\n\u001b[1;37m        ^\u001b[0m\n\u001b[1;31mSyntaxError\u001b[0m\u001b[1;31m:\u001b[0m invalid syntax\n"
     ]
    }
   ],
   "source": [
    "i = 10\n",
    "if i > 20:\n",
    "    print(\"i가 20보다큼\")\n",
    "else:\n",
    "    print(\"i는 작다\")\n",
    "\n",
    "if i< 20 :\n",
    "    print(\"i는 작다\")\n",
    "# 파이썬에서는 명력문을 작성 할 때는 들여쓰기를 해야 한다\n",
    "# 들여 쓰기는 공백문자를 이용하거나 TAB키를 이용할 수 있다.\n",
    "하지만 두개를 혼용해서 사용할수 없다. 하나만 선택해서 사용한다.\n",
    "if i< 20 :\n",
    "    print(\"i는 작다\")\n",
    "    print(\"참일때 실행\")\n",
    "if i > 20 :\n",
    "    pass\n",
    "print(\"i가 큽니다\")"
   ]
  },
  {
   "cell_type": "code",
   "execution_count": null,
   "id": "ffa35a94-1fee-42d3-8643-0a048476e952",
   "metadata": {},
   "outputs": [],
   "source": []
  },
  {
   "cell_type": "code",
   "execution_count": 117,
   "id": "fa0d28b3-7a18-48c1-8a4f-7a6900cf8994",
   "metadata": {},
   "outputs": [
    {
     "name": "stdout",
     "output_type": "stream",
     "text": [
      "C\n"
     ]
    }
   ],
   "source": [
    "#학점(score)이 90이상이면 A, 80이상이면 B,70이상이면 C ,60이상이면 D ,그렇지 않으면 F\n",
    "score = 78\n",
    "if score>=90:\n",
    "    print(\"A\")\n",
    "else: # 89 이하\n",
    "    if score >= 80:\n",
    "        print(\"B\")\n",
    "    else: #79\n",
    "        if score >= 70:\n",
    "            print(\"C\")\n",
    "        else:\n",
    "            if score >= 60:\n",
    "                print(\"D\")\n",
    "            else:\n",
    "                print(\"F\")\n",
    "                \n",
    "                "
   ]
  },
  {
   "cell_type": "code",
   "execution_count": 121,
   "id": "1530a409-41a8-4795-9881-cd703d7a388e",
   "metadata": {},
   "outputs": [
    {
     "name": "stdout",
     "output_type": "stream",
     "text": [
      "C\n"
     ]
    }
   ],
   "source": [
    "score = 78\n",
    "if score>=90:\n",
    "    print(\"A\")\n",
    "elif score >= 80:\n",
    "    print(\"B\")\n",
    "elif score >= 70:\n",
    "    print(\"C\")\n",
    "elif score >= 60:\n",
    "    print(\"D\")\n",
    "else:\n",
    "    print(\"F\")"
   ]
  },
  {
   "cell_type": "code",
   "execution_count": 126,
   "id": "b4452284-9395-4103-aacd-43fa73456dc7",
   "metadata": {},
   "outputs": [
    {
     "name": "stdout",
     "output_type": "stream",
     "text": [
      "C+\n"
     ]
    }
   ],
   "source": [
    "score = 78\n",
    "if score>=95:\n",
    "    print(\"A+\")\n",
    "elif score >= 90:\n",
    "    print(\"A\")\n",
    "\n",
    "elif score >= 80:\n",
    "    if score>= 85:\n",
    "        print(\"B+\")\n",
    "    else:\n",
    "        print(\"B\")\n",
    "        \n",
    "elif score >= 75:\n",
    "    print(\"C+\")\n",
    "elif score >= 70:\n",
    "    print(\"C\")\n",
    "    \n",
    "elif score >= 60:\n",
    "    if score>= 65:\n",
    "        print(\"D+\")\n",
    "    else:\n",
    "        print(\"D\")\n",
    "        \n",
    "else:\n",
    "    print(\"F\")"
   ]
  },
  {
   "cell_type": "code",
   "execution_count": 130,
   "id": "725df517-f29a-4de9-b07a-92436ed8d52d",
   "metadata": {},
   "outputs": [
    {
     "name": "stdout",
     "output_type": "stream",
     "text": [
      "success\n",
      "success\n"
     ]
    }
   ],
   "source": [
    "# score가 60이상이면 message에 success를 저장하고 아니면 failure를 저장하자.\n",
    "score = 78\n",
    "if score >=60:\n",
    "    message = 'success'\n",
    "else:\n",
    "    message = 'failure'\n",
    "print(message)\n",
    "# 파이썬  타입으로 변경\n",
    "message = \"success\" if score >= 60 else \"failure\"\n",
    "print(message)"
   ]
  },
  {
   "cell_type": "code",
   "execution_count": 133,
   "id": "ed7be15f-dd3d-414b-8ef4-cdce1c821178",
   "metadata": {},
   "outputs": [
    {
     "name": "stdout",
     "output_type": "stream",
     "text": [
      "C\n",
      "C\n"
     ]
    }
   ],
   "source": [
    "score = 78\n",
    "if score>=90:\n",
    "   message=\"A\"\n",
    "else: # 89 이하\n",
    "    if score >= 80:\n",
    "      message=\"B\"\n",
    "    else: #79\n",
    "        if score >= 70:\n",
    "           message=\"C\"\n",
    "        else:\n",
    "            if score >= 60:\n",
    "               message=\"D\"\n",
    "            else:\n",
    "                message= \"F\"\n",
    "print(message)\n",
    "message = \"A\"if score >= 90 else(\n",
    "          \"B\"if score >= 80 else(\n",
    "          \"C\"if score >= 70 else(\n",
    "          \"D\"if score >= 60 else(\n",
    "          \"F\"\n",
    "          ))))\n",
    "print(message)"
   ]
  },
  {
   "cell_type": "code",
   "execution_count": 136,
   "id": "7a820728-df5f-4e19-904c-c8dd90e18322",
   "metadata": {},
   "outputs": [
    {
     "name": "stdout",
     "output_type": "stream",
     "text": [
      "30\n"
     ]
    }
   ],
   "source": [
    "a = 10 ; b = 20; opt = \"add\" \n",
    "if opt == \"add\":\n",
    "    message= a+b\n",
    "elif opt == \"sub\":\n",
    "    message= a-b\n",
    "elif opt == \"mul\":\n",
    "    message= a*b\n",
    "else:\n",
    "    message= a/b\n",
    "print(message)\n",
    "# 파이썬 타입\n",
    "message = a + b if opt == \"add\" else(\n",
    "          a - b if opt == \"sub\" else(\n",
    "          a * b if opt == \"mul\" else(\n",
    "          a / b\n",
    "          )))\n"
   ]
  },
  {
   "cell_type": "code",
   "execution_count": 139,
   "id": "f87b3141-9b05-45e8-a5e7-681af8d892af",
   "metadata": {},
   "outputs": [
    {
     "name": "stdout",
     "output_type": "stream",
     "text": [
      "나무를 1번 찍었습니다.\n",
      "나무를 2번 찍었습니다.\n",
      "나무를 3번 찍었습니다.\n",
      "나무를 4번 찍었습니다.\n",
      "나무를 5번 찍었습니다.\n",
      "나무를 6번 찍었습니다.\n",
      "나무를 7번 찍었습니다.\n",
      "나무를 8번 찍었습니다.\n",
      "나무를 9번 찍었습니다.\n",
      "나무를 10번 찍었습니다.\n"
     ]
    }
   ],
   "source": [
    "# 반복문 : 반복적으로 사용해야 하는 명령어\n",
    "print(\"나무를 1번 찍었습니다.\")\n",
    "print(\"나무를 2번 찍었습니다.\")\n",
    "print(\"나무를 3번 찍었습니다.\")\n",
    "print(\"나무를 4번 찍었습니다.\")\n",
    "print(\"나무를 5번 찍었습니다.\")\n",
    "print(\"나무를 6번 찍었습니다.\")\n",
    "print(\"나무를 7번 찍었습니다.\")\n",
    "print(\"나무를 8번 찍었습니다.\")\n",
    "print(\"나무를 9번 찍었습니다.\")\n",
    "print(\"나무를 10번 찍었습니다.\")"
   ]
  },
  {
   "cell_type": "code",
   "execution_count": 143,
   "id": "d5011f3f-7985-4711-96e2-065189da20e5",
   "metadata": {},
   "outputs": [
    {
     "name": "stdout",
     "output_type": "stream",
     "text": [
      "나무를 1번 찍었습니다.\n",
      "나무를 2번 찍었습니다.\n",
      "나무를 3번 찍었습니다.\n",
      "나무를 4번 찍었습니다.\n",
      "나무를 5번 찍었습니다.\n",
      "나무를 6번 찍었습니다.\n",
      "나무를 7번 찍었습니다.\n",
      "나무를 8번 찍었습니다.\n",
      "나무를 9번 찍었습니다.\n",
      "나무를 10번 찍었습니다.\n"
     ]
    }
   ],
   "source": [
    "i= 1\n",
    "while i <= 10:\n",
    "    #print(f\"나무를 {i}번 찍었습니다.\")\n",
    "   # print(\"나무를 %d번 찍었습니다.\" % i)\n",
    "    print(\"나무를 {}번 찍었습니다.\".format(i))\n",
    "    i += 1 # 대입 연산자"
   ]
  },
  {
   "cell_type": "code",
   "execution_count": 151,
   "id": "2c2f70da-cfb6-46ce-bd21-6523af9691da",
   "metadata": {},
   "outputs": [
    {
     "name": "stdout",
     "output_type": "stream",
     "text": [
      "8 * 1 = 8\n",
      "8 * 2 = 16\n",
      "8 * 3 = 24\n",
      "8 * 4 = 32\n",
      "8 * 5 = 40\n",
      "8 * 6 = 48\n",
      "8 * 7 = 56\n",
      "8 * 8 = 64\n",
      "8 * 9 = 72\n"
     ]
    }
   ],
   "source": [
    "# 8 단 \n",
    "i= 1\n",
    "while i <= 9:\n",
    " print(f\"8 * {i} = {8 * i}\")\n",
    " i += 1"
   ]
  },
  {
   "cell_type": "code",
   "execution_count": 155,
   "id": "2136903d-996e-41e7-b8ca-f309872adf47",
   "metadata": {},
   "outputs": [
    {
     "name": "stdin",
     "output_type": "stream",
     "text": [
      "8단 시작 수 : 2\n",
      "8단 끝 수 : 5\n"
     ]
    },
    {
     "name": "stdout",
     "output_type": "stream",
     "text": [
      "8 * 2 = 16\n",
      "8 * 3 = 24\n",
      "8 * 4 = 32\n",
      "8 * 5 = 40\n"
     ]
    }
   ],
   "source": [
    "start = int(input(\"8단 시작 수 :\"))\n",
    "end = int(input(\"8단 끝 수 :\"))\n",
    "i= start\n",
    "while i <= end:\n",
    " print(f\"8 * {i} = {8 * i}\")\n",
    " i += 1"
   ]
  },
  {
   "cell_type": "code",
   "execution_count": 156,
   "id": "a6ff0269-6aa8-4168-8db7-b20fcb3a4da3",
   "metadata": {},
   "outputs": [
    {
     "name": "stdin",
     "output_type": "stream",
     "text": [
      "단 시작 수 : 2\n",
      "단 끝 수 : 5\n",
      "몇 단? : 3\n"
     ]
    },
    {
     "name": "stdout",
     "output_type": "stream",
     "text": [
      "3 * 2 = 6\n",
      "3 * 3 = 9\n",
      "3 * 4 = 12\n",
      "3 * 5 = 15\n"
     ]
    }
   ],
   "source": [
    "start = int(input(\"단 시작 수 :\"))\n",
    "end = int(input(\"단 끝 수 :\"))\n",
    "dan =int(input(\"몇 단? :\"))\n",
    "i= start\n",
    "while i <= end:\n",
    " print(f\"{dan} * {i} = {dan * i}\")\n",
    " i += 1"
   ]
  },
  {
   "cell_type": "code",
   "execution_count": 171,
   "id": "86c4e6ce-cb28-4822-a7fb-6d0ba6906263",
   "metadata": {},
   "outputs": [
    {
     "name": "stdout",
     "output_type": "stream",
     "text": [
      "3 20 14 17 44 13 "
     ]
    }
   ],
   "source": [
    "import random\n",
    "# 로또\n",
    "lotto = []\n",
    "i = 1\n",
    "while i <= 45:\n",
    "    lotto.append(i)\n",
    "    i += 1\n",
    "size = len(lotto) # 45\n",
    "cnt = 1\n",
    "while cnt <= 6:\n",
    "    size -= 1\n",
    "    idx = random.randint(0,size)\n",
    "    result = lotto.pop(idx)\n",
    "    print(result, end =\" \")\n",
    "    cnt += 1"
   ]
  },
  {
   "cell_type": "code",
   "execution_count": 176,
   "id": "9e4e20b1-eb04-45f1-b979-d9756357f9ba",
   "metadata": {},
   "outputs": [
    {
     "name": "stdout",
     "output_type": "stream",
     "text": [
      " 3 * 1 =3\n",
      " 3 * 1 =6\n",
      " 3 * 1 =9\n",
      " 3 * 1 =12\n",
      " 3 * 1 =15\n",
      " 3 * 1 =18\n",
      " 3 * 1 =21\n",
      " 3 * 1 =24\n",
      " 3 * 1 =27\n",
      " 4 * 1 =4\n",
      " 4 * 1 =8\n",
      " 4 * 1 =12\n",
      " 4 * 1 =16\n",
      " 4 * 1 =20\n",
      " 4 * 1 =24\n",
      " 4 * 1 =28\n",
      " 4 * 1 =32\n",
      " 4 * 1 =36\n"
     ]
    }
   ],
   "source": [
    "# 3단\n",
    "i = 1 \n",
    "while i <= 9:\n",
    "    print(f\" 3 * 1 ={3 * i}\")\n",
    "    i += 1\n",
    "#4단\n",
    "i = 1 \n",
    "while i <= 9:\n",
    "    print(f\" 4 * 1 ={4 * i}\")\n",
    "    i += 1"
   ]
  },
  {
   "cell_type": "code",
   "execution_count": 178,
   "id": "dd21e47b-024c-47c5-a995-b02d7559aa53",
   "metadata": {},
   "outputs": [
    {
     "name": "stdout",
     "output_type": "stream",
     "text": [
      " 3 * 1 =3\n",
      " 3 * 2 =6\n",
      " 3 * 3 =9\n",
      " 3 * 4 =12\n",
      " 3 * 5 =15\n",
      " 3 * 6 =18\n",
      " 3 * 7 =21\n",
      " 3 * 8 =24\n",
      " 3 * 9 =27\n",
      " 4 * 1 =4\n",
      " 4 * 2 =8\n",
      " 4 * 3 =12\n",
      " 4 * 4 =16\n",
      " 4 * 5 =20\n",
      " 4 * 6 =24\n",
      " 4 * 7 =28\n",
      " 4 * 8 =32\n",
      " 4 * 9 =36\n",
      " 5 * 1 =5\n",
      " 5 * 2 =10\n",
      " 5 * 3 =15\n",
      " 5 * 4 =20\n",
      " 5 * 5 =25\n",
      " 5 * 6 =30\n",
      " 5 * 7 =35\n",
      " 5 * 8 =40\n",
      " 5 * 9 =45\n"
     ]
    }
   ],
   "source": [
    "dan = 3\n",
    "while dan <= 5:\n",
    "    i = 1 \n",
    "    while i <= 9:\n",
    "        print(f\" {dan} * {i} ={dan * i}\")\n",
    "        i += 1\n",
    "    dan += 1"
   ]
  },
  {
   "cell_type": "code",
   "execution_count": 182,
   "id": "50617183-a6a8-4a12-9791-816eab39f089",
   "metadata": {},
   "outputs": [
    {
     "name": "stdin",
     "output_type": "stream",
     "text": [
      "시작단 : 2\n",
      "끝 단: 5\n",
      "시작곱: 3\n",
      "끝 곱: 5\n"
     ]
    },
    {
     "name": "stdout",
     "output_type": "stream",
     "text": [
      " 2 * 3 =6\n",
      " 2 * 4 =8\n",
      " 2 * 5 =10\n",
      " 3 * 3 =9\n",
      " 3 * 4 =12\n",
      " 3 * 5 =15\n",
      " 4 * 3 =12\n",
      " 4 * 4 =16\n",
      " 4 * 5 =20\n",
      " 5 * 3 =15\n",
      " 5 * 4 =20\n",
      " 5 * 5 =25\n"
     ]
    }
   ],
   "source": [
    "startDan = int(input(\"시작단 :\"))\n",
    "endDan = int(input(\"끝 단:\"))\n",
    "startGop = int(input(\"시작곱:\"))\n",
    "endGop = int(input(\"끝 곱:\"))\n",
    "dan = startDan\n",
    "while dan <= endDan:\n",
    "    gop = startGop\n",
    "    while gop <= endGop:\n",
    "        print(f\" {dan} * {gop} ={dan * gop}\")\n",
    "        gop += 1\n",
    "    dan += 1"
   ]
  },
  {
   "cell_type": "code",
   "execution_count": 183,
   "id": "9a825a18-b082-4110-973c-594735bfa987",
   "metadata": {
    "scrolled": true
   },
   "outputs": [
    {
     "name": "stdin",
     "output_type": "stream",
     "text": [
      "로또 구매 수량을 입력해주세요. : 3\n"
     ]
    },
    {
     "name": "stdout",
     "output_type": "stream",
     "text": [
      "5 \n",
      "1 \n",
      "20 \n",
      "44 \n",
      "13 \n",
      "4 \n",
      "6 \n",
      "45 \n",
      "10 \n",
      "1 \n",
      "26 \n",
      "8 \n",
      "17 \n",
      "5 \n",
      "13 \n",
      "42 \n",
      "1 \n",
      "30 \n"
     ]
    }
   ],
   "source": [
    "import random\n",
    "# 로또\n",
    "lottoCnt =int(input(\"로또 구매 수량을 입력해주세요. :\"))\n",
    "qty = 1\n",
    "while qty <= lottoCnt:\n",
    "    lotto = []\n",
    "    i = 1\n",
    "    while i <= 45:\n",
    "        lotto.append(i)\n",
    "        i += 1\n",
    "    size = len(lotto) # 45\n",
    "    cnt = 1\n",
    "    while cnt <= 6:\n",
    "        size -= 1\n",
    "        idx = random.randint(0,size)\n",
    "        result = lotto.pop(idx)\n",
    "        print(result, end =\" \")\n",
    "        cnt += 1\n",
    "        print()\n",
    "    qty += 1"
   ]
  },
  {
   "cell_type": "code",
   "execution_count": null,
   "id": "177eba7d-3186-47f6-b98f-fcb36fc14e57",
   "metadata": {},
   "outputs": [],
   "source": []
  }
 ],
 "metadata": {
  "kernelspec": {
   "display_name": "Python 3 (ipykernel)",
   "language": "python",
   "name": "python3"
  },
  "language_info": {
   "codemirror_mode": {
    "name": "ipython",
    "version": 3
   },
   "file_extension": ".py",
   "mimetype": "text/x-python",
   "name": "python",
   "nbconvert_exporter": "python",
   "pygments_lexer": "ipython3",
   "version": "3.11.4"
  }
 },
 "nbformat": 4,
 "nbformat_minor": 5
}
